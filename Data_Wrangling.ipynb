{
 "cells": [
  {
   "cell_type": "markdown",
   "metadata": {},
   "source": [
    "# Data Wrangling steps for the hospital readmission problem"
   ]
  },
  {
   "cell_type": "markdown",
   "metadata": {},
   "source": [
    "## Data reading and initial inspection"
   ]
  },
  {
   "cell_type": "code",
   "execution_count": 1,
   "metadata": {},
   "outputs": [],
   "source": [
    "import pandas as pd\n",
    "import numpy as np\n",
    "from pandas.api.types import CategoricalDtype\n",
    "import matplotlib.pyplot as plt\n",
    "from sklearn.preprocessing import Imputer\n",
    "import sys\n",
    "sys.path.append('icd9')\n",
    "from icd9 import ICD9\n",
    "import re"
   ]
  },
  {
   "cell_type": "code",
   "execution_count": 2,
   "metadata": {},
   "outputs": [
    {
     "data": {
      "text/html": [
       "<div>\n",
       "<style scoped>\n",
       "    .dataframe tbody tr th:only-of-type {\n",
       "        vertical-align: middle;\n",
       "    }\n",
       "\n",
       "    .dataframe tbody tr th {\n",
       "        vertical-align: top;\n",
       "    }\n",
       "\n",
       "    .dataframe thead th {\n",
       "        text-align: right;\n",
       "    }\n",
       "</style>\n",
       "<table border=\"1\" class=\"dataframe\">\n",
       "  <thead>\n",
       "    <tr style=\"text-align: right;\">\n",
       "      <th></th>\n",
       "      <th>encounter_id</th>\n",
       "      <th>patient_nbr</th>\n",
       "      <th>race</th>\n",
       "      <th>gender</th>\n",
       "      <th>age</th>\n",
       "      <th>weight</th>\n",
       "      <th>admission_type_id</th>\n",
       "      <th>discharge_disposition_id</th>\n",
       "      <th>admission_source_id</th>\n",
       "      <th>time_in_hospital</th>\n",
       "      <th>...</th>\n",
       "      <th>citoglipton</th>\n",
       "      <th>insulin</th>\n",
       "      <th>glyburide-metformin</th>\n",
       "      <th>glipizide-metformin</th>\n",
       "      <th>glimepiride-pioglitazone</th>\n",
       "      <th>metformin-rosiglitazone</th>\n",
       "      <th>metformin-pioglitazone</th>\n",
       "      <th>change</th>\n",
       "      <th>diabetesMed</th>\n",
       "      <th>readmitted</th>\n",
       "    </tr>\n",
       "  </thead>\n",
       "  <tbody>\n",
       "    <tr>\n",
       "      <th>0</th>\n",
       "      <td>2278392</td>\n",
       "      <td>8222157</td>\n",
       "      <td>Caucasian</td>\n",
       "      <td>Female</td>\n",
       "      <td>[0-10)</td>\n",
       "      <td>?</td>\n",
       "      <td>6</td>\n",
       "      <td>25</td>\n",
       "      <td>1</td>\n",
       "      <td>1</td>\n",
       "      <td>...</td>\n",
       "      <td>No</td>\n",
       "      <td>No</td>\n",
       "      <td>No</td>\n",
       "      <td>No</td>\n",
       "      <td>No</td>\n",
       "      <td>No</td>\n",
       "      <td>No</td>\n",
       "      <td>No</td>\n",
       "      <td>No</td>\n",
       "      <td>NO</td>\n",
       "    </tr>\n",
       "    <tr>\n",
       "      <th>1</th>\n",
       "      <td>149190</td>\n",
       "      <td>55629189</td>\n",
       "      <td>Caucasian</td>\n",
       "      <td>Female</td>\n",
       "      <td>[10-20)</td>\n",
       "      <td>?</td>\n",
       "      <td>1</td>\n",
       "      <td>1</td>\n",
       "      <td>7</td>\n",
       "      <td>3</td>\n",
       "      <td>...</td>\n",
       "      <td>No</td>\n",
       "      <td>Up</td>\n",
       "      <td>No</td>\n",
       "      <td>No</td>\n",
       "      <td>No</td>\n",
       "      <td>No</td>\n",
       "      <td>No</td>\n",
       "      <td>Ch</td>\n",
       "      <td>Yes</td>\n",
       "      <td>&gt;30</td>\n",
       "    </tr>\n",
       "    <tr>\n",
       "      <th>2</th>\n",
       "      <td>64410</td>\n",
       "      <td>86047875</td>\n",
       "      <td>AfricanAmerican</td>\n",
       "      <td>Female</td>\n",
       "      <td>[20-30)</td>\n",
       "      <td>?</td>\n",
       "      <td>1</td>\n",
       "      <td>1</td>\n",
       "      <td>7</td>\n",
       "      <td>2</td>\n",
       "      <td>...</td>\n",
       "      <td>No</td>\n",
       "      <td>No</td>\n",
       "      <td>No</td>\n",
       "      <td>No</td>\n",
       "      <td>No</td>\n",
       "      <td>No</td>\n",
       "      <td>No</td>\n",
       "      <td>No</td>\n",
       "      <td>Yes</td>\n",
       "      <td>NO</td>\n",
       "    </tr>\n",
       "    <tr>\n",
       "      <th>3</th>\n",
       "      <td>500364</td>\n",
       "      <td>82442376</td>\n",
       "      <td>Caucasian</td>\n",
       "      <td>Male</td>\n",
       "      <td>[30-40)</td>\n",
       "      <td>?</td>\n",
       "      <td>1</td>\n",
       "      <td>1</td>\n",
       "      <td>7</td>\n",
       "      <td>2</td>\n",
       "      <td>...</td>\n",
       "      <td>No</td>\n",
       "      <td>Up</td>\n",
       "      <td>No</td>\n",
       "      <td>No</td>\n",
       "      <td>No</td>\n",
       "      <td>No</td>\n",
       "      <td>No</td>\n",
       "      <td>Ch</td>\n",
       "      <td>Yes</td>\n",
       "      <td>NO</td>\n",
       "    </tr>\n",
       "    <tr>\n",
       "      <th>4</th>\n",
       "      <td>16680</td>\n",
       "      <td>42519267</td>\n",
       "      <td>Caucasian</td>\n",
       "      <td>Male</td>\n",
       "      <td>[40-50)</td>\n",
       "      <td>?</td>\n",
       "      <td>1</td>\n",
       "      <td>1</td>\n",
       "      <td>7</td>\n",
       "      <td>1</td>\n",
       "      <td>...</td>\n",
       "      <td>No</td>\n",
       "      <td>Steady</td>\n",
       "      <td>No</td>\n",
       "      <td>No</td>\n",
       "      <td>No</td>\n",
       "      <td>No</td>\n",
       "      <td>No</td>\n",
       "      <td>Ch</td>\n",
       "      <td>Yes</td>\n",
       "      <td>NO</td>\n",
       "    </tr>\n",
       "  </tbody>\n",
       "</table>\n",
       "<p>5 rows × 50 columns</p>\n",
       "</div>"
      ],
      "text/plain": [
       "   encounter_id  patient_nbr             race  gender      age weight  \\\n",
       "0       2278392      8222157        Caucasian  Female   [0-10)      ?   \n",
       "1        149190     55629189        Caucasian  Female  [10-20)      ?   \n",
       "2         64410     86047875  AfricanAmerican  Female  [20-30)      ?   \n",
       "3        500364     82442376        Caucasian    Male  [30-40)      ?   \n",
       "4         16680     42519267        Caucasian    Male  [40-50)      ?   \n",
       "\n",
       "   admission_type_id  discharge_disposition_id  admission_source_id  \\\n",
       "0                  6                        25                    1   \n",
       "1                  1                         1                    7   \n",
       "2                  1                         1                    7   \n",
       "3                  1                         1                    7   \n",
       "4                  1                         1                    7   \n",
       "\n",
       "   time_in_hospital    ...     citoglipton insulin  glyburide-metformin  \\\n",
       "0                 1    ...              No      No                   No   \n",
       "1                 3    ...              No      Up                   No   \n",
       "2                 2    ...              No      No                   No   \n",
       "3                 2    ...              No      Up                   No   \n",
       "4                 1    ...              No  Steady                   No   \n",
       "\n",
       "   glipizide-metformin  glimepiride-pioglitazone  metformin-rosiglitazone  \\\n",
       "0                   No                        No                       No   \n",
       "1                   No                        No                       No   \n",
       "2                   No                        No                       No   \n",
       "3                   No                        No                       No   \n",
       "4                   No                        No                       No   \n",
       "\n",
       "   metformin-pioglitazone  change diabetesMed readmitted  \n",
       "0                      No      No          No         NO  \n",
       "1                      No      Ch         Yes        >30  \n",
       "2                      No      No         Yes         NO  \n",
       "3                      No      Ch         Yes         NO  \n",
       "4                      No      Ch         Yes         NO  \n",
       "\n",
       "[5 rows x 50 columns]"
      ]
     },
     "execution_count": 2,
     "metadata": {},
     "output_type": "execute_result"
    }
   ],
   "source": [
    "df = pd.read_csv('dataset_diabetes/diabetic_data.csv')\n",
    "df.head()"
   ]
  },
  {
   "cell_type": "code",
   "execution_count": 3,
   "metadata": {},
   "outputs": [
    {
     "data": {
      "text/html": [
       "<div>\n",
       "<style scoped>\n",
       "    .dataframe tbody tr th:only-of-type {\n",
       "        vertical-align: middle;\n",
       "    }\n",
       "\n",
       "    .dataframe tbody tr th {\n",
       "        vertical-align: top;\n",
       "    }\n",
       "\n",
       "    .dataframe thead th {\n",
       "        text-align: right;\n",
       "    }\n",
       "</style>\n",
       "<table border=\"1\" class=\"dataframe\">\n",
       "  <thead>\n",
       "    <tr style=\"text-align: right;\">\n",
       "      <th></th>\n",
       "      <th>encounter_id</th>\n",
       "      <th>patient_nbr</th>\n",
       "      <th>race</th>\n",
       "      <th>gender</th>\n",
       "      <th>age</th>\n",
       "      <th>weight</th>\n",
       "      <th>admission_type_id</th>\n",
       "      <th>discharge_disposition_id</th>\n",
       "      <th>admission_source_id</th>\n",
       "      <th>time_in_hospital</th>\n",
       "      <th>...</th>\n",
       "      <th>citoglipton</th>\n",
       "      <th>insulin</th>\n",
       "      <th>glyburide-metformin</th>\n",
       "      <th>glipizide-metformin</th>\n",
       "      <th>glimepiride-pioglitazone</th>\n",
       "      <th>metformin-rosiglitazone</th>\n",
       "      <th>metformin-pioglitazone</th>\n",
       "      <th>change</th>\n",
       "      <th>diabetesMed</th>\n",
       "      <th>readmitted</th>\n",
       "    </tr>\n",
       "  </thead>\n",
       "  <tbody>\n",
       "    <tr>\n",
       "      <th>101761</th>\n",
       "      <td>443847548</td>\n",
       "      <td>100162476</td>\n",
       "      <td>AfricanAmerican</td>\n",
       "      <td>Male</td>\n",
       "      <td>[70-80)</td>\n",
       "      <td>?</td>\n",
       "      <td>1</td>\n",
       "      <td>3</td>\n",
       "      <td>7</td>\n",
       "      <td>3</td>\n",
       "      <td>...</td>\n",
       "      <td>No</td>\n",
       "      <td>Down</td>\n",
       "      <td>No</td>\n",
       "      <td>No</td>\n",
       "      <td>No</td>\n",
       "      <td>No</td>\n",
       "      <td>No</td>\n",
       "      <td>Ch</td>\n",
       "      <td>Yes</td>\n",
       "      <td>&gt;30</td>\n",
       "    </tr>\n",
       "    <tr>\n",
       "      <th>101762</th>\n",
       "      <td>443847782</td>\n",
       "      <td>74694222</td>\n",
       "      <td>AfricanAmerican</td>\n",
       "      <td>Female</td>\n",
       "      <td>[80-90)</td>\n",
       "      <td>?</td>\n",
       "      <td>1</td>\n",
       "      <td>4</td>\n",
       "      <td>5</td>\n",
       "      <td>5</td>\n",
       "      <td>...</td>\n",
       "      <td>No</td>\n",
       "      <td>Steady</td>\n",
       "      <td>No</td>\n",
       "      <td>No</td>\n",
       "      <td>No</td>\n",
       "      <td>No</td>\n",
       "      <td>No</td>\n",
       "      <td>No</td>\n",
       "      <td>Yes</td>\n",
       "      <td>NO</td>\n",
       "    </tr>\n",
       "    <tr>\n",
       "      <th>101763</th>\n",
       "      <td>443854148</td>\n",
       "      <td>41088789</td>\n",
       "      <td>Caucasian</td>\n",
       "      <td>Male</td>\n",
       "      <td>[70-80)</td>\n",
       "      <td>?</td>\n",
       "      <td>1</td>\n",
       "      <td>1</td>\n",
       "      <td>7</td>\n",
       "      <td>1</td>\n",
       "      <td>...</td>\n",
       "      <td>No</td>\n",
       "      <td>Down</td>\n",
       "      <td>No</td>\n",
       "      <td>No</td>\n",
       "      <td>No</td>\n",
       "      <td>No</td>\n",
       "      <td>No</td>\n",
       "      <td>Ch</td>\n",
       "      <td>Yes</td>\n",
       "      <td>NO</td>\n",
       "    </tr>\n",
       "    <tr>\n",
       "      <th>101764</th>\n",
       "      <td>443857166</td>\n",
       "      <td>31693671</td>\n",
       "      <td>Caucasian</td>\n",
       "      <td>Female</td>\n",
       "      <td>[80-90)</td>\n",
       "      <td>?</td>\n",
       "      <td>2</td>\n",
       "      <td>3</td>\n",
       "      <td>7</td>\n",
       "      <td>10</td>\n",
       "      <td>...</td>\n",
       "      <td>No</td>\n",
       "      <td>Up</td>\n",
       "      <td>No</td>\n",
       "      <td>No</td>\n",
       "      <td>No</td>\n",
       "      <td>No</td>\n",
       "      <td>No</td>\n",
       "      <td>Ch</td>\n",
       "      <td>Yes</td>\n",
       "      <td>NO</td>\n",
       "    </tr>\n",
       "    <tr>\n",
       "      <th>101765</th>\n",
       "      <td>443867222</td>\n",
       "      <td>175429310</td>\n",
       "      <td>Caucasian</td>\n",
       "      <td>Male</td>\n",
       "      <td>[70-80)</td>\n",
       "      <td>?</td>\n",
       "      <td>1</td>\n",
       "      <td>1</td>\n",
       "      <td>7</td>\n",
       "      <td>6</td>\n",
       "      <td>...</td>\n",
       "      <td>No</td>\n",
       "      <td>No</td>\n",
       "      <td>No</td>\n",
       "      <td>No</td>\n",
       "      <td>No</td>\n",
       "      <td>No</td>\n",
       "      <td>No</td>\n",
       "      <td>No</td>\n",
       "      <td>No</td>\n",
       "      <td>NO</td>\n",
       "    </tr>\n",
       "  </tbody>\n",
       "</table>\n",
       "<p>5 rows × 50 columns</p>\n",
       "</div>"
      ],
      "text/plain": [
       "        encounter_id  patient_nbr             race  gender      age weight  \\\n",
       "101761     443847548    100162476  AfricanAmerican    Male  [70-80)      ?   \n",
       "101762     443847782     74694222  AfricanAmerican  Female  [80-90)      ?   \n",
       "101763     443854148     41088789        Caucasian    Male  [70-80)      ?   \n",
       "101764     443857166     31693671        Caucasian  Female  [80-90)      ?   \n",
       "101765     443867222    175429310        Caucasian    Male  [70-80)      ?   \n",
       "\n",
       "        admission_type_id  discharge_disposition_id  admission_source_id  \\\n",
       "101761                  1                         3                    7   \n",
       "101762                  1                         4                    5   \n",
       "101763                  1                         1                    7   \n",
       "101764                  2                         3                    7   \n",
       "101765                  1                         1                    7   \n",
       "\n",
       "        time_in_hospital    ...     citoglipton insulin  glyburide-metformin  \\\n",
       "101761                 3    ...              No    Down                   No   \n",
       "101762                 5    ...              No  Steady                   No   \n",
       "101763                 1    ...              No    Down                   No   \n",
       "101764                10    ...              No      Up                   No   \n",
       "101765                 6    ...              No      No                   No   \n",
       "\n",
       "        glipizide-metformin  glimepiride-pioglitazone  \\\n",
       "101761                   No                        No   \n",
       "101762                   No                        No   \n",
       "101763                   No                        No   \n",
       "101764                   No                        No   \n",
       "101765                   No                        No   \n",
       "\n",
       "        metformin-rosiglitazone  metformin-pioglitazone  change diabetesMed  \\\n",
       "101761                       No                      No      Ch         Yes   \n",
       "101762                       No                      No      No         Yes   \n",
       "101763                       No                      No      Ch         Yes   \n",
       "101764                       No                      No      Ch         Yes   \n",
       "101765                       No                      No      No          No   \n",
       "\n",
       "       readmitted  \n",
       "101761        >30  \n",
       "101762         NO  \n",
       "101763         NO  \n",
       "101764         NO  \n",
       "101765         NO  \n",
       "\n",
       "[5 rows x 50 columns]"
      ]
     },
     "execution_count": 3,
     "metadata": {},
     "output_type": "execute_result"
    }
   ],
   "source": [
    "df.tail()"
   ]
  },
  {
   "cell_type": "code",
   "execution_count": 4,
   "metadata": {},
   "outputs": [
    {
     "data": {
      "text/plain": [
       "Index(['encounter_id', 'patient_nbr', 'race', 'gender', 'age', 'weight',\n",
       "       'admission_type_id', 'discharge_disposition_id', 'admission_source_id',\n",
       "       'time_in_hospital', 'payer_code', 'medical_specialty',\n",
       "       'num_lab_procedures', 'num_procedures', 'num_medications',\n",
       "       'number_outpatient', 'number_emergency', 'number_inpatient', 'diag_1',\n",
       "       'diag_2', 'diag_3', 'number_diagnoses', 'max_glu_serum', 'A1Cresult',\n",
       "       'metformin', 'repaglinide', 'nateglinide', 'chlorpropamide',\n",
       "       'glimepiride', 'acetohexamide', 'glipizide', 'glyburide', 'tolbutamide',\n",
       "       'pioglitazone', 'rosiglitazone', 'acarbose', 'miglitol', 'troglitazone',\n",
       "       'tolazamide', 'examide', 'citoglipton', 'insulin',\n",
       "       'glyburide-metformin', 'glipizide-metformin',\n",
       "       'glimepiride-pioglitazone', 'metformin-rosiglitazone',\n",
       "       'metformin-pioglitazone', 'change', 'diabetesMed', 'readmitted'],\n",
       "      dtype='object')"
      ]
     },
     "execution_count": 4,
     "metadata": {},
     "output_type": "execute_result"
    }
   ],
   "source": [
    "df.columns"
   ]
  },
  {
   "cell_type": "code",
   "execution_count": 5,
   "metadata": {},
   "outputs": [
    {
     "data": {
      "text/plain": [
       "(101766, 50)"
      ]
     },
     "execution_count": 5,
     "metadata": {},
     "output_type": "execute_result"
    }
   ],
   "source": [
    "df.shape"
   ]
  },
  {
   "cell_type": "code",
   "execution_count": 6,
   "metadata": {},
   "outputs": [
    {
     "name": "stdout",
     "output_type": "stream",
     "text": [
      "<class 'pandas.core.frame.DataFrame'>\n",
      "RangeIndex: 101766 entries, 0 to 101765\n",
      "Data columns (total 50 columns):\n",
      "encounter_id                101766 non-null int64\n",
      "patient_nbr                 101766 non-null int64\n",
      "race                        101766 non-null object\n",
      "gender                      101766 non-null object\n",
      "age                         101766 non-null object\n",
      "weight                      101766 non-null object\n",
      "admission_type_id           101766 non-null int64\n",
      "discharge_disposition_id    101766 non-null int64\n",
      "admission_source_id         101766 non-null int64\n",
      "time_in_hospital            101766 non-null int64\n",
      "payer_code                  101766 non-null object\n",
      "medical_specialty           101766 non-null object\n",
      "num_lab_procedures          101766 non-null int64\n",
      "num_procedures              101766 non-null int64\n",
      "num_medications             101766 non-null int64\n",
      "number_outpatient           101766 non-null int64\n",
      "number_emergency            101766 non-null int64\n",
      "number_inpatient            101766 non-null int64\n",
      "diag_1                      101766 non-null object\n",
      "diag_2                      101766 non-null object\n",
      "diag_3                      101766 non-null object\n",
      "number_diagnoses            101766 non-null int64\n",
      "max_glu_serum               101766 non-null object\n",
      "A1Cresult                   101766 non-null object\n",
      "metformin                   101766 non-null object\n",
      "repaglinide                 101766 non-null object\n",
      "nateglinide                 101766 non-null object\n",
      "chlorpropamide              101766 non-null object\n",
      "glimepiride                 101766 non-null object\n",
      "acetohexamide               101766 non-null object\n",
      "glipizide                   101766 non-null object\n",
      "glyburide                   101766 non-null object\n",
      "tolbutamide                 101766 non-null object\n",
      "pioglitazone                101766 non-null object\n",
      "rosiglitazone               101766 non-null object\n",
      "acarbose                    101766 non-null object\n",
      "miglitol                    101766 non-null object\n",
      "troglitazone                101766 non-null object\n",
      "tolazamide                  101766 non-null object\n",
      "examide                     101766 non-null object\n",
      "citoglipton                 101766 non-null object\n",
      "insulin                     101766 non-null object\n",
      "glyburide-metformin         101766 non-null object\n",
      "glipizide-metformin         101766 non-null object\n",
      "glimepiride-pioglitazone    101766 non-null object\n",
      "metformin-rosiglitazone     101766 non-null object\n",
      "metformin-pioglitazone      101766 non-null object\n",
      "change                      101766 non-null object\n",
      "diabetesMed                 101766 non-null object\n",
      "readmitted                  101766 non-null object\n",
      "dtypes: int64(13), object(37)\n",
      "memory usage: 38.8+ MB\n"
     ]
    }
   ],
   "source": [
    "df.info()"
   ]
  },
  {
   "cell_type": "markdown",
   "metadata": {},
   "source": [
    "## Data Cleaning and Filling Missing Values"
   ]
  },
  {
   "cell_type": "code",
   "execution_count": 7,
   "metadata": {},
   "outputs": [
    {
     "data": {
      "text/plain": [
       "96210942     1\n",
       "89943846     1\n",
       "384306986    1\n",
       "94650156     1\n",
       "83156784     1\n",
       "Name: encounter_id, dtype: int64"
      ]
     },
     "execution_count": 7,
     "metadata": {},
     "output_type": "execute_result"
    }
   ],
   "source": [
    "df.encounter_id.value_counts(dropna=False).head()"
   ]
  },
  {
   "cell_type": "markdown",
   "metadata": {},
   "source": [
    "This means that each encounter_id is unique."
   ]
  },
  {
   "cell_type": "code",
   "execution_count": 8,
   "metadata": {},
   "outputs": [
    {
     "data": {
      "text/plain": [
       "88785891    40\n",
       "43140906    28\n",
       "23199021    23\n",
       "1660293     23\n",
       "88227540    23\n",
       "Name: patient_nbr, dtype: int64"
      ]
     },
     "execution_count": 8,
     "metadata": {},
     "output_type": "execute_result"
    }
   ],
   "source": [
    "df.patient_nbr.value_counts(dropna=False).head()"
   ]
  },
  {
   "cell_type": "markdown",
   "metadata": {},
   "source": [
    "Some patients were admitted multiple times over the course of data collection."
   ]
  },
  {
   "cell_type": "code",
   "execution_count": 9,
   "metadata": {},
   "outputs": [
    {
     "data": {
      "text/plain": [
       "Caucasian          76099\n",
       "AfricanAmerican    19210\n",
       "?                   2273\n",
       "Hispanic            2037\n",
       "Other               1506\n",
       "Asian                641\n",
       "Name: race, dtype: int64"
      ]
     },
     "execution_count": 9,
     "metadata": {},
     "output_type": "execute_result"
    }
   ],
   "source": [
    "df.race.value_counts(dropna=False)"
   ]
  },
  {
   "cell_type": "markdown",
   "metadata": {},
   "source": [
    "It appears that `?` is used for encoding missing values. Will replace it with proper NaN values."
   ]
  },
  {
   "cell_type": "code",
   "execution_count": 10,
   "metadata": {},
   "outputs": [
    {
     "name": "stdout",
     "output_type": "stream",
     "text": [
      "<class 'pandas.core.frame.DataFrame'>\n",
      "RangeIndex: 101766 entries, 0 to 101765\n",
      "Data columns (total 50 columns):\n",
      "encounter_id                101766 non-null int64\n",
      "patient_nbr                 101766 non-null int64\n",
      "race                        99493 non-null object\n",
      "gender                      101766 non-null object\n",
      "age                         101766 non-null object\n",
      "weight                      3197 non-null object\n",
      "admission_type_id           101766 non-null int64\n",
      "discharge_disposition_id    101766 non-null int64\n",
      "admission_source_id         101766 non-null int64\n",
      "time_in_hospital            101766 non-null int64\n",
      "payer_code                  61510 non-null object\n",
      "medical_specialty           51817 non-null object\n",
      "num_lab_procedures          101766 non-null int64\n",
      "num_procedures              101766 non-null int64\n",
      "num_medications             101766 non-null int64\n",
      "number_outpatient           101766 non-null int64\n",
      "number_emergency            101766 non-null int64\n",
      "number_inpatient            101766 non-null int64\n",
      "diag_1                      101745 non-null object\n",
      "diag_2                      101408 non-null object\n",
      "diag_3                      100343 non-null object\n",
      "number_diagnoses            101766 non-null int64\n",
      "max_glu_serum               101766 non-null object\n",
      "A1Cresult                   101766 non-null object\n",
      "metformin                   101766 non-null object\n",
      "repaglinide                 101766 non-null object\n",
      "nateglinide                 101766 non-null object\n",
      "chlorpropamide              101766 non-null object\n",
      "glimepiride                 101766 non-null object\n",
      "acetohexamide               101766 non-null object\n",
      "glipizide                   101766 non-null object\n",
      "glyburide                   101766 non-null object\n",
      "tolbutamide                 101766 non-null object\n",
      "pioglitazone                101766 non-null object\n",
      "rosiglitazone               101766 non-null object\n",
      "acarbose                    101766 non-null object\n",
      "miglitol                    101766 non-null object\n",
      "troglitazone                101766 non-null object\n",
      "tolazamide                  101766 non-null object\n",
      "examide                     101766 non-null object\n",
      "citoglipton                 101766 non-null object\n",
      "insulin                     101766 non-null object\n",
      "glyburide-metformin         101766 non-null object\n",
      "glipizide-metformin         101766 non-null object\n",
      "glimepiride-pioglitazone    101766 non-null object\n",
      "metformin-rosiglitazone     101766 non-null object\n",
      "metformin-pioglitazone      101766 non-null object\n",
      "change                      101766 non-null object\n",
      "diabetesMed                 101766 non-null object\n",
      "readmitted                  101766 non-null object\n",
      "dtypes: int64(13), object(37)\n",
      "memory usage: 38.8+ MB\n"
     ]
    }
   ],
   "source": [
    "df.replace('?', np.nan, inplace=True)\n",
    "df.info()"
   ]
  },
  {
   "cell_type": "code",
   "execution_count": 11,
   "metadata": {},
   "outputs": [
    {
     "data": {
      "text/plain": [
       "Caucasian          76099\n",
       "AfricanAmerican    19210\n",
       "NaN                 2273\n",
       "Hispanic            2037\n",
       "Other               1506\n",
       "Asian                641\n",
       "Name: race, dtype: int64"
      ]
     },
     "execution_count": 11,
     "metadata": {},
     "output_type": "execute_result"
    }
   ],
   "source": [
    "df.race.value_counts(dropna=False)"
   ]
  },
  {
   "cell_type": "markdown",
   "metadata": {},
   "source": [
    "`race` column will be encoded with integers. In addition a new column `race_na` will be created that identifies observations with the missing `race` values."
   ]
  },
  {
   "cell_type": "code",
   "execution_count": 12,
   "metadata": {},
   "outputs": [
    {
     "data": {
      "text/plain": [
       "3    76099\n",
       "1    19210\n",
       "0     2273\n",
       "4     2037\n",
       "5     1506\n",
       "2      641\n",
       "Name: race, dtype: int64"
      ]
     },
     "execution_count": 12,
     "metadata": {},
     "output_type": "execute_result"
    }
   ],
   "source": [
    "df.race = df.race.astype('category')\n",
    "df['race'] = df.race.cat.codes + 1\n",
    "df.race.value_counts(dropna=False)"
   ]
  },
  {
   "cell_type": "code",
   "execution_count": 13,
   "metadata": {},
   "outputs": [
    {
     "data": {
      "text/plain": [
       "0    99493\n",
       "1     2273\n",
       "Name: race_na, dtype: int64"
      ]
     },
     "execution_count": 13,
     "metadata": {},
     "output_type": "execute_result"
    }
   ],
   "source": [
    "df['race_na'] = (df.race == 0).astype(int)\n",
    "df.race_na.value_counts(dropna=False)"
   ]
  },
  {
   "cell_type": "code",
   "execution_count": 14,
   "metadata": {},
   "outputs": [
    {
     "data": {
      "text/plain": [
       "Female             54708\n",
       "Male               47055\n",
       "Unknown/Invalid        3\n",
       "Name: gender, dtype: int64"
      ]
     },
     "execution_count": 14,
     "metadata": {},
     "output_type": "execute_result"
    }
   ],
   "source": [
    "df.gender.value_counts(dropna=False)"
   ]
  },
  {
   "cell_type": "markdown",
   "metadata": {},
   "source": [
    "Patients of 3 observations had `gender` values of `Unknown/Invalid`. They will be converted to NaN and treated as missing. The column will be reencoded with integer values, new column `gender_na` will label missing values."
   ]
  },
  {
   "cell_type": "code",
   "execution_count": 15,
   "metadata": {},
   "outputs": [
    {
     "data": {
      "text/plain": [
       "Female    54708\n",
       "Male      47055\n",
       "NaN           3\n",
       "Name: gender, dtype: int64"
      ]
     },
     "execution_count": 15,
     "metadata": {},
     "output_type": "execute_result"
    }
   ],
   "source": [
    "df.loc[df.gender == 'Unknown/Invalid', 'gender'] = np.nan\n",
    "df.gender.value_counts(dropna=False)"
   ]
  },
  {
   "cell_type": "code",
   "execution_count": 16,
   "metadata": {},
   "outputs": [
    {
     "data": {
      "text/plain": [
       "1    54708\n",
       "2    47055\n",
       "0        3\n",
       "Name: gender, dtype: int64"
      ]
     },
     "execution_count": 16,
     "metadata": {},
     "output_type": "execute_result"
    }
   ],
   "source": [
    "df.gender = df.gender.astype('category')\n",
    "df['gender'] = df.gender.cat.codes + 1\n",
    "df.gender.value_counts(dropna=False)"
   ]
  },
  {
   "cell_type": "code",
   "execution_count": 17,
   "metadata": {},
   "outputs": [
    {
     "data": {
      "text/plain": [
       "0    101763\n",
       "1         3\n",
       "Name: gender_na, dtype: int64"
      ]
     },
     "execution_count": 17,
     "metadata": {},
     "output_type": "execute_result"
    }
   ],
   "source": [
    "df['gender_na'] = (df.gender == 0).astype(int)\n",
    "df.gender_na.value_counts(dropna=False)"
   ]
  },
  {
   "cell_type": "code",
   "execution_count": 18,
   "metadata": {},
   "outputs": [
    {
     "data": {
      "text/plain": [
       "[70-80)     26068\n",
       "[60-70)     22483\n",
       "[50-60)     17256\n",
       "[80-90)     17197\n",
       "[40-50)      9685\n",
       "[30-40)      3775\n",
       "[90-100)     2793\n",
       "[20-30)      1657\n",
       "[10-20)       691\n",
       "[0-10)        161\n",
       "Name: age, dtype: int64"
      ]
     },
     "execution_count": 18,
     "metadata": {},
     "output_type": "execute_result"
    }
   ],
   "source": [
    "df.age.value_counts(dropna=False)"
   ]
  },
  {
   "cell_type": "markdown",
   "metadata": {},
   "source": [
    "`age` columns stores patient age binned in 10 year increments with no data missing. This columns will be reencoded with integer values in the order corresponding to the bin values."
   ]
  },
  {
   "cell_type": "code",
   "execution_count": 19,
   "metadata": {},
   "outputs": [],
   "source": [
    "age_cat_type = CategoricalDtype(categories=['[0-10)', '[10-20)', '[20-30)', '[30-40)', '[40-50)', \n",
    "                                                '[50-60)', '[60-70)', '[70-80)', '[80-90)', '[90-100)'],\n",
    "                                ordered=True)\n",
    "df.age = df.age.astype(age_cat_type)"
   ]
  },
  {
   "cell_type": "code",
   "execution_count": 20,
   "metadata": {},
   "outputs": [
    {
     "data": {
      "text/plain": [
       "7    26068\n",
       "6    22483\n",
       "5    17256\n",
       "8    17197\n",
       "4     9685\n",
       "3     3775\n",
       "9     2793\n",
       "2     1657\n",
       "1      691\n",
       "0      161\n",
       "Name: age, dtype: int64"
      ]
     },
     "execution_count": 20,
     "metadata": {},
     "output_type": "execute_result"
    }
   ],
   "source": [
    "df['age'] = df.age.cat.codes\n",
    "df.age.value_counts(dropna=False)"
   ]
  },
  {
   "cell_type": "code",
   "execution_count": 21,
   "metadata": {},
   "outputs": [
    {
     "data": {
      "text/plain": [
       "NaN          98569\n",
       "[75-100)      1336\n",
       "[50-75)        897\n",
       "[100-125)      625\n",
       "[125-150)      145\n",
       "[25-50)         97\n",
       "[0-25)          48\n",
       "[150-175)       35\n",
       "[175-200)       11\n",
       ">200             3\n",
       "Name: weight, dtype: int64"
      ]
     },
     "execution_count": 21,
     "metadata": {},
     "output_type": "execute_result"
    }
   ],
   "source": [
    "df.weight.value_counts(dropna=False)"
   ]
  },
  {
   "cell_type": "markdown",
   "metadata": {},
   "source": [
    "`weight` column contains a lot of missing values. It will be dropped and eliminated from further analysis."
   ]
  },
  {
   "cell_type": "code",
   "execution_count": 22,
   "metadata": {},
   "outputs": [],
   "source": [
    "del df['weight']"
   ]
  },
  {
   "cell_type": "code",
   "execution_count": 23,
   "metadata": {},
   "outputs": [
    {
     "data": {
      "text/plain": [
       "1    53990\n",
       "2    18480\n",
       "3    18869\n",
       "4       10\n",
       "5     4785\n",
       "6     5291\n",
       "7       21\n",
       "8      320\n",
       "Name: admission_type_id, dtype: int64"
      ]
     },
     "execution_count": 23,
     "metadata": {},
     "output_type": "execute_result"
    }
   ],
   "source": [
    "df.admission_type_id.value_counts(dropna=False).sort_index()"
   ]
  },
  {
   "attachments": {},
   "cell_type": "markdown",
   "metadata": {},
   "source": [
    "The repository with the data contains file `IDs_mapping.csv` that describes encodings for `admission_type_id`, `discharge_disposition_id` and `admission_source_id`. The `admission_type_id`s with values 5, 6, and 8 are mapped to `Not Available`, `NULL`, and `Not Mapped` correspondingly. They will be treated as missing. Additional column `admission_type_id_na` will be created that identifies observations with missing `admission_type_id`s."
   ]
  },
  {
   "cell_type": "code",
   "execution_count": 24,
   "metadata": {},
   "outputs": [
    {
     "data": {
      "text/plain": [
       "0    91370\n",
       "1    10396\n",
       "Name: admission_type_id_na, dtype: int64"
      ]
     },
     "execution_count": 24,
     "metadata": {},
     "output_type": "execute_result"
    }
   ],
   "source": [
    "df['admission_type_id_na'] = df.admission_type_id.isin([5, 6, 8]).astype(int)\n",
    "df.admission_type_id_na.value_counts(dropna=False)"
   ]
  },
  {
   "cell_type": "code",
   "execution_count": 25,
   "metadata": {},
   "outputs": [
    {
     "data": {
      "text/plain": [
       "1    53990\n",
       "3    18869\n",
       "2    18480\n",
       "0    10396\n",
       "7       21\n",
       "4       10\n",
       "Name: admission_type_id, dtype: int64"
      ]
     },
     "execution_count": 25,
     "metadata": {},
     "output_type": "execute_result"
    }
   ],
   "source": [
    "df.loc[df.admission_type_id.isin([5, 6, 8]), 'admission_type_id'] = 0\n",
    "df.admission_type_id.value_counts(dropna=False)"
   ]
  },
  {
   "cell_type": "code",
   "execution_count": 26,
   "metadata": {},
   "outputs": [
    {
     "data": {
      "text/plain": [
       "1     60234\n",
       "3     13954\n",
       "6     12902\n",
       "18     3691\n",
       "2      2128\n",
       "22     1993\n",
       "11     1642\n",
       "5      1184\n",
       "25      989\n",
       "4       815\n",
       "7       623\n",
       "23      412\n",
       "13      399\n",
       "14      372\n",
       "28      139\n",
       "8       108\n",
       "15       63\n",
       "24       48\n",
       "9        21\n",
       "17       14\n",
       "16       11\n",
       "19        8\n",
       "10        6\n",
       "27        5\n",
       "12        3\n",
       "20        2\n",
       "Name: discharge_disposition_id, dtype: int64"
      ]
     },
     "execution_count": 26,
     "metadata": {},
     "output_type": "execute_result"
    }
   ],
   "source": [
    "df.discharge_disposition_id.value_counts(dropna=False)"
   ]
  },
  {
   "attachments": {},
   "cell_type": "markdown",
   "metadata": {},
   "source": [
    "`discharge_disposition_id` values 18, 25, and 26 encode `NULL`, `Not Mapped`, `Unknown/Invalid`. They will be treated as missing and identified in `discharge_disposition_id_na` column."
   ]
  },
  {
   "cell_type": "code",
   "execution_count": 27,
   "metadata": {},
   "outputs": [
    {
     "data": {
      "text/plain": [
       "1     60234\n",
       "3     13954\n",
       "6     12902\n",
       "0      4680\n",
       "2      2128\n",
       "22     1993\n",
       "11     1642\n",
       "5      1184\n",
       "4       815\n",
       "7       623\n",
       "23      412\n",
       "13      399\n",
       "14      372\n",
       "28      139\n",
       "8       108\n",
       "15       63\n",
       "24       48\n",
       "9        21\n",
       "17       14\n",
       "16       11\n",
       "19        8\n",
       "10        6\n",
       "27        5\n",
       "12        3\n",
       "20        2\n",
       "Name: discharge_disposition_id, dtype: int64"
      ]
     },
     "execution_count": 27,
     "metadata": {},
     "output_type": "execute_result"
    }
   ],
   "source": [
    "df.loc[df.discharge_disposition_id.isin([18, 25, 26]), 'discharge_disposition_id'] = 0\n",
    "df.discharge_disposition_id.value_counts(dropna=False)"
   ]
  },
  {
   "cell_type": "code",
   "execution_count": 28,
   "metadata": {},
   "outputs": [
    {
     "data": {
      "text/plain": [
       "0    97086\n",
       "1     4680\n",
       "Name: discharge_disposition_id_na, dtype: int64"
      ]
     },
     "execution_count": 28,
     "metadata": {},
     "output_type": "execute_result"
    }
   ],
   "source": [
    "# Labeling the missing discharge_disposition_id as 1 in a separate column.\n",
    "df['discharge_disposition_id_na'] = (df.discharge_disposition_id == 0).astype(int)\n",
    "df.discharge_disposition_id_na.value_counts()"
   ]
  },
  {
   "cell_type": "code",
   "execution_count": 29,
   "metadata": {
    "scrolled": true
   },
   "outputs": [
    {
     "data": {
      "text/plain": [
       "7     57494\n",
       "1     29565\n",
       "17     6781\n",
       "4      3187\n",
       "6      2264\n",
       "2      1104\n",
       "5       855\n",
       "3       187\n",
       "20      161\n",
       "9       125\n",
       "8        16\n",
       "22       12\n",
       "10        8\n",
       "11        2\n",
       "14        2\n",
       "25        2\n",
       "13        1\n",
       "Name: admission_source_id, dtype: int64"
      ]
     },
     "execution_count": 29,
     "metadata": {},
     "output_type": "execute_result"
    }
   ],
   "source": [
    "df.admission_source_id.value_counts(dropna=False)"
   ]
  },
  {
   "cell_type": "markdown",
   "metadata": {},
   "source": [
    "`admission_source_id` encodes 9, 15, 17, 20, and 21 as ` Not Available`, `Not Available`, `NULL`, `Not Mapped`, and `Unknown/Invalid` correspondilngly. They will be labelled as missing and identified in `admission_source_id_na` column."
   ]
  },
  {
   "cell_type": "code",
   "execution_count": 30,
   "metadata": {},
   "outputs": [
    {
     "data": {
      "text/plain": [
       "7     57494\n",
       "1     29565\n",
       "0      7067\n",
       "4      3187\n",
       "6      2264\n",
       "2      1104\n",
       "5       855\n",
       "3       187\n",
       "8        16\n",
       "22       12\n",
       "10        8\n",
       "25        2\n",
       "14        2\n",
       "11        2\n",
       "13        1\n",
       "Name: admission_source_id, dtype: int64"
      ]
     },
     "execution_count": 30,
     "metadata": {},
     "output_type": "execute_result"
    }
   ],
   "source": [
    "df.loc[df.admission_source_id.isin([9, 15, 17, 20, 21]), 'admission_source_id'] = 0\n",
    "df.admission_source_id.value_counts(dropna=False)"
   ]
  },
  {
   "cell_type": "code",
   "execution_count": 31,
   "metadata": {},
   "outputs": [
    {
     "data": {
      "text/plain": [
       "0    94699\n",
       "1     7067\n",
       "Name: admission_source_id_na, dtype: int64"
      ]
     },
     "execution_count": 31,
     "metadata": {},
     "output_type": "execute_result"
    }
   ],
   "source": [
    "# Labeling the missing admission_source_id as 1 in a separate column.\n",
    "df['admission_source_id_na'] = (df.admission_source_id == 0).astype(int)\n",
    "df.admission_source_id_na.value_counts()"
   ]
  },
  {
   "cell_type": "code",
   "execution_count": 32,
   "metadata": {},
   "outputs": [
    {
     "data": {
      "text/plain": [
       "3     17756\n",
       "2     17224\n",
       "1     14208\n",
       "4     13924\n",
       "5      9966\n",
       "6      7539\n",
       "7      5859\n",
       "8      4391\n",
       "9      3002\n",
       "10     2342\n",
       "11     1855\n",
       "12     1448\n",
       "13     1210\n",
       "14     1042\n",
       "Name: time_in_hospital, dtype: int64"
      ]
     },
     "execution_count": 32,
     "metadata": {},
     "output_type": "execute_result"
    }
   ],
   "source": [
    "df.time_in_hospital.value_counts(dropna=False)"
   ]
  },
  {
   "cell_type": "markdown",
   "metadata": {},
   "source": [
    "`time_in_hospital` values are numeric without missing data. No adjustment is needed."
   ]
  },
  {
   "cell_type": "code",
   "execution_count": 33,
   "metadata": {},
   "outputs": [
    {
     "data": {
      "text/plain": [
       "NaN    40256\n",
       "MC     32439\n",
       "HM      6274\n",
       "SP      5007\n",
       "BC      4655\n",
       "Name: payer_code, dtype: int64"
      ]
     },
     "execution_count": 33,
     "metadata": {},
     "output_type": "execute_result"
    }
   ],
   "source": [
    "df.payer_code.value_counts(dropna=False).head()"
   ]
  },
  {
   "cell_type": "markdown",
   "metadata": {},
   "source": [
    "`payer_code` will be encoded with integers. Missing values will be labeled in a separate column."
   ]
  },
  {
   "cell_type": "code",
   "execution_count": 34,
   "metadata": {},
   "outputs": [
    {
     "data": {
      "text/plain": [
       "0     40256\n",
       "8     32439\n",
       "7      6274\n",
       "15     5007\n",
       "1      4655\n",
       "9      3532\n",
       "4      2533\n",
       "16     2448\n",
       "3      1937\n",
       "11     1033\n",
       "13      592\n",
       "5       549\n",
       "2       146\n",
       "17      135\n",
       "12       95\n",
       "10       79\n",
       "14       55\n",
       "6         1\n",
       "Name: payer_code, dtype: int64"
      ]
     },
     "execution_count": 34,
     "metadata": {},
     "output_type": "execute_result"
    }
   ],
   "source": [
    "df.payer_code = df.payer_code.astype('category')\n",
    "df['payer_code'] = df.payer_code.cat.codes + 1\n",
    "df.payer_code.value_counts(dropna=False)"
   ]
  },
  {
   "cell_type": "code",
   "execution_count": 35,
   "metadata": {},
   "outputs": [
    {
     "data": {
      "text/plain": [
       "0    61510\n",
       "1    40256\n",
       "Name: payer_code_na, dtype: int64"
      ]
     },
     "execution_count": 35,
     "metadata": {},
     "output_type": "execute_result"
    }
   ],
   "source": [
    "df['payer_code_na'] = (df.payer_code == 0).astype(int)\n",
    "df.payer_code_na.value_counts(dropna=False)"
   ]
  },
  {
   "cell_type": "code",
   "execution_count": 36,
   "metadata": {},
   "outputs": [
    {
     "data": {
      "text/plain": [
       "NaN                       49949\n",
       "InternalMedicine          14635\n",
       "Emergency/Trauma           7565\n",
       "Family/GeneralPractice     7440\n",
       "Cardiology                 5352\n",
       "Name: medical_specialty, dtype: int64"
      ]
     },
     "execution_count": 36,
     "metadata": {},
     "output_type": "execute_result"
    }
   ],
   "source": [
    "df.medical_specialty.value_counts(dropna=False).head()"
   ]
  },
  {
   "cell_type": "markdown",
   "metadata": {},
   "source": [
    "`medical_specialty` will be encoded with integers, missing values will be labeled in a separate column."
   ]
  },
  {
   "cell_type": "code",
   "execution_count": 37,
   "metadata": {},
   "outputs": [
    {
     "data": {
      "text/plain": [
       "0     49949\n",
       "19    14635\n",
       "9      7565\n",
       "12     7440\n",
       "4      5352\n",
       "Name: medical_specialty, dtype: int64"
      ]
     },
     "execution_count": 37,
     "metadata": {},
     "output_type": "execute_result"
    }
   ],
   "source": [
    "df.medical_specialty = df.medical_specialty.astype('category')\n",
    "df['medical_specialty'] = df.medical_specialty.cat.codes + 1\n",
    "df.medical_specialty.value_counts(dropna=False).head()"
   ]
  },
  {
   "cell_type": "code",
   "execution_count": 38,
   "metadata": {},
   "outputs": [
    {
     "data": {
      "text/plain": [
       "0    51817\n",
       "1    49949\n",
       "Name: medical_specialty_na, dtype: int64"
      ]
     },
     "execution_count": 38,
     "metadata": {},
     "output_type": "execute_result"
    }
   ],
   "source": [
    "df['medical_specialty_na'] = (df.medical_specialty == 0).astype(int)\n",
    "df.medical_specialty_na.value_counts(dropna=False)"
   ]
  },
  {
   "cell_type": "code",
   "execution_count": 39,
   "metadata": {},
   "outputs": [
    {
     "data": {
      "text/plain": [
       "None    96420\n",
       "Norm     2597\n",
       ">200     1485\n",
       ">300     1264\n",
       "Name: max_glu_serum, dtype: int64"
      ]
     },
     "execution_count": 39,
     "metadata": {},
     "output_type": "execute_result"
    }
   ],
   "source": [
    "df.max_glu_serum.value_counts(dropna=False)"
   ]
  },
  {
   "cell_type": "markdown",
   "metadata": {},
   "source": [
    "In `max_glu` column `None` identifies missing data. These values will be replaced with NaN values."
   ]
  },
  {
   "cell_type": "code",
   "execution_count": 40,
   "metadata": {},
   "outputs": [
    {
     "name": "stdout",
     "output_type": "stream",
     "text": [
      "<class 'pandas.core.frame.DataFrame'>\n",
      "RangeIndex: 101766 entries, 0 to 101765\n",
      "Data columns (total 56 columns):\n",
      "encounter_id                   101766 non-null int64\n",
      "patient_nbr                    101766 non-null int64\n",
      "race                           101766 non-null int64\n",
      "gender                         101766 non-null int64\n",
      "age                            101766 non-null int64\n",
      "admission_type_id              101766 non-null int64\n",
      "discharge_disposition_id       101766 non-null int64\n",
      "admission_source_id            101766 non-null int64\n",
      "time_in_hospital               101766 non-null int64\n",
      "payer_code                     101766 non-null int64\n",
      "medical_specialty              101766 non-null int64\n",
      "num_lab_procedures             101766 non-null int64\n",
      "num_procedures                 101766 non-null int64\n",
      "num_medications                101766 non-null int64\n",
      "number_outpatient              101766 non-null int64\n",
      "number_emergency               101766 non-null int64\n",
      "number_inpatient               101766 non-null int64\n",
      "diag_1                         101745 non-null object\n",
      "diag_2                         101408 non-null object\n",
      "diag_3                         100343 non-null object\n",
      "number_diagnoses               101766 non-null int64\n",
      "max_glu_serum                  5346 non-null object\n",
      "A1Cresult                      17018 non-null object\n",
      "metformin                      101766 non-null object\n",
      "repaglinide                    101766 non-null object\n",
      "nateglinide                    101766 non-null object\n",
      "chlorpropamide                 101766 non-null object\n",
      "glimepiride                    101766 non-null object\n",
      "acetohexamide                  101766 non-null object\n",
      "glipizide                      101766 non-null object\n",
      "glyburide                      101766 non-null object\n",
      "tolbutamide                    101766 non-null object\n",
      "pioglitazone                   101766 non-null object\n",
      "rosiglitazone                  101766 non-null object\n",
      "acarbose                       101766 non-null object\n",
      "miglitol                       101766 non-null object\n",
      "troglitazone                   101766 non-null object\n",
      "tolazamide                     101766 non-null object\n",
      "examide                        101766 non-null object\n",
      "citoglipton                    101766 non-null object\n",
      "insulin                        101766 non-null object\n",
      "glyburide-metformin            101766 non-null object\n",
      "glipizide-metformin            101766 non-null object\n",
      "glimepiride-pioglitazone       101766 non-null object\n",
      "metformin-rosiglitazone        101766 non-null object\n",
      "metformin-pioglitazone         101766 non-null object\n",
      "change                         101766 non-null object\n",
      "diabetesMed                    101766 non-null object\n",
      "readmitted                     101766 non-null object\n",
      "race_na                        101766 non-null int64\n",
      "gender_na                      101766 non-null int64\n",
      "admission_type_id_na           101766 non-null int64\n",
      "discharge_disposition_id_na    101766 non-null int64\n",
      "admission_source_id_na         101766 non-null int64\n",
      "payer_code_na                  101766 non-null int64\n",
      "medical_specialty_na           101766 non-null int64\n",
      "dtypes: int64(25), object(31)\n",
      "memory usage: 43.5+ MB\n"
     ]
    }
   ],
   "source": [
    "df.replace('None', np.nan, inplace=True)\n",
    "df.info()"
   ]
  },
  {
   "cell_type": "markdown",
   "metadata": {},
   "source": [
    "`max_glu_serum` values will be encoded with integers, such that their order order corresponds to the order of `max_glu_serum` values. Missing values will be identified in a separate column."
   ]
  },
  {
   "cell_type": "code",
   "execution_count": 41,
   "metadata": {},
   "outputs": [
    {
     "data": {
      "text/plain": [
       "NaN     96420\n",
       "Norm     2597\n",
       ">200     1485\n",
       ">300     1264\n",
       "Name: max_glu_serum, dtype: int64"
      ]
     },
     "execution_count": 41,
     "metadata": {},
     "output_type": "execute_result"
    }
   ],
   "source": [
    "max_glu_serum_type = CategoricalDtype(categories=['Norm', '>200', '>300'],\n",
    "                                      ordered=True)\n",
    "df.max_glu_serum = df.max_glu_serum.astype(max_glu_serum_type)\n",
    "df.max_glu_serum.value_counts(dropna=False)"
   ]
  },
  {
   "cell_type": "code",
   "execution_count": 42,
   "metadata": {},
   "outputs": [
    {
     "data": {
      "text/plain": [
       "0    96420\n",
       "1     2597\n",
       "2     1485\n",
       "3     1264\n",
       "Name: max_glu_serum, dtype: int64"
      ]
     },
     "execution_count": 42,
     "metadata": {},
     "output_type": "execute_result"
    }
   ],
   "source": [
    "df['max_glu_serum'] = df.max_glu_serum.cat.codes + 1\n",
    "df.max_glu_serum.value_counts(dropna=False)"
   ]
  },
  {
   "cell_type": "code",
   "execution_count": 43,
   "metadata": {},
   "outputs": [
    {
     "data": {
      "text/plain": [
       "1    96420\n",
       "0     5346\n",
       "Name: max_glu_serum_na, dtype: int64"
      ]
     },
     "execution_count": 43,
     "metadata": {},
     "output_type": "execute_result"
    }
   ],
   "source": [
    "df['max_glu_serum_na'] = (df.max_glu_serum == 0).astype(int)\n",
    "df.max_glu_serum_na.value_counts(dropna=False)"
   ]
  },
  {
   "cell_type": "code",
   "execution_count": 44,
   "metadata": {},
   "outputs": [
    {
     "data": {
      "text/plain": [
       "NaN     84748\n",
       ">8       8216\n",
       "Norm     4990\n",
       ">7       3812\n",
       "Name: A1Cresult, dtype: int64"
      ]
     },
     "execution_count": 44,
     "metadata": {},
     "output_type": "execute_result"
    }
   ],
   "source": [
    "df.A1Cresult.value_counts(dropna=False)"
   ]
  },
  {
   "cell_type": "markdown",
   "metadata": {},
   "source": [
    "`A1Cresult` column contains missing values as well as ordered categories. This column will be reencoded with integers where the order of integers correspond to the order of values."
   ]
  },
  {
   "cell_type": "code",
   "execution_count": 45,
   "metadata": {},
   "outputs": [
    {
     "data": {
      "text/plain": [
       "NaN     84748\n",
       ">8       8216\n",
       "Norm     4990\n",
       ">7       3812\n",
       "Name: A1Cresult, dtype: int64"
      ]
     },
     "execution_count": 45,
     "metadata": {},
     "output_type": "execute_result"
    }
   ],
   "source": [
    "A1Cresult_type = CategoricalDtype(categories=['Norm', '>7', '>8'],\n",
    "                                      ordered=True)\n",
    "df.A1Cresult = df.A1Cresult.astype(A1Cresult_type)\n",
    "df.A1Cresult.value_counts(dropna=False)"
   ]
  },
  {
   "cell_type": "code",
   "execution_count": 46,
   "metadata": {},
   "outputs": [
    {
     "data": {
      "text/plain": [
       "0    84748\n",
       "3     8216\n",
       "1     4990\n",
       "2     3812\n",
       "Name: A1Cresult, dtype: int64"
      ]
     },
     "execution_count": 46,
     "metadata": {},
     "output_type": "execute_result"
    }
   ],
   "source": [
    "df['A1Cresult'] = df.A1Cresult.cat.codes + 1\n",
    "df.A1Cresult.value_counts(dropna=False)"
   ]
  },
  {
   "cell_type": "code",
   "execution_count": 47,
   "metadata": {},
   "outputs": [
    {
     "data": {
      "text/plain": [
       "No        81778\n",
       "Steady    18346\n",
       "Up         1067\n",
       "Down        575\n",
       "Name: metformin, dtype: int64"
      ]
     },
     "execution_count": 47,
     "metadata": {},
     "output_type": "execute_result"
    }
   ],
   "source": [
    "df.metformin.value_counts(dropna=False)"
   ]
  },
  {
   "cell_type": "code",
   "execution_count": 48,
   "metadata": {},
   "outputs": [
    {
     "name": "stdout",
     "output_type": "stream",
     "text": [
      "No        81778\n",
      "Steady    18346\n",
      "Up         1067\n",
      "Down        575\n",
      "Name: metformin, dtype: int64\n",
      "No        100227\n",
      "Steady      1384\n",
      "Up           110\n",
      "Down          45\n",
      "Name: repaglinide, dtype: int64\n",
      "No        101063\n",
      "Steady       668\n",
      "Up            24\n",
      "Down          11\n",
      "Name: nateglinide, dtype: int64\n",
      "No        101680\n",
      "Steady        79\n",
      "Up             6\n",
      "Down           1\n",
      "Name: chlorpropamide, dtype: int64\n",
      "No        96575\n",
      "Steady     4670\n",
      "Up          327\n",
      "Down        194\n",
      "Name: glimepiride, dtype: int64\n",
      "No        101765\n",
      "Steady         1\n",
      "Name: acetohexamide, dtype: int64\n",
      "No        89080\n",
      "Steady    11356\n",
      "Up          770\n",
      "Down        560\n",
      "Name: glipizide, dtype: int64\n",
      "No        91116\n",
      "Steady     9274\n",
      "Up          812\n",
      "Down        564\n",
      "Name: glyburide, dtype: int64\n",
      "No        101743\n",
      "Steady        23\n",
      "Name: tolbutamide, dtype: int64\n",
      "No        94438\n",
      "Steady     6976\n",
      "Up          234\n",
      "Down        118\n",
      "Name: pioglitazone, dtype: int64\n",
      "No        95401\n",
      "Steady     6100\n",
      "Up          178\n",
      "Down         87\n",
      "Name: rosiglitazone, dtype: int64\n",
      "No        101458\n",
      "Steady       295\n",
      "Up            10\n",
      "Down           3\n",
      "Name: acarbose, dtype: int64\n",
      "No        101728\n",
      "Steady        31\n",
      "Down           5\n",
      "Up             2\n",
      "Name: miglitol, dtype: int64\n",
      "No        101763\n",
      "Steady         3\n",
      "Name: troglitazone, dtype: int64\n",
      "No        101727\n",
      "Steady        38\n",
      "Up             1\n",
      "Name: tolazamide, dtype: int64\n",
      "No    101766\n",
      "Name: examide, dtype: int64\n",
      "No    101766\n",
      "Name: citoglipton, dtype: int64\n",
      "No        47383\n",
      "Steady    30849\n",
      "Down      12218\n",
      "Up        11316\n",
      "Name: insulin, dtype: int64\n",
      "No        101060\n",
      "Steady       692\n",
      "Up             8\n",
      "Down           6\n",
      "Name: glyburide-metformin, dtype: int64\n",
      "No        101753\n",
      "Steady        13\n",
      "Name: glipizide-metformin, dtype: int64\n",
      "No        101765\n",
      "Steady         1\n",
      "Name: glimepiride-pioglitazone, dtype: int64\n",
      "No        101764\n",
      "Steady         2\n",
      "Name: metformin-rosiglitazone, dtype: int64\n",
      "No        101765\n",
      "Steady         1\n",
      "Name: metformin-pioglitazone, dtype: int64\n"
     ]
    }
   ],
   "source": [
    "drugs = ['metformin', 'repaglinide', 'nateglinide', 'chlorpropamide', 'glimepiride', 'acetohexamide', 'glipizide',\n",
    "        'glyburide', 'tolbutamide', 'pioglitazone', 'rosiglitazone', 'acarbose', 'miglitol', 'troglitazone',\n",
    "        'tolazamide', 'examide', 'citoglipton', 'insulin', 'glyburide-metformin', 'glipizide-metformin',\n",
    "        'glimepiride-pioglitazone', 'metformin-rosiglitazone', 'metformin-pioglitazone']\n",
    "for drug in drugs:\n",
    "    print(df[drug].value_counts(dropna=False))"
   ]
  },
  {
   "cell_type": "markdown",
   "metadata": {},
   "source": [
    "The values of columns `citoglipton` and `examide` show identical values for all observations. These columns will be deleted from the dataset."
   ]
  },
  {
   "cell_type": "code",
   "execution_count": 49,
   "metadata": {},
   "outputs": [],
   "source": [
    "del df['citoglipton']\n",
    "del df['examide']\n",
    "drugs.remove('citoglipton')\n",
    "drugs.remove('examide')"
   ]
  },
  {
   "cell_type": "markdown",
   "metadata": {},
   "source": [
    "The columns with the drugs changes will be reencoded with integer values."
   ]
  },
  {
   "cell_type": "code",
   "execution_count": 50,
   "metadata": {},
   "outputs": [],
   "source": [
    "drug_type = CategoricalDtype(categories=['No', 'Steady', 'Up', 'Down'],\n",
    "                                      ordered=False)\n",
    "for drug in drugs:\n",
    "    df[drug] = df[drug].astype(drug_type)\n",
    "    df[drug] = df[drug].cat.codes"
   ]
  },
  {
   "cell_type": "code",
   "execution_count": 51,
   "metadata": {},
   "outputs": [
    {
     "data": {
      "text/plain": [
       "No    54755\n",
       "Ch    47011\n",
       "Name: change, dtype: int64"
      ]
     },
     "execution_count": 51,
     "metadata": {},
     "output_type": "execute_result"
    }
   ],
   "source": [
    "df.change.value_counts(dropna=False)"
   ]
  },
  {
   "cell_type": "markdown",
   "metadata": {},
   "source": [
    "Columns `change` and `diabetesMed` will be reencoded with integer values."
   ]
  },
  {
   "cell_type": "code",
   "execution_count": 52,
   "metadata": {},
   "outputs": [
    {
     "data": {
      "text/plain": [
       "0    54755\n",
       "1    47011\n",
       "Name: change, dtype: int64"
      ]
     },
     "execution_count": 52,
     "metadata": {},
     "output_type": "execute_result"
    }
   ],
   "source": [
    "df.change = (df.change == 'Ch').astype(int)\n",
    "df.change.value_counts()"
   ]
  },
  {
   "cell_type": "code",
   "execution_count": 53,
   "metadata": {},
   "outputs": [
    {
     "data": {
      "text/plain": [
       "Yes    78363\n",
       "No     23403\n",
       "Name: diabetesMed, dtype: int64"
      ]
     },
     "execution_count": 53,
     "metadata": {},
     "output_type": "execute_result"
    }
   ],
   "source": [
    "df.diabetesMed.value_counts(dropna=False)"
   ]
  },
  {
   "cell_type": "code",
   "execution_count": 54,
   "metadata": {},
   "outputs": [
    {
     "data": {
      "text/plain": [
       "1    78363\n",
       "0    23403\n",
       "Name: diabetesMed, dtype: int64"
      ]
     },
     "execution_count": 54,
     "metadata": {},
     "output_type": "execute_result"
    }
   ],
   "source": [
    "df.diabetesMed = (df.diabetesMed == 'Yes').astype(int)\n",
    "df.diabetesMed.value_counts()"
   ]
  },
  {
   "cell_type": "code",
   "execution_count": 55,
   "metadata": {},
   "outputs": [
    {
     "data": {
      "text/plain": [
       "NO     54864\n",
       ">30    35545\n",
       "<30    11357\n",
       "Name: readmitted, dtype: int64"
      ]
     },
     "execution_count": 55,
     "metadata": {},
     "output_type": "execute_result"
    }
   ],
   "source": [
    "df.readmitted.value_counts(dropna=False)"
   ]
  },
  {
   "cell_type": "markdown",
   "metadata": {},
   "source": [
    "The column `readmitted` will be converted to integer values."
   ]
  },
  {
   "cell_type": "code",
   "execution_count": 56,
   "metadata": {},
   "outputs": [
    {
     "data": {
      "text/plain": [
       "0    54864\n",
       "2    35545\n",
       "1    11357\n",
       "Name: readmitted, dtype: int64"
      ]
     },
     "execution_count": 56,
     "metadata": {},
     "output_type": "execute_result"
    }
   ],
   "source": [
    "readmitted_type = CategoricalDtype(categories=['NO', '<30', '>30'],\n",
    "                                  ordered=True)\n",
    "df.readmitted = df.readmitted.astype(readmitted_type)\n",
    "df.readmitted = df.readmitted.cat.codes\n",
    "df.readmitted.value_counts()"
   ]
  },
  {
   "cell_type": "code",
   "execution_count": 57,
   "metadata": {},
   "outputs": [
    {
     "name": "stdout",
     "output_type": "stream",
     "text": [
      "<class 'pandas.core.frame.DataFrame'>\n",
      "RangeIndex: 101766 entries, 0 to 101765\n",
      "Data columns (total 55 columns):\n",
      "encounter_id                   101766 non-null int64\n",
      "patient_nbr                    101766 non-null int64\n",
      "race                           101766 non-null int64\n",
      "gender                         101766 non-null int64\n",
      "age                            101766 non-null int64\n",
      "admission_type_id              101766 non-null int64\n",
      "discharge_disposition_id       101766 non-null int64\n",
      "admission_source_id            101766 non-null int64\n",
      "time_in_hospital               101766 non-null int64\n",
      "payer_code                     101766 non-null int64\n",
      "medical_specialty              101766 non-null int64\n",
      "num_lab_procedures             101766 non-null int64\n",
      "num_procedures                 101766 non-null int64\n",
      "num_medications                101766 non-null int64\n",
      "number_outpatient              101766 non-null int64\n",
      "number_emergency               101766 non-null int64\n",
      "number_inpatient               101766 non-null int64\n",
      "diag_1                         101745 non-null object\n",
      "diag_2                         101408 non-null object\n",
      "diag_3                         100343 non-null object\n",
      "number_diagnoses               101766 non-null int64\n",
      "max_glu_serum                  101766 non-null int8\n",
      "A1Cresult                      101766 non-null int8\n",
      "metformin                      101766 non-null int8\n",
      "repaglinide                    101766 non-null int8\n",
      "nateglinide                    101766 non-null int8\n",
      "chlorpropamide                 101766 non-null int8\n",
      "glimepiride                    101766 non-null int8\n",
      "acetohexamide                  101766 non-null int8\n",
      "glipizide                      101766 non-null int8\n",
      "glyburide                      101766 non-null int8\n",
      "tolbutamide                    101766 non-null int8\n",
      "pioglitazone                   101766 non-null int8\n",
      "rosiglitazone                  101766 non-null int8\n",
      "acarbose                       101766 non-null int8\n",
      "miglitol                       101766 non-null int8\n",
      "troglitazone                   101766 non-null int8\n",
      "tolazamide                     101766 non-null int8\n",
      "insulin                        101766 non-null int8\n",
      "glyburide-metformin            101766 non-null int8\n",
      "glipizide-metformin            101766 non-null int8\n",
      "glimepiride-pioglitazone       101766 non-null int8\n",
      "metformin-rosiglitazone        101766 non-null int8\n",
      "metformin-pioglitazone         101766 non-null int8\n",
      "change                         101766 non-null int64\n",
      "diabetesMed                    101766 non-null int64\n",
      "readmitted                     101766 non-null int8\n",
      "race_na                        101766 non-null int64\n",
      "gender_na                      101766 non-null int64\n",
      "admission_type_id_na           101766 non-null int64\n",
      "discharge_disposition_id_na    101766 non-null int64\n",
      "admission_source_id_na         101766 non-null int64\n",
      "payer_code_na                  101766 non-null int64\n",
      "medical_specialty_na           101766 non-null int64\n",
      "max_glu_serum_na               101766 non-null int64\n",
      "dtypes: int64(28), int8(24), object(3)\n",
      "memory usage: 26.4+ MB\n"
     ]
    }
   ],
   "source": [
    "df.info()"
   ]
  },
  {
   "cell_type": "code",
   "execution_count": 58,
   "metadata": {},
   "outputs": [
    {
     "data": {
      "text/plain": [
       "428    6862\n",
       "414    6581\n",
       "786    4016\n",
       "410    3614\n",
       "486    3508\n",
       "Name: diag_1, dtype: int64"
      ]
     },
     "execution_count": 58,
     "metadata": {},
     "output_type": "execute_result"
    }
   ],
   "source": [
    "df.diag_1.value_counts(dropna=False).head()"
   ]
  },
  {
   "cell_type": "markdown",
   "metadata": {},
   "source": [
    "Columns `diag_1`, `diag_2` and `diag_3` contain medical ICD9 codes for primary diagnoses, secondary diagnoses and additional diagnoses correspondingly. The most common primary diagnosis for patient encounters in this dataset has a code of 428, which stands for 'Heart Failure'. The descriptions of these codes can be looked up at http://icd9cm.chrisendres.com/index.php?action=contents. These codes are often quite fine grained (they identify the diagnosis vary narrowly). It could be benefitial to have more general labels for the diagnoses since they could potentially be more predictive for hospital readmission than the very narrow diagnosis. In order to group diagnoses into larger groups on multiple levels, I used the script and data from the GitHub repo (https://github.com/sirrice/icd9.git), contents of which have been placed in `icd9` directory of the current repo. "
   ]
  },
  {
   "cell_type": "code",
   "execution_count": 59,
   "metadata": {},
   "outputs": [],
   "source": [
    "tree = ICD9('icd9/codes.json')"
   ]
  },
  {
   "cell_type": "markdown",
   "metadata": {},
   "source": [
    "The values from the diagnosis columns in the hospital readmission dataset do not exactly match the values in the ICD9 dataset and need to be reformatted to enable merging. The ICD9 dataset will be converted to the pandas DataFrame that is capable of merging with the hospital readmission dataset."
   ]
  },
  {
   "cell_type": "code",
   "execution_count": 60,
   "metadata": {},
   "outputs": [
    {
     "data": {
      "text/html": [
       "<div>\n",
       "<style scoped>\n",
       "    .dataframe tbody tr th:only-of-type {\n",
       "        vertical-align: middle;\n",
       "    }\n",
       "\n",
       "    .dataframe tbody tr th {\n",
       "        vertical-align: top;\n",
       "    }\n",
       "\n",
       "    .dataframe thead th {\n",
       "        text-align: right;\n",
       "    }\n",
       "</style>\n",
       "<table border=\"1\" class=\"dataframe\">\n",
       "  <thead>\n",
       "    <tr style=\"text-align: right;\">\n",
       "      <th></th>\n",
       "      <th>simplified_code</th>\n",
       "      <th>level_2</th>\n",
       "      <th>level_3</th>\n",
       "      <th>level_4</th>\n",
       "      <th>level_5</th>\n",
       "    </tr>\n",
       "  </thead>\n",
       "  <tbody>\n",
       "    <tr>\n",
       "      <th>0</th>\n",
       "      <td>258</td>\n",
       "      <td>240-279</td>\n",
       "      <td>249-259</td>\n",
       "      <td>258</td>\n",
       "      <td>258</td>\n",
       "    </tr>\n",
       "    <tr>\n",
       "      <th>1</th>\n",
       "      <td>201</td>\n",
       "      <td>140-239</td>\n",
       "      <td>200-208</td>\n",
       "      <td>201</td>\n",
       "      <td>201</td>\n",
       "    </tr>\n",
       "    <tr>\n",
       "      <th>2</th>\n",
       "      <td>212</td>\n",
       "      <td>140-239</td>\n",
       "      <td>210-229</td>\n",
       "      <td>212</td>\n",
       "      <td>212</td>\n",
       "    </tr>\n",
       "    <tr>\n",
       "      <th>3</th>\n",
       "      <td>458</td>\n",
       "      <td>390-459</td>\n",
       "      <td>451-459</td>\n",
       "      <td>458</td>\n",
       "      <td>458</td>\n",
       "    </tr>\n",
       "    <tr>\n",
       "      <th>4</th>\n",
       "      <td>642</td>\n",
       "      <td>630-679</td>\n",
       "      <td>640-649</td>\n",
       "      <td>642</td>\n",
       "      <td>642</td>\n",
       "    </tr>\n",
       "  </tbody>\n",
       "</table>\n",
       "</div>"
      ],
      "text/plain": [
       "  simplified_code  level_2  level_3 level_4 level_5\n",
       "0             258  240-279  249-259     258     258\n",
       "1             201  140-239  200-208     201     201\n",
       "2             212  140-239  210-229     212     212\n",
       "3             458  390-459  451-459     458     458\n",
       "4             642  630-679  640-649     642     642"
      ]
     },
     "execution_count": 60,
     "metadata": {},
     "output_type": "execute_result"
    }
   ],
   "source": [
    "def simplify_codes(codes):\n",
    "    \"\"\"Takes a series of codes, simplifies and pads them with zeros to be useful for searching in ICD9 database\n",
    "    Args:\n",
    "        codes: a Series of ICD9 codes in extended format\n",
    "    Returns:\n",
    "        List containing simplified and padded ICD9 codes. The order corresponds to the codes in the argument.\n",
    "    \"\"\"\n",
    "    pat = '^([EV]?\\\\d\\\\d?\\\\d?\\\\.?\\\\d?).?'\n",
    "    short_pat = '^(\\\\d*)'\n",
    "    simple_codes = [re.search(pat, code).group(1) if type(code) == str else np.nan for code in codes]\n",
    "    simple_codes_padded = [('0' * (3 - len(re.search(short_pat , code).group(1))) + code) if (type(code)==str and bool(re.search(short_pat , code).group())) else code for code in simple_codes]\n",
    "    return simple_codes_padded\n",
    "\n",
    "\n",
    "def struct_df_from_codes(codes, tree):\n",
    "    \"\"\"Converts a Series with simplified and padded medical ICD9 codes to a DataFrame with columns showing grouping of similar diagnoses\n",
    "    Args:\n",
    "        codes: a Series with simplified and padded ICD9 codes.\n",
    "        tree: tree of ICD9 codes showing their hierarchical relationship. Obtained from https://github.com/sirrice/icd9.git\n",
    "    Returns:\n",
    "        DataFrame with columns showing grouping of diagnoses\n",
    "    \"\"\"\n",
    "    code_list = []\n",
    "    for code in codes:\n",
    "        if code == code:\n",
    "            if code[0] != 'E' and code[0] != 'V' and '.' not in code and int(code) not in list(range(910, 920)) + [235, 752]:\n",
    "                code_parents = []\n",
    "                for c in tree.find(code).parents:\n",
    "                    code_parents.append(c.code)\n",
    "                code_list.append([code] + code_parents + [np.nan] * (5 - len(code_parents)))\n",
    "            elif code[0] == 'E' or code[0] == 'V' or '.' in code:\n",
    "                code_parents = []\n",
    "                for c in tree.find(code).parents:\n",
    "                    code_parents.append(c.code)\n",
    "                code_list.append([code] + code_parents + [np.nan] * (5 - len(code_parents)))\n",
    "            elif int(code) in range(910, 920):\n",
    "                code_parents = []\n",
    "                for c in tree.find('905').parents[:-1]:\n",
    "                    code_parents.append(c.code)\n",
    "                code_list.append([code] + code_parents + [np.nan] * (5 - len(code_parents)))\n",
    "            elif int(code) == 235:\n",
    "                code_parents = []\n",
    "                for c in tree.find('236').parents[:-1]:\n",
    "                    code_parents.append(c.code)\n",
    "                code_list.append([code] + code_parents + [np.nan] * (5 - len(code_parents)))\n",
    "            elif int(code) == 752:\n",
    "                code_parents = []\n",
    "                for c in tree.find('751').parents[:-1]:\n",
    "                    code_parents.append(c.code)\n",
    "                code_list.append([code] + code_parents + [np.nan] * (5 - len(code_parents)))\n",
    "            else:\n",
    "                print('This code has not been added to the structure: {}'.format(code))\n",
    "    out = pd.DataFrame(code_list).fillna(method='ffill', axis='columns')\n",
    "    out.columns = ['simplified_code'] + ['level_{}'.format(n) for n in range(1, 6)]\n",
    "    del out['level_1']\n",
    "    return out\n",
    "used_diagnoses = pd.concat([df.diag_1, df.diag_2, df.diag_3]).unique()\n",
    "used_diagnoses = list(set(simplify_codes(used_diagnoses)))\n",
    "code_df = struct_df_from_codes(used_diagnoses, tree)\n",
    "code_df.head()"
   ]
  },
  {
   "cell_type": "code",
   "execution_count": 61,
   "metadata": {},
   "outputs": [
    {
     "data": {
      "text/html": [
       "<div>\n",
       "<style scoped>\n",
       "    .dataframe tbody tr th:only-of-type {\n",
       "        vertical-align: middle;\n",
       "    }\n",
       "\n",
       "    .dataframe tbody tr th {\n",
       "        vertical-align: top;\n",
       "    }\n",
       "\n",
       "    .dataframe thead th {\n",
       "        text-align: right;\n",
       "    }\n",
       "</style>\n",
       "<table border=\"1\" class=\"dataframe\">\n",
       "  <thead>\n",
       "    <tr style=\"text-align: right;\">\n",
       "      <th></th>\n",
       "      <th>encounter_id</th>\n",
       "      <th>patient_nbr</th>\n",
       "      <th>race</th>\n",
       "      <th>gender</th>\n",
       "      <th>age</th>\n",
       "      <th>admission_type_id</th>\n",
       "      <th>discharge_disposition_id</th>\n",
       "      <th>admission_source_id</th>\n",
       "      <th>time_in_hospital</th>\n",
       "      <th>payer_code</th>\n",
       "      <th>...</th>\n",
       "      <th>gender_na</th>\n",
       "      <th>admission_type_id_na</th>\n",
       "      <th>discharge_disposition_id_na</th>\n",
       "      <th>admission_source_id_na</th>\n",
       "      <th>payer_code_na</th>\n",
       "      <th>medical_specialty_na</th>\n",
       "      <th>max_glu_serum_na</th>\n",
       "      <th>simple_diag_1</th>\n",
       "      <th>simple_diag_2</th>\n",
       "      <th>simple_diag_3</th>\n",
       "    </tr>\n",
       "  </thead>\n",
       "  <tbody>\n",
       "    <tr>\n",
       "      <th>0</th>\n",
       "      <td>2278392</td>\n",
       "      <td>8222157</td>\n",
       "      <td>3</td>\n",
       "      <td>1</td>\n",
       "      <td>0</td>\n",
       "      <td>0</td>\n",
       "      <td>0</td>\n",
       "      <td>1</td>\n",
       "      <td>1</td>\n",
       "      <td>0</td>\n",
       "      <td>...</td>\n",
       "      <td>0</td>\n",
       "      <td>1</td>\n",
       "      <td>1</td>\n",
       "      <td>0</td>\n",
       "      <td>1</td>\n",
       "      <td>0</td>\n",
       "      <td>1</td>\n",
       "      <td>250.8</td>\n",
       "      <td>NaN</td>\n",
       "      <td>NaN</td>\n",
       "    </tr>\n",
       "    <tr>\n",
       "      <th>1</th>\n",
       "      <td>149190</td>\n",
       "      <td>55629189</td>\n",
       "      <td>3</td>\n",
       "      <td>1</td>\n",
       "      <td>1</td>\n",
       "      <td>1</td>\n",
       "      <td>1</td>\n",
       "      <td>7</td>\n",
       "      <td>3</td>\n",
       "      <td>0</td>\n",
       "      <td>...</td>\n",
       "      <td>0</td>\n",
       "      <td>0</td>\n",
       "      <td>0</td>\n",
       "      <td>0</td>\n",
       "      <td>1</td>\n",
       "      <td>1</td>\n",
       "      <td>1</td>\n",
       "      <td>276</td>\n",
       "      <td>250.0</td>\n",
       "      <td>255</td>\n",
       "    </tr>\n",
       "    <tr>\n",
       "      <th>2</th>\n",
       "      <td>64410</td>\n",
       "      <td>86047875</td>\n",
       "      <td>1</td>\n",
       "      <td>1</td>\n",
       "      <td>2</td>\n",
       "      <td>1</td>\n",
       "      <td>1</td>\n",
       "      <td>7</td>\n",
       "      <td>2</td>\n",
       "      <td>0</td>\n",
       "      <td>...</td>\n",
       "      <td>0</td>\n",
       "      <td>0</td>\n",
       "      <td>0</td>\n",
       "      <td>0</td>\n",
       "      <td>1</td>\n",
       "      <td>1</td>\n",
       "      <td>1</td>\n",
       "      <td>648</td>\n",
       "      <td>250</td>\n",
       "      <td>V27</td>\n",
       "    </tr>\n",
       "    <tr>\n",
       "      <th>3</th>\n",
       "      <td>500364</td>\n",
       "      <td>82442376</td>\n",
       "      <td>3</td>\n",
       "      <td>2</td>\n",
       "      <td>3</td>\n",
       "      <td>1</td>\n",
       "      <td>1</td>\n",
       "      <td>7</td>\n",
       "      <td>2</td>\n",
       "      <td>0</td>\n",
       "      <td>...</td>\n",
       "      <td>0</td>\n",
       "      <td>0</td>\n",
       "      <td>0</td>\n",
       "      <td>0</td>\n",
       "      <td>1</td>\n",
       "      <td>1</td>\n",
       "      <td>1</td>\n",
       "      <td>008</td>\n",
       "      <td>250.4</td>\n",
       "      <td>403</td>\n",
       "    </tr>\n",
       "    <tr>\n",
       "      <th>4</th>\n",
       "      <td>16680</td>\n",
       "      <td>42519267</td>\n",
       "      <td>3</td>\n",
       "      <td>2</td>\n",
       "      <td>4</td>\n",
       "      <td>1</td>\n",
       "      <td>1</td>\n",
       "      <td>7</td>\n",
       "      <td>1</td>\n",
       "      <td>0</td>\n",
       "      <td>...</td>\n",
       "      <td>0</td>\n",
       "      <td>0</td>\n",
       "      <td>0</td>\n",
       "      <td>0</td>\n",
       "      <td>1</td>\n",
       "      <td>1</td>\n",
       "      <td>1</td>\n",
       "      <td>197</td>\n",
       "      <td>157</td>\n",
       "      <td>250</td>\n",
       "    </tr>\n",
       "  </tbody>\n",
       "</table>\n",
       "<p>5 rows × 58 columns</p>\n",
       "</div>"
      ],
      "text/plain": [
       "   encounter_id  patient_nbr  race  gender  age  admission_type_id  \\\n",
       "0       2278392      8222157     3       1    0                  0   \n",
       "1        149190     55629189     3       1    1                  1   \n",
       "2         64410     86047875     1       1    2                  1   \n",
       "3        500364     82442376     3       2    3                  1   \n",
       "4         16680     42519267     3       2    4                  1   \n",
       "\n",
       "   discharge_disposition_id  admission_source_id  time_in_hospital  \\\n",
       "0                         0                    1                 1   \n",
       "1                         1                    7                 3   \n",
       "2                         1                    7                 2   \n",
       "3                         1                    7                 2   \n",
       "4                         1                    7                 1   \n",
       "\n",
       "   payer_code      ...       gender_na  admission_type_id_na  \\\n",
       "0           0      ...               0                     1   \n",
       "1           0      ...               0                     0   \n",
       "2           0      ...               0                     0   \n",
       "3           0      ...               0                     0   \n",
       "4           0      ...               0                     0   \n",
       "\n",
       "   discharge_disposition_id_na  admission_source_id_na  payer_code_na  \\\n",
       "0                            1                       0              1   \n",
       "1                            0                       0              1   \n",
       "2                            0                       0              1   \n",
       "3                            0                       0              1   \n",
       "4                            0                       0              1   \n",
       "\n",
       "   medical_specialty_na  max_glu_serum_na simple_diag_1 simple_diag_2  \\\n",
       "0                     0                 1         250.8           NaN   \n",
       "1                     1                 1           276         250.0   \n",
       "2                     1                 1           648           250   \n",
       "3                     1                 1           008         250.4   \n",
       "4                     1                 1           197           157   \n",
       "\n",
       "  simple_diag_3  \n",
       "0           NaN  \n",
       "1           255  \n",
       "2           V27  \n",
       "3           403  \n",
       "4           250  \n",
       "\n",
       "[5 rows x 58 columns]"
      ]
     },
     "execution_count": 61,
     "metadata": {},
     "output_type": "execute_result"
    }
   ],
   "source": [
    "# Converting columns with ICD9 diagnoses into simplified and padded format suitable for merging with ICD9 database\n",
    "for n in range(1, 4):\n",
    "    df['simple_diag_{}'.format(n)] = simplify_codes(df['diag_{}'.format(n)])\n",
    "df.head()"
   ]
  },
  {
   "cell_type": "code",
   "execution_count": 62,
   "metadata": {},
   "outputs": [
    {
     "data": {
      "text/html": [
       "<div>\n",
       "<style scoped>\n",
       "    .dataframe tbody tr th:only-of-type {\n",
       "        vertical-align: middle;\n",
       "    }\n",
       "\n",
       "    .dataframe tbody tr th {\n",
       "        vertical-align: top;\n",
       "    }\n",
       "\n",
       "    .dataframe thead th {\n",
       "        text-align: right;\n",
       "    }\n",
       "</style>\n",
       "<table border=\"1\" class=\"dataframe\">\n",
       "  <thead>\n",
       "    <tr style=\"text-align: right;\">\n",
       "      <th></th>\n",
       "      <th>encounter_id</th>\n",
       "      <th>patient_nbr</th>\n",
       "      <th>race</th>\n",
       "      <th>gender</th>\n",
       "      <th>age</th>\n",
       "      <th>admission_type_id</th>\n",
       "      <th>discharge_disposition_id</th>\n",
       "      <th>admission_source_id</th>\n",
       "      <th>time_in_hospital</th>\n",
       "      <th>payer_code</th>\n",
       "      <th>...</th>\n",
       "      <th>level_4_diag_1</th>\n",
       "      <th>level_5_diag_1</th>\n",
       "      <th>level_2_diag_2</th>\n",
       "      <th>level_3_diag_2</th>\n",
       "      <th>level_4_diag_2</th>\n",
       "      <th>level_5_diag_2</th>\n",
       "      <th>level_2_diag_3</th>\n",
       "      <th>level_3_diag_3</th>\n",
       "      <th>level_4_diag_3</th>\n",
       "      <th>level_5_diag_3</th>\n",
       "    </tr>\n",
       "  </thead>\n",
       "  <tbody>\n",
       "    <tr>\n",
       "      <th>0</th>\n",
       "      <td>2278392</td>\n",
       "      <td>8222157</td>\n",
       "      <td>3</td>\n",
       "      <td>1</td>\n",
       "      <td>0</td>\n",
       "      <td>0</td>\n",
       "      <td>0</td>\n",
       "      <td>1</td>\n",
       "      <td>1</td>\n",
       "      <td>0</td>\n",
       "      <td>...</td>\n",
       "      <td>250</td>\n",
       "      <td>250.8</td>\n",
       "      <td>NaN</td>\n",
       "      <td>NaN</td>\n",
       "      <td>NaN</td>\n",
       "      <td>NaN</td>\n",
       "      <td>NaN</td>\n",
       "      <td>NaN</td>\n",
       "      <td>NaN</td>\n",
       "      <td>NaN</td>\n",
       "    </tr>\n",
       "    <tr>\n",
       "      <th>1</th>\n",
       "      <td>149190</td>\n",
       "      <td>55629189</td>\n",
       "      <td>3</td>\n",
       "      <td>1</td>\n",
       "      <td>1</td>\n",
       "      <td>1</td>\n",
       "      <td>1</td>\n",
       "      <td>7</td>\n",
       "      <td>3</td>\n",
       "      <td>0</td>\n",
       "      <td>...</td>\n",
       "      <td>276</td>\n",
       "      <td>276</td>\n",
       "      <td>240-279</td>\n",
       "      <td>249-259</td>\n",
       "      <td>250</td>\n",
       "      <td>250.0</td>\n",
       "      <td>240-279</td>\n",
       "      <td>249-259</td>\n",
       "      <td>255</td>\n",
       "      <td>255</td>\n",
       "    </tr>\n",
       "    <tr>\n",
       "      <th>2</th>\n",
       "      <td>64410</td>\n",
       "      <td>86047875</td>\n",
       "      <td>1</td>\n",
       "      <td>1</td>\n",
       "      <td>2</td>\n",
       "      <td>1</td>\n",
       "      <td>1</td>\n",
       "      <td>7</td>\n",
       "      <td>2</td>\n",
       "      <td>0</td>\n",
       "      <td>...</td>\n",
       "      <td>648</td>\n",
       "      <td>648</td>\n",
       "      <td>240-279</td>\n",
       "      <td>249-259</td>\n",
       "      <td>250</td>\n",
       "      <td>250</td>\n",
       "      <td>V20-V29</td>\n",
       "      <td>V27</td>\n",
       "      <td>V27</td>\n",
       "      <td>V27</td>\n",
       "    </tr>\n",
       "    <tr>\n",
       "      <th>3</th>\n",
       "      <td>500364</td>\n",
       "      <td>82442376</td>\n",
       "      <td>3</td>\n",
       "      <td>2</td>\n",
       "      <td>3</td>\n",
       "      <td>1</td>\n",
       "      <td>1</td>\n",
       "      <td>7</td>\n",
       "      <td>2</td>\n",
       "      <td>0</td>\n",
       "      <td>...</td>\n",
       "      <td>008</td>\n",
       "      <td>008</td>\n",
       "      <td>240-279</td>\n",
       "      <td>249-259</td>\n",
       "      <td>250</td>\n",
       "      <td>250.4</td>\n",
       "      <td>390-459</td>\n",
       "      <td>401-405</td>\n",
       "      <td>403</td>\n",
       "      <td>403</td>\n",
       "    </tr>\n",
       "    <tr>\n",
       "      <th>4</th>\n",
       "      <td>16680</td>\n",
       "      <td>42519267</td>\n",
       "      <td>3</td>\n",
       "      <td>2</td>\n",
       "      <td>4</td>\n",
       "      <td>1</td>\n",
       "      <td>1</td>\n",
       "      <td>7</td>\n",
       "      <td>1</td>\n",
       "      <td>0</td>\n",
       "      <td>...</td>\n",
       "      <td>197</td>\n",
       "      <td>197</td>\n",
       "      <td>140-239</td>\n",
       "      <td>150-159</td>\n",
       "      <td>157</td>\n",
       "      <td>157</td>\n",
       "      <td>240-279</td>\n",
       "      <td>249-259</td>\n",
       "      <td>250</td>\n",
       "      <td>250</td>\n",
       "    </tr>\n",
       "  </tbody>\n",
       "</table>\n",
       "<p>5 rows × 70 columns</p>\n",
       "</div>"
      ],
      "text/plain": [
       "   encounter_id  patient_nbr  race  gender  age  admission_type_id  \\\n",
       "0       2278392      8222157     3       1    0                  0   \n",
       "1        149190     55629189     3       1    1                  1   \n",
       "2         64410     86047875     1       1    2                  1   \n",
       "3        500364     82442376     3       2    3                  1   \n",
       "4         16680     42519267     3       2    4                  1   \n",
       "\n",
       "   discharge_disposition_id  admission_source_id  time_in_hospital  \\\n",
       "0                         0                    1                 1   \n",
       "1                         1                    7                 3   \n",
       "2                         1                    7                 2   \n",
       "3                         1                    7                 2   \n",
       "4                         1                    7                 1   \n",
       "\n",
       "   payer_code      ...        level_4_diag_1  level_5_diag_1  level_2_diag_2  \\\n",
       "0           0      ...                   250           250.8             NaN   \n",
       "1           0      ...                   276             276         240-279   \n",
       "2           0      ...                   648             648         240-279   \n",
       "3           0      ...                   008             008         240-279   \n",
       "4           0      ...                   197             197         140-239   \n",
       "\n",
       "   level_3_diag_2  level_4_diag_2  level_5_diag_2  level_2_diag_3  \\\n",
       "0             NaN             NaN             NaN             NaN   \n",
       "1         249-259             250           250.0         240-279   \n",
       "2         249-259             250             250         V20-V29   \n",
       "3         249-259             250           250.4         390-459   \n",
       "4         150-159             157             157         240-279   \n",
       "\n",
       "  level_3_diag_3 level_4_diag_3 level_5_diag_3  \n",
       "0            NaN            NaN            NaN  \n",
       "1        249-259            255            255  \n",
       "2            V27            V27            V27  \n",
       "3        401-405            403            403  \n",
       "4        249-259            250            250  \n",
       "\n",
       "[5 rows x 70 columns]"
      ]
     },
     "execution_count": 62,
     "metadata": {},
     "output_type": "execute_result"
    }
   ],
   "source": [
    "# Merging primary, secondary and additional secondary diagnoses with the ICD9 database\n",
    "for n in range(1, 4):\n",
    "    code_df_copy = code_df.copy()\n",
    "    code_df_copy.columns = code_df_copy.columns + '_diag_{}'.format(n)\n",
    "    df = df.merge(code_df_copy, how='left', left_on='simple_diag_{}'.format(n), right_on='simplified_code_diag_{}'.format(n))\n",
    "    del df['simplified_code_diag_{}'.format(n)]\n",
    "df.head()"
   ]
  },
  {
   "cell_type": "code",
   "execution_count": 63,
   "metadata": {},
   "outputs": [
    {
     "name": "stdout",
     "output_type": "stream",
     "text": [
      "<class 'pandas.core.frame.DataFrame'>\n",
      "Int64Index: 101766 entries, 0 to 101765\n",
      "Data columns (total 70 columns):\n",
      "encounter_id                   101766 non-null int64\n",
      "patient_nbr                    101766 non-null int64\n",
      "race                           101766 non-null int64\n",
      "gender                         101766 non-null int64\n",
      "age                            101766 non-null int64\n",
      "admission_type_id              101766 non-null int64\n",
      "discharge_disposition_id       101766 non-null int64\n",
      "admission_source_id            101766 non-null int64\n",
      "time_in_hospital               101766 non-null int64\n",
      "payer_code                     101766 non-null int64\n",
      "medical_specialty              101766 non-null int64\n",
      "num_lab_procedures             101766 non-null int64\n",
      "num_procedures                 101766 non-null int64\n",
      "num_medications                101766 non-null int64\n",
      "number_outpatient              101766 non-null int64\n",
      "number_emergency               101766 non-null int64\n",
      "number_inpatient               101766 non-null int64\n",
      "diag_1                         101745 non-null object\n",
      "diag_2                         101408 non-null object\n",
      "diag_3                         100343 non-null object\n",
      "number_diagnoses               101766 non-null int64\n",
      "max_glu_serum                  101766 non-null int8\n",
      "A1Cresult                      101766 non-null int8\n",
      "metformin                      101766 non-null int8\n",
      "repaglinide                    101766 non-null int8\n",
      "nateglinide                    101766 non-null int8\n",
      "chlorpropamide                 101766 non-null int8\n",
      "glimepiride                    101766 non-null int8\n",
      "acetohexamide                  101766 non-null int8\n",
      "glipizide                      101766 non-null int8\n",
      "glyburide                      101766 non-null int8\n",
      "tolbutamide                    101766 non-null int8\n",
      "pioglitazone                   101766 non-null int8\n",
      "rosiglitazone                  101766 non-null int8\n",
      "acarbose                       101766 non-null int8\n",
      "miglitol                       101766 non-null int8\n",
      "troglitazone                   101766 non-null int8\n",
      "tolazamide                     101766 non-null int8\n",
      "insulin                        101766 non-null int8\n",
      "glyburide-metformin            101766 non-null int8\n",
      "glipizide-metformin            101766 non-null int8\n",
      "glimepiride-pioglitazone       101766 non-null int8\n",
      "metformin-rosiglitazone        101766 non-null int8\n",
      "metformin-pioglitazone         101766 non-null int8\n",
      "change                         101766 non-null int64\n",
      "diabetesMed                    101766 non-null int64\n",
      "readmitted                     101766 non-null int8\n",
      "race_na                        101766 non-null int64\n",
      "gender_na                      101766 non-null int64\n",
      "admission_type_id_na           101766 non-null int64\n",
      "discharge_disposition_id_na    101766 non-null int64\n",
      "admission_source_id_na         101766 non-null int64\n",
      "payer_code_na                  101766 non-null int64\n",
      "medical_specialty_na           101766 non-null int64\n",
      "max_glu_serum_na               101766 non-null int64\n",
      "simple_diag_1                  101745 non-null object\n",
      "simple_diag_2                  101408 non-null object\n",
      "simple_diag_3                  100343 non-null object\n",
      "level_2_diag_1                 101745 non-null object\n",
      "level_3_diag_1                 101745 non-null object\n",
      "level_4_diag_1                 101745 non-null object\n",
      "level_5_diag_1                 101745 non-null object\n",
      "level_2_diag_2                 101408 non-null object\n",
      "level_3_diag_2                 101408 non-null object\n",
      "level_4_diag_2                 101408 non-null object\n",
      "level_5_diag_2                 101408 non-null object\n",
      "level_2_diag_3                 100343 non-null object\n",
      "level_3_diag_3                 100343 non-null object\n",
      "level_4_diag_3                 100343 non-null object\n",
      "level_5_diag_3                 100343 non-null object\n",
      "dtypes: int64(28), int8(24), object(18)\n",
      "memory usage: 38.8+ MB\n"
     ]
    }
   ],
   "source": [
    "df.info()"
   ]
  },
  {
   "cell_type": "markdown",
   "metadata": {},
   "source": [
    "The variables with the different levels of diagnosis will be converted to integer values."
   ]
  },
  {
   "cell_type": "code",
   "execution_count": 64,
   "metadata": {},
   "outputs": [],
   "source": [
    "columns_to_convert = ['diag_1', 'diag_2', 'diag_3', 'simple_diag_1', 'simple_diag_2', 'simple_diag_3', \n",
    "                      'level_2_diag_1', 'level_3_diag_1', 'level_4_diag_1', 'level_5_diag_1', 'level_2_diag_2',\n",
    "                      'level_3_diag_2', 'level_4_diag_2', 'level_5_diag_2', 'level_2_diag_3',\n",
    "                      'level_3_diag_3', 'level_4_diag_3', 'level_5_diag_3']\n",
    "for c in columns_to_convert:\n",
    "    df[c] = df[c].astype('category')\n",
    "    df[c] = df[c].cat.codes + 1\n",
    "    df['{}_na'.format(c)] = (df[c] == 0).astype(int)"
   ]
  },
  {
   "cell_type": "code",
   "execution_count": 65,
   "metadata": {},
   "outputs": [
    {
     "name": "stdout",
     "output_type": "stream",
     "text": [
      "<class 'pandas.core.frame.DataFrame'>\n",
      "Int64Index: 101766 entries, 0 to 101765\n",
      "Data columns (total 88 columns):\n",
      "encounter_id                   101766 non-null int64\n",
      "patient_nbr                    101766 non-null int64\n",
      "race                           101766 non-null int64\n",
      "gender                         101766 non-null int64\n",
      "age                            101766 non-null int64\n",
      "admission_type_id              101766 non-null int64\n",
      "discharge_disposition_id       101766 non-null int64\n",
      "admission_source_id            101766 non-null int64\n",
      "time_in_hospital               101766 non-null int64\n",
      "payer_code                     101766 non-null int64\n",
      "medical_specialty              101766 non-null int64\n",
      "num_lab_procedures             101766 non-null int64\n",
      "num_procedures                 101766 non-null int64\n",
      "num_medications                101766 non-null int64\n",
      "number_outpatient              101766 non-null int64\n",
      "number_emergency               101766 non-null int64\n",
      "number_inpatient               101766 non-null int64\n",
      "diag_1                         101766 non-null int16\n",
      "diag_2                         101766 non-null int16\n",
      "diag_3                         101766 non-null int16\n",
      "number_diagnoses               101766 non-null int64\n",
      "max_glu_serum                  101766 non-null int8\n",
      "A1Cresult                      101766 non-null int8\n",
      "metformin                      101766 non-null int8\n",
      "repaglinide                    101766 non-null int8\n",
      "nateglinide                    101766 non-null int8\n",
      "chlorpropamide                 101766 non-null int8\n",
      "glimepiride                    101766 non-null int8\n",
      "acetohexamide                  101766 non-null int8\n",
      "glipizide                      101766 non-null int8\n",
      "glyburide                      101766 non-null int8\n",
      "tolbutamide                    101766 non-null int8\n",
      "pioglitazone                   101766 non-null int8\n",
      "rosiglitazone                  101766 non-null int8\n",
      "acarbose                       101766 non-null int8\n",
      "miglitol                       101766 non-null int8\n",
      "troglitazone                   101766 non-null int8\n",
      "tolazamide                     101766 non-null int8\n",
      "insulin                        101766 non-null int8\n",
      "glyburide-metformin            101766 non-null int8\n",
      "glipizide-metformin            101766 non-null int8\n",
      "glimepiride-pioglitazone       101766 non-null int8\n",
      "metformin-rosiglitazone        101766 non-null int8\n",
      "metformin-pioglitazone         101766 non-null int8\n",
      "change                         101766 non-null int64\n",
      "diabetesMed                    101766 non-null int64\n",
      "readmitted                     101766 non-null int8\n",
      "race_na                        101766 non-null int64\n",
      "gender_na                      101766 non-null int64\n",
      "admission_type_id_na           101766 non-null int64\n",
      "discharge_disposition_id_na    101766 non-null int64\n",
      "admission_source_id_na         101766 non-null int64\n",
      "payer_code_na                  101766 non-null int64\n",
      "medical_specialty_na           101766 non-null int64\n",
      "max_glu_serum_na               101766 non-null int64\n",
      "simple_diag_1                  101766 non-null int16\n",
      "simple_diag_2                  101766 non-null int16\n",
      "simple_diag_3                  101766 non-null int16\n",
      "level_2_diag_1                 101766 non-null int8\n",
      "level_3_diag_1                 101766 non-null int16\n",
      "level_4_diag_1                 101766 non-null int16\n",
      "level_5_diag_1                 101766 non-null int16\n",
      "level_2_diag_2                 101766 non-null int8\n",
      "level_3_diag_2                 101766 non-null int16\n",
      "level_4_diag_2                 101766 non-null int16\n",
      "level_5_diag_2                 101766 non-null int16\n",
      "level_2_diag_3                 101766 non-null int8\n",
      "level_3_diag_3                 101766 non-null int16\n",
      "level_4_diag_3                 101766 non-null int16\n",
      "level_5_diag_3                 101766 non-null int16\n",
      "diag_1_na                      101766 non-null int64\n",
      "diag_2_na                      101766 non-null int64\n",
      "diag_3_na                      101766 non-null int64\n",
      "simple_diag_1_na               101766 non-null int64\n",
      "simple_diag_2_na               101766 non-null int64\n",
      "simple_diag_3_na               101766 non-null int64\n",
      "level_2_diag_1_na              101766 non-null int64\n",
      "level_3_diag_1_na              101766 non-null int64\n",
      "level_4_diag_1_na              101766 non-null int64\n",
      "level_5_diag_1_na              101766 non-null int64\n",
      "level_2_diag_2_na              101766 non-null int64\n",
      "level_3_diag_2_na              101766 non-null int64\n",
      "level_4_diag_2_na              101766 non-null int64\n",
      "level_5_diag_2_na              101766 non-null int64\n",
      "level_2_diag_3_na              101766 non-null int64\n",
      "level_3_diag_3_na              101766 non-null int64\n",
      "level_4_diag_3_na              101766 non-null int64\n",
      "level_5_diag_3_na              101766 non-null int64\n",
      "dtypes: int16(15), int64(46), int8(27)\n",
      "memory usage: 42.0 MB\n"
     ]
    }
   ],
   "source": [
    "df.info()"
   ]
  },
  {
   "cell_type": "markdown",
   "metadata": {},
   "source": [
    "The dataset obtained after these procedures is clean, all numeric, has no missing values and ready for further exploratory data anslysis."
   ]
  },
  {
   "cell_type": "markdown",
   "metadata": {},
   "source": [
    "## Identification of outliers"
   ]
  },
  {
   "cell_type": "code",
   "execution_count": 66,
   "metadata": {},
   "outputs": [
    {
     "data": {
      "text/html": [
       "<div>\n",
       "<style scoped>\n",
       "    .dataframe tbody tr th:only-of-type {\n",
       "        vertical-align: middle;\n",
       "    }\n",
       "\n",
       "    .dataframe tbody tr th {\n",
       "        vertical-align: top;\n",
       "    }\n",
       "\n",
       "    .dataframe thead th {\n",
       "        text-align: right;\n",
       "    }\n",
       "</style>\n",
       "<table border=\"1\" class=\"dataframe\">\n",
       "  <thead>\n",
       "    <tr style=\"text-align: right;\">\n",
       "      <th></th>\n",
       "      <th>encounter_id</th>\n",
       "      <th>patient_nbr</th>\n",
       "      <th>race</th>\n",
       "      <th>gender</th>\n",
       "      <th>age</th>\n",
       "      <th>admission_type_id</th>\n",
       "      <th>discharge_disposition_id</th>\n",
       "      <th>admission_source_id</th>\n",
       "      <th>time_in_hospital</th>\n",
       "      <th>payer_code</th>\n",
       "      <th>...</th>\n",
       "      <th>level_4_diag_1_na</th>\n",
       "      <th>level_5_diag_1_na</th>\n",
       "      <th>level_2_diag_2_na</th>\n",
       "      <th>level_3_diag_2_na</th>\n",
       "      <th>level_4_diag_2_na</th>\n",
       "      <th>level_5_diag_2_na</th>\n",
       "      <th>level_2_diag_3_na</th>\n",
       "      <th>level_3_diag_3_na</th>\n",
       "      <th>level_4_diag_3_na</th>\n",
       "      <th>level_5_diag_3_na</th>\n",
       "    </tr>\n",
       "  </thead>\n",
       "  <tbody>\n",
       "    <tr>\n",
       "      <th>count</th>\n",
       "      <td>1.017660e+05</td>\n",
       "      <td>1.017660e+05</td>\n",
       "      <td>101766.000000</td>\n",
       "      <td>101766.000000</td>\n",
       "      <td>101766.000000</td>\n",
       "      <td>101766.000000</td>\n",
       "      <td>101766.000000</td>\n",
       "      <td>101766.000000</td>\n",
       "      <td>101766.000000</td>\n",
       "      <td>101766.000000</td>\n",
       "      <td>...</td>\n",
       "      <td>101766.000000</td>\n",
       "      <td>101766.000000</td>\n",
       "      <td>101766.000000</td>\n",
       "      <td>101766.000000</td>\n",
       "      <td>101766.000000</td>\n",
       "      <td>101766.000000</td>\n",
       "      <td>101766.000000</td>\n",
       "      <td>101766.000000</td>\n",
       "      <td>101766.000000</td>\n",
       "      <td>101766.000000</td>\n",
       "    </tr>\n",
       "    <tr>\n",
       "      <th>mean</th>\n",
       "      <td>1.652016e+08</td>\n",
       "      <td>5.433040e+07</td>\n",
       "      <td>2.598776</td>\n",
       "      <td>1.462355</td>\n",
       "      <td>6.096702</td>\n",
       "      <td>1.451801</td>\n",
       "      <td>2.819832</td>\n",
       "      <td>4.578975</td>\n",
       "      <td>4.395987</td>\n",
       "      <td>4.885581</td>\n",
       "      <td>...</td>\n",
       "      <td>0.000206</td>\n",
       "      <td>0.000206</td>\n",
       "      <td>0.003518</td>\n",
       "      <td>0.003518</td>\n",
       "      <td>0.003518</td>\n",
       "      <td>0.003518</td>\n",
       "      <td>0.013983</td>\n",
       "      <td>0.013983</td>\n",
       "      <td>0.013983</td>\n",
       "      <td>0.013983</td>\n",
       "    </tr>\n",
       "    <tr>\n",
       "      <th>std</th>\n",
       "      <td>1.026403e+08</td>\n",
       "      <td>3.869636e+07</td>\n",
       "      <td>0.938415</td>\n",
       "      <td>0.498642</td>\n",
       "      <td>1.594084</td>\n",
       "      <td>0.910828</td>\n",
       "      <td>3.988644</td>\n",
       "      <td>2.945144</td>\n",
       "      <td>2.985108</td>\n",
       "      <td>4.823023</td>\n",
       "      <td>...</td>\n",
       "      <td>0.014364</td>\n",
       "      <td>0.014364</td>\n",
       "      <td>0.059208</td>\n",
       "      <td>0.059208</td>\n",
       "      <td>0.059208</td>\n",
       "      <td>0.059208</td>\n",
       "      <td>0.117421</td>\n",
       "      <td>0.117421</td>\n",
       "      <td>0.117421</td>\n",
       "      <td>0.117421</td>\n",
       "    </tr>\n",
       "    <tr>\n",
       "      <th>min</th>\n",
       "      <td>1.252200e+04</td>\n",
       "      <td>1.350000e+02</td>\n",
       "      <td>0.000000</td>\n",
       "      <td>0.000000</td>\n",
       "      <td>0.000000</td>\n",
       "      <td>0.000000</td>\n",
       "      <td>0.000000</td>\n",
       "      <td>0.000000</td>\n",
       "      <td>1.000000</td>\n",
       "      <td>0.000000</td>\n",
       "      <td>...</td>\n",
       "      <td>0.000000</td>\n",
       "      <td>0.000000</td>\n",
       "      <td>0.000000</td>\n",
       "      <td>0.000000</td>\n",
       "      <td>0.000000</td>\n",
       "      <td>0.000000</td>\n",
       "      <td>0.000000</td>\n",
       "      <td>0.000000</td>\n",
       "      <td>0.000000</td>\n",
       "      <td>0.000000</td>\n",
       "    </tr>\n",
       "    <tr>\n",
       "      <th>25%</th>\n",
       "      <td>8.496119e+07</td>\n",
       "      <td>2.341322e+07</td>\n",
       "      <td>3.000000</td>\n",
       "      <td>1.000000</td>\n",
       "      <td>5.000000</td>\n",
       "      <td>1.000000</td>\n",
       "      <td>1.000000</td>\n",
       "      <td>1.000000</td>\n",
       "      <td>2.000000</td>\n",
       "      <td>0.000000</td>\n",
       "      <td>...</td>\n",
       "      <td>0.000000</td>\n",
       "      <td>0.000000</td>\n",
       "      <td>0.000000</td>\n",
       "      <td>0.000000</td>\n",
       "      <td>0.000000</td>\n",
       "      <td>0.000000</td>\n",
       "      <td>0.000000</td>\n",
       "      <td>0.000000</td>\n",
       "      <td>0.000000</td>\n",
       "      <td>0.000000</td>\n",
       "    </tr>\n",
       "    <tr>\n",
       "      <th>50%</th>\n",
       "      <td>1.523890e+08</td>\n",
       "      <td>4.550514e+07</td>\n",
       "      <td>3.000000</td>\n",
       "      <td>1.000000</td>\n",
       "      <td>6.000000</td>\n",
       "      <td>1.000000</td>\n",
       "      <td>1.000000</td>\n",
       "      <td>7.000000</td>\n",
       "      <td>4.000000</td>\n",
       "      <td>7.000000</td>\n",
       "      <td>...</td>\n",
       "      <td>0.000000</td>\n",
       "      <td>0.000000</td>\n",
       "      <td>0.000000</td>\n",
       "      <td>0.000000</td>\n",
       "      <td>0.000000</td>\n",
       "      <td>0.000000</td>\n",
       "      <td>0.000000</td>\n",
       "      <td>0.000000</td>\n",
       "      <td>0.000000</td>\n",
       "      <td>0.000000</td>\n",
       "    </tr>\n",
       "    <tr>\n",
       "      <th>75%</th>\n",
       "      <td>2.302709e+08</td>\n",
       "      <td>8.754595e+07</td>\n",
       "      <td>3.000000</td>\n",
       "      <td>2.000000</td>\n",
       "      <td>7.000000</td>\n",
       "      <td>2.000000</td>\n",
       "      <td>3.000000</td>\n",
       "      <td>7.000000</td>\n",
       "      <td>6.000000</td>\n",
       "      <td>8.000000</td>\n",
       "      <td>...</td>\n",
       "      <td>0.000000</td>\n",
       "      <td>0.000000</td>\n",
       "      <td>0.000000</td>\n",
       "      <td>0.000000</td>\n",
       "      <td>0.000000</td>\n",
       "      <td>0.000000</td>\n",
       "      <td>0.000000</td>\n",
       "      <td>0.000000</td>\n",
       "      <td>0.000000</td>\n",
       "      <td>0.000000</td>\n",
       "    </tr>\n",
       "    <tr>\n",
       "      <th>max</th>\n",
       "      <td>4.438672e+08</td>\n",
       "      <td>1.895026e+08</td>\n",
       "      <td>5.000000</td>\n",
       "      <td>2.000000</td>\n",
       "      <td>9.000000</td>\n",
       "      <td>7.000000</td>\n",
       "      <td>28.000000</td>\n",
       "      <td>25.000000</td>\n",
       "      <td>14.000000</td>\n",
       "      <td>17.000000</td>\n",
       "      <td>...</td>\n",
       "      <td>1.000000</td>\n",
       "      <td>1.000000</td>\n",
       "      <td>1.000000</td>\n",
       "      <td>1.000000</td>\n",
       "      <td>1.000000</td>\n",
       "      <td>1.000000</td>\n",
       "      <td>1.000000</td>\n",
       "      <td>1.000000</td>\n",
       "      <td>1.000000</td>\n",
       "      <td>1.000000</td>\n",
       "    </tr>\n",
       "  </tbody>\n",
       "</table>\n",
       "<p>8 rows × 88 columns</p>\n",
       "</div>"
      ],
      "text/plain": [
       "       encounter_id   patient_nbr           race         gender  \\\n",
       "count  1.017660e+05  1.017660e+05  101766.000000  101766.000000   \n",
       "mean   1.652016e+08  5.433040e+07       2.598776       1.462355   \n",
       "std    1.026403e+08  3.869636e+07       0.938415       0.498642   \n",
       "min    1.252200e+04  1.350000e+02       0.000000       0.000000   \n",
       "25%    8.496119e+07  2.341322e+07       3.000000       1.000000   \n",
       "50%    1.523890e+08  4.550514e+07       3.000000       1.000000   \n",
       "75%    2.302709e+08  8.754595e+07       3.000000       2.000000   \n",
       "max    4.438672e+08  1.895026e+08       5.000000       2.000000   \n",
       "\n",
       "                 age  admission_type_id  discharge_disposition_id  \\\n",
       "count  101766.000000      101766.000000             101766.000000   \n",
       "mean        6.096702           1.451801                  2.819832   \n",
       "std         1.594084           0.910828                  3.988644   \n",
       "min         0.000000           0.000000                  0.000000   \n",
       "25%         5.000000           1.000000                  1.000000   \n",
       "50%         6.000000           1.000000                  1.000000   \n",
       "75%         7.000000           2.000000                  3.000000   \n",
       "max         9.000000           7.000000                 28.000000   \n",
       "\n",
       "       admission_source_id  time_in_hospital     payer_code  \\\n",
       "count        101766.000000     101766.000000  101766.000000   \n",
       "mean              4.578975          4.395987       4.885581   \n",
       "std               2.945144          2.985108       4.823023   \n",
       "min               0.000000          1.000000       0.000000   \n",
       "25%               1.000000          2.000000       0.000000   \n",
       "50%               7.000000          4.000000       7.000000   \n",
       "75%               7.000000          6.000000       8.000000   \n",
       "max              25.000000         14.000000      17.000000   \n",
       "\n",
       "             ...          level_4_diag_1_na  level_5_diag_1_na  \\\n",
       "count        ...              101766.000000      101766.000000   \n",
       "mean         ...                   0.000206           0.000206   \n",
       "std          ...                   0.014364           0.014364   \n",
       "min          ...                   0.000000           0.000000   \n",
       "25%          ...                   0.000000           0.000000   \n",
       "50%          ...                   0.000000           0.000000   \n",
       "75%          ...                   0.000000           0.000000   \n",
       "max          ...                   1.000000           1.000000   \n",
       "\n",
       "       level_2_diag_2_na  level_3_diag_2_na  level_4_diag_2_na  \\\n",
       "count      101766.000000      101766.000000      101766.000000   \n",
       "mean            0.003518           0.003518           0.003518   \n",
       "std             0.059208           0.059208           0.059208   \n",
       "min             0.000000           0.000000           0.000000   \n",
       "25%             0.000000           0.000000           0.000000   \n",
       "50%             0.000000           0.000000           0.000000   \n",
       "75%             0.000000           0.000000           0.000000   \n",
       "max             1.000000           1.000000           1.000000   \n",
       "\n",
       "       level_5_diag_2_na  level_2_diag_3_na  level_3_diag_3_na  \\\n",
       "count      101766.000000      101766.000000      101766.000000   \n",
       "mean            0.003518           0.013983           0.013983   \n",
       "std             0.059208           0.117421           0.117421   \n",
       "min             0.000000           0.000000           0.000000   \n",
       "25%             0.000000           0.000000           0.000000   \n",
       "50%             0.000000           0.000000           0.000000   \n",
       "75%             0.000000           0.000000           0.000000   \n",
       "max             1.000000           1.000000           1.000000   \n",
       "\n",
       "       level_4_diag_3_na  level_5_diag_3_na  \n",
       "count      101766.000000      101766.000000  \n",
       "mean            0.013983           0.013983  \n",
       "std             0.117421           0.117421  \n",
       "min             0.000000           0.000000  \n",
       "25%             0.000000           0.000000  \n",
       "50%             0.000000           0.000000  \n",
       "75%             0.000000           0.000000  \n",
       "max             1.000000           1.000000  \n",
       "\n",
       "[8 rows x 88 columns]"
      ]
     },
     "execution_count": 66,
     "metadata": {},
     "output_type": "execute_result"
    }
   ],
   "source": [
    "df.describe()"
   ]
  },
  {
   "cell_type": "code",
   "execution_count": 67,
   "metadata": {},
   "outputs": [
    {
     "data": {
      "image/png": "[encoded data removed]",
      "text/plain": [
       "<Figure size 432x288 with 1 Axes>"
      ]
     },
     "metadata": {},
     "output_type": "display_data"
    }
   ],
   "source": [
    "df[['time_in_hospital']].plot(kind='hist')\n",
    "\n",
    "# Display the histogram\n",
    "plt.show()\n"
   ]
  },
  {
   "cell_type": "code",
   "execution_count": 68,
   "metadata": {},
   "outputs": [
    {
     "data": {
      "text/plain": [
       "<matplotlib.axes._subplots.AxesSubplot at 0x7f08a6039a90>"
      ]
     },
     "execution_count": 68,
     "metadata": {},
     "output_type": "execute_result"
    },
    {
     "data": {
      "image/png": "[encoded data removed]",
      "text/plain": [
       "<Figure size 432x288 with 1 Axes>"
      ]
     },
     "metadata": {},
     "output_type": "display_data"
    }
   ],
   "source": [
    "df['num_lab_procedures'].plot(kind='hist', bins=20)"
   ]
  },
  {
   "cell_type": "code",
   "execution_count": 69,
   "metadata": {},
   "outputs": [
    {
     "data": {
      "text/plain": [
       "<matplotlib.axes._subplots.AxesSubplot at 0x7f08a60c3748>"
      ]
     },
     "execution_count": 69,
     "metadata": {},
     "output_type": "execute_result"
    },
    {
     "data": {
      "image/png": "[encoded data removed]",
      "text/plain": [
       "<Figure size 432x288 with 1 Axes>"
      ]
     },
     "metadata": {},
     "output_type": "display_data"
    }
   ],
   "source": [
    "df['num_procedures'].plot(kind='hist')"
   ]
  },
  {
   "cell_type": "code",
   "execution_count": 70,
   "metadata": {},
   "outputs": [
    {
     "data": {
      "text/plain": [
       "<matplotlib.axes._subplots.AxesSubplot at 0x7f08a6155da0>"
      ]
     },
     "execution_count": 70,
     "metadata": {},
     "output_type": "execute_result"
    },
    {
     "data": {
      "image/png": "[encoded data removed]",
      "text/plain": [
       "<Figure size 432x288 with 1 Axes>"
      ]
     },
     "metadata": {},
     "output_type": "display_data"
    }
   ],
   "source": [
    "df['num_medications'].plot(kind='hist', bins=20)"
   ]
  },
  {
   "cell_type": "code",
   "execution_count": null,
   "metadata": {},
   "outputs": [],
   "source": []
  },
  {
   "cell_type": "code",
   "execution_count": null,
   "metadata": {},
   "outputs": [],
   "source": []
  },
  {
   "cell_type": "code",
   "execution_count": null,
   "metadata": {},
   "outputs": [],
   "source": []
  },
  {
   "cell_type": "code",
   "execution_count": null,
   "metadata": {},
   "outputs": [],
   "source": []
  },
  {
   "cell_type": "code",
   "execution_count": null,
   "metadata": {},
   "outputs": [],
   "source": []
  },
  {
   "cell_type": "code",
   "execution_count": null,
   "metadata": {},
   "outputs": [],
   "source": []
  },
  {
   "cell_type": "code",
   "execution_count": null,
   "metadata": {},
   "outputs": [],
   "source": []
  },
  {
   "cell_type": "code",
   "execution_count": null,
   "metadata": {},
   "outputs": [],
   "source": []
  },
  {
   "cell_type": "code",
   "execution_count": null,
   "metadata": {},
   "outputs": [],
   "source": []
  }
 ],
 "metadata": {
  "kernelspec": {
   "display_name": "Python 3",
   "language": "python",
   "name": "python3"
  },
  "language_info": {
   "codemirror_mode": {
    "name": "ipython",
    "version": 3
   },
   "file_extension": ".py",
   "mimetype": "text/x-python",
   "name": "python",
   "nbconvert_exporter": "python",
   "pygments_lexer": "ipython3",
   "version": "3.6.5"
  }
 },
 "nbformat": 4,
 "nbformat_minor": 2
}
