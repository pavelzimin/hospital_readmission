{
 "cells": [
  {
   "cell_type": "markdown",
   "metadata": {},
   "source": [
    "# Machine Learning steps for the hospital readmission problem"
   ]
  },
  {
   "cell_type": "code",
   "execution_count": 1,
   "metadata": {},
   "outputs": [],
   "source": [
    "import pandas as pd\n",
    "import numpy as np\n",
    "import matplotlib.pyplot as plt\n",
    "%matplotlib inline\n",
    "import pickle\n",
    "import seaborn as sns\n",
    "import random\n",
    "from sklearn.ensemble import RandomForestClassifier\n",
    "from sklearn.metrics import recall_score, precision_score, confusion_matrix, accuracy_score, log_loss, auc, matthews_corrcoef, f1_score, fbeta_score, roc_curve\n",
    "from imblearn.under_sampling import RandomUnderSampler\n",
    "from sklearn.ensemble import AdaBoostClassifier\n",
    "from sklearn.tree import DecisionTreeClassifier\n",
    "from sklearn.ensemble import GradientBoostingClassifier\n",
    "from imblearn.over_sampling import SMOTE, ADASYN\n",
    "from sklearn.model_selection import train_test_split\n",
    "from sklearn.linear_model import LogisticRegression\n",
    "from sklearn.feature_selection import RFE\n",
    "from sklearn.preprocessing import MinMaxScaler\n",
    "from sklearn.decomposition import PCA\n",
    "from sklearn.linear_model import SGDClassifier\n",
    "from sklearn.externals import joblib\n",
    "from sklearn.dummy import DummyClassifier\n",
    "\n",
    "sns.set()"
   ]
  },
  {
   "cell_type": "code",
   "execution_count": 2,
   "metadata": {},
   "outputs": [],
   "source": [
    "# Loading the data and labels\n",
    "with open('clean_data/df.pkl', 'rb') as f:\n",
    "        df = pickle.load(f)\n",
    "with open('clean_data/df_labels.pkl', 'rb') as f:\n",
    "        df_labels = pickle.load(f)"
   ]
  },
  {
   "cell_type": "code",
   "execution_count": 3,
   "metadata": {},
   "outputs": [
    {
     "data": {
      "text/html": [
       "<div>\n",
       "<style scoped>\n",
       "    .dataframe tbody tr th:only-of-type {\n",
       "        vertical-align: middle;\n",
       "    }\n",
       "\n",
       "    .dataframe tbody tr th {\n",
       "        vertical-align: top;\n",
       "    }\n",
       "\n",
       "    .dataframe thead th {\n",
       "        text-align: right;\n",
       "    }\n",
       "</style>\n",
       "<table border=\"1\" class=\"dataframe\">\n",
       "  <thead>\n",
       "    <tr style=\"text-align: right;\">\n",
       "      <th></th>\n",
       "      <th>encounter_id</th>\n",
       "      <th>patient_nbr</th>\n",
       "      <th>race</th>\n",
       "      <th>gender</th>\n",
       "      <th>age</th>\n",
       "      <th>admission_type_id</th>\n",
       "      <th>discharge_disposition_id</th>\n",
       "      <th>admission_source_id</th>\n",
       "      <th>time_in_hospital</th>\n",
       "      <th>payer_code</th>\n",
       "      <th>...</th>\n",
       "      <th>level_4_diag_1_na</th>\n",
       "      <th>level_5_diag_1_na</th>\n",
       "      <th>level_2_diag_2_na</th>\n",
       "      <th>level_3_diag_2_na</th>\n",
       "      <th>level_4_diag_2_na</th>\n",
       "      <th>level_5_diag_2_na</th>\n",
       "      <th>level_2_diag_3_na</th>\n",
       "      <th>level_3_diag_3_na</th>\n",
       "      <th>level_4_diag_3_na</th>\n",
       "      <th>level_5_diag_3_na</th>\n",
       "    </tr>\n",
       "  </thead>\n",
       "  <tbody>\n",
       "    <tr>\n",
       "      <th>0</th>\n",
       "      <td>2278392</td>\n",
       "      <td>8222157</td>\n",
       "      <td>3</td>\n",
       "      <td>1</td>\n",
       "      <td>0</td>\n",
       "      <td>0</td>\n",
       "      <td>0</td>\n",
       "      <td>1</td>\n",
       "      <td>1</td>\n",
       "      <td>0</td>\n",
       "      <td>...</td>\n",
       "      <td>0</td>\n",
       "      <td>0</td>\n",
       "      <td>1</td>\n",
       "      <td>1</td>\n",
       "      <td>1</td>\n",
       "      <td>1</td>\n",
       "      <td>1</td>\n",
       "      <td>1</td>\n",
       "      <td>1</td>\n",
       "      <td>1</td>\n",
       "    </tr>\n",
       "    <tr>\n",
       "      <th>1</th>\n",
       "      <td>149190</td>\n",
       "      <td>55629189</td>\n",
       "      <td>3</td>\n",
       "      <td>1</td>\n",
       "      <td>1</td>\n",
       "      <td>1</td>\n",
       "      <td>1</td>\n",
       "      <td>7</td>\n",
       "      <td>3</td>\n",
       "      <td>0</td>\n",
       "      <td>...</td>\n",
       "      <td>0</td>\n",
       "      <td>0</td>\n",
       "      <td>0</td>\n",
       "      <td>0</td>\n",
       "      <td>0</td>\n",
       "      <td>0</td>\n",
       "      <td>0</td>\n",
       "      <td>0</td>\n",
       "      <td>0</td>\n",
       "      <td>0</td>\n",
       "    </tr>\n",
       "    <tr>\n",
       "      <th>2</th>\n",
       "      <td>64410</td>\n",
       "      <td>86047875</td>\n",
       "      <td>1</td>\n",
       "      <td>1</td>\n",
       "      <td>2</td>\n",
       "      <td>1</td>\n",
       "      <td>1</td>\n",
       "      <td>7</td>\n",
       "      <td>2</td>\n",
       "      <td>0</td>\n",
       "      <td>...</td>\n",
       "      <td>0</td>\n",
       "      <td>0</td>\n",
       "      <td>0</td>\n",
       "      <td>0</td>\n",
       "      <td>0</td>\n",
       "      <td>0</td>\n",
       "      <td>0</td>\n",
       "      <td>0</td>\n",
       "      <td>0</td>\n",
       "      <td>0</td>\n",
       "    </tr>\n",
       "    <tr>\n",
       "      <th>3</th>\n",
       "      <td>500364</td>\n",
       "      <td>82442376</td>\n",
       "      <td>3</td>\n",
       "      <td>2</td>\n",
       "      <td>3</td>\n",
       "      <td>1</td>\n",
       "      <td>1</td>\n",
       "      <td>7</td>\n",
       "      <td>2</td>\n",
       "      <td>0</td>\n",
       "      <td>...</td>\n",
       "      <td>0</td>\n",
       "      <td>0</td>\n",
       "      <td>0</td>\n",
       "      <td>0</td>\n",
       "      <td>0</td>\n",
       "      <td>0</td>\n",
       "      <td>0</td>\n",
       "      <td>0</td>\n",
       "      <td>0</td>\n",
       "      <td>0</td>\n",
       "    </tr>\n",
       "    <tr>\n",
       "      <th>4</th>\n",
       "      <td>16680</td>\n",
       "      <td>42519267</td>\n",
       "      <td>3</td>\n",
       "      <td>2</td>\n",
       "      <td>4</td>\n",
       "      <td>1</td>\n",
       "      <td>1</td>\n",
       "      <td>7</td>\n",
       "      <td>1</td>\n",
       "      <td>0</td>\n",
       "      <td>...</td>\n",
       "      <td>0</td>\n",
       "      <td>0</td>\n",
       "      <td>0</td>\n",
       "      <td>0</td>\n",
       "      <td>0</td>\n",
       "      <td>0</td>\n",
       "      <td>0</td>\n",
       "      <td>0</td>\n",
       "      <td>0</td>\n",
       "      <td>0</td>\n",
       "    </tr>\n",
       "  </tbody>\n",
       "</table>\n",
       "<p>5 rows × 87 columns</p>\n",
       "</div>"
      ],
      "text/plain": [
       "   encounter_id  patient_nbr  race  gender  age  admission_type_id  \\\n",
       "0       2278392      8222157     3       1    0                  0   \n",
       "1        149190     55629189     3       1    1                  1   \n",
       "2         64410     86047875     1       1    2                  1   \n",
       "3        500364     82442376     3       2    3                  1   \n",
       "4         16680     42519267     3       2    4                  1   \n",
       "\n",
       "   discharge_disposition_id  admission_source_id  time_in_hospital  \\\n",
       "0                         0                    1                 1   \n",
       "1                         1                    7                 3   \n",
       "2                         1                    7                 2   \n",
       "3                         1                    7                 2   \n",
       "4                         1                    7                 1   \n",
       "\n",
       "   payer_code        ...          level_4_diag_1_na  level_5_diag_1_na  \\\n",
       "0           0        ...                          0                  0   \n",
       "1           0        ...                          0                  0   \n",
       "2           0        ...                          0                  0   \n",
       "3           0        ...                          0                  0   \n",
       "4           0        ...                          0                  0   \n",
       "\n",
       "   level_2_diag_2_na  level_3_diag_2_na  level_4_diag_2_na  level_5_diag_2_na  \\\n",
       "0                  1                  1                  1                  1   \n",
       "1                  0                  0                  0                  0   \n",
       "2                  0                  0                  0                  0   \n",
       "3                  0                  0                  0                  0   \n",
       "4                  0                  0                  0                  0   \n",
       "\n",
       "   level_2_diag_3_na  level_3_diag_3_na  level_4_diag_3_na  level_5_diag_3_na  \n",
       "0                  1                  1                  1                  1  \n",
       "1                  0                  0                  0                  0  \n",
       "2                  0                  0                  0                  0  \n",
       "3                  0                  0                  0                  0  \n",
       "4                  0                  0                  0                  0  \n",
       "\n",
       "[5 rows x 87 columns]"
      ]
     },
     "execution_count": 3,
     "metadata": {},
     "output_type": "execute_result"
    }
   ],
   "source": [
    "df.head()"
   ]
  },
  {
   "cell_type": "markdown",
   "metadata": {},
   "source": [
    "## How the values of `readmitted` variable are distributed?"
   ]
  },
  {
   "cell_type": "code",
   "execution_count": 4,
   "metadata": {},
   "outputs": [
    {
     "data": {
      "text/plain": [
       "0    54864\n",
       "1    11357\n",
       "2    35545\n",
       "Name: readmitted, dtype: int64"
      ]
     },
     "execution_count": 4,
     "metadata": {},
     "output_type": "execute_result"
    }
   ],
   "source": [
    "df['readmitted'].value_counts().sort_index()"
   ]
  },
  {
   "cell_type": "markdown",
   "metadata": {},
   "source": [
    "Since I am interested only in encounters with readmission within 30 days, I will label them as positive (1), and the rest as negative (0)."
   ]
  },
  {
   "cell_type": "code",
   "execution_count": 5,
   "metadata": {},
   "outputs": [
    {
     "data": {
      "text/plain": [
       "0.11159915885462728"
      ]
     },
     "execution_count": 5,
     "metadata": {},
     "output_type": "execute_result"
    }
   ],
   "source": [
    "df['readmitted'] = (df['readmitted'] == 1).astype(int)\n",
    "df['readmitted'].mean()"
   ]
  },
  {
   "cell_type": "markdown",
   "metadata": {},
   "source": [
    "The data set is highly inbalanced with the positive class representing only about 11% of all data. This presents a potential issue with training the classification models since the models will tend to perform better on predictive the negative class."
   ]
  },
  {
   "cell_type": "code",
   "execution_count": 73,
   "metadata": {},
   "outputs": [],
   "source": [
    "def data_split(df, y_col, to_drop=[], random_state=None, hold1_size=.1, hold2_size=.1, hold3_size=.1):\n",
    "    \"\"\" Splits the dataframe into the train set and 3 hold-out sets.\n",
    "    \n",
    "    Drops columns to drop and the target variable from the DataFrame df. Then the rows are reshuffled and split into 4 groups: train set and 3 hold-out sets.\n",
    "    \n",
    "    Args:\n",
    "        df: pandas DataFrame with the data.\n",
    "        y_col: the name of the column with the target variable.\n",
    "        to_drop: list of columns to drop from further analysis.\n",
    "        random_state: the seed used by the random number generator.\n",
    "        hold1_size: the size of the first hold-out set as a fraction of total.\n",
    "        hold2_size: the size of the second hold-out set as a fraction of total.\n",
    "        hold3_size: the size of the third hold-out set as a fraction of total.\n",
    "\n",
    "    Returns:\n",
    "        A tuple of length 9 containing train set, 3 hold-out sets split of inputs and a list of column labels.\n",
    "    \"\"\"\n",
    "    df_filtered = df.drop(columns=to_drop)\n",
    "    rows = list(df_filtered.index)\n",
    "    if random_state is not None:\n",
    "        random.seed(random_state)\n",
    "    random.shuffle(rows)\n",
    "    length = len(rows)\n",
    "    train_rows = rows[:int(length*(1-(hold1_size + hold2_size + hold3_size)))]\n",
    "    hold1_rows = rows[int(length*(1-(hold1_size + hold2_size + hold3_size))):int(length*(1-(hold2_size + hold3_size)))]\n",
    "    hold2_rows = rows[int(length*(1-(hold1_size + hold3_size))):int(length*(1-hold3_size))]\n",
    "    hold3_rows = rows[int(length*(1-hold3_size)):]\n",
    "    X_train = df_filtered.drop(columns=[y_col]).iloc[train_rows].values\n",
    "    y_train = df_filtered.loc[train_rows, y_col].values\n",
    "    X_hold1 = df_filtered.drop(columns=[y_col]).iloc[hold1_rows].values\n",
    "    y_hold1 = df_filtered.loc[hold1_rows, y_col].values\n",
    "    X_hold2 = df_filtered.drop(columns=[y_col]).iloc[hold2_rows].values\n",
    "    y_hold2 = df_filtered.loc[hold2_rows, y_col].values\n",
    "    X_hold3 = df_filtered.drop(columns=[y_col]).iloc[hold3_rows].values\n",
    "    y_hold3 = df_filtered.loc[hold3_rows, y_col].values\n",
    "    cols = df_filtered.drop(columns=[y_col]).columns\n",
    "    return X_train, y_train, X_hold1, y_hold1, X_hold2, y_hold2, X_hold3, y_hold3, cols\n",
    "\n",
    "def test_model(X_train, y_train, X_valid, y_valid, clf, oob_score=False, test='Validation'):\n",
    "    \"\"\" Performes a model diagnostics with the training and validation sets.\n",
    "    \n",
    "    Makes predictions using the provided model on the training set and validation sets. Plots confusion matrices for each set. \n",
    "    Returns the following diagnostic scores: precision score, recall score, F1 score, Fbeta score with beta=0.2, Mattews correlation coefficient,\n",
    "    accuracy score, out-of-bag score.\n",
    "    \n",
    "    Args:\n",
    "        X_train, y_train, X_valid, y_valid: trainig and validation sets.\n",
    "        clf: classification model to be diagnosed.\n",
    "        oob_score: boolean, indicating whether to include the out-of-bag scores calculated on the training data into the report.\n",
    "\n",
    "    Returns:\n",
    "        A pandas DataFrame with the diagnostic scores performed on the data sets.\n",
    "    \"\"\"\n",
    "    f, (ax1, ax2) =  plt.subplots(1, 2, figsize=(10, 6))\n",
    "    sns.heatmap(confusion_matrix(y_train, clf.predict(X_train)), cmap=plt.cm.Blues, square=True, annot=True, fmt='d', ax=ax1);\n",
    "    ax1.set_title('Training data')\n",
    "    sns.heatmap(confusion_matrix(y_valid, clf.predict(X_valid)), cmap=plt.cm.Blues, square=True, annot=True, fmt='d', ax=ax2);\n",
    "    ax2.set_title('{} data'.format(test));\n",
    "    plt.tight_layout();\n",
    "    y_train_pred = clf.predict(X_train)\n",
    "    y_valid_pred = clf.predict(X_valid)\n",
    "    score_table = pd.DataFrame(columns=['training data', 'validation data'])\n",
    "    score_table.loc['precision score', 'training data'] = precision_score(y_train, y_train_pred)\n",
    "    score_table.loc['recall score', 'training data'] = recall_score(y_train, y_train_pred)\n",
    "    score_table.loc['F1 score', 'training data'] = f1_score(y_train, y_train_pred)\n",
    "    score_table.loc['Fbeta score', 'training data'] = fbeta_score(y_train, y_train_pred, beta=0.2)\n",
    "    score_table.loc['Mattews correlation coefficient', 'training data'] = matthews_corrcoef(y_train, y_train_pred)\n",
    "    score_table.loc['accuracy score', 'training data'] = accuracy_score(y_train, y_train_pred)\n",
    "    score_table.loc['precision score', 'validation data'] = precision_score(y_valid, y_valid_pred)\n",
    "    score_table.loc['recall score', 'validation data'] = recall_score(y_valid, y_valid_pred)\n",
    "    score_table.loc['F1 score', 'validation data'] = f1_score(y_valid, y_valid_pred)\n",
    "    score_table.loc['Fbeta score', 'validation data'] = fbeta_score(y_valid, y_valid_pred, beta=0.2)\n",
    "    score_table.loc['Mattews correlation coefficient', 'validation data'] = matthews_corrcoef(y_valid, y_valid_pred)\n",
    "    score_table.loc['accuracy score', 'validation data'] = accuracy_score(y_valid, y_valid_pred)\n",
    "    if oob_score:\n",
    "        score_table.loc['out of bag score', 'training data'] = clf.oob_score_\n",
    "    return score_table"
   ]
  },
  {
   "cell_type": "markdown",
   "metadata": {},
   "source": [
    "I will remove the columns that are not useful for prediction ('encounter_id', 'patient_nbr', 'payer_code'). For model tuning I will split data into a training set (70% of the data) and three hold-out sets (10% each). Hold-out set 1 will be used for tuning the hyperparameters. Hold-out set 2 will be used for validating the model. Hold-out set 3 will be used for the final model test."
   ]
  },
  {
   "cell_type": "code",
   "execution_count": 7,
   "metadata": {},
   "outputs": [
    {
     "name": "stdout",
     "output_type": "stream",
     "text": [
      "(71236, 83)\n",
      "(71236,)\n"
     ]
    }
   ],
   "source": [
    "X_train, y_train, X_hold1, y_hold1, X_hold2, y_hold2, X_hold3, y_hold3, cols = data_split(\n",
    "    df=df, \n",
    "    y_col='readmitted',\n",
    "    to_drop=['encounter_id', 'patient_nbr', 'payer_code'], \n",
    "    random_state=42,\n",
    "    hold1_size=.1, \n",
    "    hold2_size=.1, \n",
    "    hold3_size=.1)\n",
    "print(X_train.shape)\n",
    "print(y_train.shape)"
   ]
  },
  {
   "cell_type": "markdown",
   "metadata": {},
   "source": [
    "Concatenating the training set and the hold-out set 1 for the purposes of training models without tuning or for training models that were already tuned. \n",
    "## Dummy model\n",
    "To establish a benchmark for the machine learning models, I will create a dummy classifier using stratified strategy."
   ]
  },
  {
   "cell_type": "code",
   "execution_count": 8,
   "metadata": {},
   "outputs": [
    {
     "data": {
      "text/html": [
       "<div>\n",
       "<style scoped>\n",
       "    .dataframe tbody tr th:only-of-type {\n",
       "        vertical-align: middle;\n",
       "    }\n",
       "\n",
       "    .dataframe tbody tr th {\n",
       "        vertical-align: top;\n",
       "    }\n",
       "\n",
       "    .dataframe thead th {\n",
       "        text-align: right;\n",
       "    }\n",
       "</style>\n",
       "<table border=\"1\" class=\"dataframe\">\n",
       "  <thead>\n",
       "    <tr style=\"text-align: right;\">\n",
       "      <th></th>\n",
       "      <th>training data</th>\n",
       "      <th>validation data</th>\n",
       "    </tr>\n",
       "  </thead>\n",
       "  <tbody>\n",
       "    <tr>\n",
       "      <th>precision score</th>\n",
       "      <td>0.113533</td>\n",
       "      <td>0.106594</td>\n",
       "    </tr>\n",
       "    <tr>\n",
       "      <th>recall score</th>\n",
       "      <td>0.112045</td>\n",
       "      <td>0.1036</td>\n",
       "    </tr>\n",
       "    <tr>\n",
       "      <th>F1 score</th>\n",
       "      <td>0.112784</td>\n",
       "      <td>0.105076</td>\n",
       "    </tr>\n",
       "    <tr>\n",
       "      <th>Fbeta score</th>\n",
       "      <td>0.113475</td>\n",
       "      <td>0.106476</td>\n",
       "    </tr>\n",
       "    <tr>\n",
       "      <th>Mattews correlation coefficient</th>\n",
       "      <td>0.001181</td>\n",
       "      <td>-0.0059004</td>\n",
       "    </tr>\n",
       "    <tr>\n",
       "      <th>accuracy score</th>\n",
       "      <td>0.801725</td>\n",
       "      <td>0.802496</td>\n",
       "    </tr>\n",
       "  </tbody>\n",
       "</table>\n",
       "</div>"
      ],
      "text/plain": [
       "                                training data validation data\n",
       "precision score                      0.113533        0.106594\n",
       "recall score                         0.112045          0.1036\n",
       "F1 score                             0.112784        0.105076\n",
       "Fbeta score                          0.113475        0.106476\n",
       "Mattews correlation coefficient      0.001181      -0.0059004\n",
       "accuracy score                       0.801725        0.802496"
      ]
     },
     "execution_count": 8,
     "metadata": {},
     "output_type": "execute_result"
    },
    {
     "data": {
      "image/png": "[encoded data removed]",
      "text/plain": [
       "<Figure size 720x432 with 4 Axes>"
      ]
     },
     "metadata": {
      "needs_background": "light"
     },
     "output_type": "display_data"
    }
   ],
   "source": [
    "X_train_combined = np.concatenate((X_train, X_hold1))\n",
    "y_train_combined = np.concatenate((y_train, y_hold1))\n",
    "clf_dummy = DummyClassifier(random_state=42)\n",
    "clf_dummy.fit(X_train_combined, y_train_combined)\n",
    "test_model(X_train_combined, y_train_combined, X_hold2, y_hold2, clf_dummy)"
   ]
  },
  {
   "cell_type": "markdown",
   "metadata": {},
   "source": [
    "## Random Forest model with the default hyperparameters\n",
    "Next, I will train a Random Forest classification model with the default hyperparameters."
   ]
  },
  {
   "cell_type": "code",
   "execution_count": 9,
   "metadata": {},
   "outputs": [
    {
     "name": "stderr",
     "output_type": "stream",
     "text": [
      "/home/pavel/anaconda3/lib/python3.6/site-packages/sklearn/ensemble/forest.py:246: FutureWarning: The default value of n_estimators will change from 10 in version 0.20 to 100 in 0.22.\n",
      "  \"10 in version 0.20 to 100 in 0.22.\", FutureWarning)\n",
      "/home/pavel/anaconda3/lib/python3.6/site-packages/sklearn/ensemble/forest.py:458: UserWarning: Some inputs do not have OOB scores. This probably means too few trees were used to compute any reliable oob estimates.\n",
      "  warn(\"Some inputs do not have OOB scores. \"\n",
      "/home/pavel/anaconda3/lib/python3.6/site-packages/sklearn/ensemble/forest.py:463: RuntimeWarning: divide by zero encountered in true_divide\n",
      "  predictions[k].sum(axis=1)[:, np.newaxis])\n",
      "/home/pavel/anaconda3/lib/python3.6/site-packages/sklearn/ensemble/forest.py:463: RuntimeWarning: invalid value encountered in true_divide\n",
      "  predictions[k].sum(axis=1)[:, np.newaxis])\n"
     ]
    },
    {
     "data": {
      "text/html": [
       "<div>\n",
       "<style scoped>\n",
       "    .dataframe tbody tr th:only-of-type {\n",
       "        vertical-align: middle;\n",
       "    }\n",
       "\n",
       "    .dataframe tbody tr th {\n",
       "        vertical-align: top;\n",
       "    }\n",
       "\n",
       "    .dataframe thead th {\n",
       "        text-align: right;\n",
       "    }\n",
       "</style>\n",
       "<table border=\"1\" class=\"dataframe\">\n",
       "  <thead>\n",
       "    <tr style=\"text-align: right;\">\n",
       "      <th></th>\n",
       "      <th>training data</th>\n",
       "      <th>validation data</th>\n",
       "    </tr>\n",
       "  </thead>\n",
       "  <tbody>\n",
       "    <tr>\n",
       "      <th>precision score</th>\n",
       "      <td>0.999607</td>\n",
       "      <td>0.408163</td>\n",
       "    </tr>\n",
       "    <tr>\n",
       "      <th>recall score</th>\n",
       "      <td>0.833133</td>\n",
       "      <td>0.0175593</td>\n",
       "    </tr>\n",
       "    <tr>\n",
       "      <th>F1 score</th>\n",
       "      <td>0.908809</td>\n",
       "      <td>0.03367</td>\n",
       "    </tr>\n",
       "    <tr>\n",
       "      <th>Fbeta score</th>\n",
       "      <td>0.991983</td>\n",
       "      <td>0.219966</td>\n",
       "    </tr>\n",
       "    <tr>\n",
       "      <th>Mattews correlation coefficient</th>\n",
       "      <td>0.903056</td>\n",
       "      <td>0.0653594</td>\n",
       "    </tr>\n",
       "    <tr>\n",
       "      <th>accuracy score</th>\n",
       "      <td>0.981194</td>\n",
       "      <td>0.887197</td>\n",
       "    </tr>\n",
       "    <tr>\n",
       "      <th>out of bag score</th>\n",
       "      <td>0.866924</td>\n",
       "      <td>NaN</td>\n",
       "    </tr>\n",
       "  </tbody>\n",
       "</table>\n",
       "</div>"
      ],
      "text/plain": [
       "                                training data validation data\n",
       "precision score                      0.999607        0.408163\n",
       "recall score                         0.833133       0.0175593\n",
       "F1 score                             0.908809         0.03367\n",
       "Fbeta score                          0.991983        0.219966\n",
       "Mattews correlation coefficient      0.903056       0.0653594\n",
       "accuracy score                       0.981194        0.887197\n",
       "out of bag score                     0.866924             NaN"
      ]
     },
     "execution_count": 9,
     "metadata": {},
     "output_type": "execute_result"
    },
    {
     "data": {
      "image/png": "[encoded data removed]",
      "text/plain": [
       "<Figure size 720x432 with 4 Axes>"
      ]
     },
     "metadata": {
      "needs_background": "light"
     },
     "output_type": "display_data"
    }
   ],
   "source": [
    "clf_RF = RandomForestClassifier(n_jobs=-1, oob_score=True, random_state=42)\n",
    "clf_RF.fit(X_train_combined, y_train_combined)\n",
    "test_model(X_train_combined, y_train_combined, X_hold2, y_hold2, clf_RF, oob_score=True)"
   ]
  },
  {
   "cell_type": "markdown",
   "metadata": {},
   "source": [
    "The fitted model shows excellent scores on the training data, while performing much worse on the validation data. This is an indication of overfitting. To counteract it, the model needs to be tuned by adjusting the hyperparameters and validating on an unseen data set. Also the model works much better on predicting the negative class than predicting the positive class. This is likely due to the fact that the data is imbalanced towards the negative class. To account for that, I will be using the F1 score as a metrics for the hyperparameter tuning. Other available options are: precision, recall, F beta, mattews correlation coefficient. Optimizing the F1 score will help to maintain a balance between precision and recall."
   ]
  },
  {
   "cell_type": "markdown",
   "metadata": {},
   "source": [
    "## Undersampling to deal with imbalanced classes\n",
    "There are several techniques for dealing with the imbalanced data set available in the imbalanced-learn package. First, I will utilize the random undersampling technique and will fit the Random Forest classifier on the resampled data."
   ]
  },
  {
   "cell_type": "code",
   "execution_count": 10,
   "metadata": {},
   "outputs": [
    {
     "name": "stdout",
     "output_type": "stream",
     "text": [
      "(18314, 83)\n",
      "(18314,)\n"
     ]
    }
   ],
   "source": [
    "rus = RandomUnderSampler(return_indices=True, random_state=42)\n",
    "X_rus_combined, y_rus_combined, id_rus = rus.fit_sample(np.concatenate((X_train, X_hold1)), np.concatenate((y_train, y_hold1)))\n",
    "print(X_rus_combined.shape)\n",
    "print(y_rus_combined.shape)"
   ]
  },
  {
   "cell_type": "code",
   "execution_count": 11,
   "metadata": {},
   "outputs": [
    {
     "name": "stderr",
     "output_type": "stream",
     "text": [
      "/home/pavel/anaconda3/lib/python3.6/site-packages/sklearn/ensemble/forest.py:246: FutureWarning: The default value of n_estimators will change from 10 in version 0.20 to 100 in 0.22.\n",
      "  \"10 in version 0.20 to 100 in 0.22.\", FutureWarning)\n",
      "/home/pavel/anaconda3/lib/python3.6/site-packages/sklearn/ensemble/forest.py:458: UserWarning: Some inputs do not have OOB scores. This probably means too few trees were used to compute any reliable oob estimates.\n",
      "  warn(\"Some inputs do not have OOB scores. \"\n",
      "/home/pavel/anaconda3/lib/python3.6/site-packages/sklearn/ensemble/forest.py:463: RuntimeWarning: divide by zero encountered in true_divide\n",
      "  predictions[k].sum(axis=1)[:, np.newaxis])\n",
      "/home/pavel/anaconda3/lib/python3.6/site-packages/sklearn/ensemble/forest.py:463: RuntimeWarning: invalid value encountered in true_divide\n",
      "  predictions[k].sum(axis=1)[:, np.newaxis])\n"
     ]
    },
    {
     "data": {
      "text/html": [
       "<div>\n",
       "<style scoped>\n",
       "    .dataframe tbody tr th:only-of-type {\n",
       "        vertical-align: middle;\n",
       "    }\n",
       "\n",
       "    .dataframe tbody tr th {\n",
       "        vertical-align: top;\n",
       "    }\n",
       "\n",
       "    .dataframe thead th {\n",
       "        text-align: right;\n",
       "    }\n",
       "</style>\n",
       "<table border=\"1\" class=\"dataframe\">\n",
       "  <thead>\n",
       "    <tr style=\"text-align: right;\">\n",
       "      <th></th>\n",
       "      <th>training data</th>\n",
       "      <th>validation data</th>\n",
       "    </tr>\n",
       "  </thead>\n",
       "  <tbody>\n",
       "    <tr>\n",
       "      <th>precision score</th>\n",
       "      <td>0.995212</td>\n",
       "      <td>0.146513</td>\n",
       "    </tr>\n",
       "    <tr>\n",
       "      <th>recall score</th>\n",
       "      <td>0.975975</td>\n",
       "      <td>0.457419</td>\n",
       "    </tr>\n",
       "    <tr>\n",
       "      <th>F1 score</th>\n",
       "      <td>0.985499</td>\n",
       "      <td>0.221938</td>\n",
       "    </tr>\n",
       "    <tr>\n",
       "      <th>Fbeta score</th>\n",
       "      <td>0.994458</td>\n",
       "      <td>0.150446</td>\n",
       "    </tr>\n",
       "    <tr>\n",
       "      <th>Mattews correlation coefficient</th>\n",
       "      <td>0.97146</td>\n",
       "      <td>0.0804156</td>\n",
       "    </tr>\n",
       "    <tr>\n",
       "      <th>accuracy score</th>\n",
       "      <td>0.985639</td>\n",
       "      <td>0.641053</td>\n",
       "    </tr>\n",
       "    <tr>\n",
       "      <th>out of bag score</th>\n",
       "      <td>0.54401</td>\n",
       "      <td>NaN</td>\n",
       "    </tr>\n",
       "  </tbody>\n",
       "</table>\n",
       "</div>"
      ],
      "text/plain": [
       "                                training data validation data\n",
       "precision score                      0.995212        0.146513\n",
       "recall score                         0.975975        0.457419\n",
       "F1 score                             0.985499        0.221938\n",
       "Fbeta score                          0.994458        0.150446\n",
       "Mattews correlation coefficient       0.97146       0.0804156\n",
       "accuracy score                       0.985639        0.641053\n",
       "out of bag score                      0.54401             NaN"
      ]
     },
     "execution_count": 11,
     "metadata": {},
     "output_type": "execute_result"
    },
    {
     "data": {
      "image/png": "[encoded data removed]",
      "text/plain": [
       "<Figure size 720x432 with 4 Axes>"
      ]
     },
     "metadata": {
      "needs_background": "light"
     },
     "output_type": "display_data"
    }
   ],
   "source": [
    "clf_rus = RandomForestClassifier(n_jobs=-1, oob_score=True, random_state=42)\n",
    "clf_rus.fit(X_rus_combined, y_rus_combined)\n",
    "test_model(X_rus_combined, y_rus_combined, X_hold2, y_hold2, clf_rus, oob_score=True)"
   ]
  },
  {
   "cell_type": "markdown",
   "metadata": {},
   "source": [
    "## Oversampling the training data\n",
    "Next, I will try 2 oversampling methods: the Synthetic Minority Oversampling Technique (SMOTE) and the Adaptive Synthetic sampling (ADASYN). Both methods generate new samples by interpolation. Both methods are implemented in imbalanced-learn."
   ]
  },
  {
   "cell_type": "code",
   "execution_count": 12,
   "metadata": {},
   "outputs": [
    {
     "name": "stderr",
     "output_type": "stream",
     "text": [
      "/home/pavel/anaconda3/lib/python3.6/site-packages/sklearn/ensemble/forest.py:246: FutureWarning: The default value of n_estimators will change from 10 in version 0.20 to 100 in 0.22.\n",
      "  \"10 in version 0.20 to 100 in 0.22.\", FutureWarning)\n",
      "/home/pavel/anaconda3/lib/python3.6/site-packages/sklearn/ensemble/forest.py:458: UserWarning: Some inputs do not have OOB scores. This probably means too few trees were used to compute any reliable oob estimates.\n",
      "  warn(\"Some inputs do not have OOB scores. \"\n",
      "/home/pavel/anaconda3/lib/python3.6/site-packages/sklearn/ensemble/forest.py:463: RuntimeWarning: divide by zero encountered in true_divide\n",
      "  predictions[k].sum(axis=1)[:, np.newaxis])\n",
      "/home/pavel/anaconda3/lib/python3.6/site-packages/sklearn/ensemble/forest.py:463: RuntimeWarning: invalid value encountered in true_divide\n",
      "  predictions[k].sum(axis=1)[:, np.newaxis])\n"
     ]
    },
    {
     "data": {
      "text/html": [
       "<div>\n",
       "<style scoped>\n",
       "    .dataframe tbody tr th:only-of-type {\n",
       "        vertical-align: middle;\n",
       "    }\n",
       "\n",
       "    .dataframe tbody tr th {\n",
       "        vertical-align: top;\n",
       "    }\n",
       "\n",
       "    .dataframe thead th {\n",
       "        text-align: right;\n",
       "    }\n",
       "</style>\n",
       "<table border=\"1\" class=\"dataframe\">\n",
       "  <thead>\n",
       "    <tr style=\"text-align: right;\">\n",
       "      <th></th>\n",
       "      <th>training data</th>\n",
       "      <th>validation data</th>\n",
       "    </tr>\n",
       "  </thead>\n",
       "  <tbody>\n",
       "    <tr>\n",
       "      <th>precision score</th>\n",
       "      <td>0.999204</td>\n",
       "      <td>0.163752</td>\n",
       "    </tr>\n",
       "    <tr>\n",
       "      <th>recall score</th>\n",
       "      <td>0.990575</td>\n",
       "      <td>0.0904302</td>\n",
       "    </tr>\n",
       "    <tr>\n",
       "      <th>F1 score</th>\n",
       "      <td>0.994871</td>\n",
       "      <td>0.116516</td>\n",
       "    </tr>\n",
       "    <tr>\n",
       "      <th>Fbeta score</th>\n",
       "      <td>0.99887</td>\n",
       "      <td>0.1588</td>\n",
       "    </tr>\n",
       "    <tr>\n",
       "      <th>Mattews correlation coefficient</th>\n",
       "      <td>0.989823</td>\n",
       "      <td>0.0421985</td>\n",
       "    </tr>\n",
       "    <tr>\n",
       "      <th>accuracy score</th>\n",
       "      <td>0.994893</td>\n",
       "      <td>0.846517</td>\n",
       "    </tr>\n",
       "    <tr>\n",
       "      <th>out of bag score</th>\n",
       "      <td>0.857449</td>\n",
       "      <td>NaN</td>\n",
       "    </tr>\n",
       "  </tbody>\n",
       "</table>\n",
       "</div>"
      ],
      "text/plain": [
       "                                training data validation data\n",
       "precision score                      0.999204        0.163752\n",
       "recall score                         0.990575       0.0904302\n",
       "F1 score                             0.994871        0.116516\n",
       "Fbeta score                           0.99887          0.1588\n",
       "Mattews correlation coefficient      0.989823       0.0421985\n",
       "accuracy score                       0.994893        0.846517\n",
       "out of bag score                     0.857449             NaN"
      ]
     },
     "execution_count": 12,
     "metadata": {},
     "output_type": "execute_result"
    },
    {
     "data": {
      "image/png": "[encoded data removed]",
      "text/plain": [
       "<Figure size 720x432 with 4 Axes>"
      ]
     },
     "metadata": {
      "needs_background": "light"
     },
     "output_type": "display_data"
    }
   ],
   "source": [
    "X_smote, y_smote = SMOTE(random_state=42).fit_resample(np.concatenate((X_train, X_hold1)), np.concatenate((y_train, y_hold1)))\n",
    "clf_smote = RandomForestClassifier(n_jobs=-1, oob_score=True, random_state=42)\n",
    "clf_smote.fit(X_smote, y_smote)\n",
    "test_model(X_smote, y_smote, X_hold2, y_hold2, clf_smote, oob_score=True)"
   ]
  },
  {
   "cell_type": "code",
   "execution_count": 13,
   "metadata": {},
   "outputs": [
    {
     "name": "stderr",
     "output_type": "stream",
     "text": [
      "/home/pavel/anaconda3/lib/python3.6/site-packages/sklearn/ensemble/forest.py:246: FutureWarning: The default value of n_estimators will change from 10 in version 0.20 to 100 in 0.22.\n",
      "  \"10 in version 0.20 to 100 in 0.22.\", FutureWarning)\n",
      "/home/pavel/anaconda3/lib/python3.6/site-packages/sklearn/ensemble/forest.py:458: UserWarning: Some inputs do not have OOB scores. This probably means too few trees were used to compute any reliable oob estimates.\n",
      "  warn(\"Some inputs do not have OOB scores. \"\n",
      "/home/pavel/anaconda3/lib/python3.6/site-packages/sklearn/ensemble/forest.py:463: RuntimeWarning: divide by zero encountered in true_divide\n",
      "  predictions[k].sum(axis=1)[:, np.newaxis])\n",
      "/home/pavel/anaconda3/lib/python3.6/site-packages/sklearn/ensemble/forest.py:463: RuntimeWarning: invalid value encountered in true_divide\n",
      "  predictions[k].sum(axis=1)[:, np.newaxis])\n"
     ]
    },
    {
     "data": {
      "text/html": [
       "<div>\n",
       "<style scoped>\n",
       "    .dataframe tbody tr th:only-of-type {\n",
       "        vertical-align: middle;\n",
       "    }\n",
       "\n",
       "    .dataframe tbody tr th {\n",
       "        vertical-align: top;\n",
       "    }\n",
       "\n",
       "    .dataframe thead th {\n",
       "        text-align: right;\n",
       "    }\n",
       "</style>\n",
       "<table border=\"1\" class=\"dataframe\">\n",
       "  <thead>\n",
       "    <tr style=\"text-align: right;\">\n",
       "      <th></th>\n",
       "      <th>training data</th>\n",
       "      <th>validation data</th>\n",
       "    </tr>\n",
       "  </thead>\n",
       "  <tbody>\n",
       "    <tr>\n",
       "      <th>precision score</th>\n",
       "      <td>0.998951</td>\n",
       "      <td>0.149547</td>\n",
       "    </tr>\n",
       "    <tr>\n",
       "      <th>recall score</th>\n",
       "      <td>0.989839</td>\n",
       "      <td>0.0869183</td>\n",
       "    </tr>\n",
       "    <tr>\n",
       "      <th>F1 score</th>\n",
       "      <td>0.994374</td>\n",
       "      <td>0.109939</td>\n",
       "    </tr>\n",
       "    <tr>\n",
       "      <th>Fbeta score</th>\n",
       "      <td>0.998597</td>\n",
       "      <td>0.145514</td>\n",
       "    </tr>\n",
       "    <tr>\n",
       "      <th>Mattews correlation coefficient</th>\n",
       "      <td>0.98885</td>\n",
       "      <td>0.0314815</td>\n",
       "    </tr>\n",
       "    <tr>\n",
       "      <th>accuracy score</th>\n",
       "      <td>0.994404</td>\n",
       "      <td>0.842488</td>\n",
       "    </tr>\n",
       "    <tr>\n",
       "      <th>out of bag score</th>\n",
       "      <td>0.854041</td>\n",
       "      <td>NaN</td>\n",
       "    </tr>\n",
       "  </tbody>\n",
       "</table>\n",
       "</div>"
      ],
      "text/plain": [
       "                                training data validation data\n",
       "precision score                      0.998951        0.149547\n",
       "recall score                         0.989839       0.0869183\n",
       "F1 score                             0.994374        0.109939\n",
       "Fbeta score                          0.998597        0.145514\n",
       "Mattews correlation coefficient       0.98885       0.0314815\n",
       "accuracy score                       0.994404        0.842488\n",
       "out of bag score                     0.854041             NaN"
      ]
     },
     "execution_count": 13,
     "metadata": {},
     "output_type": "execute_result"
    },
    {
     "data": {
      "image/png": "[encoded data removed]",
      "text/plain": [
       "<Figure size 720x432 with 4 Axes>"
      ]
     },
     "metadata": {
      "needs_background": "light"
     },
     "output_type": "display_data"
    }
   ],
   "source": [
    "X_adasyn, y_adasyn = ADASYN(random_state=42).fit_resample(np.concatenate((X_train, X_hold1)), np.concatenate((y_train, y_hold1)))\n",
    "clf_adasyn = RandomForestClassifier(n_jobs=-1, oob_score=True, random_state=42)\n",
    "clf_adasyn.fit(X_adasyn, y_adasyn)\n",
    "test_model(X_adasyn, y_adasyn, X_hold2, y_hold2, clf_adasyn, oob_score=True)"
   ]
  },
  {
   "cell_type": "markdown",
   "metadata": {},
   "source": [
    "Out of 3 methods for dealing with the imbalanced data set tried: the random undersampling worked best with the F1 score of 0.22. This is double of the F1 scores produced by the oversampling methods (both produced the F1 scores of about 0.11). All future model training will be performed on the random undersampled data."
   ]
  },
  {
   "cell_type": "markdown",
   "metadata": {},
   "source": [
    "## Optimizing Random Forest classification for recall\n",
    "To tune the Random Forest classification, I will create a DataFrame with the hyperparameter combinations and calculated model performance metrics. This will allow for easy selection of the hyperparameters depending on the performance metrics of interest."
   ]
  },
  {
   "cell_type": "code",
   "execution_count": 14,
   "metadata": {},
   "outputs": [],
   "source": [
    "rus = RandomUnderSampler(return_indices=True, random_state=42)\n",
    "X_rus, y_rus, id_rus = rus.fit_sample(X_train, y_train)"
   ]
  },
  {
   "cell_type": "code",
   "execution_count": 15,
   "metadata": {},
   "outputs": [],
   "source": [
    "max_depths = [2, 5, 10, 20, 40, None]\n",
    "min_samples_splits = [2, 3, 5, 7, 10, 50]\n",
    "n_estimators_range = [2, 5, 10, 20, 40, 60, 100]\n",
    "max_features_range = [2, 5, 7, 10, 15, 20, 25, 30]\n",
    "def tune_RF(X_train, y_train, X_valid, y_valid, n_estimators_range, max_depths, min_samples_splits, max_features_range, beta=0.2, random_state=42):\n",
    "    \"\"\" Trains the Random Forest classification with the specified ranges of hyperparameters.\n",
    "    \n",
    "    Trains the model with the various combination of the hyperparameters provided as ranges. Outputs the pandas DataFrame with the performance metrics\n",
    "    for each combination of the hyperparameters. This DataFrame will be useful for selecting the hyperparameters for the model.\n",
    "    \n",
    "    Args:\n",
    "        X_train, y_train, X_valid, y_valid: trainig and validation sets.\n",
    "        n_estimators_range, max_depths, min_samples_splits, max_features_range: lists with the hyperparameters for the Random Forest classification.\n",
    "        beta: beta parameter for the Fbeta score.\n",
    "        random_state: the seed used by the random number generator.\n",
    "\n",
    "    Returns:\n",
    "        A pandas DataFrame with the diagnostic scores for each of the hyperparameter combinations.\n",
    "    \"\"\"\n",
    "    score_table = pd.DataFrame(columns = ['n_estimators', 'max_features', 'max_depth', 'min_samples_split', 'f1_score', 'Fbeta_score', 'precision_score', 'recall_score', 'matthews_corrcoef'])\n",
    "    i = 0\n",
    "    for n_estimators in n_estimators_range:\n",
    "        for max_depth in max_depths:\n",
    "            for min_samples_split in min_samples_splits:\n",
    "                for max_features in max_features_range:\n",
    "                    clf = RandomForestClassifier(n_estimators=n_estimators,\n",
    "                                           max_depth=max_depth,\n",
    "                                           min_samples_split=min_samples_split,\n",
    "                                           max_features=max_features,\n",
    "                                           n_jobs=-1,\n",
    "                                           oob_score=True,\n",
    "                                           random_state=42)\n",
    "                    clf.fit(X_train, y_train)\n",
    "                    score_table.loc[i, 'n_estimators'] = n_estimators\n",
    "                    score_table.loc[i, 'max_features'] = max_features\n",
    "                    score_table.loc[i, 'max_depth'] = max_depth\n",
    "                    score_table.loc[i, 'min_samples_split'] = min_samples_split\n",
    "                    score_table.loc[i, 'f1_score'] = f1_score(y_valid, clf.predict(X_valid))\n",
    "                    score_table.loc[i, 'Fbeta_score'] = fbeta_score(y_valid, clf.predict(X_valid), beta=beta)\n",
    "                    score_table.loc[i, 'precision_score'] = precision_score(y_valid, clf.predict(X_valid))\n",
    "                    score_table.loc[i, 'recall_score'] = recall_score(y_valid, clf.predict(X_valid))\n",
    "                    score_table.loc[i, 'matthews_corrcoef'] = matthews_corrcoef(y_valid, clf.predict(X_valid))\n",
    "                    score_table.loc[i, 'oob score'] = clf.oob_score_\n",
    "                    i += 1\n",
    "\n",
    "    return score_table"
   ]
  },
  {
   "cell_type": "code",
   "execution_count": 16,
   "metadata": {},
   "outputs": [],
   "source": [
    "%%capture\n",
    "RF_score_table = tune_RF(X_rus, y_rus, X_hold1, y_hold1, n_estimators_range, max_depths, min_samples_splits, max_features_range, beta=0.2, random_state=42)"
   ]
  },
  {
   "cell_type": "markdown",
   "metadata": {},
   "source": [
    "Next, I will select the rows with the best recall score."
   ]
  },
  {
   "cell_type": "code",
   "execution_count": 17,
   "metadata": {},
   "outputs": [
    {
     "data": {
      "text/html": [
       "<div>\n",
       "<style scoped>\n",
       "    .dataframe tbody tr th:only-of-type {\n",
       "        vertical-align: middle;\n",
       "    }\n",
       "\n",
       "    .dataframe tbody tr th {\n",
       "        vertical-align: top;\n",
       "    }\n",
       "\n",
       "    .dataframe thead th {\n",
       "        text-align: right;\n",
       "    }\n",
       "</style>\n",
       "<table border=\"1\" class=\"dataframe\">\n",
       "  <thead>\n",
       "    <tr style=\"text-align: right;\">\n",
       "      <th></th>\n",
       "      <th>n_estimators</th>\n",
       "      <th>max_features</th>\n",
       "      <th>max_depth</th>\n",
       "      <th>min_samples_split</th>\n",
       "      <th>f1_score</th>\n",
       "      <th>Fbeta_score</th>\n",
       "      <th>precision_score</th>\n",
       "      <th>recall_score</th>\n",
       "      <th>matthews_corrcoef</th>\n",
       "      <th>oob score</th>\n",
       "    </tr>\n",
       "  </thead>\n",
       "  <tbody>\n",
       "    <tr>\n",
       "      <th>871</th>\n",
       "      <td>20.0</td>\n",
       "      <td>30.0</td>\n",
       "      <td>2.0</td>\n",
       "      <td>2.0</td>\n",
       "      <td>0.249353</td>\n",
       "      <td>0.157337</td>\n",
       "      <td>0.152643</td>\n",
       "      <td>0.680494</td>\n",
       "      <td>0.130354</td>\n",
       "      <td>0.592223</td>\n",
       "    </tr>\n",
       "    <tr>\n",
       "      <th>879</th>\n",
       "      <td>20.0</td>\n",
       "      <td>30.0</td>\n",
       "      <td>2.0</td>\n",
       "      <td>3.0</td>\n",
       "      <td>0.249353</td>\n",
       "      <td>0.157337</td>\n",
       "      <td>0.152643</td>\n",
       "      <td>0.680494</td>\n",
       "      <td>0.130354</td>\n",
       "      <td>0.592223</td>\n",
       "    </tr>\n",
       "    <tr>\n",
       "      <th>887</th>\n",
       "      <td>20.0</td>\n",
       "      <td>30.0</td>\n",
       "      <td>2.0</td>\n",
       "      <td>5.0</td>\n",
       "      <td>0.249353</td>\n",
       "      <td>0.157337</td>\n",
       "      <td>0.152643</td>\n",
       "      <td>0.680494</td>\n",
       "      <td>0.130354</td>\n",
       "      <td>0.592223</td>\n",
       "    </tr>\n",
       "    <tr>\n",
       "      <th>895</th>\n",
       "      <td>20.0</td>\n",
       "      <td>30.0</td>\n",
       "      <td>2.0</td>\n",
       "      <td>7.0</td>\n",
       "      <td>0.249353</td>\n",
       "      <td>0.157337</td>\n",
       "      <td>0.152643</td>\n",
       "      <td>0.680494</td>\n",
       "      <td>0.130354</td>\n",
       "      <td>0.592223</td>\n",
       "    </tr>\n",
       "    <tr>\n",
       "      <th>903</th>\n",
       "      <td>20.0</td>\n",
       "      <td>30.0</td>\n",
       "      <td>2.0</td>\n",
       "      <td>10.0</td>\n",
       "      <td>0.249353</td>\n",
       "      <td>0.157337</td>\n",
       "      <td>0.152643</td>\n",
       "      <td>0.680494</td>\n",
       "      <td>0.130354</td>\n",
       "      <td>0.592223</td>\n",
       "    </tr>\n",
       "    <tr>\n",
       "      <th>911</th>\n",
       "      <td>20.0</td>\n",
       "      <td>30.0</td>\n",
       "      <td>2.0</td>\n",
       "      <td>50.0</td>\n",
       "      <td>0.249353</td>\n",
       "      <td>0.157337</td>\n",
       "      <td>0.152643</td>\n",
       "      <td>0.680494</td>\n",
       "      <td>0.130354</td>\n",
       "      <td>0.592223</td>\n",
       "    </tr>\n",
       "  </tbody>\n",
       "</table>\n",
       "</div>"
      ],
      "text/plain": [
       "     n_estimators  max_features  max_depth  min_samples_split  f1_score  \\\n",
       "871          20.0          30.0        2.0                2.0  0.249353   \n",
       "879          20.0          30.0        2.0                3.0  0.249353   \n",
       "887          20.0          30.0        2.0                5.0  0.249353   \n",
       "895          20.0          30.0        2.0                7.0  0.249353   \n",
       "903          20.0          30.0        2.0               10.0  0.249353   \n",
       "911          20.0          30.0        2.0               50.0  0.249353   \n",
       "\n",
       "    Fbeta_score precision_score recall_score matthews_corrcoef  oob score  \n",
       "871    0.157337        0.152643     0.680494          0.130354   0.592223  \n",
       "879    0.157337        0.152643     0.680494          0.130354   0.592223  \n",
       "887    0.157337        0.152643     0.680494          0.130354   0.592223  \n",
       "895    0.157337        0.152643     0.680494          0.130354   0.592223  \n",
       "903    0.157337        0.152643     0.680494          0.130354   0.592223  \n",
       "911    0.157337        0.152643     0.680494          0.130354   0.592223  "
      ]
     },
     "execution_count": 17,
     "metadata": {},
     "output_type": "execute_result"
    }
   ],
   "source": [
    "RF_score_table.loc[RF_score_table.recall_score == np.max(RF_score_table.recall_score)]"
   ]
  },
  {
   "cell_type": "code",
   "execution_count": 18,
   "metadata": {},
   "outputs": [
    {
     "name": "stderr",
     "output_type": "stream",
     "text": [
      "/home/pavel/anaconda3/lib/python3.6/site-packages/sklearn/ensemble/forest.py:458: UserWarning: Some inputs do not have OOB scores. This probably means too few trees were used to compute any reliable oob estimates.\n",
      "  warn(\"Some inputs do not have OOB scores. \"\n",
      "/home/pavel/anaconda3/lib/python3.6/site-packages/sklearn/ensemble/forest.py:463: RuntimeWarning: divide by zero encountered in true_divide\n",
      "  predictions[k].sum(axis=1)[:, np.newaxis])\n",
      "/home/pavel/anaconda3/lib/python3.6/site-packages/sklearn/ensemble/forest.py:463: RuntimeWarning: invalid value encountered in true_divide\n",
      "  predictions[k].sum(axis=1)[:, np.newaxis])\n"
     ]
    },
    {
     "data": {
      "text/html": [
       "<div>\n",
       "<style scoped>\n",
       "    .dataframe tbody tr th:only-of-type {\n",
       "        vertical-align: middle;\n",
       "    }\n",
       "\n",
       "    .dataframe tbody tr th {\n",
       "        vertical-align: top;\n",
       "    }\n",
       "\n",
       "    .dataframe thead th {\n",
       "        text-align: right;\n",
       "    }\n",
       "</style>\n",
       "<table border=\"1\" class=\"dataframe\">\n",
       "  <thead>\n",
       "    <tr style=\"text-align: right;\">\n",
       "      <th></th>\n",
       "      <th>training data</th>\n",
       "      <th>validation data</th>\n",
       "    </tr>\n",
       "  </thead>\n",
       "  <tbody>\n",
       "    <tr>\n",
       "      <th>precision score</th>\n",
       "      <td>0.605574</td>\n",
       "      <td>0.160821</td>\n",
       "    </tr>\n",
       "    <tr>\n",
       "      <th>recall score</th>\n",
       "      <td>0.609807</td>\n",
       "      <td>0.61194</td>\n",
       "    </tr>\n",
       "    <tr>\n",
       "      <th>F1 score</th>\n",
       "      <td>0.607683</td>\n",
       "      <td>0.254705</td>\n",
       "    </tr>\n",
       "    <tr>\n",
       "      <th>Fbeta score</th>\n",
       "      <td>0.605736</td>\n",
       "      <td>0.165514</td>\n",
       "    </tr>\n",
       "    <tr>\n",
       "      <th>Mattews correlation coefficient</th>\n",
       "      <td>0.212629</td>\n",
       "      <td>0.133591</td>\n",
       "    </tr>\n",
       "    <tr>\n",
       "      <th>accuracy score</th>\n",
       "      <td>0.606312</td>\n",
       "      <td>0.599194</td>\n",
       "    </tr>\n",
       "    <tr>\n",
       "      <th>out of bag score</th>\n",
       "      <td>0.587692</td>\n",
       "      <td>NaN</td>\n",
       "    </tr>\n",
       "  </tbody>\n",
       "</table>\n",
       "</div>"
      ],
      "text/plain": [
       "                                training data validation data\n",
       "precision score                      0.605574        0.160821\n",
       "recall score                         0.609807         0.61194\n",
       "F1 score                             0.607683        0.254705\n",
       "Fbeta score                          0.605736        0.165514\n",
       "Mattews correlation coefficient      0.212629        0.133591\n",
       "accuracy score                       0.606312        0.599194\n",
       "out of bag score                     0.587692             NaN"
      ]
     },
     "execution_count": 18,
     "metadata": {},
     "output_type": "execute_result"
    },
    {
     "data": {
      "image/png": "[encoded data removed]",
      "text/plain": [
       "<Figure size 720x432 with 4 Axes>"
      ]
     },
     "metadata": {
      "needs_background": "light"
     },
     "output_type": "display_data"
    }
   ],
   "source": [
    "clf_RF_recall = RandomForestClassifier(\n",
    "    n_estimators=10,\n",
    "    max_depth=2,\n",
    "    min_samples_split=2,\n",
    "    max_features=30,\n",
    "    n_jobs=-1,\n",
    "    oob_score=True,\n",
    "    random_state=42)\n",
    "clf_RF_recall.fit(X_rus_combined, y_rus_combined)\n",
    "test_model(X_rus_combined, y_rus_combined, X_hold2, y_hold2, clf_RF_recall, oob_score=True)"
   ]
  },
  {
   "cell_type": "markdown",
   "metadata": {},
   "source": [
    "## Optimizing Random Forest classification for precision"
   ]
  },
  {
   "cell_type": "code",
   "execution_count": 19,
   "metadata": {},
   "outputs": [
    {
     "data": {
      "text/html": [
       "<div>\n",
       "<style scoped>\n",
       "    .dataframe tbody tr th:only-of-type {\n",
       "        vertical-align: middle;\n",
       "    }\n",
       "\n",
       "    .dataframe tbody tr th {\n",
       "        vertical-align: top;\n",
       "    }\n",
       "\n",
       "    .dataframe thead th {\n",
       "        text-align: right;\n",
       "    }\n",
       "</style>\n",
       "<table border=\"1\" class=\"dataframe\">\n",
       "  <thead>\n",
       "    <tr style=\"text-align: right;\">\n",
       "      <th></th>\n",
       "      <th>n_estimators</th>\n",
       "      <th>max_features</th>\n",
       "      <th>max_depth</th>\n",
       "      <th>min_samples_split</th>\n",
       "      <th>f1_score</th>\n",
       "      <th>Fbeta_score</th>\n",
       "      <th>precision_score</th>\n",
       "      <th>recall_score</th>\n",
       "      <th>matthews_corrcoef</th>\n",
       "      <th>oob score</th>\n",
       "    </tr>\n",
       "  </thead>\n",
       "  <tbody>\n",
       "    <tr>\n",
       "      <th>934</th>\n",
       "      <td>20.0</td>\n",
       "      <td>25.0</td>\n",
       "      <td>5.0</td>\n",
       "      <td>5.0</td>\n",
       "      <td>0.266331</td>\n",
       "      <td>0.175491</td>\n",
       "      <td>0.170641</td>\n",
       "      <td>0.606355</td>\n",
       "      <td>0.152533</td>\n",
       "      <td>0.605184</td>\n",
       "    </tr>\n",
       "  </tbody>\n",
       "</table>\n",
       "</div>"
      ],
      "text/plain": [
       "     n_estimators  max_features  max_depth  min_samples_split  f1_score  \\\n",
       "934          20.0          25.0        5.0                5.0  0.266331   \n",
       "\n",
       "    Fbeta_score precision_score recall_score matthews_corrcoef  oob score  \n",
       "934    0.175491        0.170641     0.606355          0.152533   0.605184  "
      ]
     },
     "execution_count": 19,
     "metadata": {},
     "output_type": "execute_result"
    }
   ],
   "source": [
    "RF_score_table.loc[RF_score_table.precision_score == np.max(RF_score_table.precision_score)]"
   ]
  },
  {
   "cell_type": "code",
   "execution_count": 20,
   "metadata": {},
   "outputs": [
    {
     "data": {
      "text/html": [
       "<div>\n",
       "<style scoped>\n",
       "    .dataframe tbody tr th:only-of-type {\n",
       "        vertical-align: middle;\n",
       "    }\n",
       "\n",
       "    .dataframe tbody tr th {\n",
       "        vertical-align: top;\n",
       "    }\n",
       "\n",
       "    .dataframe thead th {\n",
       "        text-align: right;\n",
       "    }\n",
       "</style>\n",
       "<table border=\"1\" class=\"dataframe\">\n",
       "  <thead>\n",
       "    <tr style=\"text-align: right;\">\n",
       "      <th></th>\n",
       "      <th>training data</th>\n",
       "      <th>validation data</th>\n",
       "    </tr>\n",
       "  </thead>\n",
       "  <tbody>\n",
       "    <tr>\n",
       "      <th>precision score</th>\n",
       "      <td>0.73238</td>\n",
       "      <td>0.165119</td>\n",
       "    </tr>\n",
       "    <tr>\n",
       "      <th>recall score</th>\n",
       "      <td>0.710385</td>\n",
       "      <td>0.5777</td>\n",
       "    </tr>\n",
       "    <tr>\n",
       "      <th>F1 score</th>\n",
       "      <td>0.721215</td>\n",
       "      <td>0.256831</td>\n",
       "    </tr>\n",
       "    <tr>\n",
       "      <th>Fbeta score</th>\n",
       "      <td>0.731509</td>\n",
       "      <td>0.169783</td>\n",
       "    </tr>\n",
       "    <tr>\n",
       "      <th>Mattews correlation coefficient</th>\n",
       "      <td>0.451006</td>\n",
       "      <td>0.135373</td>\n",
       "    </tr>\n",
       "    <tr>\n",
       "      <th>accuracy score</th>\n",
       "      <td>0.725401</td>\n",
       "      <td>0.625823</td>\n",
       "    </tr>\n",
       "    <tr>\n",
       "      <th>out of bag score</th>\n",
       "      <td>0.604401</td>\n",
       "      <td>NaN</td>\n",
       "    </tr>\n",
       "  </tbody>\n",
       "</table>\n",
       "</div>"
      ],
      "text/plain": [
       "                                training data validation data\n",
       "precision score                       0.73238        0.165119\n",
       "recall score                         0.710385          0.5777\n",
       "F1 score                             0.721215        0.256831\n",
       "Fbeta score                          0.731509        0.169783\n",
       "Mattews correlation coefficient      0.451006        0.135373\n",
       "accuracy score                       0.725401        0.625823\n",
       "out of bag score                     0.604401             NaN"
      ]
     },
     "execution_count": 20,
     "metadata": {},
     "output_type": "execute_result"
    },
    {
     "data": {
      "image/png": "[encoded data removed]",
      "text/plain": [
       "<Figure size 720x432 with 4 Axes>"
      ]
     },
     "metadata": {
      "needs_background": "light"
     },
     "output_type": "display_data"
    }
   ],
   "source": [
    "clf_RF_precision = RandomForestClassifier(\n",
    "    n_estimators=40,\n",
    "    max_depth=10,\n",
    "    min_samples_split=7,\n",
    "    max_features=10,\n",
    "    n_jobs=-1,\n",
    "    oob_score=True,\n",
    "    random_state=42)\n",
    "clf_RF_precision.fit(X_rus_combined, y_rus_combined)\n",
    "test_model(X_rus_combined, y_rus_combined, X_hold2, y_hold2, clf_RF_precision, oob_score=True)"
   ]
  },
  {
   "cell_type": "markdown",
   "metadata": {},
   "source": [
    "## Optimizing Random Forest classification for F1 score"
   ]
  },
  {
   "cell_type": "code",
   "execution_count": 21,
   "metadata": {},
   "outputs": [
    {
     "data": {
      "text/html": [
       "<div>\n",
       "<style scoped>\n",
       "    .dataframe tbody tr th:only-of-type {\n",
       "        vertical-align: middle;\n",
       "    }\n",
       "\n",
       "    .dataframe tbody tr th {\n",
       "        vertical-align: top;\n",
       "    }\n",
       "\n",
       "    .dataframe thead th {\n",
       "        text-align: right;\n",
       "    }\n",
       "</style>\n",
       "<table border=\"1\" class=\"dataframe\">\n",
       "  <thead>\n",
       "    <tr style=\"text-align: right;\">\n",
       "      <th></th>\n",
       "      <th>n_estimators</th>\n",
       "      <th>max_features</th>\n",
       "      <th>max_depth</th>\n",
       "      <th>min_samples_split</th>\n",
       "      <th>f1_score</th>\n",
       "      <th>Fbeta_score</th>\n",
       "      <th>precision_score</th>\n",
       "      <th>recall_score</th>\n",
       "      <th>matthews_corrcoef</th>\n",
       "      <th>oob score</th>\n",
       "    </tr>\n",
       "  </thead>\n",
       "  <tbody>\n",
       "    <tr>\n",
       "      <th>934</th>\n",
       "      <td>20.0</td>\n",
       "      <td>25.0</td>\n",
       "      <td>5.0</td>\n",
       "      <td>5.0</td>\n",
       "      <td>0.266331</td>\n",
       "      <td>0.175491</td>\n",
       "      <td>0.170641</td>\n",
       "      <td>0.606355</td>\n",
       "      <td>0.152533</td>\n",
       "      <td>0.605184</td>\n",
       "    </tr>\n",
       "  </tbody>\n",
       "</table>\n",
       "</div>"
      ],
      "text/plain": [
       "     n_estimators  max_features  max_depth  min_samples_split  f1_score  \\\n",
       "934          20.0          25.0        5.0                5.0  0.266331   \n",
       "\n",
       "    Fbeta_score precision_score recall_score matthews_corrcoef  oob score  \n",
       "934    0.175491        0.170641     0.606355          0.152533   0.605184  "
      ]
     },
     "execution_count": 21,
     "metadata": {},
     "output_type": "execute_result"
    }
   ],
   "source": [
    "RF_score_table.loc[RF_score_table.f1_score == np.max(RF_score_table.f1_score)]"
   ]
  },
  {
   "cell_type": "code",
   "execution_count": 22,
   "metadata": {},
   "outputs": [
    {
     "name": "stderr",
     "output_type": "stream",
     "text": [
      "/home/pavel/anaconda3/lib/python3.6/site-packages/sklearn/ensemble/forest.py:458: UserWarning: Some inputs do not have OOB scores. This probably means too few trees were used to compute any reliable oob estimates.\n",
      "  warn(\"Some inputs do not have OOB scores. \"\n",
      "/home/pavel/anaconda3/lib/python3.6/site-packages/sklearn/ensemble/forest.py:463: RuntimeWarning: divide by zero encountered in true_divide\n",
      "  predictions[k].sum(axis=1)[:, np.newaxis])\n",
      "/home/pavel/anaconda3/lib/python3.6/site-packages/sklearn/ensemble/forest.py:463: RuntimeWarning: invalid value encountered in true_divide\n",
      "  predictions[k].sum(axis=1)[:, np.newaxis])\n"
     ]
    },
    {
     "data": {
      "text/html": [
       "<div>\n",
       "<style scoped>\n",
       "    .dataframe tbody tr th:only-of-type {\n",
       "        vertical-align: middle;\n",
       "    }\n",
       "\n",
       "    .dataframe tbody tr th {\n",
       "        vertical-align: top;\n",
       "    }\n",
       "\n",
       "    .dataframe thead th {\n",
       "        text-align: right;\n",
       "    }\n",
       "</style>\n",
       "<table border=\"1\" class=\"dataframe\">\n",
       "  <thead>\n",
       "    <tr style=\"text-align: right;\">\n",
       "      <th></th>\n",
       "      <th>training data</th>\n",
       "      <th>validation data</th>\n",
       "    </tr>\n",
       "  </thead>\n",
       "  <tbody>\n",
       "    <tr>\n",
       "      <th>precision score</th>\n",
       "      <td>0.628385</td>\n",
       "      <td>0.164756</td>\n",
       "    </tr>\n",
       "    <tr>\n",
       "      <th>recall score</th>\n",
       "      <td>0.600524</td>\n",
       "      <td>0.580334</td>\n",
       "    </tr>\n",
       "    <tr>\n",
       "      <th>F1 score</th>\n",
       "      <td>0.614139</td>\n",
       "      <td>0.256649</td>\n",
       "    </tr>\n",
       "    <tr>\n",
       "      <th>Fbeta score</th>\n",
       "      <td>0.627266</td>\n",
       "      <td>0.169422</td>\n",
       "    </tr>\n",
       "    <tr>\n",
       "      <th>Mattews correlation coefficient</th>\n",
       "      <td>0.245628</td>\n",
       "      <td>0.135198</td>\n",
       "    </tr>\n",
       "    <tr>\n",
       "      <th>accuracy score</th>\n",
       "      <td>0.622693</td>\n",
       "      <td>0.623759</td>\n",
       "    </tr>\n",
       "    <tr>\n",
       "      <th>out of bag score</th>\n",
       "      <td>0.607896</td>\n",
       "      <td>NaN</td>\n",
       "    </tr>\n",
       "  </tbody>\n",
       "</table>\n",
       "</div>"
      ],
      "text/plain": [
       "                                training data validation data\n",
       "precision score                      0.628385        0.164756\n",
       "recall score                         0.600524        0.580334\n",
       "F1 score                             0.614139        0.256649\n",
       "Fbeta score                          0.627266        0.169422\n",
       "Mattews correlation coefficient      0.245628        0.135198\n",
       "accuracy score                       0.622693        0.623759\n",
       "out of bag score                     0.607896             NaN"
      ]
     },
     "execution_count": 22,
     "metadata": {},
     "output_type": "execute_result"
    },
    {
     "data": {
      "image/png": "[encoded data removed]",
      "text/plain": [
       "<Figure size 720x432 with 4 Axes>"
      ]
     },
     "metadata": {
      "needs_background": "light"
     },
     "output_type": "display_data"
    }
   ],
   "source": [
    "clf_RF_F1 = RandomForestClassifier(\n",
    "    n_estimators=20,\n",
    "    max_depth=5,\n",
    "    min_samples_split=5,\n",
    "    max_features=25,\n",
    "    n_jobs=-1,\n",
    "    oob_score=True,\n",
    "    random_state=42)\n",
    "clf_RF_F1.fit(X_rus_combined, y_rus_combined)\n",
    "test_model(X_rus_combined, y_rus_combined, X_hold2, y_hold2, clf_RF_F1, oob_score=True)"
   ]
  },
  {
   "cell_type": "markdown",
   "metadata": {},
   "source": [
    "## Optimizing for Random Forest classification for Fbeta score with beta=0.2"
   ]
  },
  {
   "cell_type": "code",
   "execution_count": 23,
   "metadata": {},
   "outputs": [
    {
     "data": {
      "text/html": [
       "<div>\n",
       "<style scoped>\n",
       "    .dataframe tbody tr th:only-of-type {\n",
       "        vertical-align: middle;\n",
       "    }\n",
       "\n",
       "    .dataframe tbody tr th {\n",
       "        vertical-align: top;\n",
       "    }\n",
       "\n",
       "    .dataframe thead th {\n",
       "        text-align: right;\n",
       "    }\n",
       "</style>\n",
       "<table border=\"1\" class=\"dataframe\">\n",
       "  <thead>\n",
       "    <tr style=\"text-align: right;\">\n",
       "      <th></th>\n",
       "      <th>n_estimators</th>\n",
       "      <th>max_features</th>\n",
       "      <th>max_depth</th>\n",
       "      <th>min_samples_split</th>\n",
       "      <th>f1_score</th>\n",
       "      <th>Fbeta_score</th>\n",
       "      <th>precision_score</th>\n",
       "      <th>recall_score</th>\n",
       "      <th>matthews_corrcoef</th>\n",
       "      <th>oob score</th>\n",
       "    </tr>\n",
       "  </thead>\n",
       "  <tbody>\n",
       "    <tr>\n",
       "      <th>934</th>\n",
       "      <td>20.0</td>\n",
       "      <td>25.0</td>\n",
       "      <td>5.0</td>\n",
       "      <td>5.0</td>\n",
       "      <td>0.266331</td>\n",
       "      <td>0.175491</td>\n",
       "      <td>0.170641</td>\n",
       "      <td>0.606355</td>\n",
       "      <td>0.152533</td>\n",
       "      <td>0.605184</td>\n",
       "    </tr>\n",
       "  </tbody>\n",
       "</table>\n",
       "</div>"
      ],
      "text/plain": [
       "     n_estimators  max_features  max_depth  min_samples_split  f1_score  \\\n",
       "934          20.0          25.0        5.0                5.0  0.266331   \n",
       "\n",
       "    Fbeta_score precision_score recall_score matthews_corrcoef  oob score  \n",
       "934    0.175491        0.170641     0.606355          0.152533   0.605184  "
      ]
     },
     "execution_count": 23,
     "metadata": {},
     "output_type": "execute_result"
    }
   ],
   "source": [
    "RF_score_table.loc[RF_score_table.Fbeta_score == np.max(RF_score_table.Fbeta_score)]"
   ]
  },
  {
   "cell_type": "code",
   "execution_count": 24,
   "metadata": {},
   "outputs": [
    {
     "data": {
      "text/html": [
       "<div>\n",
       "<style scoped>\n",
       "    .dataframe tbody tr th:only-of-type {\n",
       "        vertical-align: middle;\n",
       "    }\n",
       "\n",
       "    .dataframe tbody tr th {\n",
       "        vertical-align: top;\n",
       "    }\n",
       "\n",
       "    .dataframe thead th {\n",
       "        text-align: right;\n",
       "    }\n",
       "</style>\n",
       "<table border=\"1\" class=\"dataframe\">\n",
       "  <thead>\n",
       "    <tr style=\"text-align: right;\">\n",
       "      <th></th>\n",
       "      <th>training data</th>\n",
       "      <th>validation data</th>\n",
       "    </tr>\n",
       "  </thead>\n",
       "  <tbody>\n",
       "    <tr>\n",
       "      <th>precision score</th>\n",
       "      <td>0.73238</td>\n",
       "      <td>0.165119</td>\n",
       "    </tr>\n",
       "    <tr>\n",
       "      <th>recall score</th>\n",
       "      <td>0.710385</td>\n",
       "      <td>0.5777</td>\n",
       "    </tr>\n",
       "    <tr>\n",
       "      <th>F1 score</th>\n",
       "      <td>0.721215</td>\n",
       "      <td>0.256831</td>\n",
       "    </tr>\n",
       "    <tr>\n",
       "      <th>Fbeta score</th>\n",
       "      <td>0.731509</td>\n",
       "      <td>0.169783</td>\n",
       "    </tr>\n",
       "    <tr>\n",
       "      <th>Mattews correlation coefficient</th>\n",
       "      <td>0.451006</td>\n",
       "      <td>0.135373</td>\n",
       "    </tr>\n",
       "    <tr>\n",
       "      <th>accuracy score</th>\n",
       "      <td>0.725401</td>\n",
       "      <td>0.625823</td>\n",
       "    </tr>\n",
       "    <tr>\n",
       "      <th>out of bag score</th>\n",
       "      <td>0.604401</td>\n",
       "      <td>NaN</td>\n",
       "    </tr>\n",
       "  </tbody>\n",
       "</table>\n",
       "</div>"
      ],
      "text/plain": [
       "                                training data validation data\n",
       "precision score                       0.73238        0.165119\n",
       "recall score                         0.710385          0.5777\n",
       "F1 score                             0.721215        0.256831\n",
       "Fbeta score                          0.731509        0.169783\n",
       "Mattews correlation coefficient      0.451006        0.135373\n",
       "accuracy score                       0.725401        0.625823\n",
       "out of bag score                     0.604401             NaN"
      ]
     },
     "execution_count": 24,
     "metadata": {},
     "output_type": "execute_result"
    },
    {
     "data": {
      "image/png": "[encoded data removed]",
      "text/plain": [
       "<Figure size 720x432 with 4 Axes>"
      ]
     },
     "metadata": {
      "needs_background": "light"
     },
     "output_type": "display_data"
    }
   ],
   "source": [
    "clf_RF_Fbeta = RandomForestClassifier(\n",
    "    n_estimators=40,\n",
    "    max_depth=10,\n",
    "    min_samples_split=7,\n",
    "    max_features=10,\n",
    "    n_jobs=-1,\n",
    "    oob_score=True,\n",
    "    random_state=42)\n",
    "clf_RF_Fbeta.fit(X_rus_combined, y_rus_combined)\n",
    "test_model(X_rus_combined, y_rus_combined, X_hold2, y_hold2, clf_RF_Fbeta, oob_score=True)"
   ]
  },
  {
   "cell_type": "markdown",
   "metadata": {},
   "source": [
    "Random Forest classifiers trained show similar performance metrics. The overfitting is reduced in comparison with the model trained with the default hyperparameters, but the overfitting is still an issue here.\n",
    "\n",
    "## Training Logistic Regression\n",
    "Since logistic regression offers regularization as a way to deal with overfitting and make models more generalizable, I will train logistic regression next. Before doing so I will scale the data to make the ranges of features more similar."
   ]
  },
  {
   "cell_type": "code",
   "execution_count": 25,
   "metadata": {},
   "outputs": [
    {
     "name": "stderr",
     "output_type": "stream",
     "text": [
      "/home/pavel/anaconda3/lib/python3.6/site-packages/sklearn/utils/validation.py:595: DataConversionWarning: Data with input dtype int64 was converted to float64 by MinMaxScaler.\n",
      "  warnings.warn(msg, DataConversionWarning)\n"
     ]
    }
   ],
   "source": [
    "scaler = MinMaxScaler()\n",
    "scaler.fit(X_rus)\n",
    "X_rus_scaled = scaler.transform(X_rus)\n",
    "X_hold1_scaled = scaler.transform(X_hold1)\n",
    "X_hold2_scaled = scaler.transform(X_hold2)"
   ]
  },
  {
   "cell_type": "markdown",
   "metadata": {},
   "source": [
    "I will use recursive feature elimination (RFE) available at scikit-learn to select the features most useful for training the logistic regression. "
   ]
  },
  {
   "cell_type": "code",
   "execution_count": 26,
   "metadata": {},
   "outputs": [
    {
     "name": "stdout",
     "output_type": "stream",
     "text": [
      "[False False False False  True False False False False False False  True\n",
      "  True  True False False False  True False False False False False  True\n",
      " False False False False False False False  True  True False  True False\n",
      " False False False False False False False False False False False False\n",
      " False False  True  True  True  True  True  True False False False  True\n",
      "  True False  True  True  True False False False False False False False\n",
      " False False False False False False False False False False False]\n",
      "[36 53  5 18  1 17 13 35 29 24 32  1  1  1 41 58 12  1 30 28  9  2 20  1\n",
      "  4 64 33 40 21  7 14  1  1 63  1 22  8  3 62 61 60 50 10 44 59 39  6 19\n",
      " 34 46  1  1  1  1  1  1 16 11 23  1  1 25  1  1  1 55 27 37 54 15 26 52\n",
      " 45 56 57 31 38 47 42 43 48 49 51]\n"
     ]
    }
   ],
   "source": [
    "logreg = LogisticRegression(penalty='l2', solver='newton-cg', C=10, multi_class='multinomial', random_state=42, n_jobs=-1)\n",
    "rfe = RFE(logreg, 20)\n",
    "rfe = rfe.fit(X_rus_scaled, y_rus)\n",
    "print(rfe.support_)\n",
    "print(rfe.ranking_)"
   ]
  },
  {
   "cell_type": "code",
   "execution_count": 27,
   "metadata": {},
   "outputs": [
    {
     "data": {
      "text/plain": [
       "Index(['discharge_disposition_id', 'number_outpatient', 'number_emergency',\n",
       "       'number_inpatient', 'number_diagnoses', 'chlorpropamide', 'acarbose',\n",
       "       'miglitol', 'tolazamide', 'simple_diag_1', 'simple_diag_2',\n",
       "       'simple_diag_3', 'level_2_diag_1', 'level_3_diag_1', 'level_4_diag_1',\n",
       "       'level_4_diag_2', 'level_5_diag_2', 'level_3_diag_3', 'level_4_diag_3',\n",
       "       'level_5_diag_3'],\n",
       "      dtype='object')"
      ]
     },
     "execution_count": 27,
     "metadata": {},
     "output_type": "execute_result"
    }
   ],
   "source": [
    "cols[rfe.support_]"
   ]
  },
  {
   "cell_type": "code",
   "execution_count": 28,
   "metadata": {},
   "outputs": [
    {
     "data": {
      "text/html": [
       "<div>\n",
       "<style scoped>\n",
       "    .dataframe tbody tr th:only-of-type {\n",
       "        vertical-align: middle;\n",
       "    }\n",
       "\n",
       "    .dataframe tbody tr th {\n",
       "        vertical-align: top;\n",
       "    }\n",
       "\n",
       "    .dataframe thead th {\n",
       "        text-align: right;\n",
       "    }\n",
       "</style>\n",
       "<table border=\"1\" class=\"dataframe\">\n",
       "  <thead>\n",
       "    <tr style=\"text-align: right;\">\n",
       "      <th></th>\n",
       "      <th>training data</th>\n",
       "      <th>validation data</th>\n",
       "    </tr>\n",
       "  </thead>\n",
       "  <tbody>\n",
       "    <tr>\n",
       "      <th>precision score</th>\n",
       "      <td>0.627014</td>\n",
       "      <td>0.171272</td>\n",
       "    </tr>\n",
       "    <tr>\n",
       "      <th>recall score</th>\n",
       "      <td>0.480184</td>\n",
       "      <td>0.467954</td>\n",
       "    </tr>\n",
       "    <tr>\n",
       "      <th>F1 score</th>\n",
       "      <td>0.543863</td>\n",
       "      <td>0.250765</td>\n",
       "    </tr>\n",
       "    <tr>\n",
       "      <th>Fbeta score</th>\n",
       "      <td>0.619725</td>\n",
       "      <td>0.175553</td>\n",
       "    </tr>\n",
       "    <tr>\n",
       "      <th>Mattews correlation coefficient</th>\n",
       "      <td>0.200105</td>\n",
       "      <td>0.124949</td>\n",
       "    </tr>\n",
       "    <tr>\n",
       "      <th>accuracy score</th>\n",
       "      <td>0.597271</td>\n",
       "      <td>0.687039</td>\n",
       "    </tr>\n",
       "  </tbody>\n",
       "</table>\n",
       "</div>"
      ],
      "text/plain": [
       "                                training data validation data\n",
       "precision score                      0.627014        0.171272\n",
       "recall score                         0.480184        0.467954\n",
       "F1 score                             0.543863        0.250765\n",
       "Fbeta score                          0.619725        0.175553\n",
       "Mattews correlation coefficient      0.200105        0.124949\n",
       "accuracy score                       0.597271        0.687039"
      ]
     },
     "execution_count": 28,
     "metadata": {},
     "output_type": "execute_result"
    },
    {
     "data": {
      "image/png": "[encoded data removed]",
      "text/plain": [
       "<Figure size 720x432 with 4 Axes>"
      ]
     },
     "metadata": {
      "needs_background": "light"
     },
     "output_type": "display_data"
    }
   ],
   "source": [
    "logreg = LogisticRegression(penalty='l2', solver='newton-cg', C=10, multi_class='multinomial', random_state=42, n_jobs=-1)\n",
    "logreg.fit(X_rus_scaled[:, rfe.support_], y_rus)\n",
    "test_model(X_rus_scaled[:, rfe.support_], y_rus, X_hold2_scaled[:, rfe.support_], y_hold2, logreg, oob_score=False)"
   ]
  },
  {
   "cell_type": "markdown",
   "metadata": {},
   "source": [
    "I will tune logistic regression by training the model on the range of C parameter, I will alsy try l1 and l2 regularizations."
   ]
  },
  {
   "cell_type": "code",
   "execution_count": 29,
   "metadata": {},
   "outputs": [],
   "source": [
    "%%capture\n",
    "C_param_range = [0.001,0.01,0.1,1,10,100]\n",
    "penalty_range = ['l1', 'l2']\n",
    "\n",
    "def tune_logreg(X_train, y_train, X_valid, y_valid, rfe, C_param_range, penalty_range, beta=0.2, random_state=42):\n",
    "    score_table = pd.DataFrame(columns = ['C_parameter', 'penalty', 'Fbeta_score', 'precision_score', 'recall_score', 'f1_score', 'matthews_corrcoef'])\n",
    "    ind = 0\n",
    "    for C_param in C_param_range:\n",
    "        for penalty in penalty_range:\n",
    "            if penalty == 'l2':\n",
    "                solver = 'newton-cg'\n",
    "            elif penalty == 'l1':\n",
    "                solver = 'liblinear'\n",
    "            logreg = LogisticRegression(penalty=penalty, solver=solver, C=C_param, max_iter=1000, random_state=random_state, n_jobs=-1)\n",
    "            logreg.fit(X_train[:, rfe.support_], y_train)\n",
    "            y_pred = logreg.predict(X_valid[:, rfe.support_])\n",
    "            # Saving accuracy score in table\n",
    "            score_table.loc[ind, 'C_parameter'] = C_param\n",
    "            score_table.loc[ind, 'penalty'] = penalty\n",
    "            score_table.loc[ind, 'Fbeta_score'] = fbeta_score(y_valid, y_pred, beta=beta)\n",
    "            score_table.loc[ind, 'precision_score'] = precision_score(y_valid, y_pred)\n",
    "            score_table.loc[ind, 'recall_score'] = recall_score(y_valid, y_pred)\n",
    "            score_table.loc[ind, 'f1_score'] = f1_score(y_valid, y_pred)\n",
    "            score_table.loc[ind, 'matthews_corrcoef'] = matthews_corrcoef(y_valid, y_pred)    \n",
    "            ind += 1\n",
    "    return score_table\n",
    "\n",
    "logreg_score_table = tune_logreg(X_rus_scaled, y_rus, X_hold1_scaled, y_hold1, rfe, C_param_range, penalty_range, beta=0.2, random_state=42)\n",
    "logreg_score_table.head()"
   ]
  },
  {
   "cell_type": "code",
   "execution_count": 30,
   "metadata": {},
   "outputs": [
    {
     "data": {
      "text/html": [
       "<div>\n",
       "<style scoped>\n",
       "    .dataframe tbody tr th:only-of-type {\n",
       "        vertical-align: middle;\n",
       "    }\n",
       "\n",
       "    .dataframe tbody tr th {\n",
       "        vertical-align: top;\n",
       "    }\n",
       "\n",
       "    .dataframe thead th {\n",
       "        text-align: right;\n",
       "    }\n",
       "</style>\n",
       "<table border=\"1\" class=\"dataframe\">\n",
       "  <thead>\n",
       "    <tr style=\"text-align: right;\">\n",
       "      <th></th>\n",
       "      <th>C_parameter</th>\n",
       "      <th>penalty</th>\n",
       "      <th>Fbeta_score</th>\n",
       "      <th>precision_score</th>\n",
       "      <th>recall_score</th>\n",
       "      <th>f1_score</th>\n",
       "      <th>matthews_corrcoef</th>\n",
       "    </tr>\n",
       "  </thead>\n",
       "  <tbody>\n",
       "    <tr>\n",
       "      <th>7</th>\n",
       "      <td>1</td>\n",
       "      <td>l2</td>\n",
       "      <td>0.182039</td>\n",
       "      <td>0.177585</td>\n",
       "      <td>0.488085</td>\n",
       "      <td>0.260419</td>\n",
       "      <td>0.139847</td>\n",
       "    </tr>\n",
       "  </tbody>\n",
       "</table>\n",
       "</div>"
      ],
      "text/plain": [
       "  C_parameter penalty Fbeta_score precision_score recall_score  f1_score  \\\n",
       "7           1      l2    0.182039        0.177585     0.488085  0.260419   \n",
       "\n",
       "  matthews_corrcoef  \n",
       "7          0.139847  "
      ]
     },
     "execution_count": 30,
     "metadata": {},
     "output_type": "execute_result"
    }
   ],
   "source": [
    "logreg_score_table.loc[logreg_score_table.f1_score == np.max(logreg_score_table.f1_score)]"
   ]
  },
  {
   "cell_type": "markdown",
   "metadata": {},
   "source": [
    "The model with the best F1 score (0.26) has the C parameter of 1 and uses l2 penalty. These parameters will be used for training the model on the combined training set and hold-out set 1. "
   ]
  },
  {
   "cell_type": "code",
   "execution_count": 31,
   "metadata": {},
   "outputs": [
    {
     "name": "stderr",
     "output_type": "stream",
     "text": [
      "/home/pavel/anaconda3/lib/python3.6/site-packages/sklearn/utils/validation.py:595: DataConversionWarning: Data with input dtype int64 was converted to float64 by MinMaxScaler.\n",
      "  warnings.warn(msg, DataConversionWarning)\n"
     ]
    }
   ],
   "source": [
    "scaler = MinMaxScaler()\n",
    "scaler.fit(X_rus_combined)\n",
    "X_rus_combined_scaled = scaler.transform(X_rus_combined)\n",
    "X_hold2_combined_scaled = scaler.transform(X_hold2)"
   ]
  },
  {
   "cell_type": "code",
   "execution_count": 32,
   "metadata": {},
   "outputs": [
    {
     "data": {
      "text/html": [
       "<div>\n",
       "<style scoped>\n",
       "    .dataframe tbody tr th:only-of-type {\n",
       "        vertical-align: middle;\n",
       "    }\n",
       "\n",
       "    .dataframe tbody tr th {\n",
       "        vertical-align: top;\n",
       "    }\n",
       "\n",
       "    .dataframe thead th {\n",
       "        text-align: right;\n",
       "    }\n",
       "</style>\n",
       "<table border=\"1\" class=\"dataframe\">\n",
       "  <thead>\n",
       "    <tr style=\"text-align: right;\">\n",
       "      <th></th>\n",
       "      <th>training data</th>\n",
       "      <th>validation data</th>\n",
       "    </tr>\n",
       "  </thead>\n",
       "  <tbody>\n",
       "    <tr>\n",
       "      <th>precision score</th>\n",
       "      <td>0.628637</td>\n",
       "      <td>0.169854</td>\n",
       "    </tr>\n",
       "    <tr>\n",
       "      <th>recall score</th>\n",
       "      <td>0.478978</td>\n",
       "      <td>0.460053</td>\n",
       "    </tr>\n",
       "    <tr>\n",
       "      <th>F1 score</th>\n",
       "      <td>0.543697</td>\n",
       "      <td>0.248106</td>\n",
       "    </tr>\n",
       "    <tr>\n",
       "      <th>Fbeta score</th>\n",
       "      <td>0.621172</td>\n",
       "      <td>0.174077</td>\n",
       "    </tr>\n",
       "    <tr>\n",
       "      <th>Mattews correlation coefficient</th>\n",
       "      <td>0.201828</td>\n",
       "      <td>0.121201</td>\n",
       "    </tr>\n",
       "    <tr>\n",
       "      <th>accuracy score</th>\n",
       "      <td>0.598012</td>\n",
       "      <td>0.687924</td>\n",
       "    </tr>\n",
       "  </tbody>\n",
       "</table>\n",
       "</div>"
      ],
      "text/plain": [
       "                                training data validation data\n",
       "precision score                      0.628637        0.169854\n",
       "recall score                         0.478978        0.460053\n",
       "F1 score                             0.543697        0.248106\n",
       "Fbeta score                          0.621172        0.174077\n",
       "Mattews correlation coefficient      0.201828        0.121201\n",
       "accuracy score                       0.598012        0.687924"
      ]
     },
     "execution_count": 32,
     "metadata": {},
     "output_type": "execute_result"
    },
    {
     "data": {
      "image/png": "[encoded data removed]",
      "text/plain": [
       "<Figure size 720x432 with 4 Axes>"
      ]
     },
     "metadata": {
      "needs_background": "light"
     },
     "output_type": "display_data"
    }
   ],
   "source": [
    "logreg = LogisticRegression(penalty='l2', solver='liblinear', C=1, max_iter=1000, random_state=42)\n",
    "logreg.fit(X_rus_combined_scaled[:, rfe.support_], y_rus_combined)\n",
    "test_model(X_rus_combined_scaled[:, rfe.support_], y_rus_combined, X_hold2_combined_scaled[:, rfe.support_], y_hold2, logreg)"
   ]
  },
  {
   "cell_type": "markdown",
   "metadata": {},
   "source": [
    "Tuned logistic regression model shows minimal overfitting and improved F1 score (0.25) compared to the Random Forest classification models."
   ]
  },
  {
   "cell_type": "code",
   "execution_count": 33,
   "metadata": {},
   "outputs": [
    {
     "data": {
      "text/plain": [
       "array([[ 1.02305614,  0.27145127,  1.41829359,  5.87312714,  0.88985658,\n",
       "         0.09248417,  0.06357285, -0.19534553, -0.17778418, -0.07735807,\n",
       "        -0.04501447,  0.26743869, -0.23660592,  0.95190948, -0.77094919,\n",
       "         0.20714231, -0.26553595, -0.99763495,  0.23861004,  0.29491345]])"
      ]
     },
     "execution_count": 33,
     "metadata": {},
     "output_type": "execute_result"
    }
   ],
   "source": [
    "logreg.coef_"
   ]
  },
  {
   "cell_type": "markdown",
   "metadata": {},
   "source": [
    "## Optimizing logistic regression with elastic net\n",
    "Since logistic regression classifier available in sklearn does not allow for regularization with elastic net, I will use SGDClassifier (stochastic gradient descent classifier) for tuning logistic regression with all features."
   ]
  },
  {
   "cell_type": "code",
   "execution_count": 34,
   "metadata": {},
   "outputs": [
    {
     "name": "stderr",
     "output_type": "stream",
     "text": [
      "/home/pavel/anaconda3/lib/python3.6/site-packages/sklearn/linear_model/stochastic_gradient.py:183: FutureWarning: max_iter and tol parameters have been added in SGDClassifier in 0.19. If max_iter is set but tol is left unset, the default value for tol in 0.19 and 0.20 will be None (which is equivalent to -infinity, so it has no effect) but will change in 0.21 to 1e-3. Specify tol to silence this warning.\n",
      "  FutureWarning)\n"
     ]
    },
    {
     "data": {
      "text/html": [
       "<div>\n",
       "<style scoped>\n",
       "    .dataframe tbody tr th:only-of-type {\n",
       "        vertical-align: middle;\n",
       "    }\n",
       "\n",
       "    .dataframe tbody tr th {\n",
       "        vertical-align: top;\n",
       "    }\n",
       "\n",
       "    .dataframe thead th {\n",
       "        text-align: right;\n",
       "    }\n",
       "</style>\n",
       "<table border=\"1\" class=\"dataframe\">\n",
       "  <thead>\n",
       "    <tr style=\"text-align: right;\">\n",
       "      <th></th>\n",
       "      <th>training data</th>\n",
       "      <th>validation data</th>\n",
       "    </tr>\n",
       "  </thead>\n",
       "  <tbody>\n",
       "    <tr>\n",
       "      <th>precision score</th>\n",
       "      <td>0.619023</td>\n",
       "      <td>0.163776</td>\n",
       "    </tr>\n",
       "    <tr>\n",
       "      <th>recall score</th>\n",
       "      <td>0.527356</td>\n",
       "      <td>0.505707</td>\n",
       "    </tr>\n",
       "    <tr>\n",
       "      <th>F1 score</th>\n",
       "      <td>0.569525</td>\n",
       "      <td>0.247423</td>\n",
       "    </tr>\n",
       "    <tr>\n",
       "      <th>Fbeta score</th>\n",
       "      <td>0.614912</td>\n",
       "      <td>0.168149</td>\n",
       "    </tr>\n",
       "    <tr>\n",
       "      <th>Mattews correlation coefficient</th>\n",
       "      <td>0.205056</td>\n",
       "      <td>0.11953</td>\n",
       "    </tr>\n",
       "    <tr>\n",
       "      <th>accuracy score</th>\n",
       "      <td>0.601398</td>\n",
       "      <td>0.655694</td>\n",
       "    </tr>\n",
       "  </tbody>\n",
       "</table>\n",
       "</div>"
      ],
      "text/plain": [
       "                                training data validation data\n",
       "precision score                      0.619023        0.163776\n",
       "recall score                         0.527356        0.505707\n",
       "F1 score                             0.569525        0.247423\n",
       "Fbeta score                          0.614912        0.168149\n",
       "Mattews correlation coefficient      0.205056         0.11953\n",
       "accuracy score                       0.601398        0.655694"
      ]
     },
     "execution_count": 34,
     "metadata": {},
     "output_type": "execute_result"
    },
    {
     "data": {
      "image/png": "[encoded data removed]",
      "text/plain": [
       "<Figure size 720x432 with 4 Axes>"
      ]
     },
     "metadata": {
      "needs_background": "light"
     },
     "output_type": "display_data"
    }
   ],
   "source": [
    "clf = SGDClassifier(loss='log', max_iter=1000, random_state=42)\n",
    "clf.fit(X_rus_combined_scaled, y_rus_combined)\n",
    "test_model(X_rus_combined_scaled, y_rus_combined, X_hold2_combined_scaled, y_hold2, clf)"
   ]
  },
  {
   "cell_type": "code",
   "execution_count": 35,
   "metadata": {},
   "outputs": [],
   "source": [
    "%%capture\n",
    "alpha_range = [0.00001, 0.0001, 0.001,0.01,0.1,1,10,100]\n",
    "penalty_range = ['l1', 'l2', 'elasticnet']\n",
    "l1_ratio_range = [.1, .3, .5, .7, .9]\n",
    "\n",
    "def tune_SGD(X_train, y_train, X_valid, y_valid, alpha_range, penalty_range, l1_ratio_range, beta=0.2, random_state=42):\n",
    "    score_table = pd.DataFrame(columns = ['alpha', 'penalty', 'l1_ratio', 'F1_score', 'Fbeta_score', 'precision_score', 'recall_score', 'matthews_corrcoef'])\n",
    "    ind = 0\n",
    "    for alpha in alpha_range:\n",
    "        for penalty in penalty_range:\n",
    "            for l1_ratio in l1_ratio_range:\n",
    "                if penalty != 'elasticnet' and l1_ratio > l1_ratio_range[0]:\n",
    "                    continue\n",
    "                elif penalty == 'elasticnet':\n",
    "                    clf = SGDClassifier(loss='log',\n",
    "                              alpha=alpha, \n",
    "                              penalty=penalty, \n",
    "                              l1_ratio=l1_ratio, \n",
    "                              random_state=random_state, \n",
    "                              max_iter=1000,\n",
    "                              tol=1e-3,\n",
    "                              n_jobs=-1)\n",
    "                else:\n",
    "                    clf = SGDClassifier(loss='log', \n",
    "                              alpha=alpha, \n",
    "                              penalty=penalty, \n",
    "                              max_iter=1000,\n",
    "                              tol=1e-3,\n",
    "                              random_state=random_state, \n",
    "                              n_jobs=-1)\n",
    "                clf.fit(X_train, y_train)\n",
    "                y_pred = clf.predict(X_valid)\n",
    "                # Saving accuracy score in table\n",
    "                score_table.loc[ind, 'alpha'] = alpha\n",
    "                score_table.loc[ind, 'penalty'] = penalty\n",
    "                score_table.loc[ind, 'l1_ratio'] = l1_ratio\n",
    "                score_table.loc[ind, 'F1_score'] = f1_score(y_valid, y_pred)\n",
    "                score_table.loc[ind, 'Fbeta_score'] = fbeta_score(y_valid, y_pred, beta=beta)\n",
    "                score_table.loc[ind, 'precision_score'] = precision_score(y_valid, y_pred)\n",
    "                score_table.loc[ind, 'recall_score'] = recall_score(y_valid, y_pred)\n",
    "                score_table.loc[ind, 'matthews_corrcoef'] = matthews_corrcoef(y_valid, y_pred)    \n",
    "                ind += 1\n",
    "    return score_table\n",
    "\n",
    "SGD_score_table = tune_SGD(X_rus_scaled, y_rus, X_hold1_scaled, y_hold1, alpha_range, penalty_range, l1_ratio_range, beta=0.2, random_state=42)"
   ]
  },
  {
   "cell_type": "code",
   "execution_count": 36,
   "metadata": {},
   "outputs": [
    {
     "data": {
      "text/html": [
       "<div>\n",
       "<style scoped>\n",
       "    .dataframe tbody tr th:only-of-type {\n",
       "        vertical-align: middle;\n",
       "    }\n",
       "\n",
       "    .dataframe tbody tr th {\n",
       "        vertical-align: top;\n",
       "    }\n",
       "\n",
       "    .dataframe thead th {\n",
       "        text-align: right;\n",
       "    }\n",
       "</style>\n",
       "<table border=\"1\" class=\"dataframe\">\n",
       "  <thead>\n",
       "    <tr style=\"text-align: right;\">\n",
       "      <th></th>\n",
       "      <th>alpha</th>\n",
       "      <th>penalty</th>\n",
       "      <th>l1_ratio</th>\n",
       "      <th>F1_score</th>\n",
       "      <th>Fbeta_score</th>\n",
       "      <th>precision_score</th>\n",
       "      <th>recall_score</th>\n",
       "      <th>matthews_corrcoef</th>\n",
       "    </tr>\n",
       "  </thead>\n",
       "  <tbody>\n",
       "    <tr>\n",
       "      <th>17</th>\n",
       "      <td>0.001</td>\n",
       "      <td>elasticnet</td>\n",
       "      <td>0.3</td>\n",
       "      <td>0.247092</td>\n",
       "      <td>0.19525</td>\n",
       "      <td>0.191895</td>\n",
       "      <td>0.346867</td>\n",
       "      <td>0.128548</td>\n",
       "    </tr>\n",
       "  </tbody>\n",
       "</table>\n",
       "</div>"
      ],
      "text/plain": [
       "    alpha     penalty l1_ratio  F1_score Fbeta_score precision_score  \\\n",
       "17  0.001  elasticnet      0.3  0.247092     0.19525        0.191895   \n",
       "\n",
       "   recall_score matthews_corrcoef  \n",
       "17     0.346867          0.128548  "
      ]
     },
     "execution_count": 36,
     "metadata": {},
     "output_type": "execute_result"
    }
   ],
   "source": [
    "SGD_score_table.loc[SGD_score_table.F1_score == np.max(SGD_score_table.F1_score)]"
   ]
  },
  {
   "cell_type": "markdown",
   "metadata": {},
   "source": [
    "The model with the best F1 score has alpha parameter of 0.001, uses elastic net for penalty with the l1 ratio of 0.3. I will use these parameters for training the model on the combined training set and hold-out set 1."
   ]
  },
  {
   "cell_type": "code",
   "execution_count": 37,
   "metadata": {},
   "outputs": [
    {
     "data": {
      "text/html": [
       "<div>\n",
       "<style scoped>\n",
       "    .dataframe tbody tr th:only-of-type {\n",
       "        vertical-align: middle;\n",
       "    }\n",
       "\n",
       "    .dataframe tbody tr th {\n",
       "        vertical-align: top;\n",
       "    }\n",
       "\n",
       "    .dataframe thead th {\n",
       "        text-align: right;\n",
       "    }\n",
       "</style>\n",
       "<table border=\"1\" class=\"dataframe\">\n",
       "  <thead>\n",
       "    <tr style=\"text-align: right;\">\n",
       "      <th></th>\n",
       "      <th>training data</th>\n",
       "      <th>validation data</th>\n",
       "    </tr>\n",
       "  </thead>\n",
       "  <tbody>\n",
       "    <tr>\n",
       "      <th>precision score</th>\n",
       "      <td>0.615742</td>\n",
       "      <td>0.165308</td>\n",
       "    </tr>\n",
       "    <tr>\n",
       "      <th>recall score</th>\n",
       "      <td>0.521131</td>\n",
       "      <td>0.516242</td>\n",
       "    </tr>\n",
       "    <tr>\n",
       "      <th>F1 score</th>\n",
       "      <td>0.5645</td>\n",
       "      <td>0.250426</td>\n",
       "    </tr>\n",
       "    <tr>\n",
       "      <th>Fbeta score</th>\n",
       "      <td>0.611472</td>\n",
       "      <td>0.169746</td>\n",
       "    </tr>\n",
       "    <tr>\n",
       "      <th>Mattews correlation coefficient</th>\n",
       "      <td>0.19827</td>\n",
       "      <td>0.124132</td>\n",
       "    </tr>\n",
       "    <tr>\n",
       "      <th>accuracy score</th>\n",
       "      <td>0.597958</td>\n",
       "      <td>0.654122</td>\n",
       "    </tr>\n",
       "  </tbody>\n",
       "</table>\n",
       "</div>"
      ],
      "text/plain": [
       "                                training data validation data\n",
       "precision score                      0.615742        0.165308\n",
       "recall score                         0.521131        0.516242\n",
       "F1 score                               0.5645        0.250426\n",
       "Fbeta score                          0.611472        0.169746\n",
       "Mattews correlation coefficient       0.19827        0.124132\n",
       "accuracy score                       0.597958        0.654122"
      ]
     },
     "execution_count": 37,
     "metadata": {},
     "output_type": "execute_result"
    },
    {
     "data": {
      "image/png": "[encoded data removed]",
      "text/plain": [
       "<Figure size 720x432 with 4 Axes>"
      ]
     },
     "metadata": {
      "needs_background": "light"
     },
     "output_type": "display_data"
    }
   ],
   "source": [
    "clf_elasticnet = SGDClassifier(\n",
    "          loss='log', \n",
    "          alpha=0.001, \n",
    "          penalty='elasticnet', \n",
    "          l1_ratio=.3,\n",
    "          max_iter=1000,\n",
    "          tol=1e-3,\n",
    "          random_state=42, \n",
    "          n_jobs=-1)\n",
    "clf_elasticnet.fit(X_rus_combined_scaled, y_rus_combined)\n",
    "test_model(X_rus_combined_scaled, y_rus_combined, X_hold2_combined_scaled, y_hold2, clf_elasticnet)"
   ]
  },
  {
   "cell_type": "markdown",
   "metadata": {},
   "source": [
    "The F1 score obtained with elastic net regularization is the best so far (0.25). "
   ]
  },
  {
   "cell_type": "markdown",
   "metadata": {},
   "source": [
    "## Training AdaBoost\n",
    "\n",
    "Boosting offers an excellent way to improve a classifier performance. Here, I will use AdaBoost and Gradient Boosting algorithms."
   ]
  },
  {
   "cell_type": "code",
   "execution_count": 38,
   "metadata": {},
   "outputs": [
    {
     "data": {
      "text/html": [
       "<div>\n",
       "<style scoped>\n",
       "    .dataframe tbody tr th:only-of-type {\n",
       "        vertical-align: middle;\n",
       "    }\n",
       "\n",
       "    .dataframe tbody tr th {\n",
       "        vertical-align: top;\n",
       "    }\n",
       "\n",
       "    .dataframe thead th {\n",
       "        text-align: right;\n",
       "    }\n",
       "</style>\n",
       "<table border=\"1\" class=\"dataframe\">\n",
       "  <thead>\n",
       "    <tr style=\"text-align: right;\">\n",
       "      <th></th>\n",
       "      <th>training data</th>\n",
       "      <th>validation data</th>\n",
       "    </tr>\n",
       "  </thead>\n",
       "  <tbody>\n",
       "    <tr>\n",
       "      <th>precision score</th>\n",
       "      <td>1</td>\n",
       "      <td>0.125242</td>\n",
       "    </tr>\n",
       "    <tr>\n",
       "      <th>recall score</th>\n",
       "      <td>1</td>\n",
       "      <td>0.680421</td>\n",
       "    </tr>\n",
       "    <tr>\n",
       "      <th>F1 score</th>\n",
       "      <td>1</td>\n",
       "      <td>0.211546</td>\n",
       "    </tr>\n",
       "    <tr>\n",
       "      <th>Fbeta score</th>\n",
       "      <td>1</td>\n",
       "      <td>0.1293</td>\n",
       "    </tr>\n",
       "    <tr>\n",
       "      <th>Mattews correlation coefficient</th>\n",
       "      <td>1</td>\n",
       "      <td>0.0526355</td>\n",
       "    </tr>\n",
       "    <tr>\n",
       "      <th>accuracy score</th>\n",
       "      <td>1</td>\n",
       "      <td>0.432347</td>\n",
       "    </tr>\n",
       "  </tbody>\n",
       "</table>\n",
       "</div>"
      ],
      "text/plain": [
       "                                training data validation data\n",
       "precision score                             1        0.125242\n",
       "recall score                                1        0.680421\n",
       "F1 score                                    1        0.211546\n",
       "Fbeta score                                 1          0.1293\n",
       "Mattews correlation coefficient             1       0.0526355\n",
       "accuracy score                              1        0.432347"
      ]
     },
     "execution_count": 38,
     "metadata": {},
     "output_type": "execute_result"
    },
    {
     "data": {
      "image/png": "[encoded data removed]",
      "text/plain": [
       "<Figure size 720x432 with 4 Axes>"
      ]
     },
     "metadata": {
      "needs_background": "light"
     },
     "output_type": "display_data"
    }
   ],
   "source": [
    "ada_clf = AdaBoostClassifier(DecisionTreeClassifier())\n",
    "ada_clf.fit(X_rus_combined_scaled, y_rus_combined)\n",
    "test_model(X_rus_combined_scaled, y_rus_combined, X_hold2, y_hold2, ada_clf)"
   ]
  },
  {
   "cell_type": "markdown",
   "metadata": {},
   "source": [
    "Training on the AdaBoost with the default parameters led to extreme overfitting. To deal with that I will tune AdaBoost by otpimizing hyperparameters."
   ]
  },
  {
   "cell_type": "code",
   "execution_count": 39,
   "metadata": {},
   "outputs": [],
   "source": [
    "max_depths = [2, 5, 10, 20, 40, None]\n",
    "min_samples_splits = [2, 3, 5, 7, 10, 50]\n",
    "n_estimators_range = [2, 5, 10, 20, 40, 60, 100]\n",
    "\n",
    "ada_score_table = pd.DataFrame(columns = ['n_estimators', 'max_depth', 'min_samples_split', 'Fbeta_score', 'precision_score', 'recall_score', 'F1_score', 'matthews_corrcoef'])\n",
    "i = 0\n",
    "for n_estimators in n_estimators_range:\n",
    "    for max_depth in max_depths:\n",
    "        for min_samples_split in min_samples_splits:\n",
    "            ada_clf = AdaBoostClassifier(DecisionTreeClassifier(max_depth=max_depth,\n",
    "                                                               min_samples_split=min_samples_split),\n",
    "                                      n_estimators=n_estimators,\n",
    "                                      random_state=42)\n",
    "            ada_clf.fit(X_rus, y_rus)\n",
    "            ada_score_table.loc[i, 'n_estimators'] = n_estimators\n",
    "            ada_score_table.loc[i, 'max_depth'] = max_depth\n",
    "            ada_score_table.loc[i, 'min_samples_split'] = min_samples_split\n",
    "            ada_score_table.loc[i, 'F1_score'] = f1_score(y_hold1, ada_clf.predict(X_hold1))\n",
    "            ada_score_table.loc[i, 'Fbeta_score'] = fbeta_score(y_hold1, ada_clf.predict(X_hold1), beta=0.2)\n",
    "            ada_score_table.loc[i, 'precision_score'] = precision_score(y_hold1, ada_clf.predict(X_hold1))\n",
    "            ada_score_table.loc[i, 'recall_score'] = recall_score(y_hold1, ada_clf.predict(X_hold1))\n",
    "            ada_score_table.loc[i, 'matthews_corrcoef'] = matthews_corrcoef(y_hold1, ada_clf.predict(X_hold1))\n",
    "            i += 1"
   ]
  },
  {
   "cell_type": "code",
   "execution_count": 40,
   "metadata": {},
   "outputs": [
    {
     "data": {
      "text/html": [
       "<div>\n",
       "<style scoped>\n",
       "    .dataframe tbody tr th:only-of-type {\n",
       "        vertical-align: middle;\n",
       "    }\n",
       "\n",
       "    .dataframe tbody tr th {\n",
       "        vertical-align: top;\n",
       "    }\n",
       "\n",
       "    .dataframe thead th {\n",
       "        text-align: right;\n",
       "    }\n",
       "</style>\n",
       "<table border=\"1\" class=\"dataframe\">\n",
       "  <thead>\n",
       "    <tr style=\"text-align: right;\">\n",
       "      <th></th>\n",
       "      <th>n_estimators</th>\n",
       "      <th>max_depth</th>\n",
       "      <th>min_samples_split</th>\n",
       "      <th>Fbeta_score</th>\n",
       "      <th>precision_score</th>\n",
       "      <th>recall_score</th>\n",
       "      <th>F1_score</th>\n",
       "      <th>matthews_corrcoef</th>\n",
       "    </tr>\n",
       "  </thead>\n",
       "  <tbody>\n",
       "    <tr>\n",
       "      <th>72</th>\n",
       "      <td>10</td>\n",
       "      <td>2</td>\n",
       "      <td>2</td>\n",
       "      <td>0.172415</td>\n",
       "      <td>0.167508</td>\n",
       "      <td>0.644307</td>\n",
       "      <td>0.26589</td>\n",
       "      <td>0.154543</td>\n",
       "    </tr>\n",
       "    <tr>\n",
       "      <th>73</th>\n",
       "      <td>10</td>\n",
       "      <td>2</td>\n",
       "      <td>3</td>\n",
       "      <td>0.172415</td>\n",
       "      <td>0.167508</td>\n",
       "      <td>0.644307</td>\n",
       "      <td>0.26589</td>\n",
       "      <td>0.154543</td>\n",
       "    </tr>\n",
       "    <tr>\n",
       "      <th>74</th>\n",
       "      <td>10</td>\n",
       "      <td>2</td>\n",
       "      <td>5</td>\n",
       "      <td>0.172415</td>\n",
       "      <td>0.167508</td>\n",
       "      <td>0.644307</td>\n",
       "      <td>0.26589</td>\n",
       "      <td>0.154543</td>\n",
       "    </tr>\n",
       "    <tr>\n",
       "      <th>75</th>\n",
       "      <td>10</td>\n",
       "      <td>2</td>\n",
       "      <td>7</td>\n",
       "      <td>0.172415</td>\n",
       "      <td>0.167508</td>\n",
       "      <td>0.644307</td>\n",
       "      <td>0.26589</td>\n",
       "      <td>0.154543</td>\n",
       "    </tr>\n",
       "    <tr>\n",
       "      <th>76</th>\n",
       "      <td>10</td>\n",
       "      <td>2</td>\n",
       "      <td>10</td>\n",
       "      <td>0.172415</td>\n",
       "      <td>0.167508</td>\n",
       "      <td>0.644307</td>\n",
       "      <td>0.26589</td>\n",
       "      <td>0.154543</td>\n",
       "    </tr>\n",
       "    <tr>\n",
       "      <th>77</th>\n",
       "      <td>10</td>\n",
       "      <td>2</td>\n",
       "      <td>50</td>\n",
       "      <td>0.172415</td>\n",
       "      <td>0.167508</td>\n",
       "      <td>0.644307</td>\n",
       "      <td>0.26589</td>\n",
       "      <td>0.154543</td>\n",
       "    </tr>\n",
       "  </tbody>\n",
       "</table>\n",
       "</div>"
      ],
      "text/plain": [
       "   n_estimators max_depth min_samples_split Fbeta_score precision_score  \\\n",
       "72           10         2                 2    0.172415        0.167508   \n",
       "73           10         2                 3    0.172415        0.167508   \n",
       "74           10         2                 5    0.172415        0.167508   \n",
       "75           10         2                 7    0.172415        0.167508   \n",
       "76           10         2                10    0.172415        0.167508   \n",
       "77           10         2                50    0.172415        0.167508   \n",
       "\n",
       "   recall_score F1_score matthews_corrcoef  \n",
       "72     0.644307  0.26589          0.154543  \n",
       "73     0.644307  0.26589          0.154543  \n",
       "74     0.644307  0.26589          0.154543  \n",
       "75     0.644307  0.26589          0.154543  \n",
       "76     0.644307  0.26589          0.154543  \n",
       "77     0.644307  0.26589          0.154543  "
      ]
     },
     "execution_count": 40,
     "metadata": {},
     "output_type": "execute_result"
    }
   ],
   "source": [
    "ada_score_table.loc[ada_score_table.F1_score == np.max(ada_score_table.F1_score)]"
   ]
  },
  {
   "cell_type": "code",
   "execution_count": 41,
   "metadata": {},
   "outputs": [
    {
     "data": {
      "text/html": [
       "<div>\n",
       "<style scoped>\n",
       "    .dataframe tbody tr th:only-of-type {\n",
       "        vertical-align: middle;\n",
       "    }\n",
       "\n",
       "    .dataframe tbody tr th {\n",
       "        vertical-align: top;\n",
       "    }\n",
       "\n",
       "    .dataframe thead th {\n",
       "        text-align: right;\n",
       "    }\n",
       "</style>\n",
       "<table border=\"1\" class=\"dataframe\">\n",
       "  <thead>\n",
       "    <tr style=\"text-align: right;\">\n",
       "      <th></th>\n",
       "      <th>training data</th>\n",
       "      <th>validation data</th>\n",
       "    </tr>\n",
       "  </thead>\n",
       "  <tbody>\n",
       "    <tr>\n",
       "      <th>precision score</th>\n",
       "      <td>0.620735</td>\n",
       "      <td>0.168523</td>\n",
       "    </tr>\n",
       "    <tr>\n",
       "      <th>recall score</th>\n",
       "      <td>0.619854</td>\n",
       "      <td>0.624232</td>\n",
       "    </tr>\n",
       "    <tr>\n",
       "      <th>F1 score</th>\n",
       "      <td>0.620294</td>\n",
       "      <td>0.265398</td>\n",
       "    </tr>\n",
       "    <tr>\n",
       "      <th>Fbeta score</th>\n",
       "      <td>0.620701</td>\n",
       "      <td>0.173392</td>\n",
       "    </tr>\n",
       "    <tr>\n",
       "      <th>Mattews correlation coefficient</th>\n",
       "      <td>0.241127</td>\n",
       "      <td>0.151087</td>\n",
       "    </tr>\n",
       "    <tr>\n",
       "      <th>accuracy score</th>\n",
       "      <td>0.620564</td>\n",
       "      <td>0.613246</td>\n",
       "    </tr>\n",
       "  </tbody>\n",
       "</table>\n",
       "</div>"
      ],
      "text/plain": [
       "                                training data validation data\n",
       "precision score                      0.620735        0.168523\n",
       "recall score                         0.619854        0.624232\n",
       "F1 score                             0.620294        0.265398\n",
       "Fbeta score                          0.620701        0.173392\n",
       "Mattews correlation coefficient      0.241127        0.151087\n",
       "accuracy score                       0.620564        0.613246"
      ]
     },
     "execution_count": 41,
     "metadata": {},
     "output_type": "execute_result"
    },
    {
     "data": {
      "image/png": "[encoded data removed]",
      "text/plain": [
       "<Figure size 720x432 with 4 Axes>"
      ]
     },
     "metadata": {
      "needs_background": "light"
     },
     "output_type": "display_data"
    }
   ],
   "source": [
    "ada_clf = AdaBoostClassifier(DecisionTreeClassifier(\n",
    "    max_depth=2,\n",
    "    min_samples_split=2),\n",
    "    n_estimators=10,\n",
    "    random_state=42)\n",
    "ada_clf.fit(X_rus_combined, y_rus_combined)\n",
    "test_model(X_rus_combined, y_rus_combined, X_hold2, y_hold2, ada_clf)"
   ]
  },
  {
   "cell_type": "markdown",
   "metadata": {},
   "source": [
    "The tuned AdaBoost has an F1 score of 0.26, which is the best so far."
   ]
  },
  {
   "cell_type": "markdown",
   "metadata": {},
   "source": [
    "## Training Gradient Boosting classifier"
   ]
  },
  {
   "cell_type": "code",
   "execution_count": 42,
   "metadata": {},
   "outputs": [
    {
     "data": {
      "text/html": [
       "<div>\n",
       "<style scoped>\n",
       "    .dataframe tbody tr th:only-of-type {\n",
       "        vertical-align: middle;\n",
       "    }\n",
       "\n",
       "    .dataframe tbody tr th {\n",
       "        vertical-align: top;\n",
       "    }\n",
       "\n",
       "    .dataframe thead th {\n",
       "        text-align: right;\n",
       "    }\n",
       "</style>\n",
       "<table border=\"1\" class=\"dataframe\">\n",
       "  <thead>\n",
       "    <tr style=\"text-align: right;\">\n",
       "      <th></th>\n",
       "      <th>training data</th>\n",
       "      <th>validation data</th>\n",
       "    </tr>\n",
       "  </thead>\n",
       "  <tbody>\n",
       "    <tr>\n",
       "      <th>precision score</th>\n",
       "      <td>0.643207</td>\n",
       "      <td>0.171534</td>\n",
       "    </tr>\n",
       "    <tr>\n",
       "      <th>recall score</th>\n",
       "      <td>0.631757</td>\n",
       "      <td>0.613696</td>\n",
       "    </tr>\n",
       "    <tr>\n",
       "      <th>F1 score</th>\n",
       "      <td>0.63743</td>\n",
       "      <td>0.268124</td>\n",
       "    </tr>\n",
       "    <tr>\n",
       "      <th>Fbeta score</th>\n",
       "      <td>0.642759</td>\n",
       "      <td>0.176423</td>\n",
       "    </tr>\n",
       "    <tr>\n",
       "      <th>Mattews correlation coefficient</th>\n",
       "      <td>0.281359</td>\n",
       "      <td>0.154526</td>\n",
       "    </tr>\n",
       "    <tr>\n",
       "      <th>accuracy score</th>\n",
       "      <td>0.640657</td>\n",
       "      <td>0.625037</td>\n",
       "    </tr>\n",
       "  </tbody>\n",
       "</table>\n",
       "</div>"
      ],
      "text/plain": [
       "                                training data validation data\n",
       "precision score                      0.643207        0.171534\n",
       "recall score                         0.631757        0.613696\n",
       "F1 score                              0.63743        0.268124\n",
       "Fbeta score                          0.642759        0.176423\n",
       "Mattews correlation coefficient      0.281359        0.154526\n",
       "accuracy score                       0.640657        0.625037"
      ]
     },
     "execution_count": 42,
     "metadata": {},
     "output_type": "execute_result"
    },
    {
     "data": {
      "image/png": "[encoded data removed]",
      "text/plain": [
       "<Figure size 720x432 with 4 Axes>"
      ]
     },
     "metadata": {
      "needs_background": "light"
     },
     "output_type": "display_data"
    }
   ],
   "source": [
    "gbc = GradientBoostingClassifier()\n",
    "gbc.fit(X_rus_combined, y_rus_combined)\n",
    "test_model(X_rus_combined, y_rus_combined, X_hold2, y_hold2, gbc)"
   ]
  },
  {
   "cell_type": "code",
   "execution_count": 43,
   "metadata": {},
   "outputs": [],
   "source": [
    "max_depths = [2, 5, 10, 20, 40, None]\n",
    "min_samples_splits = [2, 3, 5, 7, 10, 50]\n",
    "n_estimators_range = [2, 5, 10, 20, 40, 60, 100]\n",
    "max_features_range = [2, 5, 7, 10, 15, 20, 25, 30]\n",
    "\n",
    "def tune_GBC(X_train, y_train, X_valid, y_valid, n_estimators_range, max_depths, min_samples_splits, max_features_range, beta=0.2, random_state=42):\n",
    "    score_table = pd.DataFrame(columns = ['n_estimators', 'max_features', 'max_depth', 'min_samples_split', 'Fbeta_score', 'precision_score', 'recall_score', 'F1_score', 'matthews_corrcoef'])\n",
    "    i = 0\n",
    "    for n_estimators in n_estimators_range:\n",
    "        for max_depth in max_depths:\n",
    "            for min_samples_split in min_samples_splits:\n",
    "                for max_features in max_features_range:\n",
    "                    clf = GradientBoostingClassifier(\n",
    "                        n_estimators=n_estimators,\n",
    "                        max_depth=max_depth,\n",
    "                        min_samples_split=min_samples_split,\n",
    "                        max_features=max_features,\n",
    "                        random_state=random_state)\n",
    "                    clf.fit(X_train, y_train)\n",
    "                    score_table.loc[i, 'n_estimators'] = n_estimators\n",
    "                    score_table.loc[i, 'max_features'] = max_features\n",
    "                    score_table.loc[i, 'max_depth'] = max_depth\n",
    "                    score_table.loc[i, 'min_samples_split'] = min_samples_split\n",
    "                    score_table.loc[i, 'F1_score'] = f1_score(y_valid, clf.predict(X_valid))\n",
    "                    score_table.loc[i, 'Fbeta_score'] = fbeta_score(y_valid, clf.predict(X_valid), beta=beta)\n",
    "                    score_table.loc[i, 'precision_score'] = precision_score(y_valid, clf.predict(X_valid))\n",
    "                    score_table.loc[i, 'recall_score'] = recall_score(y_valid, clf.predict(X_valid))\n",
    "                    score_table.loc[i, 'matthews_corrcoef'] = matthews_corrcoef(y_valid, clf.predict(X_valid))\n",
    "                    i += 1\n",
    "\n",
    "    return score_table"
   ]
  },
  {
   "cell_type": "code",
   "execution_count": 44,
   "metadata": {},
   "outputs": [
    {
     "data": {
      "text/html": [
       "<div>\n",
       "<style scoped>\n",
       "    .dataframe tbody tr th:only-of-type {\n",
       "        vertical-align: middle;\n",
       "    }\n",
       "\n",
       "    .dataframe tbody tr th {\n",
       "        vertical-align: top;\n",
       "    }\n",
       "\n",
       "    .dataframe thead th {\n",
       "        text-align: right;\n",
       "    }\n",
       "</style>\n",
       "<table border=\"1\" class=\"dataframe\">\n",
       "  <thead>\n",
       "    <tr style=\"text-align: right;\">\n",
       "      <th></th>\n",
       "      <th>n_estimators</th>\n",
       "      <th>max_features</th>\n",
       "      <th>max_depth</th>\n",
       "      <th>min_samples_split</th>\n",
       "      <th>Fbeta_score</th>\n",
       "      <th>precision_score</th>\n",
       "      <th>recall_score</th>\n",
       "      <th>F1_score</th>\n",
       "      <th>matthews_corrcoef</th>\n",
       "    </tr>\n",
       "  </thead>\n",
       "  <tbody>\n",
       "    <tr>\n",
       "      <th>1733</th>\n",
       "      <td>100</td>\n",
       "      <td>20</td>\n",
       "      <td>2</td>\n",
       "      <td>2</td>\n",
       "      <td>0.182045</td>\n",
       "      <td>0.177116</td>\n",
       "      <td>0.598411</td>\n",
       "      <td>0.273332</td>\n",
       "      <td>0.162382</td>\n",
       "    </tr>\n",
       "    <tr>\n",
       "      <th>1741</th>\n",
       "      <td>100</td>\n",
       "      <td>20</td>\n",
       "      <td>2</td>\n",
       "      <td>3</td>\n",
       "      <td>0.182045</td>\n",
       "      <td>0.177116</td>\n",
       "      <td>0.598411</td>\n",
       "      <td>0.273332</td>\n",
       "      <td>0.162382</td>\n",
       "    </tr>\n",
       "    <tr>\n",
       "      <th>1749</th>\n",
       "      <td>100</td>\n",
       "      <td>20</td>\n",
       "      <td>2</td>\n",
       "      <td>5</td>\n",
       "      <td>0.182045</td>\n",
       "      <td>0.177116</td>\n",
       "      <td>0.598411</td>\n",
       "      <td>0.273332</td>\n",
       "      <td>0.162382</td>\n",
       "    </tr>\n",
       "    <tr>\n",
       "      <th>1757</th>\n",
       "      <td>100</td>\n",
       "      <td>20</td>\n",
       "      <td>2</td>\n",
       "      <td>7</td>\n",
       "      <td>0.182045</td>\n",
       "      <td>0.177116</td>\n",
       "      <td>0.598411</td>\n",
       "      <td>0.273332</td>\n",
       "      <td>0.162382</td>\n",
       "    </tr>\n",
       "  </tbody>\n",
       "</table>\n",
       "</div>"
      ],
      "text/plain": [
       "     n_estimators max_features max_depth min_samples_split Fbeta_score  \\\n",
       "1733          100           20         2                 2    0.182045   \n",
       "1741          100           20         2                 3    0.182045   \n",
       "1749          100           20         2                 5    0.182045   \n",
       "1757          100           20         2                 7    0.182045   \n",
       "\n",
       "     precision_score recall_score  F1_score matthews_corrcoef  \n",
       "1733        0.177116     0.598411  0.273332          0.162382  \n",
       "1741        0.177116     0.598411  0.273332          0.162382  \n",
       "1749        0.177116     0.598411  0.273332          0.162382  \n",
       "1757        0.177116     0.598411  0.273332          0.162382  "
      ]
     },
     "execution_count": 44,
     "metadata": {},
     "output_type": "execute_result"
    }
   ],
   "source": [
    "GBC_score_table = tune_GBC(X_rus, y_rus, X_hold1, y_hold1, n_estimators_range, max_depths, min_samples_splits, max_features_range, beta=0.2, random_state=42)\n",
    "GBC_score_table.loc[GBC_score_table.F1_score == np.max(GBC_score_table.F1_score)]"
   ]
  },
  {
   "cell_type": "code",
   "execution_count": 45,
   "metadata": {},
   "outputs": [
    {
     "data": {
      "text/html": [
       "<div>\n",
       "<style scoped>\n",
       "    .dataframe tbody tr th:only-of-type {\n",
       "        vertical-align: middle;\n",
       "    }\n",
       "\n",
       "    .dataframe tbody tr th {\n",
       "        vertical-align: top;\n",
       "    }\n",
       "\n",
       "    .dataframe thead th {\n",
       "        text-align: right;\n",
       "    }\n",
       "</style>\n",
       "<table border=\"1\" class=\"dataframe\">\n",
       "  <thead>\n",
       "    <tr style=\"text-align: right;\">\n",
       "      <th></th>\n",
       "      <th>training data</th>\n",
       "      <th>validation data</th>\n",
       "    </tr>\n",
       "  </thead>\n",
       "  <tbody>\n",
       "    <tr>\n",
       "      <th>precision score</th>\n",
       "      <td>0.632876</td>\n",
       "      <td>0.172682</td>\n",
       "    </tr>\n",
       "    <tr>\n",
       "      <th>recall score</th>\n",
       "      <td>0.589058</td>\n",
       "      <td>0.583845</td>\n",
       "    </tr>\n",
       "    <tr>\n",
       "      <th>F1 score</th>\n",
       "      <td>0.610181</td>\n",
       "      <td>0.266533</td>\n",
       "    </tr>\n",
       "    <tr>\n",
       "      <th>Fbeta score</th>\n",
       "      <td>0.63107</td>\n",
       "      <td>0.17749</td>\n",
       "    </tr>\n",
       "    <tr>\n",
       "      <th>Mattews correlation coefficient</th>\n",
       "      <td>0.247947</td>\n",
       "      <td>0.150379</td>\n",
       "    </tr>\n",
       "    <tr>\n",
       "      <th>accuracy score</th>\n",
       "      <td>0.623676</td>\n",
       "      <td>0.640366</td>\n",
       "    </tr>\n",
       "  </tbody>\n",
       "</table>\n",
       "</div>"
      ],
      "text/plain": [
       "                                training data validation data\n",
       "precision score                      0.632876        0.172682\n",
       "recall score                         0.589058        0.583845\n",
       "F1 score                             0.610181        0.266533\n",
       "Fbeta score                           0.63107         0.17749\n",
       "Mattews correlation coefficient      0.247947        0.150379\n",
       "accuracy score                       0.623676        0.640366"
      ]
     },
     "execution_count": 45,
     "metadata": {},
     "output_type": "execute_result"
    },
    {
     "data": {
      "image/png": "[encoded data removed]",
      "text/plain": [
       "<Figure size 720x432 with 4 Axes>"
      ]
     },
     "metadata": {
      "needs_background": "light"
     },
     "output_type": "display_data"
    }
   ],
   "source": [
    "clf_gbc = GradientBoostingClassifier(\n",
    "    n_estimators=100,\n",
    "    max_depth=2,\n",
    "    min_samples_split=2,\n",
    "    max_features=20,\n",
    "    random_state=42)\n",
    "clf_gbc.fit(X_rus_combined, y_rus_combined)\n",
    "test_model(X_rus_combined, y_rus_combined, X_hold2, y_hold2, clf_gbc)"
   ]
  },
  {
   "cell_type": "markdown",
   "metadata": {},
   "source": [
    "The F1 score of the Gradient Boosting algorithm is 0.26, which is similar to the one obtained with the AdaBoost. \n",
    "## Tuning Random Forest using Out-of-Bag score\n",
    "Next, I will tune the combined training set, first hold-out set and second hold-out set to have more data for the Random Forest training. I will use the out-of-bag score for evaluating the model."
   ]
  },
  {
   "cell_type": "code",
   "execution_count": 46,
   "metadata": {},
   "outputs": [
    {
     "name": "stdout",
     "output_type": "stream",
     "text": [
      "(91589, 83)\n",
      "(91589,)\n"
     ]
    }
   ],
   "source": [
    "X_train_combined2 = np.concatenate((X_train, X_hold1, X_hold2))\n",
    "y_train_combined2 = np.concatenate((y_train, y_hold1, y_hold2))\n",
    "print(X_train_combined2.shape)\n",
    "print(y_train_combined2.shape)"
   ]
  },
  {
   "cell_type": "code",
   "execution_count": 47,
   "metadata": {},
   "outputs": [
    {
     "name": "stdout",
     "output_type": "stream",
     "text": [
      "(20592, 83)\n",
      "(20592,)\n"
     ]
    }
   ],
   "source": [
    "rus = RandomUnderSampler(return_indices=True, random_state=42)\n",
    "X_rus_combined2, y_rus_combined2, id_rus2 = rus.fit_resample(X_train_combined2, y_train_combined2)\n",
    "print(X_rus_combined2.shape)\n",
    "print(y_rus_combined2.shape)"
   ]
  },
  {
   "cell_type": "code",
   "execution_count": 48,
   "metadata": {},
   "outputs": [],
   "source": [
    "max_depths = [2, 5, 10, 20, 40, None]\n",
    "min_samples_splits = [2, 3, 5, 7, 10, 50]\n",
    "n_estimators_range = [2, 5, 10, 20, 40, 60, 100]\n",
    "max_features_range = [2, 5, 7, 10, 15, 20, 25, 30]\n",
    "def tune_RF_OOB(X_train, y_train, n_estimators_range, max_depths, min_samples_splits, max_features_range, random_state=42):\n",
    "    score_table = pd.DataFrame(columns = ['n_estimators', 'max_features', 'max_depth', 'min_samples_split', 'oob_score'])\n",
    "    i = 0\n",
    "    for n_estimators in n_estimators_range:\n",
    "        for max_depth in max_depths:\n",
    "            for min_samples_split in min_samples_splits:\n",
    "                for max_features in max_features_range:\n",
    "                    clf = RandomForestClassifier(n_estimators=n_estimators,\n",
    "                                           max_depth=max_depth,\n",
    "                                           min_samples_split=min_samples_split,\n",
    "                                           max_features=max_features,\n",
    "                                           n_jobs=-1,\n",
    "                                           oob_score=True,\n",
    "                                           random_state=random_state)\n",
    "                    clf.fit(X_train, y_train)\n",
    "                    score_table.loc[i, 'n_estimators'] = n_estimators\n",
    "                    score_table.loc[i, 'max_features'] = max_features\n",
    "                    score_table.loc[i, 'max_depth'] = max_depth\n",
    "                    score_table.loc[i, 'min_samples_split'] = min_samples_split\n",
    "                    score_table.loc[i, 'oob_score'] = clf.oob_score_\n",
    "                    i += 1\n",
    "\n",
    "    return score_table"
   ]
  },
  {
   "cell_type": "code",
   "execution_count": 49,
   "metadata": {},
   "outputs": [],
   "source": [
    "%%capture\n",
    "RF_OOB_score_table = tune_RF_OOB(X_rus_combined2, y_rus_combined2, n_estimators_range, max_depths, min_samples_splits, max_features_range, random_state=42)"
   ]
  },
  {
   "cell_type": "code",
   "execution_count": 50,
   "metadata": {},
   "outputs": [
    {
     "data": {
      "text/html": [
       "<div>\n",
       "<style scoped>\n",
       "    .dataframe tbody tr th:only-of-type {\n",
       "        vertical-align: middle;\n",
       "    }\n",
       "\n",
       "    .dataframe tbody tr th {\n",
       "        vertical-align: top;\n",
       "    }\n",
       "\n",
       "    .dataframe thead th {\n",
       "        text-align: right;\n",
       "    }\n",
       "</style>\n",
       "<table border=\"1\" class=\"dataframe\">\n",
       "  <thead>\n",
       "    <tr style=\"text-align: right;\">\n",
       "      <th></th>\n",
       "      <th>n_estimators</th>\n",
       "      <th>max_features</th>\n",
       "      <th>max_depth</th>\n",
       "      <th>min_samples_split</th>\n",
       "      <th>oob_score</th>\n",
       "    </tr>\n",
       "  </thead>\n",
       "  <tbody>\n",
       "    <tr>\n",
       "      <th>1580</th>\n",
       "      <td>60</td>\n",
       "      <td>15</td>\n",
       "      <td>10</td>\n",
       "      <td>50</td>\n",
       "      <td>0.616744</td>\n",
       "    </tr>\n",
       "  </tbody>\n",
       "</table>\n",
       "</div>"
      ],
      "text/plain": [
       "     n_estimators max_features max_depth min_samples_split oob_score\n",
       "1580           60           15        10                50  0.616744"
      ]
     },
     "execution_count": 50,
     "metadata": {},
     "output_type": "execute_result"
    }
   ],
   "source": [
    "RF_OOB_score_table.loc[RF_OOB_score_table.oob_score == np.max(RF_OOB_score_table.oob_score)]"
   ]
  },
  {
   "cell_type": "code",
   "execution_count": 51,
   "metadata": {},
   "outputs": [
    {
     "name": "stdout",
     "output_type": "stream",
     "text": [
      "0.6167443667443667\n"
     ]
    }
   ],
   "source": [
    "clf_RF_oob = RandomForestClassifier(\n",
    "    n_estimators=60,\n",
    "    max_depth=10,\n",
    "    min_samples_split=50,\n",
    "    max_features=15,\n",
    "    n_jobs=-1,\n",
    "    oob_score=True,\n",
    "    random_state=42)\n",
    "clf_RF_oob.fit(X_rus_combined2, y_rus_combined2)\n",
    "print(clf_RF_oob.oob_score_)"
   ]
  },
  {
   "cell_type": "code",
   "execution_count": 52,
   "metadata": {},
   "outputs": [
    {
     "data": {
      "text/html": [
       "<div>\n",
       "<style scoped>\n",
       "    .dataframe tbody tr th:only-of-type {\n",
       "        vertical-align: middle;\n",
       "    }\n",
       "\n",
       "    .dataframe tbody tr th {\n",
       "        vertical-align: top;\n",
       "    }\n",
       "\n",
       "    .dataframe thead th {\n",
       "        text-align: right;\n",
       "    }\n",
       "</style>\n",
       "<table border=\"1\" class=\"dataframe\">\n",
       "  <thead>\n",
       "    <tr style=\"text-align: right;\">\n",
       "      <th></th>\n",
       "      <th>model</th>\n",
       "      <th>oob score</th>\n",
       "    </tr>\n",
       "  </thead>\n",
       "  <tbody>\n",
       "    <tr>\n",
       "      <th>0</th>\n",
       "      <td>clf_RF</td>\n",
       "      <td>0.866924</td>\n",
       "    </tr>\n",
       "    <tr>\n",
       "      <th>1</th>\n",
       "      <td>clf_smote</td>\n",
       "      <td>0.857449</td>\n",
       "    </tr>\n",
       "    <tr>\n",
       "      <th>2</th>\n",
       "      <td>clf_rus</td>\n",
       "      <td>0.544010</td>\n",
       "    </tr>\n",
       "    <tr>\n",
       "      <th>3</th>\n",
       "      <td>clf_adasyn</td>\n",
       "      <td>0.854041</td>\n",
       "    </tr>\n",
       "    <tr>\n",
       "      <th>4</th>\n",
       "      <td>clf_RF_recall</td>\n",
       "      <td>0.587692</td>\n",
       "    </tr>\n",
       "    <tr>\n",
       "      <th>5</th>\n",
       "      <td>clf_RF_precision</td>\n",
       "      <td>0.604401</td>\n",
       "    </tr>\n",
       "    <tr>\n",
       "      <th>6</th>\n",
       "      <td>clf_RF_Fbeta</td>\n",
       "      <td>0.604401</td>\n",
       "    </tr>\n",
       "    <tr>\n",
       "      <th>7</th>\n",
       "      <td>clf_RF_oob</td>\n",
       "      <td>0.616744</td>\n",
       "    </tr>\n",
       "  </tbody>\n",
       "</table>\n",
       "</div>"
      ],
      "text/plain": [
       "              model  oob score\n",
       "0            clf_RF   0.866924\n",
       "1         clf_smote   0.857449\n",
       "2           clf_rus   0.544010\n",
       "3        clf_adasyn   0.854041\n",
       "4     clf_RF_recall   0.587692\n",
       "5  clf_RF_precision   0.604401\n",
       "6      clf_RF_Fbeta   0.604401\n",
       "7        clf_RF_oob   0.616744"
      ]
     },
     "execution_count": 52,
     "metadata": {},
     "output_type": "execute_result"
    }
   ],
   "source": [
    "RF_models_to_compare = [clf_RF, clf_smote, clf_rus, clf_adasyn, clf_RF_recall, clf_RF_precision, clf_RF_Fbeta, clf_RF_oob]\n",
    "RF_model_labels = ['clf_RF', 'clf_smote', 'clf_rus', 'clf_adasyn', 'clf_RF_recall', 'clf_RF_precision', 'clf_RF_Fbeta', 'clf_RF_oob']\n",
    "RF_oob_scores = [RF_model.oob_score_ for RF_model in RF_models_to_compare]\n",
    "RF_oob_df = pd.DataFrame({'model':RF_model_labels, 'oob score':RF_oob_scores})\n",
    "RF_oob_df"
   ]
  },
  {
   "cell_type": "markdown",
   "metadata": {},
   "source": [
    "The out-of-bag scores vary a lot depending on the approach. The highest score was obtained with the dataset without treating for imbalanced data (clf_RF). In this case the out-of-bag score is hard to interpret since the accuracy score is meaningless for the imbalanced data. Comparatively high out-of-bag scores were produced by training on the oversampled data. These models did not generalize well and were eliminated. The next highest out-of-bag score is produced with the largest data set used for training (combined training and 2 hould-out sets). The improvement over other models is marginal. In addition, it is hard to comare this model with non-random forest models since there is no data left that can be used for validation.\n",
    "## Fitting a model on Principal Components\n",
    "Next, I will decrease the number of features used for training by applying principal component analysis (PCA). Exploratory data analysis showed that 3 principal components account for more than 99.99% of variance. Therefore using 3 principal components here. Gradient Boosting classifier is used here since it produced the best results so far on the data with all features."
   ]
  },
  {
   "cell_type": "code",
   "execution_count": 53,
   "metadata": {},
   "outputs": [],
   "source": [
    "pca = PCA(n_components=3)\n",
    "X_train_combined_pcs = pca.fit_transform(X_rus_combined)\n",
    "X_hold2_pcs = pca.transform(X_hold2)\n",
    "X_hold3_pcs = pca.transform(X_hold3)"
   ]
  },
  {
   "cell_type": "code",
   "execution_count": 54,
   "metadata": {},
   "outputs": [
    {
     "data": {
      "text/html": [
       "<div>\n",
       "<style scoped>\n",
       "    .dataframe tbody tr th:only-of-type {\n",
       "        vertical-align: middle;\n",
       "    }\n",
       "\n",
       "    .dataframe tbody tr th {\n",
       "        vertical-align: top;\n",
       "    }\n",
       "\n",
       "    .dataframe thead th {\n",
       "        text-align: right;\n",
       "    }\n",
       "</style>\n",
       "<table border=\"1\" class=\"dataframe\">\n",
       "  <thead>\n",
       "    <tr style=\"text-align: right;\">\n",
       "      <th></th>\n",
       "      <th>training data</th>\n",
       "      <th>validation data</th>\n",
       "    </tr>\n",
       "  </thead>\n",
       "  <tbody>\n",
       "    <tr>\n",
       "      <th>precision score</th>\n",
       "      <td>0.553356</td>\n",
       "      <td>0.124177</td>\n",
       "    </tr>\n",
       "    <tr>\n",
       "      <th>recall score</th>\n",
       "      <td>0.522114</td>\n",
       "      <td>0.496927</td>\n",
       "    </tr>\n",
       "    <tr>\n",
       "      <th>F1 score</th>\n",
       "      <td>0.537282</td>\n",
       "      <td>0.198701</td>\n",
       "    </tr>\n",
       "    <tr>\n",
       "      <th>Fbeta score</th>\n",
       "      <td>0.552086</td>\n",
       "      <td>0.127866</td>\n",
       "    </tr>\n",
       "    <tr>\n",
       "      <th>Mattews correlation coefficient</th>\n",
       "      <td>0.100849</td>\n",
       "      <td>0.0350193</td>\n",
       "    </tr>\n",
       "    <tr>\n",
       "      <th>accuracy score</th>\n",
       "      <td>0.550344</td>\n",
       "      <td>0.55144</td>\n",
       "    </tr>\n",
       "  </tbody>\n",
       "</table>\n",
       "</div>"
      ],
      "text/plain": [
       "                                training data validation data\n",
       "precision score                      0.553356        0.124177\n",
       "recall score                         0.522114        0.496927\n",
       "F1 score                             0.537282        0.198701\n",
       "Fbeta score                          0.552086        0.127866\n",
       "Mattews correlation coefficient      0.100849       0.0350193\n",
       "accuracy score                       0.550344         0.55144"
      ]
     },
     "execution_count": 54,
     "metadata": {},
     "output_type": "execute_result"
    },
    {
     "data": {
      "image/png": "[encoded data removed]",
      "text/plain": [
       "<Figure size 720x432 with 4 Axes>"
      ]
     },
     "metadata": {
      "needs_background": "light"
     },
     "output_type": "display_data"
    }
   ],
   "source": [
    "gbc_PCA = GradientBoostingClassifier(\n",
    "    n_estimators=100,\n",
    "    max_depth=2,\n",
    "    min_samples_split=2,\n",
    "    random_state=42)\n",
    "gbc_PCA.fit(X_train_combined_pcs, y_rus_combined)\n",
    "test_model(X_train_combined_pcs, y_rus_combined, X_hold2_pcs, y_hold2, gbc_PCA)"
   ]
  },
  {
   "cell_type": "markdown",
   "metadata": {},
   "source": [
    "The model trained on principal components (F1 score of 0.20) performed the worse that the Gradient Boosting model.\n",
    "## Model comparison\n",
    "For better comparison of model performances, I will plot the F1 scores for each model trained."
   ]
  },
  {
   "cell_type": "code",
   "execution_count": 55,
   "metadata": {},
   "outputs": [
    {
     "data": {
      "image/png": "[encoded data removed]",
      "text/plain": [
       "<Figure size 432x288 with 1 Axes>"
      ]
     },
     "metadata": {
      "needs_background": "light"
     },
     "output_type": "display_data"
    }
   ],
   "source": [
    "models_to_compare = [clf_dummy, clf_RF, clf_smote, clf_rus, clf_adasyn, clf_RF_recall, clf_RF_precision, clf_RF_F1, clf_RF_Fbeta, ada_clf, clf_gbc, gbc_PCA, logreg, clf_elasticnet]\n",
    "model_labels = ['clf_dummy', 'clf_RF', 'clf_smote', 'clf_rus', 'clf_adasyn', 'clf_RF_recall', 'clf_RF_precision', 'clf_RF_F1', 'clf_RF_Fbeta', 'ada_clf', 'clf_gbc', 'gbc_PCA', 'logreg', 'clf_elasticnet']\n",
    "F1_scores = [f1_score(y_hold2, clf_model.predict(X_hold2)) for clf_model in models_to_compare[:-3]]\n",
    "F1_scores.append(f1_score(y_hold2, gbc_PCA.predict(X_hold2_pcs)))\n",
    "F1_scores.append(f1_score(y_hold2, logreg.predict(X_hold2_combined_scaled[:, rfe.support_])))\n",
    "F1_scores.append(f1_score(y_hold2, clf_elasticnet.predict(X_hold2_combined_scaled)))\n",
    "F1_score = pd.DataFrame({'F1_score': F1_scores, 'model': models_to_compare, 'model_label': model_labels})\n",
    "sns.scatterplot(data=F1_score, x='model_label', y='F1_score');\n",
    "plt.xticks(rotation='vertical');\n",
    "plt.xlabel('tuned model');\n",
    "plt.ylabel(r'F1 score');\n",
    "plt.title('Model comparison');"
   ]
  },
  {
   "cell_type": "code",
   "execution_count": 56,
   "metadata": {},
   "outputs": [
    {
     "data": {
      "text/html": [
       "<div>\n",
       "<style scoped>\n",
       "    .dataframe tbody tr th:only-of-type {\n",
       "        vertical-align: middle;\n",
       "    }\n",
       "\n",
       "    .dataframe tbody tr th {\n",
       "        vertical-align: top;\n",
       "    }\n",
       "\n",
       "    .dataframe thead th {\n",
       "        text-align: right;\n",
       "    }\n",
       "</style>\n",
       "<table border=\"1\" class=\"dataframe\">\n",
       "  <thead>\n",
       "    <tr style=\"text-align: right;\">\n",
       "      <th></th>\n",
       "      <th>F1_score</th>\n",
       "      <th>model</th>\n",
       "      <th>model_label</th>\n",
       "    </tr>\n",
       "  </thead>\n",
       "  <tbody>\n",
       "    <tr>\n",
       "      <th>10</th>\n",
       "      <td>0.266533</td>\n",
       "      <td>([DecisionTreeRegressor(criterion='friedman_ms...</td>\n",
       "      <td>clf_gbc</td>\n",
       "    </tr>\n",
       "  </tbody>\n",
       "</table>\n",
       "</div>"
      ],
      "text/plain": [
       "    F1_score                                              model model_label\n",
       "10  0.266533  ([DecisionTreeRegressor(criterion='friedman_ms...     clf_gbc"
      ]
     },
     "execution_count": 56,
     "metadata": {},
     "output_type": "execute_result"
    }
   ],
   "source": [
    "F1_score.loc[F1_score.F1_score == np.max(F1_score.F1_score)]"
   ]
  },
  {
   "cell_type": "code",
   "execution_count": 57,
   "metadata": {},
   "outputs": [
    {
     "data": {
      "text/html": [
       "<div>\n",
       "<style scoped>\n",
       "    .dataframe tbody tr th:only-of-type {\n",
       "        vertical-align: middle;\n",
       "    }\n",
       "\n",
       "    .dataframe tbody tr th {\n",
       "        vertical-align: top;\n",
       "    }\n",
       "\n",
       "    .dataframe thead th {\n",
       "        text-align: right;\n",
       "    }\n",
       "</style>\n",
       "<table border=\"1\" class=\"dataframe\">\n",
       "  <thead>\n",
       "    <tr style=\"text-align: right;\">\n",
       "      <th></th>\n",
       "      <th>training data</th>\n",
       "      <th>validation data</th>\n",
       "    </tr>\n",
       "  </thead>\n",
       "  <tbody>\n",
       "    <tr>\n",
       "      <th>precision score</th>\n",
       "      <td>0.632876</td>\n",
       "      <td>0.172682</td>\n",
       "    </tr>\n",
       "    <tr>\n",
       "      <th>recall score</th>\n",
       "      <td>0.589058</td>\n",
       "      <td>0.583845</td>\n",
       "    </tr>\n",
       "    <tr>\n",
       "      <th>F1 score</th>\n",
       "      <td>0.610181</td>\n",
       "      <td>0.266533</td>\n",
       "    </tr>\n",
       "    <tr>\n",
       "      <th>Fbeta score</th>\n",
       "      <td>0.63107</td>\n",
       "      <td>0.17749</td>\n",
       "    </tr>\n",
       "    <tr>\n",
       "      <th>Mattews correlation coefficient</th>\n",
       "      <td>0.247947</td>\n",
       "      <td>0.150379</td>\n",
       "    </tr>\n",
       "    <tr>\n",
       "      <th>accuracy score</th>\n",
       "      <td>0.623676</td>\n",
       "      <td>0.640366</td>\n",
       "    </tr>\n",
       "  </tbody>\n",
       "</table>\n",
       "</div>"
      ],
      "text/plain": [
       "                                training data validation data\n",
       "precision score                      0.632876        0.172682\n",
       "recall score                         0.589058        0.583845\n",
       "F1 score                             0.610181        0.266533\n",
       "Fbeta score                           0.63107         0.17749\n",
       "Mattews correlation coefficient      0.247947        0.150379\n",
       "accuracy score                       0.623676        0.640366"
      ]
     },
     "execution_count": 57,
     "metadata": {},
     "output_type": "execute_result"
    },
    {
     "data": {
      "image/png": "[encoded data removed]",
      "text/plain": [
       "<Figure size 720x432 with 4 Axes>"
      ]
     },
     "metadata": {
      "needs_background": "light"
     },
     "output_type": "display_data"
    }
   ],
   "source": [
    "test_model(X_rus_combined, y_rus_combined, X_hold2, y_hold2, clf_gbc)"
   ]
  },
  {
   "cell_type": "markdown",
   "metadata": {},
   "source": [
    "The Gradient Boosting model is the best performing as judged by the F1 score."
   ]
  },
  {
   "cell_type": "markdown",
   "metadata": {},
   "source": [
    "## Testing on the final holdout set\n",
    "Next, I will train a model on the data that includes the training set and 2 hold-out sets. This model will be tested on up to this point unused data set (hold-out set 3) to estimate how the model would generalize to new data."
   ]
  },
  {
   "cell_type": "code",
   "execution_count": 74,
   "metadata": {},
   "outputs": [
    {
     "data": {
      "text/html": [
       "<div>\n",
       "<style scoped>\n",
       "    .dataframe tbody tr th:only-of-type {\n",
       "        vertical-align: middle;\n",
       "    }\n",
       "\n",
       "    .dataframe tbody tr th {\n",
       "        vertical-align: top;\n",
       "    }\n",
       "\n",
       "    .dataframe thead th {\n",
       "        text-align: right;\n",
       "    }\n",
       "</style>\n",
       "<table border=\"1\" class=\"dataframe\">\n",
       "  <thead>\n",
       "    <tr style=\"text-align: right;\">\n",
       "      <th></th>\n",
       "      <th>training data</th>\n",
       "      <th>validation data</th>\n",
       "    </tr>\n",
       "  </thead>\n",
       "  <tbody>\n",
       "    <tr>\n",
       "      <th>precision score</th>\n",
       "      <td>0.63573</td>\n",
       "      <td>0.169391</td>\n",
       "    </tr>\n",
       "    <tr>\n",
       "      <th>recall score</th>\n",
       "      <td>0.566822</td>\n",
       "      <td>0.566447</td>\n",
       "    </tr>\n",
       "    <tr>\n",
       "      <th>F1 score</th>\n",
       "      <td>0.599302</td>\n",
       "      <td>0.260794</td>\n",
       "    </tr>\n",
       "    <tr>\n",
       "      <th>Fbeta score</th>\n",
       "      <td>0.632771</td>\n",
       "      <td>0.174085</td>\n",
       "    </tr>\n",
       "    <tr>\n",
       "      <th>Mattews correlation coefficient</th>\n",
       "      <td>0.24347</td>\n",
       "      <td>0.155938</td>\n",
       "    </tr>\n",
       "    <tr>\n",
       "      <th>accuracy score</th>\n",
       "      <td>0.621018</td>\n",
       "      <td>0.665226</td>\n",
       "    </tr>\n",
       "  </tbody>\n",
       "</table>\n",
       "</div>"
      ],
      "text/plain": [
       "                                training data validation data\n",
       "precision score                       0.63573        0.169391\n",
       "recall score                         0.566822        0.566447\n",
       "F1 score                             0.599302        0.260794\n",
       "Fbeta score                          0.632771        0.174085\n",
       "Mattews correlation coefficient       0.24347        0.155938\n",
       "accuracy score                       0.621018        0.665226"
      ]
     },
     "execution_count": 74,
     "metadata": {},
     "output_type": "execute_result"
    },
    {
     "data": {
      "image/png": "[encoded data removed]",
      "text/plain": [
       "<Figure size 720x432 with 4 Axes>"
      ]
     },
     "metadata": {
      "needs_background": "light"
     },
     "output_type": "display_data"
    }
   ],
   "source": [
    "gbc_final = GradientBoostingClassifier(\n",
    "    n_estimators=100,\n",
    "    max_depth=2,\n",
    "    min_samples_split=2,\n",
    "    max_features=20,\n",
    "    random_state=42)\n",
    "gbc_final.fit(X_rus_combined2, y_rus_combined2)\n",
    "test_model(X_rus_combined2, y_rus_combined2, X_hold3, y_hold3, gbc_final, test='Test')"
   ]
  },
  {
   "cell_type": "code",
   "execution_count": 62,
   "metadata": {},
   "outputs": [
    {
     "data": {
      "text/html": [
       "<div>\n",
       "<style scoped>\n",
       "    .dataframe tbody tr th:only-of-type {\n",
       "        vertical-align: middle;\n",
       "    }\n",
       "\n",
       "    .dataframe tbody tr th {\n",
       "        vertical-align: top;\n",
       "    }\n",
       "\n",
       "    .dataframe thead th {\n",
       "        text-align: right;\n",
       "    }\n",
       "</style>\n",
       "<table border=\"1\" class=\"dataframe\">\n",
       "  <thead>\n",
       "    <tr style=\"text-align: right;\">\n",
       "      <th></th>\n",
       "      <th>feature</th>\n",
       "      <th>importance</th>\n",
       "    </tr>\n",
       "  </thead>\n",
       "  <tbody>\n",
       "    <tr>\n",
       "      <th>13</th>\n",
       "      <td>number_inpatient</td>\n",
       "      <td>0.463269</td>\n",
       "    </tr>\n",
       "    <tr>\n",
       "      <th>4</th>\n",
       "      <td>discharge_disposition_id</td>\n",
       "      <td>0.251501</td>\n",
       "    </tr>\n",
       "    <tr>\n",
       "      <th>12</th>\n",
       "      <td>number_emergency</td>\n",
       "      <td>0.043331</td>\n",
       "    </tr>\n",
       "    <tr>\n",
       "      <th>6</th>\n",
       "      <td>time_in_hospital</td>\n",
       "      <td>0.031219</td>\n",
       "    </tr>\n",
       "    <tr>\n",
       "      <th>2</th>\n",
       "      <td>age</td>\n",
       "      <td>0.019627</td>\n",
       "    </tr>\n",
       "    <tr>\n",
       "      <th>35</th>\n",
       "      <td>insulin</td>\n",
       "      <td>0.015992</td>\n",
       "    </tr>\n",
       "    <tr>\n",
       "      <th>15</th>\n",
       "      <td>diag_2</td>\n",
       "      <td>0.013923</td>\n",
       "    </tr>\n",
       "    <tr>\n",
       "      <th>42</th>\n",
       "      <td>diabetesMed</td>\n",
       "      <td>0.013705</td>\n",
       "    </tr>\n",
       "    <tr>\n",
       "      <th>10</th>\n",
       "      <td>num_medications</td>\n",
       "      <td>0.013218</td>\n",
       "    </tr>\n",
       "    <tr>\n",
       "      <th>14</th>\n",
       "      <td>diag_1</td>\n",
       "      <td>0.011147</td>\n",
       "    </tr>\n",
       "  </tbody>\n",
       "</table>\n",
       "</div>"
      ],
      "text/plain": [
       "                     feature  importance\n",
       "13          number_inpatient    0.463269\n",
       "4   discharge_disposition_id    0.251501\n",
       "12          number_emergency    0.043331\n",
       "6           time_in_hospital    0.031219\n",
       "2                        age    0.019627\n",
       "35                   insulin    0.015992\n",
       "15                    diag_2    0.013923\n",
       "42               diabetesMed    0.013705\n",
       "10           num_medications    0.013218\n",
       "14                    diag_1    0.011147"
      ]
     },
     "execution_count": 62,
     "metadata": {},
     "output_type": "execute_result"
    }
   ],
   "source": [
    "important_features_final = pd.DataFrame({\n",
    "    'feature': cols,\n",
    "    'importance': gbc_final.feature_importances_,\n",
    "})\n",
    "important_features_final.loc[important_features_final.importance != 0].sort_values('importance', ascending=False)[:10]"
   ]
  },
  {
   "cell_type": "markdown",
   "metadata": {},
   "source": [
    "The important features that played a role in the prediction whether the patient will be readmitted within the 30 days following hospital discharge are number of inpatient visits in a year preceding the encounter, discharge disposition, number of emergency visits in a year preceding the encounter, duration of hospital stay, age. <br>\n",
    "\n",
    "The F1 score of the final model on the test data is about 0.26. The precision score (the fraction of true positive observation out of the total predicted positive) is about 0.17. The recall score (the fraction of true positive observations out of total true positive) is about 0.57. The model's precision score still is very low, and the model is still overfitting. There are 2 main takeaways from this: \n",
    "    1) Use the model as is. Only 17% of the predicted positive are true positive, but the model still allows to narrow down the number of patients that would benefit from the follow up program aimed at minimazing the chances of readmission. This might still lead to significant reduction in the 30 day readmission rates.\n",
    "    2) Collect more data and build a better model. More data with more features would allow to build a model with much better predictive metrics.\n",
    "    \n",
    "The model will be saved on the hard disk for future use."
   ]
  },
  {
   "cell_type": "code",
   "execution_count": 60,
   "metadata": {},
   "outputs": [
    {
     "data": {
      "text/plain": [
       "['finalized_model.pkl']"
      ]
     },
     "execution_count": 60,
     "metadata": {},
     "output_type": "execute_result"
    }
   ],
   "source": [
    "# save the model to disk\n",
    "filename = 'finalized_model.pkl'\n",
    "joblib.dump(gbc_final, filename)"
   ]
  },
  {
   "cell_type": "code",
   "execution_count": null,
   "metadata": {},
   "outputs": [],
   "source": []
  }
 ],
 "metadata": {
  "kernelspec": {
   "display_name": "Python 3",
   "language": "python",
   "name": "python3"
  },
  "language_info": {
   "codemirror_mode": {
    "name": "ipython",
    "version": 3
   },
   "file_extension": ".py",
   "mimetype": "text/x-python",
   "name": "python",
   "nbconvert_exporter": "python",
   "pygments_lexer": "ipython3",
   "version": "3.6.6"
  }
 },
 "nbformat": 4,
 "nbformat_minor": 2
}
