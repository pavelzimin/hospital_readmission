{
 "cells": [
  {
   "cell_type": "code",
   "execution_count": 1,
   "metadata": {},
   "outputs": [],
   "source": [
    "import pandas as pd\n",
    "import numpy as np\n",
    "import matplotlib.pyplot as plt\n",
    "%matplotlib inline\n",
    "import pickle\n",
    "import seaborn as sns\n",
    "import random\n",
    "from sklearn.ensemble import RandomForestClassifier\n",
    "from sklearn.metrics import recall_score\n",
    "from sklearn.metrics import precision_score\n",
    "from sklearn.metrics import confusion_matrix\n",
    "from sklearn.metrics import accuracy_score\n",
    "from sklearn.model_selection import GridSearchCV\n",
    "from imblearn.under_sampling import RandomUnderSampler\n",
    "from sklearn.svm import SVC\n",
    "from sklearn.ensemble import AdaBoostClassifier\n",
    "from sklearn.tree import DecisionTreeClassifier\n",
    "from sklearn.ensemble import GradientBoostingClassifier\n",
    "from imblearn.over_sampling import SMOTE, ADASYN\n",
    "from sklearn.metrics import matthews_corrcoef\n",
    "from sklearn.metrics import f1_score\n",
    "from sklearn.metrics import fbeta_score\n",
    "from sklearn.model_selection import train_test_split\n",
    "from sklearn.metrics import fbeta_score\n",
    "from sklearn.linear_model import LogisticRegression\n",
    "from sklearn.feature_selection import RFE\n",
    "from sklearn.preprocessing import MinMaxScaler\n",
    "from sklearn.pipeline import Pipeline\n",
    "import statsmodels.api as sm\n",
    "from sklearn.metrics import roc_curve\n",
    "from itertools import permutations, repeat\n",
    "from sklearn.decomposition import PCA\n",
    "\n",
    "sns.set()"
   ]
  },
  {
   "cell_type": "code",
   "execution_count": 2,
   "metadata": {},
   "outputs": [],
   "source": [
    "with open('clean_data/df.pkl', 'rb') as f:\n",
    "        df = pickle.load(f)\n",
    "with open('clean_data/df_labels.pkl', 'rb') as f:\n",
    "        df_labels = pickle.load(f)"
   ]
  },
  {
   "cell_type": "code",
   "execution_count": 3,
   "metadata": {},
   "outputs": [
    {
     "data": {
      "text/html": [
       "<div>\n",
       "<style scoped>\n",
       "    .dataframe tbody tr th:only-of-type {\n",
       "        vertical-align: middle;\n",
       "    }\n",
       "\n",
       "    .dataframe tbody tr th {\n",
       "        vertical-align: top;\n",
       "    }\n",
       "\n",
       "    .dataframe thead th {\n",
       "        text-align: right;\n",
       "    }\n",
       "</style>\n",
       "<table border=\"1\" class=\"dataframe\">\n",
       "  <thead>\n",
       "    <tr style=\"text-align: right;\">\n",
       "      <th></th>\n",
       "      <th>encounter_id</th>\n",
       "      <th>patient_nbr</th>\n",
       "      <th>race</th>\n",
       "      <th>gender</th>\n",
       "      <th>age</th>\n",
       "      <th>admission_type_id</th>\n",
       "      <th>discharge_disposition_id</th>\n",
       "      <th>admission_source_id</th>\n",
       "      <th>time_in_hospital</th>\n",
       "      <th>payer_code</th>\n",
       "      <th>...</th>\n",
       "      <th>level_4_diag_1_na</th>\n",
       "      <th>level_5_diag_1_na</th>\n",
       "      <th>level_2_diag_2_na</th>\n",
       "      <th>level_3_diag_2_na</th>\n",
       "      <th>level_4_diag_2_na</th>\n",
       "      <th>level_5_diag_2_na</th>\n",
       "      <th>level_2_diag_3_na</th>\n",
       "      <th>level_3_diag_3_na</th>\n",
       "      <th>level_4_diag_3_na</th>\n",
       "      <th>level_5_diag_3_na</th>\n",
       "    </tr>\n",
       "  </thead>\n",
       "  <tbody>\n",
       "    <tr>\n",
       "      <th>0</th>\n",
       "      <td>2278392</td>\n",
       "      <td>8222157</td>\n",
       "      <td>3</td>\n",
       "      <td>1</td>\n",
       "      <td>0</td>\n",
       "      <td>0</td>\n",
       "      <td>0</td>\n",
       "      <td>1</td>\n",
       "      <td>1</td>\n",
       "      <td>0</td>\n",
       "      <td>...</td>\n",
       "      <td>0</td>\n",
       "      <td>0</td>\n",
       "      <td>1</td>\n",
       "      <td>1</td>\n",
       "      <td>1</td>\n",
       "      <td>1</td>\n",
       "      <td>1</td>\n",
       "      <td>1</td>\n",
       "      <td>1</td>\n",
       "      <td>1</td>\n",
       "    </tr>\n",
       "    <tr>\n",
       "      <th>1</th>\n",
       "      <td>149190</td>\n",
       "      <td>55629189</td>\n",
       "      <td>3</td>\n",
       "      <td>1</td>\n",
       "      <td>1</td>\n",
       "      <td>1</td>\n",
       "      <td>1</td>\n",
       "      <td>7</td>\n",
       "      <td>3</td>\n",
       "      <td>0</td>\n",
       "      <td>...</td>\n",
       "      <td>0</td>\n",
       "      <td>0</td>\n",
       "      <td>0</td>\n",
       "      <td>0</td>\n",
       "      <td>0</td>\n",
       "      <td>0</td>\n",
       "      <td>0</td>\n",
       "      <td>0</td>\n",
       "      <td>0</td>\n",
       "      <td>0</td>\n",
       "    </tr>\n",
       "    <tr>\n",
       "      <th>2</th>\n",
       "      <td>64410</td>\n",
       "      <td>86047875</td>\n",
       "      <td>1</td>\n",
       "      <td>1</td>\n",
       "      <td>2</td>\n",
       "      <td>1</td>\n",
       "      <td>1</td>\n",
       "      <td>7</td>\n",
       "      <td>2</td>\n",
       "      <td>0</td>\n",
       "      <td>...</td>\n",
       "      <td>0</td>\n",
       "      <td>0</td>\n",
       "      <td>0</td>\n",
       "      <td>0</td>\n",
       "      <td>0</td>\n",
       "      <td>0</td>\n",
       "      <td>0</td>\n",
       "      <td>0</td>\n",
       "      <td>0</td>\n",
       "      <td>0</td>\n",
       "    </tr>\n",
       "    <tr>\n",
       "      <th>3</th>\n",
       "      <td>500364</td>\n",
       "      <td>82442376</td>\n",
       "      <td>3</td>\n",
       "      <td>2</td>\n",
       "      <td>3</td>\n",
       "      <td>1</td>\n",
       "      <td>1</td>\n",
       "      <td>7</td>\n",
       "      <td>2</td>\n",
       "      <td>0</td>\n",
       "      <td>...</td>\n",
       "      <td>0</td>\n",
       "      <td>0</td>\n",
       "      <td>0</td>\n",
       "      <td>0</td>\n",
       "      <td>0</td>\n",
       "      <td>0</td>\n",
       "      <td>0</td>\n",
       "      <td>0</td>\n",
       "      <td>0</td>\n",
       "      <td>0</td>\n",
       "    </tr>\n",
       "    <tr>\n",
       "      <th>4</th>\n",
       "      <td>16680</td>\n",
       "      <td>42519267</td>\n",
       "      <td>3</td>\n",
       "      <td>2</td>\n",
       "      <td>4</td>\n",
       "      <td>1</td>\n",
       "      <td>1</td>\n",
       "      <td>7</td>\n",
       "      <td>1</td>\n",
       "      <td>0</td>\n",
       "      <td>...</td>\n",
       "      <td>0</td>\n",
       "      <td>0</td>\n",
       "      <td>0</td>\n",
       "      <td>0</td>\n",
       "      <td>0</td>\n",
       "      <td>0</td>\n",
       "      <td>0</td>\n",
       "      <td>0</td>\n",
       "      <td>0</td>\n",
       "      <td>0</td>\n",
       "    </tr>\n",
       "  </tbody>\n",
       "</table>\n",
       "<p>5 rows × 87 columns</p>\n",
       "</div>"
      ],
      "text/plain": [
       "   encounter_id  patient_nbr  race  gender  age  admission_type_id  \\\n",
       "0       2278392      8222157     3       1    0                  0   \n",
       "1        149190     55629189     3       1    1                  1   \n",
       "2         64410     86047875     1       1    2                  1   \n",
       "3        500364     82442376     3       2    3                  1   \n",
       "4         16680     42519267     3       2    4                  1   \n",
       "\n",
       "   discharge_disposition_id  admission_source_id  time_in_hospital  \\\n",
       "0                         0                    1                 1   \n",
       "1                         1                    7                 3   \n",
       "2                         1                    7                 2   \n",
       "3                         1                    7                 2   \n",
       "4                         1                    7                 1   \n",
       "\n",
       "   payer_code        ...          level_4_diag_1_na  level_5_diag_1_na  \\\n",
       "0           0        ...                          0                  0   \n",
       "1           0        ...                          0                  0   \n",
       "2           0        ...                          0                  0   \n",
       "3           0        ...                          0                  0   \n",
       "4           0        ...                          0                  0   \n",
       "\n",
       "   level_2_diag_2_na  level_3_diag_2_na  level_4_diag_2_na  level_5_diag_2_na  \\\n",
       "0                  1                  1                  1                  1   \n",
       "1                  0                  0                  0                  0   \n",
       "2                  0                  0                  0                  0   \n",
       "3                  0                  0                  0                  0   \n",
       "4                  0                  0                  0                  0   \n",
       "\n",
       "   level_2_diag_3_na  level_3_diag_3_na  level_4_diag_3_na  level_5_diag_3_na  \n",
       "0                  1                  1                  1                  1  \n",
       "1                  0                  0                  0                  0  \n",
       "2                  0                  0                  0                  0  \n",
       "3                  0                  0                  0                  0  \n",
       "4                  0                  0                  0                  0  \n",
       "\n",
       "[5 rows x 87 columns]"
      ]
     },
     "execution_count": 3,
     "metadata": {},
     "output_type": "execute_result"
    }
   ],
   "source": [
    "df.head()"
   ]
  },
  {
   "cell_type": "code",
   "execution_count": 4,
   "metadata": {},
   "outputs": [
    {
     "data": {
      "text/plain": [
       "0    54864\n",
       "1    11357\n",
       "2    35545\n",
       "Name: readmitted, dtype: int64"
      ]
     },
     "execution_count": 4,
     "metadata": {},
     "output_type": "execute_result"
    }
   ],
   "source": [
    "df['readmitted'].value_counts().sort_index()"
   ]
  },
  {
   "cell_type": "code",
   "execution_count": 5,
   "metadata": {},
   "outputs": [
    {
     "data": {
      "text/plain": [
       "0.11159915885462728"
      ]
     },
     "execution_count": 5,
     "metadata": {},
     "output_type": "execute_result"
    }
   ],
   "source": [
    "df['readmitted'] = (df['readmitted'] == 1).astype(int)\n",
    "df['readmitted'].mean()"
   ]
  },
  {
   "cell_type": "code",
   "execution_count": 6,
   "metadata": {},
   "outputs": [
    {
     "name": "stdout",
     "output_type": "stream",
     "text": [
      "(71236, 83)\n",
      "(71236,)\n"
     ]
    }
   ],
   "source": [
    "def data_split(df, y_col, to_drop=[], random_state=None, hold1_size=.1, hold2_size=.1, hold3_size=.1):\n",
    "    df_filtered = df.drop(columns=to_drop)\n",
    "    rows = list(df_filtered.index)\n",
    "    if random_state is not None:\n",
    "        random.seed(random_state)\n",
    "    random.shuffle(rows)\n",
    "    length = len(rows)\n",
    "    train_rows = rows[:int(length*.7)]\n",
    "    hold1_rows = rows[int(length*.7):int(length*.8)]\n",
    "    hold2_rows = rows[int(length*.8):int(length*.9)]\n",
    "    hold3_rows = rows[int(length*.9):]\n",
    "    X_train = df_filtered.drop(columns=[y_col]).iloc[train_rows].values\n",
    "    y_train = df_filtered.loc[train_rows, y_col].values\n",
    "    X_hold1 = df_filtered.drop(columns=[y_col]).iloc[hold1_rows].values\n",
    "    y_hold1 = df_filtered.loc[hold1_rows, y_col].values\n",
    "    X_hold2 = df_filtered.drop(columns=[y_col]).iloc[hold2_rows].values\n",
    "    y_hold2 = df_filtered.loc[hold2_rows, y_col].values\n",
    "    X_hold3 = df_filtered.drop(columns=[y_col]).iloc[hold3_rows].values\n",
    "    y_hold3 = df_filtered.loc[hold3_rows, y_col].values\n",
    "    cols = df_filtered.drop(columns=[y_col]).columns\n",
    "    return X_train, y_train, X_hold1, y_hold1, X_hold2, y_hold2, X_hold3, y_hold3, cols\n",
    "X_train, y_train, X_hold1, y_hold1, X_hold2, y_hold2, X_hold3, y_hold3, cols = data_split(\n",
    "    df=df, \n",
    "    y_col='readmitted',\n",
    "    to_drop=['encounter_id', 'patient_nbr', 'payer_code'], \n",
    "    random_state=42,\n",
    "    hold1_size=.1, \n",
    "    hold2_size=.1, \n",
    "    hold3_size=.1)\n",
    "print(X_train.shape)\n",
    "print(y_train.shape)"
   ]
  },
  {
   "cell_type": "code",
   "execution_count": 7,
   "metadata": {},
   "outputs": [
    {
     "name": "stdout",
     "output_type": "stream",
     "text": [
      "(18314, 83)\n",
      "(18314,)\n"
     ]
    }
   ],
   "source": [
    "rus = RandomUnderSampler(return_indices=True, random_state=42)\n",
    "X_rus_combined, y_rus_combined, id_rus = rus.fit_sample(np.concatenate((X_train, X_hold1)), np.concatenate((y_train, y_hold1)))\n",
    "print(X_rus_combined.shape)\n",
    "print(y_rus_combined.shape)"
   ]
  },
  {
   "cell_type": "code",
   "execution_count": 8,
   "metadata": {},
   "outputs": [
    {
     "name": "stderr",
     "output_type": "stream",
     "text": [
      "/home/pavel/anaconda3/lib/python3.6/site-packages/sklearn/ensemble/forest.py:246: FutureWarning: The default value of n_estimators will change from 10 in version 0.20 to 100 in 0.22.\n",
      "  \"10 in version 0.20 to 100 in 0.22.\", FutureWarning)\n"
     ]
    },
    {
     "data": {
      "text/html": [
       "<div>\n",
       "<style scoped>\n",
       "    .dataframe tbody tr th:only-of-type {\n",
       "        vertical-align: middle;\n",
       "    }\n",
       "\n",
       "    .dataframe tbody tr th {\n",
       "        vertical-align: top;\n",
       "    }\n",
       "\n",
       "    .dataframe thead th {\n",
       "        text-align: right;\n",
       "    }\n",
       "</style>\n",
       "<table border=\"1\" class=\"dataframe\">\n",
       "  <thead>\n",
       "    <tr style=\"text-align: right;\">\n",
       "      <th></th>\n",
       "      <th>training data</th>\n",
       "      <th>validation data</th>\n",
       "    </tr>\n",
       "  </thead>\n",
       "  <tbody>\n",
       "    <tr>\n",
       "      <th>precision score</th>\n",
       "      <td>0.999607</td>\n",
       "      <td>0.408163</td>\n",
       "    </tr>\n",
       "    <tr>\n",
       "      <th>recall score</th>\n",
       "      <td>0.833133</td>\n",
       "      <td>0.0175593</td>\n",
       "    </tr>\n",
       "    <tr>\n",
       "      <th>Fbeta score</th>\n",
       "      <td>0.991983</td>\n",
       "      <td>0.219966</td>\n",
       "    </tr>\n",
       "    <tr>\n",
       "      <th>Mattews correlation coefficient</th>\n",
       "      <td>0.903056</td>\n",
       "      <td>0.0653594</td>\n",
       "    </tr>\n",
       "    <tr>\n",
       "      <th>accuracy score</th>\n",
       "      <td>0.981194</td>\n",
       "      <td>0.887197</td>\n",
       "    </tr>\n",
       "  </tbody>\n",
       "</table>\n",
       "</div>"
      ],
      "text/plain": [
       "                                training data validation data\n",
       "precision score                      0.999607        0.408163\n",
       "recall score                         0.833133       0.0175593\n",
       "Fbeta score                          0.991983        0.219966\n",
       "Mattews correlation coefficient      0.903056       0.0653594\n",
       "accuracy score                       0.981194        0.887197"
      ]
     },
     "execution_count": 8,
     "metadata": {},
     "output_type": "execute_result"
    },
    {
     "data": {
      "image/png": "[encoded data removed]",
      "text/plain": [
       "<Figure size 720x432 with 4 Axes>"
      ]
     },
     "metadata": {
      "needs_background": "light"
     },
     "output_type": "display_data"
    }
   ],
   "source": [
    "def test_model(X_train, y_train, X_valid, y_valid, clf):\n",
    "    f, (ax1, ax2) =  plt.subplots(1, 2, figsize=(10, 6))\n",
    "    sns.heatmap(confusion_matrix(y_train, clf.predict(X_train)), cmap=plt.cm.Blues, square=True, annot=True, fmt='d', ax=ax1);\n",
    "    ax1.set_title('Training data')\n",
    "    sns.heatmap(confusion_matrix(y_valid, clf.predict(X_valid)), cmap=plt.cm.Blues, square=True, annot=True, fmt='d', ax=ax2);\n",
    "    ax2.set_title('Validation data');\n",
    "    plt.tight_layout();\n",
    "    score_table = pd.DataFrame(columns=['training data', 'validation data'])\n",
    "    score_table.loc['precision score', 'training data'] = precision_score(y_train, clf.predict(X_train))\n",
    "    score_table.loc['recall score', 'training data'] = recall_score(y_train, clf.predict(X_train))\n",
    "    score_table.loc['Fbeta score', 'training data'] = fbeta_score(y_train, clf.predict(X_train), beta=0.2)\n",
    "    score_table.loc['Mattews correlation coefficient', 'training data'] = matthews_corrcoef(y_train, clf.predict(X_train))\n",
    "    score_table.loc['accuracy score', 'training data'] = accuracy_score(y_train, clf.predict(X_train))\n",
    "    score_table.loc['precision score', 'validation data'] = precision_score(y_valid, clf.predict(X_valid))\n",
    "    score_table.loc['recall score', 'validation data'] = recall_score(y_valid, clf.predict(X_valid))\n",
    "    score_table.loc['Fbeta score', 'validation data'] = fbeta_score(y_valid, clf.predict(X_valid), beta=0.2)\n",
    "    score_table.loc['Mattews correlation coefficient', 'validation data'] = matthews_corrcoef(y_valid, clf.predict(X_valid))\n",
    "    score_table.loc['accuracy score', 'validation data'] = accuracy_score(y_valid, clf.predict(X_valid))\n",
    "    return score_table\n",
    "clf = RandomForestClassifier(n_jobs=-1, random_state=42)\n",
    "clf.fit(np.concatenate((X_train, X_hold1)), np.concatenate((y_train, y_hold1)))\n",
    "test_model(np.concatenate((X_train, X_hold1)), np.concatenate((y_train, y_hold1)), X_hold2, y_hold2, clf)"
   ]
  },
  {
   "cell_type": "markdown",
   "metadata": {},
   "source": [
    "## Undersampling to deal with imbalanced classes"
   ]
  },
  {
   "cell_type": "code",
   "execution_count": 9,
   "metadata": {},
   "outputs": [
    {
     "name": "stderr",
     "output_type": "stream",
     "text": [
      "/home/pavel/anaconda3/lib/python3.6/site-packages/sklearn/ensemble/forest.py:246: FutureWarning: The default value of n_estimators will change from 10 in version 0.20 to 100 in 0.22.\n",
      "  \"10 in version 0.20 to 100 in 0.22.\", FutureWarning)\n"
     ]
    },
    {
     "data": {
      "text/html": [
       "<div>\n",
       "<style scoped>\n",
       "    .dataframe tbody tr th:only-of-type {\n",
       "        vertical-align: middle;\n",
       "    }\n",
       "\n",
       "    .dataframe tbody tr th {\n",
       "        vertical-align: top;\n",
       "    }\n",
       "\n",
       "    .dataframe thead th {\n",
       "        text-align: right;\n",
       "    }\n",
       "</style>\n",
       "<table border=\"1\" class=\"dataframe\">\n",
       "  <thead>\n",
       "    <tr style=\"text-align: right;\">\n",
       "      <th></th>\n",
       "      <th>training data</th>\n",
       "      <th>validation data</th>\n",
       "    </tr>\n",
       "  </thead>\n",
       "  <tbody>\n",
       "    <tr>\n",
       "      <th>precision score</th>\n",
       "      <td>0.995212</td>\n",
       "      <td>0.146513</td>\n",
       "    </tr>\n",
       "    <tr>\n",
       "      <th>recall score</th>\n",
       "      <td>0.975975</td>\n",
       "      <td>0.457419</td>\n",
       "    </tr>\n",
       "    <tr>\n",
       "      <th>Fbeta score</th>\n",
       "      <td>0.994458</td>\n",
       "      <td>0.150446</td>\n",
       "    </tr>\n",
       "    <tr>\n",
       "      <th>Mattews correlation coefficient</th>\n",
       "      <td>0.97146</td>\n",
       "      <td>0.0804156</td>\n",
       "    </tr>\n",
       "    <tr>\n",
       "      <th>accuracy score</th>\n",
       "      <td>0.985639</td>\n",
       "      <td>0.641053</td>\n",
       "    </tr>\n",
       "  </tbody>\n",
       "</table>\n",
       "</div>"
      ],
      "text/plain": [
       "                                training data validation data\n",
       "precision score                      0.995212        0.146513\n",
       "recall score                         0.975975        0.457419\n",
       "Fbeta score                          0.994458        0.150446\n",
       "Mattews correlation coefficient       0.97146       0.0804156\n",
       "accuracy score                       0.985639        0.641053"
      ]
     },
     "execution_count": 9,
     "metadata": {},
     "output_type": "execute_result"
    },
    {
     "data": {
      "image/png": "[encoded data removed]",
      "text/plain": [
       "<Figure size 720x432 with 4 Axes>"
      ]
     },
     "metadata": {
      "needs_background": "light"
     },
     "output_type": "display_data"
    }
   ],
   "source": [
    "clf_rus = RandomForestClassifier(n_jobs=-1, random_state=42)\n",
    "clf_rus.fit(X_rus_combined, y_rus_combined)\n",
    "test_model(X_rus_combined, y_rus_combined, X_hold2, y_hold2, clf_rus)"
   ]
  },
  {
   "cell_type": "markdown",
   "metadata": {},
   "source": [
    "## Trying oversampling"
   ]
  },
  {
   "cell_type": "code",
   "execution_count": 10,
   "metadata": {},
   "outputs": [
    {
     "name": "stderr",
     "output_type": "stream",
     "text": [
      "/home/pavel/anaconda3/lib/python3.6/site-packages/sklearn/ensemble/forest.py:246: FutureWarning: The default value of n_estimators will change from 10 in version 0.20 to 100 in 0.22.\n",
      "  \"10 in version 0.20 to 100 in 0.22.\", FutureWarning)\n"
     ]
    },
    {
     "data": {
      "text/html": [
       "<div>\n",
       "<style scoped>\n",
       "    .dataframe tbody tr th:only-of-type {\n",
       "        vertical-align: middle;\n",
       "    }\n",
       "\n",
       "    .dataframe tbody tr th {\n",
       "        vertical-align: top;\n",
       "    }\n",
       "\n",
       "    .dataframe thead th {\n",
       "        text-align: right;\n",
       "    }\n",
       "</style>\n",
       "<table border=\"1\" class=\"dataframe\">\n",
       "  <thead>\n",
       "    <tr style=\"text-align: right;\">\n",
       "      <th></th>\n",
       "      <th>training data</th>\n",
       "      <th>validation data</th>\n",
       "    </tr>\n",
       "  </thead>\n",
       "  <tbody>\n",
       "    <tr>\n",
       "      <th>precision score</th>\n",
       "      <td>0.999204</td>\n",
       "      <td>0.163752</td>\n",
       "    </tr>\n",
       "    <tr>\n",
       "      <th>recall score</th>\n",
       "      <td>0.990575</td>\n",
       "      <td>0.0904302</td>\n",
       "    </tr>\n",
       "    <tr>\n",
       "      <th>Fbeta score</th>\n",
       "      <td>0.99887</td>\n",
       "      <td>0.1588</td>\n",
       "    </tr>\n",
       "    <tr>\n",
       "      <th>Mattews correlation coefficient</th>\n",
       "      <td>0.989823</td>\n",
       "      <td>0.0421985</td>\n",
       "    </tr>\n",
       "    <tr>\n",
       "      <th>accuracy score</th>\n",
       "      <td>0.994893</td>\n",
       "      <td>0.846517</td>\n",
       "    </tr>\n",
       "  </tbody>\n",
       "</table>\n",
       "</div>"
      ],
      "text/plain": [
       "                                training data validation data\n",
       "precision score                      0.999204        0.163752\n",
       "recall score                         0.990575       0.0904302\n",
       "Fbeta score                           0.99887          0.1588\n",
       "Mattews correlation coefficient      0.989823       0.0421985\n",
       "accuracy score                       0.994893        0.846517"
      ]
     },
     "execution_count": 10,
     "metadata": {},
     "output_type": "execute_result"
    },
    {
     "data": {
      "image/png": "[encoded data removed]",
      "text/plain": [
       "<Figure size 720x432 with 4 Axes>"
      ]
     },
     "metadata": {
      "needs_background": "light"
     },
     "output_type": "display_data"
    }
   ],
   "source": [
    "X_smote, y_smote = SMOTE(random_state=42).fit_resample(np.concatenate((X_train, X_hold1)), np.concatenate((y_train, y_hold1)))\n",
    "clf_smote = RandomForestClassifier(n_jobs=-1, random_state=42)\n",
    "clf_smote.fit(X_smote, y_smote)\n",
    "test_model(X_smote, y_smote, X_hold2, y_hold2, clf_smote)"
   ]
  },
  {
   "cell_type": "code",
   "execution_count": 11,
   "metadata": {},
   "outputs": [
    {
     "name": "stderr",
     "output_type": "stream",
     "text": [
      "/home/pavel/anaconda3/lib/python3.6/site-packages/sklearn/ensemble/forest.py:246: FutureWarning: The default value of n_estimators will change from 10 in version 0.20 to 100 in 0.22.\n",
      "  \"10 in version 0.20 to 100 in 0.22.\", FutureWarning)\n"
     ]
    },
    {
     "data": {
      "text/html": [
       "<div>\n",
       "<style scoped>\n",
       "    .dataframe tbody tr th:only-of-type {\n",
       "        vertical-align: middle;\n",
       "    }\n",
       "\n",
       "    .dataframe tbody tr th {\n",
       "        vertical-align: top;\n",
       "    }\n",
       "\n",
       "    .dataframe thead th {\n",
       "        text-align: right;\n",
       "    }\n",
       "</style>\n",
       "<table border=\"1\" class=\"dataframe\">\n",
       "  <thead>\n",
       "    <tr style=\"text-align: right;\">\n",
       "      <th></th>\n",
       "      <th>training data</th>\n",
       "      <th>validation data</th>\n",
       "    </tr>\n",
       "  </thead>\n",
       "  <tbody>\n",
       "    <tr>\n",
       "      <th>precision score</th>\n",
       "      <td>0.998951</td>\n",
       "      <td>0.149547</td>\n",
       "    </tr>\n",
       "    <tr>\n",
       "      <th>recall score</th>\n",
       "      <td>0.989839</td>\n",
       "      <td>0.0869183</td>\n",
       "    </tr>\n",
       "    <tr>\n",
       "      <th>Fbeta score</th>\n",
       "      <td>0.998597</td>\n",
       "      <td>0.145514</td>\n",
       "    </tr>\n",
       "    <tr>\n",
       "      <th>Mattews correlation coefficient</th>\n",
       "      <td>0.98885</td>\n",
       "      <td>0.0314815</td>\n",
       "    </tr>\n",
       "    <tr>\n",
       "      <th>accuracy score</th>\n",
       "      <td>0.994404</td>\n",
       "      <td>0.842488</td>\n",
       "    </tr>\n",
       "  </tbody>\n",
       "</table>\n",
       "</div>"
      ],
      "text/plain": [
       "                                training data validation data\n",
       "precision score                      0.998951        0.149547\n",
       "recall score                         0.989839       0.0869183\n",
       "Fbeta score                          0.998597        0.145514\n",
       "Mattews correlation coefficient       0.98885       0.0314815\n",
       "accuracy score                       0.994404        0.842488"
      ]
     },
     "execution_count": 11,
     "metadata": {},
     "output_type": "execute_result"
    },
    {
     "data": {
      "image/png": "[encoded data removed]",
      "text/plain": [
       "<Figure size 720x432 with 4 Axes>"
      ]
     },
     "metadata": {
      "needs_background": "light"
     },
     "output_type": "display_data"
    }
   ],
   "source": [
    "X_adasyn, y_adasyn = ADASYN(random_state=42).fit_resample(np.concatenate((X_train, X_hold1)), np.concatenate((y_train, y_hold1)))\n",
    "clf_adasyn = RandomForestClassifier(n_jobs=-1, random_state=42)\n",
    "clf_adasyn.fit(X_adasyn, y_adasyn)\n",
    "test_model(X_adasyn, y_adasyn, X_hold2, y_hold2, clf_adasyn)"
   ]
  },
  {
   "cell_type": "markdown",
   "metadata": {},
   "source": [
    "## Optimizing RandomForest for recall"
   ]
  },
  {
   "cell_type": "code",
   "execution_count": 12,
   "metadata": {},
   "outputs": [],
   "source": [
    "rus = RandomUnderSampler(return_indices=True, random_state=42)\n",
    "X_rus, y_rus, id_rus = rus.fit_sample(X_train, y_train)"
   ]
  },
  {
   "cell_type": "code",
   "execution_count": null,
   "metadata": {},
   "outputs": [],
   "source": [
    "max_depths = [2, 5, 10, 20, 40, None]\n",
    "min_samples_splits = [2, 3, 5, 7, 10, 50]\n",
    "n_estimators_range = [2, 5, 10, 20, 40, 60, 100]\n",
    "max_features_range = [2, 5, 7, 10, 15, 20, 25, 30]\n",
    "def tune_DT(X_train, y_train, X_valid, y_valid, n_estimators_range, max_depths, min_samples_splits, max_features_range, beta=0.2, random_state=42):\n",
    "    score_table = pd.DataFrame(columns = ['n_estimators', 'max_features', 'max_depth', 'min_samples_split', 'Fbeta_score', 'precision_score', 'recall_score', 'f1_score', 'matthews_corrcoef'])\n",
    "    i = 0\n",
    "    for n_estimators in n_estimators_range:\n",
    "        for max_depth in max_depths:\n",
    "            for min_samples_split in min_samples_splits:\n",
    "                for max_features in max_features_range:\n",
    "                    clf = RandomForestClassifier(n_estimators=n_estimators,\n",
    "                                           max_depth=max_depth,\n",
    "                                           min_samples_split=min_samples_split,\n",
    "                                           max_features=max_features,\n",
    "                                           n_jobs=-1, \n",
    "                                           random_state=42)\n",
    "                    clf.fit(X_train, y_train)\n",
    "                    score_table.loc[i, 'n_estimators'] = n_estimators\n",
    "                    score_table.loc[i, 'max_features'] = max_features\n",
    "                    score_table.loc[i, 'max_depth'] = max_depth\n",
    "                    score_table.loc[i, 'min_samples_split'] = min_samples_split\n",
    "                    score_table.loc[i, 'Fbeta_score'] = fbeta_score(y_valid, clf.predict(X_valid), beta=beta)\n",
    "                    score_table.loc[i, 'precision_score'] = precision_score(y_valid, clf.predict(X_valid))\n",
    "                    score_table.loc[i, 'recall_score'] = recall_score(y_valid, clf.predict(X_valid))\n",
    "                    score_table.loc[i, 'f1_score'] = f1_score(y_valid, clf.predict(X_valid))\n",
    "                    score_table.loc[i, 'matthews_corrcoef'] = matthews_corrcoef(y_valid, clf.predict(X_valid))\n",
    "                    i += 1\n",
    "\n",
    "    return score_table\n",
    "\n",
    "RF_score_table = tune_DT(X_rus, y_rus, X_hold1, y_hold1, n_estimators_range, max_depths, min_samples_splits, max_features_range, beta=0.2, random_state=42)\n",
    "RF_score_table.head()"
   ]
  },
  {
   "cell_type": "code",
   "execution_count": null,
   "metadata": {},
   "outputs": [],
   "source": [
    "RF_score_table.loc[RF_score_table.recall_score == np.max(RF_score_table.recall_score)]"
   ]
  },
  {
   "cell_type": "code",
   "execution_count": 13,
   "metadata": {},
   "outputs": [
    {
     "data": {
      "text/html": [
       "<div>\n",
       "<style scoped>\n",
       "    .dataframe tbody tr th:only-of-type {\n",
       "        vertical-align: middle;\n",
       "    }\n",
       "\n",
       "    .dataframe tbody tr th {\n",
       "        vertical-align: top;\n",
       "    }\n",
       "\n",
       "    .dataframe thead th {\n",
       "        text-align: right;\n",
       "    }\n",
       "</style>\n",
       "<table border=\"1\" class=\"dataframe\">\n",
       "  <thead>\n",
       "    <tr style=\"text-align: right;\">\n",
       "      <th></th>\n",
       "      <th>training data</th>\n",
       "      <th>validation data</th>\n",
       "    </tr>\n",
       "  </thead>\n",
       "  <tbody>\n",
       "    <tr>\n",
       "      <th>precision score</th>\n",
       "      <td>0.605574</td>\n",
       "      <td>0.160821</td>\n",
       "    </tr>\n",
       "    <tr>\n",
       "      <th>recall score</th>\n",
       "      <td>0.609807</td>\n",
       "      <td>0.61194</td>\n",
       "    </tr>\n",
       "    <tr>\n",
       "      <th>Fbeta score</th>\n",
       "      <td>0.605736</td>\n",
       "      <td>0.165514</td>\n",
       "    </tr>\n",
       "    <tr>\n",
       "      <th>Mattews correlation coefficient</th>\n",
       "      <td>0.212629</td>\n",
       "      <td>0.133591</td>\n",
       "    </tr>\n",
       "    <tr>\n",
       "      <th>accuracy score</th>\n",
       "      <td>0.606312</td>\n",
       "      <td>0.599194</td>\n",
       "    </tr>\n",
       "  </tbody>\n",
       "</table>\n",
       "</div>"
      ],
      "text/plain": [
       "                                training data validation data\n",
       "precision score                      0.605574        0.160821\n",
       "recall score                         0.609807         0.61194\n",
       "Fbeta score                          0.605736        0.165514\n",
       "Mattews correlation coefficient      0.212629        0.133591\n",
       "accuracy score                       0.606312        0.599194"
      ]
     },
     "execution_count": 13,
     "metadata": {},
     "output_type": "execute_result"
    },
    {
     "data": {
      "image/png": "[encoded data removed]",
      "text/plain": [
       "<Figure size 720x432 with 4 Axes>"
      ]
     },
     "metadata": {
      "needs_background": "light"
     },
     "output_type": "display_data"
    }
   ],
   "source": [
    "clf = RandomForestClassifier(\n",
    "    n_estimators=10,\n",
    "    max_depth=2,\n",
    "    min_samples_split=2,\n",
    "    max_features=30,\n",
    "    n_jobs=-1, \n",
    "    random_state=42)\n",
    "clf.fit(X_rus_combined, y_rus_combined)\n",
    "test_model(X_rus_combined, y_rus_combined, X_hold2, y_hold2, clf)"
   ]
  },
  {
   "cell_type": "markdown",
   "metadata": {},
   "source": [
    "## Optimizing for precision"
   ]
  },
  {
   "cell_type": "code",
   "execution_count": null,
   "metadata": {},
   "outputs": [],
   "source": [
    "RF_score_table.loc[RF_score_table.precision_score == np.max(RF_score_table.precision_score)]"
   ]
  },
  {
   "cell_type": "code",
   "execution_count": 14,
   "metadata": {},
   "outputs": [
    {
     "data": {
      "text/html": [
       "<div>\n",
       "<style scoped>\n",
       "    .dataframe tbody tr th:only-of-type {\n",
       "        vertical-align: middle;\n",
       "    }\n",
       "\n",
       "    .dataframe tbody tr th {\n",
       "        vertical-align: top;\n",
       "    }\n",
       "\n",
       "    .dataframe thead th {\n",
       "        text-align: right;\n",
       "    }\n",
       "</style>\n",
       "<table border=\"1\" class=\"dataframe\">\n",
       "  <thead>\n",
       "    <tr style=\"text-align: right;\">\n",
       "      <th></th>\n",
       "      <th>training data</th>\n",
       "      <th>validation data</th>\n",
       "    </tr>\n",
       "  </thead>\n",
       "  <tbody>\n",
       "    <tr>\n",
       "      <th>precision score</th>\n",
       "      <td>0.73238</td>\n",
       "      <td>0.165119</td>\n",
       "    </tr>\n",
       "    <tr>\n",
       "      <th>recall score</th>\n",
       "      <td>0.710385</td>\n",
       "      <td>0.5777</td>\n",
       "    </tr>\n",
       "    <tr>\n",
       "      <th>Fbeta score</th>\n",
       "      <td>0.731509</td>\n",
       "      <td>0.169783</td>\n",
       "    </tr>\n",
       "    <tr>\n",
       "      <th>Mattews correlation coefficient</th>\n",
       "      <td>0.451006</td>\n",
       "      <td>0.135373</td>\n",
       "    </tr>\n",
       "    <tr>\n",
       "      <th>accuracy score</th>\n",
       "      <td>0.725401</td>\n",
       "      <td>0.625823</td>\n",
       "    </tr>\n",
       "  </tbody>\n",
       "</table>\n",
       "</div>"
      ],
      "text/plain": [
       "                                training data validation data\n",
       "precision score                       0.73238        0.165119\n",
       "recall score                         0.710385          0.5777\n",
       "Fbeta score                          0.731509        0.169783\n",
       "Mattews correlation coefficient      0.451006        0.135373\n",
       "accuracy score                       0.725401        0.625823"
      ]
     },
     "execution_count": 14,
     "metadata": {},
     "output_type": "execute_result"
    },
    {
     "data": {
      "image/png": "[encoded data removed]",
      "text/plain": [
       "<Figure size 720x432 with 4 Axes>"
      ]
     },
     "metadata": {
      "needs_background": "light"
     },
     "output_type": "display_data"
    }
   ],
   "source": [
    "clf = RandomForestClassifier(\n",
    "    n_estimators=40,\n",
    "    max_depth=10,\n",
    "    min_samples_split=7,\n",
    "    max_features=10,\n",
    "    n_jobs=-1, \n",
    "    random_state=42)\n",
    "clf.fit(X_rus_combined, y_rus_combined)\n",
    "test_model(X_rus_combined, y_rus_combined, X_hold2, y_hold2, clf)"
   ]
  },
  {
   "cell_type": "markdown",
   "metadata": {},
   "source": [
    "## Optimizing for Fbeta score with beta = 0.2"
   ]
  },
  {
   "cell_type": "code",
   "execution_count": null,
   "metadata": {},
   "outputs": [],
   "source": [
    "RF_score_table.loc[RF_score_table.Fbeta_score == np.max(RF_score_table.Fbeta_score)]"
   ]
  },
  {
   "cell_type": "code",
   "execution_count": 15,
   "metadata": {},
   "outputs": [
    {
     "data": {
      "text/html": [
       "<div>\n",
       "<style scoped>\n",
       "    .dataframe tbody tr th:only-of-type {\n",
       "        vertical-align: middle;\n",
       "    }\n",
       "\n",
       "    .dataframe tbody tr th {\n",
       "        vertical-align: top;\n",
       "    }\n",
       "\n",
       "    .dataframe thead th {\n",
       "        text-align: right;\n",
       "    }\n",
       "</style>\n",
       "<table border=\"1\" class=\"dataframe\">\n",
       "  <thead>\n",
       "    <tr style=\"text-align: right;\">\n",
       "      <th></th>\n",
       "      <th>training data</th>\n",
       "      <th>validation data</th>\n",
       "    </tr>\n",
       "  </thead>\n",
       "  <tbody>\n",
       "    <tr>\n",
       "      <th>precision score</th>\n",
       "      <td>0.73238</td>\n",
       "      <td>0.165119</td>\n",
       "    </tr>\n",
       "    <tr>\n",
       "      <th>recall score</th>\n",
       "      <td>0.710385</td>\n",
       "      <td>0.5777</td>\n",
       "    </tr>\n",
       "    <tr>\n",
       "      <th>Fbeta score</th>\n",
       "      <td>0.731509</td>\n",
       "      <td>0.169783</td>\n",
       "    </tr>\n",
       "    <tr>\n",
       "      <th>Mattews correlation coefficient</th>\n",
       "      <td>0.451006</td>\n",
       "      <td>0.135373</td>\n",
       "    </tr>\n",
       "    <tr>\n",
       "      <th>accuracy score</th>\n",
       "      <td>0.725401</td>\n",
       "      <td>0.625823</td>\n",
       "    </tr>\n",
       "  </tbody>\n",
       "</table>\n",
       "</div>"
      ],
      "text/plain": [
       "                                training data validation data\n",
       "precision score                       0.73238        0.165119\n",
       "recall score                         0.710385          0.5777\n",
       "Fbeta score                          0.731509        0.169783\n",
       "Mattews correlation coefficient      0.451006        0.135373\n",
       "accuracy score                       0.725401        0.625823"
      ]
     },
     "execution_count": 15,
     "metadata": {},
     "output_type": "execute_result"
    },
    {
     "data": {
      "image/png": "[encoded data removed]",
      "text/plain": [
       "<Figure size 720x432 with 4 Axes>"
      ]
     },
     "metadata": {
      "needs_background": "light"
     },
     "output_type": "display_data"
    }
   ],
   "source": [
    "clf = RandomForestClassifier(\n",
    "    n_estimators=40,\n",
    "    max_depth=10,\n",
    "    min_samples_split=7,\n",
    "    max_features=10,\n",
    "    n_jobs=-1, \n",
    "    random_state=42)\n",
    "clf.fit(X_rus_combined, y_rus_combined)\n",
    "test_model(X_rus_combined, y_rus_combined, X_hold2, y_hold2, clf)"
   ]
  },
  {
   "cell_type": "code",
   "execution_count": 16,
   "metadata": {},
   "outputs": [
    {
     "data": {
      "text/html": [
       "<div>\n",
       "<style scoped>\n",
       "    .dataframe tbody tr th:only-of-type {\n",
       "        vertical-align: middle;\n",
       "    }\n",
       "\n",
       "    .dataframe tbody tr th {\n",
       "        vertical-align: top;\n",
       "    }\n",
       "\n",
       "    .dataframe thead th {\n",
       "        text-align: right;\n",
       "    }\n",
       "</style>\n",
       "<table border=\"1\" class=\"dataframe\">\n",
       "  <thead>\n",
       "    <tr style=\"text-align: right;\">\n",
       "      <th></th>\n",
       "      <th>variable</th>\n",
       "      <th>feature_importance</th>\n",
       "    </tr>\n",
       "  </thead>\n",
       "  <tbody>\n",
       "    <tr>\n",
       "      <th>0</th>\n",
       "      <td>number_inpatient</td>\n",
       "      <td>0.164329</td>\n",
       "    </tr>\n",
       "    <tr>\n",
       "      <th>1</th>\n",
       "      <td>discharge_disposition_id</td>\n",
       "      <td>0.074867</td>\n",
       "    </tr>\n",
       "    <tr>\n",
       "      <th>2</th>\n",
       "      <td>num_lab_procedures</td>\n",
       "      <td>0.037187</td>\n",
       "    </tr>\n",
       "    <tr>\n",
       "      <th>3</th>\n",
       "      <td>time_in_hospital</td>\n",
       "      <td>0.035044</td>\n",
       "    </tr>\n",
       "    <tr>\n",
       "      <th>4</th>\n",
       "      <td>num_medications</td>\n",
       "      <td>0.035007</td>\n",
       "    </tr>\n",
       "    <tr>\n",
       "      <th>5</th>\n",
       "      <td>diag_1</td>\n",
       "      <td>0.033017</td>\n",
       "    </tr>\n",
       "    <tr>\n",
       "      <th>6</th>\n",
       "      <td>number_emergency</td>\n",
       "      <td>0.030919</td>\n",
       "    </tr>\n",
       "    <tr>\n",
       "      <th>7</th>\n",
       "      <td>level_4_diag_1</td>\n",
       "      <td>0.028580</td>\n",
       "    </tr>\n",
       "    <tr>\n",
       "      <th>8</th>\n",
       "      <td>level_5_diag_1</td>\n",
       "      <td>0.028506</td>\n",
       "    </tr>\n",
       "    <tr>\n",
       "      <th>9</th>\n",
       "      <td>simple_diag_3</td>\n",
       "      <td>0.027748</td>\n",
       "    </tr>\n",
       "    <tr>\n",
       "      <th>10</th>\n",
       "      <td>diag_3</td>\n",
       "      <td>0.027541</td>\n",
       "    </tr>\n",
       "    <tr>\n",
       "      <th>11</th>\n",
       "      <td>simple_diag_1</td>\n",
       "      <td>0.026785</td>\n",
       "    </tr>\n",
       "    <tr>\n",
       "      <th>12</th>\n",
       "      <td>level_5_diag_3</td>\n",
       "      <td>0.026046</td>\n",
       "    </tr>\n",
       "    <tr>\n",
       "      <th>13</th>\n",
       "      <td>level_5_diag_2</td>\n",
       "      <td>0.025522</td>\n",
       "    </tr>\n",
       "    <tr>\n",
       "      <th>14</th>\n",
       "      <td>simple_diag_2</td>\n",
       "      <td>0.025094</td>\n",
       "    </tr>\n",
       "    <tr>\n",
       "      <th>15</th>\n",
       "      <td>level_4_diag_2</td>\n",
       "      <td>0.024878</td>\n",
       "    </tr>\n",
       "    <tr>\n",
       "      <th>16</th>\n",
       "      <td>number_diagnoses</td>\n",
       "      <td>0.024321</td>\n",
       "    </tr>\n",
       "    <tr>\n",
       "      <th>17</th>\n",
       "      <td>age</td>\n",
       "      <td>0.023222</td>\n",
       "    </tr>\n",
       "    <tr>\n",
       "      <th>18</th>\n",
       "      <td>level_3_diag_1</td>\n",
       "      <td>0.023222</td>\n",
       "    </tr>\n",
       "    <tr>\n",
       "      <th>19</th>\n",
       "      <td>level_4_diag_3</td>\n",
       "      <td>0.023061</td>\n",
       "    </tr>\n",
       "    <tr>\n",
       "      <th>20</th>\n",
       "      <td>diag_2</td>\n",
       "      <td>0.023016</td>\n",
       "    </tr>\n",
       "    <tr>\n",
       "      <th>21</th>\n",
       "      <td>level_3_diag_2</td>\n",
       "      <td>0.018672</td>\n",
       "    </tr>\n",
       "    <tr>\n",
       "      <th>22</th>\n",
       "      <td>medical_specialty</td>\n",
       "      <td>0.017734</td>\n",
       "    </tr>\n",
       "    <tr>\n",
       "      <th>23</th>\n",
       "      <td>level_3_diag_3</td>\n",
       "      <td>0.016972</td>\n",
       "    </tr>\n",
       "    <tr>\n",
       "      <th>24</th>\n",
       "      <td>insulin</td>\n",
       "      <td>0.015282</td>\n",
       "    </tr>\n",
       "    <tr>\n",
       "      <th>25</th>\n",
       "      <td>num_procedures</td>\n",
       "      <td>0.014556</td>\n",
       "    </tr>\n",
       "    <tr>\n",
       "      <th>26</th>\n",
       "      <td>level_2_diag_2</td>\n",
       "      <td>0.011766</td>\n",
       "    </tr>\n",
       "    <tr>\n",
       "      <th>27</th>\n",
       "      <td>level_2_diag_1</td>\n",
       "      <td>0.011748</td>\n",
       "    </tr>\n",
       "    <tr>\n",
       "      <th>28</th>\n",
       "      <td>level_2_diag_3</td>\n",
       "      <td>0.011312</td>\n",
       "    </tr>\n",
       "    <tr>\n",
       "      <th>29</th>\n",
       "      <td>race</td>\n",
       "      <td>0.010718</td>\n",
       "    </tr>\n",
       "    <tr>\n",
       "      <th>...</th>\n",
       "      <td>...</td>\n",
       "      <td>...</td>\n",
       "    </tr>\n",
       "    <tr>\n",
       "      <th>53</th>\n",
       "      <td>glyburide-metformin</td>\n",
       "      <td>0.000408</td>\n",
       "    </tr>\n",
       "    <tr>\n",
       "      <th>54</th>\n",
       "      <td>level_2_diag_3_na</td>\n",
       "      <td>0.000366</td>\n",
       "    </tr>\n",
       "    <tr>\n",
       "      <th>55</th>\n",
       "      <td>acarbose</td>\n",
       "      <td>0.000359</td>\n",
       "    </tr>\n",
       "    <tr>\n",
       "      <th>56</th>\n",
       "      <td>level_4_diag_3_na</td>\n",
       "      <td>0.000220</td>\n",
       "    </tr>\n",
       "    <tr>\n",
       "      <th>57</th>\n",
       "      <td>diag_3_na</td>\n",
       "      <td>0.000185</td>\n",
       "    </tr>\n",
       "    <tr>\n",
       "      <th>58</th>\n",
       "      <td>simple_diag_2_na</td>\n",
       "      <td>0.000179</td>\n",
       "    </tr>\n",
       "    <tr>\n",
       "      <th>59</th>\n",
       "      <td>level_2_diag_2_na</td>\n",
       "      <td>0.000174</td>\n",
       "    </tr>\n",
       "    <tr>\n",
       "      <th>60</th>\n",
       "      <td>simple_diag_3_na</td>\n",
       "      <td>0.000163</td>\n",
       "    </tr>\n",
       "    <tr>\n",
       "      <th>61</th>\n",
       "      <td>level_5_diag_3_na</td>\n",
       "      <td>0.000140</td>\n",
       "    </tr>\n",
       "    <tr>\n",
       "      <th>62</th>\n",
       "      <td>level_4_diag_2_na</td>\n",
       "      <td>0.000140</td>\n",
       "    </tr>\n",
       "    <tr>\n",
       "      <th>63</th>\n",
       "      <td>chlorpropamide</td>\n",
       "      <td>0.000136</td>\n",
       "    </tr>\n",
       "    <tr>\n",
       "      <th>64</th>\n",
       "      <td>level_3_diag_2_na</td>\n",
       "      <td>0.000130</td>\n",
       "    </tr>\n",
       "    <tr>\n",
       "      <th>65</th>\n",
       "      <td>level_4_diag_1_na</td>\n",
       "      <td>0.000119</td>\n",
       "    </tr>\n",
       "    <tr>\n",
       "      <th>66</th>\n",
       "      <td>diag_1_na</td>\n",
       "      <td>0.000066</td>\n",
       "    </tr>\n",
       "    <tr>\n",
       "      <th>67</th>\n",
       "      <td>level_2_diag_1_na</td>\n",
       "      <td>0.000035</td>\n",
       "    </tr>\n",
       "    <tr>\n",
       "      <th>68</th>\n",
       "      <td>level_5_diag_2_na</td>\n",
       "      <td>0.000033</td>\n",
       "    </tr>\n",
       "    <tr>\n",
       "      <th>69</th>\n",
       "      <td>simple_diag_1_na</td>\n",
       "      <td>0.000028</td>\n",
       "    </tr>\n",
       "    <tr>\n",
       "      <th>70</th>\n",
       "      <td>acetohexamide</td>\n",
       "      <td>0.000000</td>\n",
       "    </tr>\n",
       "    <tr>\n",
       "      <th>71</th>\n",
       "      <td>tolbutamide</td>\n",
       "      <td>0.000000</td>\n",
       "    </tr>\n",
       "    <tr>\n",
       "      <th>72</th>\n",
       "      <td>miglitol</td>\n",
       "      <td>0.000000</td>\n",
       "    </tr>\n",
       "    <tr>\n",
       "      <th>73</th>\n",
       "      <td>troglitazone</td>\n",
       "      <td>0.000000</td>\n",
       "    </tr>\n",
       "    <tr>\n",
       "      <th>74</th>\n",
       "      <td>tolazamide</td>\n",
       "      <td>0.000000</td>\n",
       "    </tr>\n",
       "    <tr>\n",
       "      <th>75</th>\n",
       "      <td>glipizide-metformin</td>\n",
       "      <td>0.000000</td>\n",
       "    </tr>\n",
       "    <tr>\n",
       "      <th>76</th>\n",
       "      <td>glimepiride-pioglitazone</td>\n",
       "      <td>0.000000</td>\n",
       "    </tr>\n",
       "    <tr>\n",
       "      <th>77</th>\n",
       "      <td>metformin-rosiglitazone</td>\n",
       "      <td>0.000000</td>\n",
       "    </tr>\n",
       "    <tr>\n",
       "      <th>78</th>\n",
       "      <td>metformin-pioglitazone</td>\n",
       "      <td>0.000000</td>\n",
       "    </tr>\n",
       "    <tr>\n",
       "      <th>79</th>\n",
       "      <td>gender_na</td>\n",
       "      <td>0.000000</td>\n",
       "    </tr>\n",
       "    <tr>\n",
       "      <th>80</th>\n",
       "      <td>diag_2_na</td>\n",
       "      <td>0.000000</td>\n",
       "    </tr>\n",
       "    <tr>\n",
       "      <th>81</th>\n",
       "      <td>level_3_diag_1_na</td>\n",
       "      <td>0.000000</td>\n",
       "    </tr>\n",
       "    <tr>\n",
       "      <th>82</th>\n",
       "      <td>level_5_diag_1_na</td>\n",
       "      <td>0.000000</td>\n",
       "    </tr>\n",
       "  </tbody>\n",
       "</table>\n",
       "<p>83 rows × 2 columns</p>\n",
       "</div>"
      ],
      "text/plain": [
       "                    variable  feature_importance\n",
       "0           number_inpatient            0.164329\n",
       "1   discharge_disposition_id            0.074867\n",
       "2         num_lab_procedures            0.037187\n",
       "3           time_in_hospital            0.035044\n",
       "4            num_medications            0.035007\n",
       "5                     diag_1            0.033017\n",
       "6           number_emergency            0.030919\n",
       "7             level_4_diag_1            0.028580\n",
       "8             level_5_diag_1            0.028506\n",
       "9              simple_diag_3            0.027748\n",
       "10                    diag_3            0.027541\n",
       "11             simple_diag_1            0.026785\n",
       "12            level_5_diag_3            0.026046\n",
       "13            level_5_diag_2            0.025522\n",
       "14             simple_diag_2            0.025094\n",
       "15            level_4_diag_2            0.024878\n",
       "16          number_diagnoses            0.024321\n",
       "17                       age            0.023222\n",
       "18            level_3_diag_1            0.023222\n",
       "19            level_4_diag_3            0.023061\n",
       "20                    diag_2            0.023016\n",
       "21            level_3_diag_2            0.018672\n",
       "22         medical_specialty            0.017734\n",
       "23            level_3_diag_3            0.016972\n",
       "24                   insulin            0.015282\n",
       "25            num_procedures            0.014556\n",
       "26            level_2_diag_2            0.011766\n",
       "27            level_2_diag_1            0.011748\n",
       "28            level_2_diag_3            0.011312\n",
       "29                      race            0.010718\n",
       "..                       ...                 ...\n",
       "53       glyburide-metformin            0.000408\n",
       "54         level_2_diag_3_na            0.000366\n",
       "55                  acarbose            0.000359\n",
       "56         level_4_diag_3_na            0.000220\n",
       "57                 diag_3_na            0.000185\n",
       "58          simple_diag_2_na            0.000179\n",
       "59         level_2_diag_2_na            0.000174\n",
       "60          simple_diag_3_na            0.000163\n",
       "61         level_5_diag_3_na            0.000140\n",
       "62         level_4_diag_2_na            0.000140\n",
       "63            chlorpropamide            0.000136\n",
       "64         level_3_diag_2_na            0.000130\n",
       "65         level_4_diag_1_na            0.000119\n",
       "66                 diag_1_na            0.000066\n",
       "67         level_2_diag_1_na            0.000035\n",
       "68         level_5_diag_2_na            0.000033\n",
       "69          simple_diag_1_na            0.000028\n",
       "70             acetohexamide            0.000000\n",
       "71               tolbutamide            0.000000\n",
       "72                  miglitol            0.000000\n",
       "73              troglitazone            0.000000\n",
       "74                tolazamide            0.000000\n",
       "75       glipizide-metformin            0.000000\n",
       "76  glimepiride-pioglitazone            0.000000\n",
       "77   metformin-rosiglitazone            0.000000\n",
       "78    metformin-pioglitazone            0.000000\n",
       "79                 gender_na            0.000000\n",
       "80                 diag_2_na            0.000000\n",
       "81         level_3_diag_1_na            0.000000\n",
       "82         level_5_diag_1_na            0.000000\n",
       "\n",
       "[83 rows x 2 columns]"
      ]
     },
     "execution_count": 16,
     "metadata": {},
     "output_type": "execute_result"
    }
   ],
   "source": [
    "values = sorted(zip(cols, clf.feature_importances_), key=lambda x: x[1] * -1)\n",
    "pd.DataFrame(values, columns=['variable', 'feature_importance'])"
   ]
  },
  {
   "cell_type": "markdown",
   "metadata": {},
   "source": [
    "## Trying Logistic Regression"
   ]
  },
  {
   "cell_type": "code",
   "execution_count": 17,
   "metadata": {},
   "outputs": [
    {
     "name": "stderr",
     "output_type": "stream",
     "text": [
      "/home/pavel/anaconda3/lib/python3.6/site-packages/sklearn/utils/validation.py:595: DataConversionWarning: Data with input dtype int64 was converted to float64 by MinMaxScaler.\n",
      "  warnings.warn(msg, DataConversionWarning)\n"
     ]
    }
   ],
   "source": [
    "scaler = MinMaxScaler()\n",
    "scaler.fit(X_rus)\n",
    "X_rus_scaled = scaler.transform(X_rus)\n",
    "X_hold1_scaled = scaler.transform(X_hold1)\n",
    "X_hold2_scaled = scaler.transform(X_hold2)"
   ]
  },
  {
   "cell_type": "code",
   "execution_count": 18,
   "metadata": {},
   "outputs": [
    {
     "name": "stdout",
     "output_type": "stream",
     "text": [
      "[False False False False  True False False False False False False  True\n",
      "  True  True False False False  True False False False False False  True\n",
      " False False False False False False False  True  True False  True False\n",
      " False False False False False False False False False False False False\n",
      " False False  True  True  True  True  True  True False False False  True\n",
      "  True False  True  True  True False False False False False False False\n",
      " False False False False False False False False False False False]\n",
      "[36 53  5 18  1 17 13 35 29 24 32  1  1  1 41 58 12  1 30 28  9  2 20  1\n",
      "  4 64 33 40 21  7 14  1  1 63  1 22  8  3 62 61 60 50 10 44 59 39  6 19\n",
      " 34 46  1  1  1  1  1  1 16 11 23  1  1 25  1  1  1 55 27 37 54 15 26 52\n",
      " 45 56 57 31 38 47 42 43 48 49 51]\n"
     ]
    }
   ],
   "source": [
    "logreg = LogisticRegression(penalty='l2', solver='newton-cg', C=10, multi_class='multinomial', random_state=42, n_jobs=-1)\n",
    "rfe = RFE(logreg, 20)\n",
    "rfe = rfe.fit(X_rus_scaled, y_rus)\n",
    "print(rfe.support_)\n",
    "print(rfe.ranking_)"
   ]
  },
  {
   "cell_type": "code",
   "execution_count": 19,
   "metadata": {},
   "outputs": [
    {
     "data": {
      "text/plain": [
       "Index(['discharge_disposition_id', 'number_outpatient', 'number_emergency',\n",
       "       'number_inpatient', 'number_diagnoses', 'chlorpropamide', 'acarbose',\n",
       "       'miglitol', 'tolazamide', 'simple_diag_1', 'simple_diag_2',\n",
       "       'simple_diag_3', 'level_2_diag_1', 'level_3_diag_1', 'level_4_diag_1',\n",
       "       'level_4_diag_2', 'level_5_diag_2', 'level_3_diag_3', 'level_4_diag_3',\n",
       "       'level_5_diag_3'],\n",
       "      dtype='object')"
      ]
     },
     "execution_count": 19,
     "metadata": {},
     "output_type": "execute_result"
    }
   ],
   "source": [
    "cols[rfe.support_]"
   ]
  },
  {
   "cell_type": "code",
   "execution_count": 20,
   "metadata": {},
   "outputs": [
    {
     "data": {
      "text/html": [
       "<div>\n",
       "<style scoped>\n",
       "    .dataframe tbody tr th:only-of-type {\n",
       "        vertical-align: middle;\n",
       "    }\n",
       "\n",
       "    .dataframe tbody tr th {\n",
       "        vertical-align: top;\n",
       "    }\n",
       "\n",
       "    .dataframe thead th {\n",
       "        text-align: right;\n",
       "    }\n",
       "</style>\n",
       "<table border=\"1\" class=\"dataframe\">\n",
       "  <thead>\n",
       "    <tr style=\"text-align: right;\">\n",
       "      <th></th>\n",
       "      <th>training data</th>\n",
       "      <th>validation data</th>\n",
       "    </tr>\n",
       "  </thead>\n",
       "  <tbody>\n",
       "    <tr>\n",
       "      <th>precision score</th>\n",
       "      <td>0.627014</td>\n",
       "      <td>0.171272</td>\n",
       "    </tr>\n",
       "    <tr>\n",
       "      <th>recall score</th>\n",
       "      <td>0.480184</td>\n",
       "      <td>0.467954</td>\n",
       "    </tr>\n",
       "    <tr>\n",
       "      <th>Fbeta score</th>\n",
       "      <td>0.619725</td>\n",
       "      <td>0.175553</td>\n",
       "    </tr>\n",
       "    <tr>\n",
       "      <th>Mattews correlation coefficient</th>\n",
       "      <td>0.200105</td>\n",
       "      <td>0.124949</td>\n",
       "    </tr>\n",
       "    <tr>\n",
       "      <th>accuracy score</th>\n",
       "      <td>0.597271</td>\n",
       "      <td>0.687039</td>\n",
       "    </tr>\n",
       "  </tbody>\n",
       "</table>\n",
       "</div>"
      ],
      "text/plain": [
       "                                training data validation data\n",
       "precision score                      0.627014        0.171272\n",
       "recall score                         0.480184        0.467954\n",
       "Fbeta score                          0.619725        0.175553\n",
       "Mattews correlation coefficient      0.200105        0.124949\n",
       "accuracy score                       0.597271        0.687039"
      ]
     },
     "execution_count": 20,
     "metadata": {},
     "output_type": "execute_result"
    },
    {
     "data": {
      "image/png": "[encoded data removed]",
      "text/plain": [
       "<Figure size 720x432 with 4 Axes>"
      ]
     },
     "metadata": {
      "needs_background": "light"
     },
     "output_type": "display_data"
    }
   ],
   "source": [
    "logreg = LogisticRegression(penalty='l2', solver='newton-cg', C=10, multi_class='multinomial', random_state=42, n_jobs=-1)\n",
    "logreg.fit(X_rus_scaled[:, rfe.support_], y_rus)\n",
    "test_model(X_rus_scaled[:, rfe.support_], y_rus, X_hold2_scaled[:, rfe.support_], y_hold2, logreg)"
   ]
  },
  {
   "cell_type": "code",
   "execution_count": null,
   "metadata": {},
   "outputs": [],
   "source": [
    "C_param_range = [0.001,0.01,0.1,1,10,100]\n",
    "penalty_range = ['l1', 'l2']\n",
    "\n",
    "def tune_logreg(X_train, y_train, X_valid, y_valid, rfe, C_param_range, penalty_range, beta=0.2, random_state=42):\n",
    "    score_table = pd.DataFrame(columns = ['C_parameter', 'penalty', 'Fbeta_score', 'precision_score', 'recall_score', 'f1_score', 'matthews_corrcoef'])\n",
    "    ind = 0\n",
    "    for C_param in C_param_range:\n",
    "        for penalty in penalty_range:\n",
    "            if penalty == 'l2':\n",
    "                solver = 'newton-cg'\n",
    "            elif penalty == 'l1':\n",
    "                solver = 'liblinear'\n",
    "            logreg = LogisticRegression(penalty=penalty, solver=solver, C=C_param, random_state=random_state, n_jobs=-1)\n",
    "            logreg.fit(X_train[:, rfe.support_], y_train)\n",
    "            y_pred = logreg.predict(X_valid[:, rfe.support_])\n",
    "            # Saving accuracy score in table\n",
    "            score_table.loc[ind, 'C_parameter'] = C_param\n",
    "            score_table.loc[ind, 'penalty'] = penalty\n",
    "            score_table.loc[ind, 'Fbeta_score'] = fbeta_score(y_valid, y_pred, beta=beta)\n",
    "            score_table.loc[ind, 'precision_score'] = precision_score(y_valid, y_pred)\n",
    "            score_table.loc[ind, 'recall_score'] = recall_score(y_valid, y_pred)\n",
    "            score_table.loc[ind, 'f1_score'] = f1_score(y_valid, y_pred)\n",
    "            score_table.loc[i, 'matthews_corrcoef'] = matthews_corrcoef(y_valid, y_pred)    \n",
    "            ind += 1\n",
    "    return score_table\n",
    "\n",
    "logreg_score_table = tune_logreg(X_rus_scaled, y_rus, X_hold1_scaled, y_hold1, rfe, C_param_range, penalty_range, beta=0.2, random_state=42)\n",
    "logreg_score_table.head()"
   ]
  },
  {
   "cell_type": "code",
   "execution_count": null,
   "metadata": {},
   "outputs": [],
   "source": [
    "logreg_score_table.loc[logreg_score_table.Fbeta_score == np.max(logreg_score_table.Fbeta_score)]"
   ]
  },
  {
   "cell_type": "code",
   "execution_count": 21,
   "metadata": {},
   "outputs": [
    {
     "name": "stderr",
     "output_type": "stream",
     "text": [
      "/home/pavel/anaconda3/lib/python3.6/site-packages/sklearn/utils/validation.py:595: DataConversionWarning: Data with input dtype int64 was converted to float64 by MinMaxScaler.\n",
      "  warnings.warn(msg, DataConversionWarning)\n"
     ]
    }
   ],
   "source": [
    "scaler = MinMaxScaler()\n",
    "X_rus_combined = np.concatenate((X_rus, X_hold1))\n",
    "y_rus_combined = np.concatenate((y_rus, y_hold1))\n",
    "scaler.fit(X_rus_combined)\n",
    "X_rus_combined_scaled = scaler.transform(X_rus_combined)\n",
    "X_hold2_combined_scaled = scaler.transform(X_hold2)"
   ]
  },
  {
   "cell_type": "code",
   "execution_count": 22,
   "metadata": {},
   "outputs": [
    {
     "data": {
      "text/html": [
       "<div>\n",
       "<style scoped>\n",
       "    .dataframe tbody tr th:only-of-type {\n",
       "        vertical-align: middle;\n",
       "    }\n",
       "\n",
       "    .dataframe tbody tr th {\n",
       "        vertical-align: top;\n",
       "    }\n",
       "\n",
       "    .dataframe thead th {\n",
       "        text-align: right;\n",
       "    }\n",
       "</style>\n",
       "<table border=\"1\" class=\"dataframe\">\n",
       "  <thead>\n",
       "    <tr style=\"text-align: right;\">\n",
       "      <th></th>\n",
       "      <th>training data</th>\n",
       "      <th>validation data</th>\n",
       "    </tr>\n",
       "  </thead>\n",
       "  <tbody>\n",
       "    <tr>\n",
       "      <th>precision score</th>\n",
       "      <td>0.596178</td>\n",
       "      <td>0.274809</td>\n",
       "    </tr>\n",
       "    <tr>\n",
       "      <th>recall score</th>\n",
       "      <td>0.153325</td>\n",
       "      <td>0.158033</td>\n",
       "    </tr>\n",
       "    <tr>\n",
       "      <th>Fbeta score</th>\n",
       "      <td>0.536571</td>\n",
       "      <td>0.267215</td>\n",
       "    </tr>\n",
       "    <tr>\n",
       "      <th>Mattews correlation coefficient</th>\n",
       "      <td>0.162746</td>\n",
       "      <td>0.135511</td>\n",
       "    </tr>\n",
       "    <tr>\n",
       "      <th>accuracy score</th>\n",
       "      <td>0.66809</td>\n",
       "      <td>0.859094</td>\n",
       "    </tr>\n",
       "  </tbody>\n",
       "</table>\n",
       "</div>"
      ],
      "text/plain": [
       "                                training data validation data\n",
       "precision score                      0.596178        0.274809\n",
       "recall score                         0.153325        0.158033\n",
       "Fbeta score                          0.536571        0.267215\n",
       "Mattews correlation coefficient      0.162746        0.135511\n",
       "accuracy score                        0.66809        0.859094"
      ]
     },
     "execution_count": 22,
     "metadata": {},
     "output_type": "execute_result"
    },
    {
     "data": {
      "image/png": "[encoded data removed]",
      "text/plain": [
       "<Figure size 720x432 with 4 Axes>"
      ]
     },
     "metadata": {
      "needs_background": "light"
     },
     "output_type": "display_data"
    }
   ],
   "source": [
    "logreg = LogisticRegression(penalty='l1', solver='liblinear', C=10, random_state=42)\n",
    "logreg.fit(X_rus_combined_scaled[:, rfe.support_], y_rus_combined)\n",
    "test_model(X_rus_combined_scaled[:, rfe.support_], y_rus_combined, X_hold2_combined_scaled[:, rfe.support_], y_hold2, logreg)"
   ]
  },
  {
   "cell_type": "markdown",
   "metadata": {},
   "source": [
    "## Trying AdaBoost"
   ]
  },
  {
   "cell_type": "code",
   "execution_count": 23,
   "metadata": {},
   "outputs": [
    {
     "data": {
      "text/html": [
       "<div>\n",
       "<style scoped>\n",
       "    .dataframe tbody tr th:only-of-type {\n",
       "        vertical-align: middle;\n",
       "    }\n",
       "\n",
       "    .dataframe tbody tr th {\n",
       "        vertical-align: top;\n",
       "    }\n",
       "\n",
       "    .dataframe thead th {\n",
       "        text-align: right;\n",
       "    }\n",
       "</style>\n",
       "<table border=\"1\" class=\"dataframe\">\n",
       "  <thead>\n",
       "    <tr style=\"text-align: right;\">\n",
       "      <th></th>\n",
       "      <th>training data</th>\n",
       "      <th>validation data</th>\n",
       "    </tr>\n",
       "  </thead>\n",
       "  <tbody>\n",
       "    <tr>\n",
       "      <th>precision score</th>\n",
       "      <td>1</td>\n",
       "      <td>0.132224</td>\n",
       "    </tr>\n",
       "    <tr>\n",
       "      <th>recall score</th>\n",
       "      <td>1</td>\n",
       "      <td>0.544337</td>\n",
       "    </tr>\n",
       "    <tr>\n",
       "      <th>Fbeta score</th>\n",
       "      <td>1</td>\n",
       "      <td>0.13619</td>\n",
       "    </tr>\n",
       "    <tr>\n",
       "      <th>Mattews correlation coefficient</th>\n",
       "      <td>1</td>\n",
       "      <td>0.0595339</td>\n",
       "    </tr>\n",
       "    <tr>\n",
       "      <th>accuracy score</th>\n",
       "      <td>1</td>\n",
       "      <td>0.54918</td>\n",
       "    </tr>\n",
       "  </tbody>\n",
       "</table>\n",
       "</div>"
      ],
      "text/plain": [
       "                                training data validation data\n",
       "precision score                             1        0.132224\n",
       "recall score                                1        0.544337\n",
       "Fbeta score                                 1         0.13619\n",
       "Mattews correlation coefficient             1       0.0595339\n",
       "accuracy score                              1         0.54918"
      ]
     },
     "execution_count": 23,
     "metadata": {},
     "output_type": "execute_result"
    },
    {
     "data": {
      "image/png": "[encoded data removed]",
      "text/plain": [
       "<Figure size 720x432 with 4 Axes>"
      ]
     },
     "metadata": {
      "needs_background": "light"
     },
     "output_type": "display_data"
    }
   ],
   "source": [
    "ada_clf = AdaBoostClassifier(DecisionTreeClassifier())\n",
    "ada_clf.fit(X_rus, y_rus)\n",
    "test_model(X_rus, y_rus, X_hold2, y_hold2, ada_clf)"
   ]
  },
  {
   "cell_type": "code",
   "execution_count": 24,
   "metadata": {},
   "outputs": [
    {
     "data": {
      "text/html": [
       "<div>\n",
       "<style scoped>\n",
       "    .dataframe tbody tr th:only-of-type {\n",
       "        vertical-align: middle;\n",
       "    }\n",
       "\n",
       "    .dataframe tbody tr th {\n",
       "        vertical-align: top;\n",
       "    }\n",
       "\n",
       "    .dataframe thead th {\n",
       "        text-align: right;\n",
       "    }\n",
       "</style>\n",
       "<table border=\"1\" class=\"dataframe\">\n",
       "  <thead>\n",
       "    <tr style=\"text-align: right;\">\n",
       "      <th></th>\n",
       "      <th>training data</th>\n",
       "      <th>validation data</th>\n",
       "    </tr>\n",
       "  </thead>\n",
       "  <tbody>\n",
       "    <tr>\n",
       "      <th>precision score</th>\n",
       "      <td>0.738965</td>\n",
       "      <td>0.15223</td>\n",
       "    </tr>\n",
       "    <tr>\n",
       "      <th>recall score</th>\n",
       "      <td>0.72819</td>\n",
       "      <td>0.572432</td>\n",
       "    </tr>\n",
       "    <tr>\n",
       "      <th>Fbeta score</th>\n",
       "      <td>0.738545</td>\n",
       "      <td>0.156653</td>\n",
       "    </tr>\n",
       "    <tr>\n",
       "      <th>Mattews correlation coefficient</th>\n",
       "      <td>0.471012</td>\n",
       "      <td>0.108996</td>\n",
       "    </tr>\n",
       "    <tr>\n",
       "      <th>accuracy score</th>\n",
       "      <td>0.735481</td>\n",
       "      <td>0.595362</td>\n",
       "    </tr>\n",
       "  </tbody>\n",
       "</table>\n",
       "</div>"
      ],
      "text/plain": [
       "                                training data validation data\n",
       "precision score                      0.738965         0.15223\n",
       "recall score                          0.72819        0.572432\n",
       "Fbeta score                          0.738545        0.156653\n",
       "Mattews correlation coefficient      0.471012        0.108996\n",
       "accuracy score                       0.735481        0.595362"
      ]
     },
     "execution_count": 24,
     "metadata": {},
     "output_type": "execute_result"
    },
    {
     "data": {
      "image/png": "[encoded data removed]",
      "text/plain": [
       "<Figure size 720x432 with 4 Axes>"
      ]
     },
     "metadata": {
      "needs_background": "light"
     },
     "output_type": "display_data"
    }
   ],
   "source": [
    "ada_clf = AdaBoostClassifier(\n",
    "    DecisionTreeClassifier(max_depth=2),\n",
    "    n_estimators=600,\n",
    "    learning_rate=1)\n",
    "ada_clf.fit(X_rus, y_rus)\n",
    "test_model(X_rus, y_rus, X_hold2, y_hold2, ada_clf)"
   ]
  },
  {
   "cell_type": "code",
   "execution_count": null,
   "metadata": {},
   "outputs": [],
   "source": [
    "max_depths = [2, 5, 10, 20, 40, None]\n",
    "min_samples_splits = [2, 3, 5, 7, 10, 50]\n",
    "n_estimators_range = [2, 5, 10, 20, 40, 60, 100]\n",
    "\n",
    "ada_score_table = pd.DataFrame(columns = ['n_estimators', 'max_depth', 'min_samples_split', 'Fbeta_score', 'precision_score', 'recall_score', 'f1_score', 'matthews_corrcoef'])\n",
    "i = 0\n",
    "for n_estimators in n_estimators_range:\n",
    "    for max_depth in max_depths:\n",
    "        for min_samples_split in min_samples_splits:\n",
    "            ada_clf = AdaBoostClassifier(DecisionTreeClassifier(max_depth=max_depth,\n",
    "                                                               min_samples_split=min_samples_split),\n",
    "                                      n_estimators=n_estimators,\n",
    "                                      random_state=42)\n",
    "            ada_clf.fit(X_rus, y_rus)\n",
    "            ada_score_table.loc[i, 'n_estimators'] = n_estimators\n",
    "            ada_score_table.loc[i, 'max_depth'] = max_depth\n",
    "            ada_score_table.loc[i, 'min_samples_split'] = min_samples_split\n",
    "            ada_score_table.loc[i, 'Fbeta_score'] = fbeta_score(y_hold1, ada_clf.predict(X_hold1), beta=0.2)\n",
    "            ada_score_table.loc[i, 'precision_score'] = precision_score(y_hold1, ada_clf.predict(X_hold1))\n",
    "            ada_score_table.loc[i, 'recall_score'] = recall_score(y_hold1, ada_clf.predict(X_hold1))\n",
    "            ada_score_table.loc[i, 'f1_score'] = f1_score(y_hold1, ada_clf.predict(X_hold1))\n",
    "            ada_score_table.loc[i, 'matthews_corrcoef'] = matthews_corrcoef(y_hold1, ada_clf.predict(X_hold1))\n",
    "            i += 1\n",
    "\n",
    "print(ada_score_table.loc[ada_score_table.Fbeta_score == np.max(ada_score_table.Fbeta_score)])\n",
    "ada_score_table.head()"
   ]
  },
  {
   "cell_type": "code",
   "execution_count": 25,
   "metadata": {},
   "outputs": [
    {
     "data": {
      "text/html": [
       "<div>\n",
       "<style scoped>\n",
       "    .dataframe tbody tr th:only-of-type {\n",
       "        vertical-align: middle;\n",
       "    }\n",
       "\n",
       "    .dataframe tbody tr th {\n",
       "        vertical-align: top;\n",
       "    }\n",
       "\n",
       "    .dataframe thead th {\n",
       "        text-align: right;\n",
       "    }\n",
       "</style>\n",
       "<table border=\"1\" class=\"dataframe\">\n",
       "  <thead>\n",
       "    <tr style=\"text-align: right;\">\n",
       "      <th></th>\n",
       "      <th>training data</th>\n",
       "      <th>validation data</th>\n",
       "    </tr>\n",
       "  </thead>\n",
       "  <tbody>\n",
       "    <tr>\n",
       "      <th>precision score</th>\n",
       "      <td>0.572367</td>\n",
       "      <td>0.2366</td>\n",
       "    </tr>\n",
       "    <tr>\n",
       "      <th>recall score</th>\n",
       "      <td>0.275964</td>\n",
       "      <td>0.271291</td>\n",
       "    </tr>\n",
       "    <tr>\n",
       "      <th>Fbeta score</th>\n",
       "      <td>0.54966</td>\n",
       "      <td>0.23777</td>\n",
       "    </tr>\n",
       "    <tr>\n",
       "      <th>Mattews correlation coefficient</th>\n",
       "      <td>0.210646</td>\n",
       "      <td>0.151743</td>\n",
       "    </tr>\n",
       "    <tr>\n",
       "      <th>accuracy score</th>\n",
       "      <td>0.675183</td>\n",
       "      <td>0.820478</td>\n",
       "    </tr>\n",
       "  </tbody>\n",
       "</table>\n",
       "</div>"
      ],
      "text/plain": [
       "                                training data validation data\n",
       "precision score                      0.572367          0.2366\n",
       "recall score                         0.275964        0.271291\n",
       "Fbeta score                           0.54966         0.23777\n",
       "Mattews correlation coefficient      0.210646        0.151743\n",
       "accuracy score                       0.675183        0.820478"
      ]
     },
     "execution_count": 25,
     "metadata": {},
     "output_type": "execute_result"
    },
    {
     "data": {
      "image/png": "[encoded data removed]",
      "text/plain": [
       "<Figure size 720x432 with 4 Axes>"
      ]
     },
     "metadata": {
      "needs_background": "light"
     },
     "output_type": "display_data"
    }
   ],
   "source": [
    "ada_clf = AdaBoostClassifier(DecisionTreeClassifier(\n",
    "    max_depth=2,\n",
    "    min_samples_split=50),\n",
    "    n_estimators=20,\n",
    "    random_state=42)\n",
    "ada_clf.fit(X_rus_combined, y_rus_combined)\n",
    "test_model(X_rus_combined, y_rus_combined, X_hold2, y_hold2, ada_clf)"
   ]
  },
  {
   "cell_type": "markdown",
   "metadata": {},
   "source": [
    "## Trying GradientBoostingClassifier"
   ]
  },
  {
   "cell_type": "code",
   "execution_count": 26,
   "metadata": {},
   "outputs": [
    {
     "data": {
      "text/html": [
       "<div>\n",
       "<style scoped>\n",
       "    .dataframe tbody tr th:only-of-type {\n",
       "        vertical-align: middle;\n",
       "    }\n",
       "\n",
       "    .dataframe tbody tr th {\n",
       "        vertical-align: top;\n",
       "    }\n",
       "\n",
       "    .dataframe thead th {\n",
       "        text-align: right;\n",
       "    }\n",
       "</style>\n",
       "<table border=\"1\" class=\"dataframe\">\n",
       "  <thead>\n",
       "    <tr style=\"text-align: right;\">\n",
       "      <th></th>\n",
       "      <th>training data</th>\n",
       "      <th>validation data</th>\n",
       "    </tr>\n",
       "  </thead>\n",
       "  <tbody>\n",
       "    <tr>\n",
       "      <th>precision score</th>\n",
       "      <td>0.640648</td>\n",
       "      <td>0.284803</td>\n",
       "    </tr>\n",
       "    <tr>\n",
       "      <th>recall score</th>\n",
       "      <td>0.237523</td>\n",
       "      <td>0.235294</td>\n",
       "    </tr>\n",
       "    <tr>\n",
       "      <th>Fbeta score</th>\n",
       "      <td>0.601391</td>\n",
       "      <td>0.282517</td>\n",
       "    </tr>\n",
       "    <tr>\n",
       "      <th>Mattews correlation coefficient</th>\n",
       "      <td>0.235779</td>\n",
       "      <td>0.175037</td>\n",
       "    </tr>\n",
       "    <tr>\n",
       "      <th>accuracy score</th>\n",
       "      <td>0.687233</td>\n",
       "      <td>0.848285</td>\n",
       "    </tr>\n",
       "  </tbody>\n",
       "</table>\n",
       "</div>"
      ],
      "text/plain": [
       "                                training data validation data\n",
       "precision score                      0.640648        0.284803\n",
       "recall score                         0.237523        0.235294\n",
       "Fbeta score                          0.601391        0.282517\n",
       "Mattews correlation coefficient      0.235779        0.175037\n",
       "accuracy score                       0.687233        0.848285"
      ]
     },
     "execution_count": 26,
     "metadata": {},
     "output_type": "execute_result"
    },
    {
     "data": {
      "image/png": "[encoded data removed]",
      "text/plain": [
       "<Figure size 720x432 with 4 Axes>"
      ]
     },
     "metadata": {
      "needs_background": "light"
     },
     "output_type": "display_data"
    }
   ],
   "source": [
    "gbc = GradientBoostingClassifier()\n",
    "gbc.fit(X_rus_combined, y_rus_combined)\n",
    "test_model(X_rus_combined, y_rus_combined, X_hold2, y_hold2, gbc)"
   ]
  },
  {
   "cell_type": "code",
   "execution_count": null,
   "metadata": {},
   "outputs": [],
   "source": [
    "max_depths = [2, 5, 10, 20, 40, None]\n",
    "min_samples_splits = [2, 3, 5, 7, 10, 50]\n",
    "n_estimators_range = [2, 5, 10, 20, 40, 60, 100]\n",
    "max_features_range = [2, 5, 7, 10, 15, 20, 25, 30]\n",
    "\n",
    "def tune_GBC(X_train, y_train, X_valid, y_valid, n_estimators_range, max_depths, min_samples_splits, max_features_range, beta=0.2, random_state=42):\n",
    "    score_table = pd.DataFrame(columns = ['n_estimators', 'max_features', 'max_depth', 'min_samples_split', 'Fbeta_score', 'precision_score', 'recall_score', 'f1_score', 'matthews_corrcoef'])\n",
    "    i = 0\n",
    "    for n_estimators in n_estimators_range:\n",
    "        for max_depth in max_depths:\n",
    "            for min_samples_split in min_samples_splits:\n",
    "                for max_features in max_features_range:\n",
    "                    clf = GradientBoostingClassifier(\n",
    "                        n_estimators=n_estimators,\n",
    "                        max_depth=max_depth,\n",
    "                        min_samples_split=min_samples_split,\n",
    "                        max_features=max_features,\n",
    "                        random_state=random_state)\n",
    "                    clf.fit(X_train, y_train)\n",
    "                    score_table.loc[i, 'n_estimators'] = n_estimators\n",
    "                    score_table.loc[i, 'max_features'] = max_features\n",
    "                    score_table.loc[i, 'max_depth'] = max_depth\n",
    "                    score_table.loc[i, 'min_samples_split'] = min_samples_split\n",
    "                    score_table.loc[i, 'Fbeta_score'] = fbeta_score(y_valid, clf.predict(X_valid), beta=beta)\n",
    "                    score_table.loc[i, 'precision_score'] = precision_score(y_valid, clf.predict(X_valid))\n",
    "                    score_table.loc[i, 'recall_score'] = recall_score(y_valid, clf.predict(X_valid))\n",
    "                    score_table.loc[i, 'f1_score'] = f1_score(y_valid, clf.predict(X_valid))\n",
    "                    score_table.loc[i, 'matthews_corrcoef'] = matthews_corrcoef(y_valid, clf.predict(X_valid))\n",
    "                    i += 1\n",
    "\n",
    "    return score_table\n",
    "\n",
    "GBC_score_table = tune_GBC(X_rus, y_rus, X_hold1, y_hold1, n_estimators_range, max_depths, min_samples_splits, max_features_range, beta=0.2, random_state=42)\n",
    "GBC_score_table.head()"
   ]
  },
  {
   "cell_type": "code",
   "execution_count": null,
   "metadata": {},
   "outputs": [],
   "source": [
    "GBC_score_table.loc[GBC_score_table.Fbeta_score == np.max(GBC_score_table.Fbeta_score)]"
   ]
  },
  {
   "cell_type": "code",
   "execution_count": 27,
   "metadata": {},
   "outputs": [
    {
     "data": {
      "text/html": [
       "<div>\n",
       "<style scoped>\n",
       "    .dataframe tbody tr th:only-of-type {\n",
       "        vertical-align: middle;\n",
       "    }\n",
       "\n",
       "    .dataframe tbody tr th {\n",
       "        vertical-align: top;\n",
       "    }\n",
       "\n",
       "    .dataframe thead th {\n",
       "        text-align: right;\n",
       "    }\n",
       "</style>\n",
       "<table border=\"1\" class=\"dataframe\">\n",
       "  <thead>\n",
       "    <tr style=\"text-align: right;\">\n",
       "      <th></th>\n",
       "      <th>training data</th>\n",
       "      <th>validation data</th>\n",
       "    </tr>\n",
       "  </thead>\n",
       "  <tbody>\n",
       "    <tr>\n",
       "      <th>precision score</th>\n",
       "      <td>1</td>\n",
       "      <td>0.232908</td>\n",
       "    </tr>\n",
       "    <tr>\n",
       "      <th>recall score</th>\n",
       "      <td>1</td>\n",
       "      <td>0.272169</td>\n",
       "    </tr>\n",
       "    <tr>\n",
       "      <th>Fbeta score</th>\n",
       "      <td>1</td>\n",
       "      <td>0.234207</td>\n",
       "    </tr>\n",
       "    <tr>\n",
       "      <th>Mattews correlation coefficient</th>\n",
       "      <td>1</td>\n",
       "      <td>0.148861</td>\n",
       "    </tr>\n",
       "    <tr>\n",
       "      <th>accuracy score</th>\n",
       "      <td>1</td>\n",
       "      <td>0.818218</td>\n",
       "    </tr>\n",
       "  </tbody>\n",
       "</table>\n",
       "</div>"
      ],
      "text/plain": [
       "                                training data validation data\n",
       "precision score                             1        0.232908\n",
       "recall score                                1        0.272169\n",
       "Fbeta score                                 1        0.234207\n",
       "Mattews correlation coefficient             1        0.148861\n",
       "accuracy score                              1        0.818218"
      ]
     },
     "execution_count": 27,
     "metadata": {},
     "output_type": "execute_result"
    },
    {
     "data": {
      "image/png": "[encoded data removed]",
      "text/plain": [
       "<Figure size 720x432 with 4 Axes>"
      ]
     },
     "metadata": {
      "needs_background": "light"
     },
     "output_type": "display_data"
    }
   ],
   "source": [
    "clf = GradientBoostingClassifier(\n",
    "    n_estimators=100,\n",
    "    max_depth=20,\n",
    "    min_samples_split=7,\n",
    "    max_features=15,\n",
    "    random_state=42)\n",
    "clf.fit(X_rus_combined, y_rus_combined)\n",
    "test_model(X_rus_combined, y_rus_combined, X_hold2, y_hold2, clf)"
   ]
  },
  {
   "cell_type": "code",
   "execution_count": null,
   "metadata": {},
   "outputs": [],
   "source": [
    "GBC_score_table.loc[GBC_score_table.matthews_corrcoef == np.max(GBC_score_table.matthews_corrcoef)]"
   ]
  },
  {
   "cell_type": "markdown",
   "metadata": {},
   "source": [
    "## Trying Support Vector Machines"
   ]
  },
  {
   "cell_type": "code",
   "execution_count": null,
   "metadata": {},
   "outputs": [],
   "source": [
    "Cs = [0.001, 0.01, 0.1, 1, 10]\n",
    "gammas = [0.001, 0.01, 0.1, 1, 10]\n",
    "kernels = ['rbf', 'poly', 'linear']\n",
    "def tune_SVC(X_train, y_train, X_valid, y_valid, Cs, gammas, kernels, beta=0.2, random_state=42):\n",
    "    score_table = pd.DataFrame(columns = ['C', 'gamma', 'kernel', 'Fbeta_score', 'precision_score', 'recall_score', 'f1_score', 'matthews_corrcoef'])\n",
    "    i = 0\n",
    "    for C in Cs:\n",
    "        for gamma in sorted(gammas):\n",
    "            for kernel in kernels:\n",
    "                if kernel == 'linear' and gamma > min(gammas):\n",
    "                    continue\n",
    "                clf = SVC(C=C, kernel=kernel, gamma=gamma, random_state=random_state)\n",
    "                clf.fit(X_train, y_train)\n",
    "                score_table.loc[i, 'C'] = C\n",
    "                score_table.loc[i, 'gamma'] = gamma\n",
    "                score_table.loc[i, 'kernel'] = kernel\n",
    "                score_table.loc[i, 'Fbeta_score'] = fbeta_score(y_valid, clf.predict(X_valid), beta=beta)\n",
    "                score_table.loc[i, 'precision_score'] = precision_score(y_valid, clf.predict(X_valid))\n",
    "                score_table.loc[i, 'recall_score'] = recall_score(y_valid, clf.predict(X_valid))\n",
    "                score_table.loc[i, 'f1_score'] = f1_score(y_valid, clf.predict(X_valid))\n",
    "                score_table.loc[i, 'matthews_corrcoef'] = matthews_corrcoef(y_valid, clf.predict(X_valid))\n",
    "                i += 1\n",
    "    return score_table\n",
    "SVC_score_table = tune_SVC(X_rus_scaled, y_rus, X_hold1_scaled, y_hold1, Cs, gammas, kernels, beta=0.2, random_state=42)\n",
    "SVC_score_table.head()"
   ]
  },
  {
   "cell_type": "code",
   "execution_count": null,
   "metadata": {},
   "outputs": [],
   "source": [
    "SVC_score_table.loc[SVC_score_table.Fbeta_score == np.max(SVC_score_table.Fbeta_score)]"
   ]
  },
  {
   "cell_type": "code",
   "execution_count": null,
   "metadata": {},
   "outputs": [],
   "source": [
    "print(SVC_score_table)"
   ]
  },
  {
   "cell_type": "code",
   "execution_count": null,
   "metadata": {},
   "outputs": [],
   "source": []
  },
  {
   "cell_type": "code",
   "execution_count": null,
   "metadata": {},
   "outputs": [],
   "source": []
  },
  {
   "cell_type": "code",
   "execution_count": null,
   "metadata": {},
   "outputs": [],
   "source": []
  },
  {
   "cell_type": "code",
   "execution_count": null,
   "metadata": {},
   "outputs": [],
   "source": []
  },
  {
   "cell_type": "code",
   "execution_count": null,
   "metadata": {},
   "outputs": [],
   "source": []
  },
  {
   "cell_type": "code",
   "execution_count": null,
   "metadata": {},
   "outputs": [],
   "source": []
  },
  {
   "cell_type": "code",
   "execution_count": null,
   "metadata": {},
   "outputs": [],
   "source": []
  },
  {
   "cell_type": "markdown",
   "metadata": {},
   "source": [
    "## Resplitting the data with just one holdout set"
   ]
  },
  {
   "cell_type": "code",
   "execution_count": null,
   "metadata": {},
   "outputs": [],
   "source": [
    "X_train, X_test, y_train, y_test = train_test_split(df.drop(['encounter_id', 'patient_nbr', 'payer_code', 'readmitted'],\n",
    "                                                           axis=1), \n",
    "                                                    df[['readmitted']], \n",
    "                                                    test_size=0.1, \n",
    "                                                    random_state=42)\n",
    "rus = RandomUnderSampler(return_indices=True)\n",
    "X_rus, y_rus, id_rus = rus.fit_sample(X_train, y_train)"
   ]
  },
  {
   "cell_type": "code",
   "execution_count": null,
   "metadata": {},
   "outputs": [],
   "source": [
    "best_score=0\n",
    "for n_estimators in [2, 5, 10, 20, 50, 100]:\n",
    "    for max_depth in [2, 5, 10, 20, 50, 100, 150, None]:\n",
    "        for max_features in [2, 5, 10, 20, 50, 83]:\n",
    "                clf=RandomForestClassifier(n_estimators=n_estimators,\n",
    "                                           max_depth=max_depth,\n",
    "                                           max_features=max_features,\n",
    "                                           n_jobs=-1, \n",
    "                                           random_state=42,\n",
    "                                           oob_score=True)\n",
    "                clf.fit(X_rus, y_rus)\n",
    "                current_score = clf.oob_score_\n",
    "                if current_score > best_score:\n",
    "                    best_params = {'n_estimators':n_estimators,\n",
    "                                   'max_depth':max_depth,\n",
    "                                   'max_features':max_features}\n",
    "                    best_score = current_score"
   ]
  },
  {
   "cell_type": "code",
   "execution_count": null,
   "metadata": {},
   "outputs": [],
   "source": [
    "best_params"
   ]
  },
  {
   "cell_type": "code",
   "execution_count": null,
   "metadata": {},
   "outputs": [],
   "source": [
    "best_score"
   ]
  },
  {
   "cell_type": "markdown",
   "metadata": {},
   "source": [
    "It appears to be the out-of-bag accuracy score. Is this OK to use since the dataset is rebalanced using undersampling?"
   ]
  },
  {
   "cell_type": "markdown",
   "metadata": {},
   "source": [
    "## Fitting a model on Principal Components"
   ]
  },
  {
   "cell_type": "code",
   "execution_count": 28,
   "metadata": {},
   "outputs": [],
   "source": [
    "pca = PCA(n_components=3)\n",
    "X = df[df.columns.difference(['readmitted'])]\n",
    "y = df['readmitted']\n",
    "pca.fit(X_train)\n",
    "X_train_pcs = pca.transform(X_train)\n",
    "X_hold1_pcs = pca.transform(X_hold1)\n",
    "X_hold2_pcs = pca.transform(X_hold2)\n",
    "X_hold3_pcs = pca.transform(X_hold3)"
   ]
  },
  {
   "cell_type": "code",
   "execution_count": 29,
   "metadata": {},
   "outputs": [
    {
     "data": {
      "text/html": [
       "<div>\n",
       "<style scoped>\n",
       "    .dataframe tbody tr th:only-of-type {\n",
       "        vertical-align: middle;\n",
       "    }\n",
       "\n",
       "    .dataframe tbody tr th {\n",
       "        vertical-align: top;\n",
       "    }\n",
       "\n",
       "    .dataframe thead th {\n",
       "        text-align: right;\n",
       "    }\n",
       "</style>\n",
       "<table border=\"1\" class=\"dataframe\">\n",
       "  <thead>\n",
       "    <tr style=\"text-align: right;\">\n",
       "      <th></th>\n",
       "      <th>training data</th>\n",
       "      <th>validation data</th>\n",
       "    </tr>\n",
       "  </thead>\n",
       "  <tbody>\n",
       "    <tr>\n",
       "      <th>precision score</th>\n",
       "      <td>0.642857</td>\n",
       "      <td>1</td>\n",
       "    </tr>\n",
       "    <tr>\n",
       "      <th>recall score</th>\n",
       "      <td>0.00112164</td>\n",
       "      <td>0.000877963</td>\n",
       "    </tr>\n",
       "    <tr>\n",
       "      <th>Fbeta score</th>\n",
       "      <td>0.0279436</td>\n",
       "      <td>0.0223368</td>\n",
       "    </tr>\n",
       "    <tr>\n",
       "      <th>Mattews correlation coefficient</th>\n",
       "      <td>0.0235134</td>\n",
       "      <td>0.0279245</td>\n",
       "    </tr>\n",
       "    <tr>\n",
       "      <th>accuracy score</th>\n",
       "      <td>0.887416</td>\n",
       "      <td>0.888179</td>\n",
       "    </tr>\n",
       "  </tbody>\n",
       "</table>\n",
       "</div>"
      ],
      "text/plain": [
       "                                training data validation data\n",
       "precision score                      0.642857               1\n",
       "recall score                       0.00112164     0.000877963\n",
       "Fbeta score                         0.0279436       0.0223368\n",
       "Mattews correlation coefficient     0.0235134       0.0279245\n",
       "accuracy score                       0.887416        0.888179"
      ]
     },
     "execution_count": 29,
     "metadata": {},
     "output_type": "execute_result"
    },
    {
     "data": {
      "image/png": "[encoded data removed]",
      "text/plain": [
       "<Figure size 720x432 with 4 Axes>"
      ]
     },
     "metadata": {
      "needs_background": "light"
     },
     "output_type": "display_data"
    }
   ],
   "source": [
    "ada_clf = AdaBoostClassifier(DecisionTreeClassifier(\n",
    "    max_depth=2,\n",
    "    min_samples_split=50),\n",
    "    n_estimators=20,\n",
    "    random_state=42)\n",
    "ada_clf.fit(X_train_pcs, y_train)\n",
    "test_model(X_train_pcs, y_train, X_hold2_pcs, y_hold2, ada_clf)"
   ]
  },
  {
   "cell_type": "code",
   "execution_count": null,
   "metadata": {},
   "outputs": [],
   "source": []
  }
 ],
 "metadata": {
  "kernelspec": {
   "display_name": "Python 3",
   "language": "python",
   "name": "python3"
  },
  "language_info": {
   "codemirror_mode": {
    "name": "ipython",
    "version": 3
   },
   "file_extension": ".py",
   "mimetype": "text/x-python",
   "name": "python",
   "nbconvert_exporter": "python",
   "pygments_lexer": "ipython3",
   "version": "3.6.6"
  }
 },
 "nbformat": 4,
 "nbformat_minor": 2
}
