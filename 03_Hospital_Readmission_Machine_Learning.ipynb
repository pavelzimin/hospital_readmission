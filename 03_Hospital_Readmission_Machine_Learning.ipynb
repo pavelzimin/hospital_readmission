{
 "cells": [
  {
   "cell_type": "code",
   "execution_count": 1,
   "metadata": {},
   "outputs": [],
   "source": [
    "import pandas as pd\n",
    "import numpy as np\n",
    "import matplotlib.pyplot as plt\n",
    "%matplotlib inline\n",
    "import pickle\n",
    "import seaborn as sns\n",
    "import random\n",
    "sns.set()"
   ]
  },
  {
   "cell_type": "code",
   "execution_count": 2,
   "metadata": {},
   "outputs": [],
   "source": [
    "with open('clean_data/df.pkl', 'rb') as f:\n",
    "        df = pickle.load(f)\n",
    "with open('clean_data/df_labels.pkl', 'rb') as f:\n",
    "        df_labels = pickle.load(f)"
   ]
  },
  {
   "cell_type": "code",
   "execution_count": 3,
   "metadata": {},
   "outputs": [
    {
     "data": {
      "text/html": [
       "<div>\n",
       "<style scoped>\n",
       "    .dataframe tbody tr th:only-of-type {\n",
       "        vertical-align: middle;\n",
       "    }\n",
       "\n",
       "    .dataframe tbody tr th {\n",
       "        vertical-align: top;\n",
       "    }\n",
       "\n",
       "    .dataframe thead th {\n",
       "        text-align: right;\n",
       "    }\n",
       "</style>\n",
       "<table border=\"1\" class=\"dataframe\">\n",
       "  <thead>\n",
       "    <tr style=\"text-align: right;\">\n",
       "      <th></th>\n",
       "      <th>encounter_id</th>\n",
       "      <th>patient_nbr</th>\n",
       "      <th>race</th>\n",
       "      <th>gender</th>\n",
       "      <th>age</th>\n",
       "      <th>admission_type_id</th>\n",
       "      <th>discharge_disposition_id</th>\n",
       "      <th>admission_source_id</th>\n",
       "      <th>time_in_hospital</th>\n",
       "      <th>payer_code</th>\n",
       "      <th>...</th>\n",
       "      <th>level_4_diag_1_na</th>\n",
       "      <th>level_5_diag_1_na</th>\n",
       "      <th>level_2_diag_2_na</th>\n",
       "      <th>level_3_diag_2_na</th>\n",
       "      <th>level_4_diag_2_na</th>\n",
       "      <th>level_5_diag_2_na</th>\n",
       "      <th>level_2_diag_3_na</th>\n",
       "      <th>level_3_diag_3_na</th>\n",
       "      <th>level_4_diag_3_na</th>\n",
       "      <th>level_5_diag_3_na</th>\n",
       "    </tr>\n",
       "  </thead>\n",
       "  <tbody>\n",
       "    <tr>\n",
       "      <th>0</th>\n",
       "      <td>2278392</td>\n",
       "      <td>8222157</td>\n",
       "      <td>3</td>\n",
       "      <td>1</td>\n",
       "      <td>0</td>\n",
       "      <td>0</td>\n",
       "      <td>0</td>\n",
       "      <td>1</td>\n",
       "      <td>1</td>\n",
       "      <td>0</td>\n",
       "      <td>...</td>\n",
       "      <td>0</td>\n",
       "      <td>0</td>\n",
       "      <td>1</td>\n",
       "      <td>1</td>\n",
       "      <td>1</td>\n",
       "      <td>1</td>\n",
       "      <td>1</td>\n",
       "      <td>1</td>\n",
       "      <td>1</td>\n",
       "      <td>1</td>\n",
       "    </tr>\n",
       "    <tr>\n",
       "      <th>1</th>\n",
       "      <td>149190</td>\n",
       "      <td>55629189</td>\n",
       "      <td>3</td>\n",
       "      <td>1</td>\n",
       "      <td>1</td>\n",
       "      <td>1</td>\n",
       "      <td>1</td>\n",
       "      <td>7</td>\n",
       "      <td>3</td>\n",
       "      <td>0</td>\n",
       "      <td>...</td>\n",
       "      <td>0</td>\n",
       "      <td>0</td>\n",
       "      <td>0</td>\n",
       "      <td>0</td>\n",
       "      <td>0</td>\n",
       "      <td>0</td>\n",
       "      <td>0</td>\n",
       "      <td>0</td>\n",
       "      <td>0</td>\n",
       "      <td>0</td>\n",
       "    </tr>\n",
       "    <tr>\n",
       "      <th>2</th>\n",
       "      <td>64410</td>\n",
       "      <td>86047875</td>\n",
       "      <td>1</td>\n",
       "      <td>1</td>\n",
       "      <td>2</td>\n",
       "      <td>1</td>\n",
       "      <td>1</td>\n",
       "      <td>7</td>\n",
       "      <td>2</td>\n",
       "      <td>0</td>\n",
       "      <td>...</td>\n",
       "      <td>0</td>\n",
       "      <td>0</td>\n",
       "      <td>0</td>\n",
       "      <td>0</td>\n",
       "      <td>0</td>\n",
       "      <td>0</td>\n",
       "      <td>0</td>\n",
       "      <td>0</td>\n",
       "      <td>0</td>\n",
       "      <td>0</td>\n",
       "    </tr>\n",
       "    <tr>\n",
       "      <th>3</th>\n",
       "      <td>500364</td>\n",
       "      <td>82442376</td>\n",
       "      <td>3</td>\n",
       "      <td>2</td>\n",
       "      <td>3</td>\n",
       "      <td>1</td>\n",
       "      <td>1</td>\n",
       "      <td>7</td>\n",
       "      <td>2</td>\n",
       "      <td>0</td>\n",
       "      <td>...</td>\n",
       "      <td>0</td>\n",
       "      <td>0</td>\n",
       "      <td>0</td>\n",
       "      <td>0</td>\n",
       "      <td>0</td>\n",
       "      <td>0</td>\n",
       "      <td>0</td>\n",
       "      <td>0</td>\n",
       "      <td>0</td>\n",
       "      <td>0</td>\n",
       "    </tr>\n",
       "    <tr>\n",
       "      <th>4</th>\n",
       "      <td>16680</td>\n",
       "      <td>42519267</td>\n",
       "      <td>3</td>\n",
       "      <td>2</td>\n",
       "      <td>4</td>\n",
       "      <td>1</td>\n",
       "      <td>1</td>\n",
       "      <td>7</td>\n",
       "      <td>1</td>\n",
       "      <td>0</td>\n",
       "      <td>...</td>\n",
       "      <td>0</td>\n",
       "      <td>0</td>\n",
       "      <td>0</td>\n",
       "      <td>0</td>\n",
       "      <td>0</td>\n",
       "      <td>0</td>\n",
       "      <td>0</td>\n",
       "      <td>0</td>\n",
       "      <td>0</td>\n",
       "      <td>0</td>\n",
       "    </tr>\n",
       "  </tbody>\n",
       "</table>\n",
       "<p>5 rows × 87 columns</p>\n",
       "</div>"
      ],
      "text/plain": [
       "   encounter_id  patient_nbr  race  gender  age  admission_type_id  \\\n",
       "0       2278392      8222157     3       1    0                  0   \n",
       "1        149190     55629189     3       1    1                  1   \n",
       "2         64410     86047875     1       1    2                  1   \n",
       "3        500364     82442376     3       2    3                  1   \n",
       "4         16680     42519267     3       2    4                  1   \n",
       "\n",
       "   discharge_disposition_id  admission_source_id  time_in_hospital  \\\n",
       "0                         0                    1                 1   \n",
       "1                         1                    7                 3   \n",
       "2                         1                    7                 2   \n",
       "3                         1                    7                 2   \n",
       "4                         1                    7                 1   \n",
       "\n",
       "   payer_code        ...          level_4_diag_1_na  level_5_diag_1_na  \\\n",
       "0           0        ...                          0                  0   \n",
       "1           0        ...                          0                  0   \n",
       "2           0        ...                          0                  0   \n",
       "3           0        ...                          0                  0   \n",
       "4           0        ...                          0                  0   \n",
       "\n",
       "   level_2_diag_2_na  level_3_diag_2_na  level_4_diag_2_na  level_5_diag_2_na  \\\n",
       "0                  1                  1                  1                  1   \n",
       "1                  0                  0                  0                  0   \n",
       "2                  0                  0                  0                  0   \n",
       "3                  0                  0                  0                  0   \n",
       "4                  0                  0                  0                  0   \n",
       "\n",
       "   level_2_diag_3_na  level_3_diag_3_na  level_4_diag_3_na  level_5_diag_3_na  \n",
       "0                  1                  1                  1                  1  \n",
       "1                  0                  0                  0                  0  \n",
       "2                  0                  0                  0                  0  \n",
       "3                  0                  0                  0                  0  \n",
       "4                  0                  0                  0                  0  \n",
       "\n",
       "[5 rows x 87 columns]"
      ]
     },
     "execution_count": 3,
     "metadata": {},
     "output_type": "execute_result"
    }
   ],
   "source": [
    "df.head()"
   ]
  },
  {
   "cell_type": "code",
   "execution_count": 4,
   "metadata": {},
   "outputs": [
    {
     "data": {
      "text/plain": [
       "0    54864\n",
       "1    11357\n",
       "2    35545\n",
       "Name: readmitted, dtype: int64"
      ]
     },
     "execution_count": 4,
     "metadata": {},
     "output_type": "execute_result"
    }
   ],
   "source": [
    "df['readmitted'].value_counts().sort_index()"
   ]
  },
  {
   "cell_type": "code",
   "execution_count": 5,
   "metadata": {},
   "outputs": [
    {
     "data": {
      "text/plain": [
       "0.11159915885462728"
      ]
     },
     "execution_count": 5,
     "metadata": {},
     "output_type": "execute_result"
    }
   ],
   "source": [
    "df['readmitted'] = (df['readmitted'] == 1).astype(int)\n",
    "df['readmitted'].mean()"
   ]
  },
  {
   "cell_type": "code",
   "execution_count": 6,
   "metadata": {},
   "outputs": [
    {
     "data": {
      "text/plain": [
       "(array([[0, 1, 4, ..., 0, 0, 0],\n",
       "        [3, 2, 7, ..., 0, 0, 0],\n",
       "        [1, 1, 5, ..., 0, 0, 0],\n",
       "        ...,\n",
       "        [5, 2, 4, ..., 1, 1, 1],\n",
       "        [3, 2, 7, ..., 0, 0, 0],\n",
       "        [3, 2, 7, ..., 0, 0, 0]]),\n",
       " array([0, 0, 0, ..., 0, 0, 1]),\n",
       " array([[3, 2, 6, ..., 0, 0, 0],\n",
       "        [3, 2, 5, ..., 0, 0, 0],\n",
       "        [3, 1, 6, ..., 0, 0, 0],\n",
       "        ...,\n",
       "        [3, 2, 6, ..., 0, 0, 0],\n",
       "        [3, 1, 7, ..., 0, 0, 0],\n",
       "        [3, 2, 6, ..., 0, 0, 0]]),\n",
       " array([1, 0, 0, ..., 0, 0, 0]),\n",
       " array([[3, 2, 7, ..., 0, 0, 0],\n",
       "        [3, 1, 4, ..., 0, 0, 0],\n",
       "        [3, 2, 5, ..., 0, 0, 0],\n",
       "        ...,\n",
       "        [3, 2, 5, ..., 0, 0, 0],\n",
       "        [1, 1, 6, ..., 0, 0, 0],\n",
       "        [3, 2, 8, ..., 0, 0, 0]]),\n",
       " array([0, 0, 0, ..., 0, 0, 0]),\n",
       " array([[3, 1, 8, ..., 0, 0, 0],\n",
       "        [4, 2, 5, ..., 0, 0, 0],\n",
       "        [3, 1, 7, ..., 0, 0, 0],\n",
       "        ...,\n",
       "        [1, 1, 4, ..., 0, 0, 0],\n",
       "        [1, 2, 6, ..., 0, 0, 0],\n",
       "        [3, 1, 7, ..., 0, 0, 0]]),\n",
       " array([0, 0, 0, ..., 0, 0, 0]))"
      ]
     },
     "execution_count": 6,
     "metadata": {},
     "output_type": "execute_result"
    }
   ],
   "source": [
    "def data_split(df, y_col, to_drop=[], random_state=None, hold1_size=.1, hold2_size=.1, hold3_size=.1):\n",
    "    df_filtered = df.drop(columns=to_drop)\n",
    "    rows = list(df_filtered.index)\n",
    "    if random_state is not None:\n",
    "        random.seed(random_state)\n",
    "    random.shuffle(rows)\n",
    "    length = len(rows)\n",
    "    train_rows = rows[:int(length*.7)]\n",
    "    hold1_rows = rows[int(length*.7):int(length*.8)]\n",
    "    hold2_rows = rows[int(length*.8):int(length*.9)]\n",
    "    hold3_rows = rows[int(length*.9):]\n",
    "    X_train = df_filtered.drop(columns=[y_col]).iloc[train_rows].values\n",
    "    y_train = df_filtered.loc[train_rows, y_col].values\n",
    "    X_hold1 = df_filtered.drop(columns=[y_col]).iloc[hold1_rows].values\n",
    "    y_hold1 = df_filtered.loc[hold1_rows, y_col].values\n",
    "    X_hold2 = df_filtered.drop(columns=[y_col]).iloc[hold2_rows].values\n",
    "    y_hold2 = df_filtered.loc[hold2_rows, y_col].values\n",
    "    X_hold3 = df_filtered.drop(columns=[y_col]).iloc[hold3_rows].values\n",
    "    y_hold3 = df_filtered.loc[hold3_rows, y_col].values\n",
    "    return X_train, y_train, X_hold1, y_hold1, X_hold2, y_hold2, X_hold3, y_hold3\n",
    "    \n",
    "data_split(df, 'readmitted', ['encounter_id', 'patient_nbr', 'payer_code'], 42)"
   ]
  },
  {
   "cell_type": "markdown",
   "metadata": {},
   "source": [
    "## First try with random forest"
   ]
  },
  {
   "cell_type": "code",
   "execution_count": 7,
   "metadata": {},
   "outputs": [
    {
     "name": "stdout",
     "output_type": "stream",
     "text": [
      "(71236, 83)\n",
      "(71236,)\n"
     ]
    }
   ],
   "source": [
    "from sklearn.ensemble import RandomForestClassifier\n",
    "X_train, y_train, X_hold1, y_hold1, X_hold2, y_hold2, X_hold3, y_hold3 = data_split(\n",
    "    df=df, \n",
    "    y_col='readmitted',\n",
    "    to_drop=['encounter_id', 'patient_nbr', 'payer_code'], \n",
    "    random_state=42,\n",
    "    hold1_size=.1, \n",
    "    hold2_size=.1, \n",
    "    hold3_size=.1)\n",
    "print(X_train.shape)\n",
    "print(y_train.shape)"
   ]
  },
  {
   "cell_type": "code",
   "execution_count": 8,
   "metadata": {},
   "outputs": [
    {
     "name": "stderr",
     "output_type": "stream",
     "text": [
      "/home/pavel/anaconda3/lib/python3.6/site-packages/sklearn/ensemble/forest.py:246: FutureWarning: The default value of n_estimators will change from 10 in version 0.20 to 100 in 0.22.\n",
      "  \"10 in version 0.20 to 100 in 0.22.\", FutureWarning)\n"
     ]
    },
    {
     "data": {
      "text/plain": [
       "array([[8994,   49],\n",
       "       [1109,   24]])"
      ]
     },
     "execution_count": 8,
     "metadata": {},
     "output_type": "execute_result"
    }
   ],
   "source": [
    "clf = RandomForestClassifier(n_jobs=-1, random_state=42)\n",
    "clf.fit(X_train, y_train)\n",
    "from sklearn.metrics import confusion_matrix\n",
    "confusion_matrix(y_hold1, clf.predict(X_hold1))"
   ]
  },
  {
   "cell_type": "code",
   "execution_count": 9,
   "metadata": {},
   "outputs": [
    {
     "data": {
      "text/plain": [
       "0.02118270079435128"
      ]
     },
     "execution_count": 9,
     "metadata": {},
     "output_type": "execute_result"
    }
   ],
   "source": [
    "from sklearn.metrics import recall_score\n",
    "recall_score(y_hold1, clf.predict(X_hold1))  "
   ]
  },
  {
   "cell_type": "code",
   "execution_count": 10,
   "metadata": {},
   "outputs": [
    {
     "data": {
      "text/plain": [
       "0.3287671232876712"
      ]
     },
     "execution_count": 10,
     "metadata": {},
     "output_type": "execute_result"
    }
   ],
   "source": [
    "from sklearn.metrics import precision_score\n",
    "precision_score(y_hold1, clf.predict(X_hold1))"
   ]
  },
  {
   "cell_type": "markdown",
   "metadata": {},
   "source": [
    "## Undersampling to deal with imbalanced classes"
   ]
  },
  {
   "cell_type": "code",
   "execution_count": 11,
   "metadata": {},
   "outputs": [
    {
     "name": "stdout",
     "output_type": "stream",
     "text": [
      "(16048, 83)\n",
      "(16048,)\n"
     ]
    }
   ],
   "source": [
    "from imblearn.under_sampling import RandomUnderSampler\n",
    "rus = RandomUnderSampler(return_indices=True)\n",
    "X_rus, y_rus, id_rus = rus.fit_sample(X_train, y_train)\n",
    "print(X_rus.shape)\n",
    "print(y_rus.shape)"
   ]
  },
  {
   "cell_type": "code",
   "execution_count": 12,
   "metadata": {},
   "outputs": [
    {
     "data": {
      "text/plain": [
       "array([[5503, 3540],\n",
       "       [ 464,  669]])"
      ]
     },
     "execution_count": 12,
     "metadata": {},
     "output_type": "execute_result"
    }
   ],
   "source": [
    "clf_rus = RandomForestClassifier(n_jobs=-1, max_features=10, random_state=42, n_estimators=100)\n",
    "clf_rus.fit(X_rus, y_rus)\n",
    "confusion_matrix(y_hold1, clf_rus.predict(X_hold1))"
   ]
  },
  {
   "cell_type": "code",
   "execution_count": 13,
   "metadata": {},
   "outputs": [
    {
     "data": {
      "text/plain": [
       "0.5904677846425419"
      ]
     },
     "execution_count": 13,
     "metadata": {},
     "output_type": "execute_result"
    }
   ],
   "source": [
    "recall_score(y_hold1, clf_rus.predict(X_hold1))"
   ]
  },
  {
   "cell_type": "code",
   "execution_count": 14,
   "metadata": {},
   "outputs": [
    {
     "data": {
      "text/plain": [
       "0.15894511760513186"
      ]
     },
     "execution_count": 14,
     "metadata": {},
     "output_type": "execute_result"
    }
   ],
   "source": [
    "precision_score(y_hold1, clf_rus.predict(X_hold1))"
   ]
  },
  {
   "cell_type": "markdown",
   "metadata": {},
   "source": [
    "## Optimizing for recall"
   ]
  },
  {
   "cell_type": "code",
   "execution_count": 15,
   "metadata": {},
   "outputs": [
    {
     "ename": "KeyboardInterrupt",
     "evalue": "",
     "output_type": "error",
     "traceback": [
      "\u001b[0;31m---------------------------------------------------------------------------\u001b[0m",
      "\u001b[0;31mKeyboardInterrupt\u001b[0m                         Traceback (most recent call last)",
      "\u001b[0;32m<ipython-input-15-e7ab4caef086>\u001b[0m in \u001b[0;36m<module>\u001b[0;34m()\u001b[0m\n\u001b[1;32m     20\u001b[0m                                            n_jobs=-1, random_state=42)\n\u001b[1;32m     21\u001b[0m                 \u001b[0mclf\u001b[0m\u001b[0;34m.\u001b[0m\u001b[0mfit\u001b[0m\u001b[0;34m(\u001b[0m\u001b[0mX_rus\u001b[0m\u001b[0;34m,\u001b[0m \u001b[0my_rus\u001b[0m\u001b[0;34m)\u001b[0m\u001b[0;34m\u001b[0m\u001b[0m\n\u001b[0;32m---> 22\u001b[0;31m                 \u001b[0mcurrent_score\u001b[0m \u001b[0;34m=\u001b[0m \u001b[0mrecall_score\u001b[0m\u001b[0;34m(\u001b[0m\u001b[0my_hold1\u001b[0m\u001b[0;34m,\u001b[0m \u001b[0mclf\u001b[0m\u001b[0;34m.\u001b[0m\u001b[0mpredict\u001b[0m\u001b[0;34m(\u001b[0m\u001b[0mX_hold1\u001b[0m\u001b[0;34m)\u001b[0m\u001b[0;34m)\u001b[0m\u001b[0;34m\u001b[0m\u001b[0m\n\u001b[0m\u001b[1;32m     23\u001b[0m                 \u001b[0;32mif\u001b[0m \u001b[0mcurrent_score\u001b[0m \u001b[0;34m>\u001b[0m \u001b[0mbest_score\u001b[0m\u001b[0;34m:\u001b[0m\u001b[0;34m\u001b[0m\u001b[0m\n\u001b[1;32m     24\u001b[0m                     best_params = {'n_estimators':n_estimators,\n",
      "\u001b[0;32m~/anaconda3/lib/python3.6/site-packages/sklearn/ensemble/forest.py\u001b[0m in \u001b[0;36mpredict\u001b[0;34m(self, X)\u001b[0m\n\u001b[1;32m    544\u001b[0m \u001b[0;34m\u001b[0m\u001b[0m\n\u001b[1;32m    545\u001b[0m         \u001b[0;32mif\u001b[0m \u001b[0mself\u001b[0m\u001b[0;34m.\u001b[0m\u001b[0mn_outputs_\u001b[0m \u001b[0;34m==\u001b[0m \u001b[0;36m1\u001b[0m\u001b[0;34m:\u001b[0m\u001b[0;34m\u001b[0m\u001b[0m\n\u001b[0;32m--> 546\u001b[0;31m             \u001b[0;32mreturn\u001b[0m \u001b[0mself\u001b[0m\u001b[0;34m.\u001b[0m\u001b[0mclasses_\u001b[0m\u001b[0;34m.\u001b[0m\u001b[0mtake\u001b[0m\u001b[0;34m(\u001b[0m\u001b[0mnp\u001b[0m\u001b[0;34m.\u001b[0m\u001b[0margmax\u001b[0m\u001b[0;34m(\u001b[0m\u001b[0mproba\u001b[0m\u001b[0;34m,\u001b[0m \u001b[0maxis\u001b[0m\u001b[0;34m=\u001b[0m\u001b[0;36m1\u001b[0m\u001b[0;34m)\u001b[0m\u001b[0;34m,\u001b[0m \u001b[0maxis\u001b[0m\u001b[0;34m=\u001b[0m\u001b[0;36m0\u001b[0m\u001b[0;34m)\u001b[0m\u001b[0;34m\u001b[0m\u001b[0m\n\u001b[0m\u001b[1;32m    547\u001b[0m \u001b[0;34m\u001b[0m\u001b[0m\n\u001b[1;32m    548\u001b[0m         \u001b[0;32melse\u001b[0m\u001b[0;34m:\u001b[0m\u001b[0;34m\u001b[0m\u001b[0m\n",
      "\u001b[0;31mKeyboardInterrupt\u001b[0m: "
     ]
    }
   ],
   "source": [
    "from sklearn.model_selection import GridSearchCV\n",
    "parameters = {'n_estimators':[10, 20, 40, 60, 100, 200, 500], \n",
    "              'max_depth':[2, 5, 10, 20, 40, None],\n",
    "              'min_samples_split':[2, 3, 5, 7, 10, 50],\n",
    "              'max_features':[2, 5, 7, 10, 15, 20, 25, 30]}\n",
    "\n",
    "best_params={'n_esmitators':10,\n",
    "             'max_depth':2,\n",
    "             'min_samples_split':2,\n",
    "             'max_features':2}\n",
    "best_score=0\n",
    "for n_estimators in [10, 20, 40, 60, 100, 200, 500]:\n",
    "    for max_depth in [2, 5, 10, 20, 40, None]:\n",
    "        for min_samples_split in [2, 3, 5, 7, 10, 50]:\n",
    "            for max_features in [2, 5, 7, 10, 15, 20, 25, 30]:\n",
    "                clf=RandomForestClassifier(n_estimators=n_estimators,\n",
    "                                           max_depth=max_depth,\n",
    "                                           min_samples_split=min_samples_split,\n",
    "                                           max_features=max_features,\n",
    "                                           n_jobs=-1, random_state=42)\n",
    "                clf.fit(X_rus, y_rus)\n",
    "                current_score = recall_score(y_hold1, clf.predict(X_hold1))\n",
    "                if current_score > best_score:\n",
    "                    best_params = {'n_estimators':n_estimators,\n",
    "                                   'max_depth':max_depth,\n",
    "                                   'min_samples_split':min_samples_split,\n",
    "                                   'max_features':max_features}\n",
    "                    best_score = current_score"
   ]
  },
  {
   "cell_type": "code",
   "execution_count": null,
   "metadata": {},
   "outputs": [],
   "source": [
    "best_params"
   ]
  },
  {
   "cell_type": "code",
   "execution_count": null,
   "metadata": {},
   "outputs": [],
   "source": [
    "best_score"
   ]
  },
  {
   "cell_type": "code",
   "execution_count": 16,
   "metadata": {},
   "outputs": [
    {
     "data": {
      "text/plain": [
       "0.5996488147497805"
      ]
     },
     "execution_count": 16,
     "metadata": {},
     "output_type": "execute_result"
    }
   ],
   "source": [
    "clf = RandomForestClassifier(n_estimators=20,\n",
    "                                           max_depth=10,\n",
    "                                           min_samples_split=5,\n",
    "                                           max_features=2,\n",
    "                                           n_jobs=-1, random_state=42)\n",
    "clf.fit(X_rus, y_rus)\n",
    "recall_score(y_hold2, clf.predict(X_hold2))"
   ]
  },
  {
   "cell_type": "code",
   "execution_count": 17,
   "metadata": {},
   "outputs": [
    {
     "data": {
      "text/plain": [
       "array([[5175, 3863],\n",
       "       [ 456,  683]])"
      ]
     },
     "execution_count": 17,
     "metadata": {},
     "output_type": "execute_result"
    }
   ],
   "source": [
    "confusion_matrix(y_hold2, clf.predict(X_hold2))"
   ]
  },
  {
   "cell_type": "code",
   "execution_count": 18,
   "metadata": {},
   "outputs": [
    {
     "data": {
      "text/plain": [
       "0.15024197096348438"
      ]
     },
     "execution_count": 18,
     "metadata": {},
     "output_type": "execute_result"
    }
   ],
   "source": [
    "precision_score(y_hold2, clf.predict(X_hold2))"
   ]
  },
  {
   "cell_type": "markdown",
   "metadata": {},
   "source": [
    "## Optimizing for precision"
   ]
  },
  {
   "cell_type": "code",
   "execution_count": null,
   "metadata": {},
   "outputs": [],
   "source": [
    "best_params={'n_esmitators':10,\n",
    "             'max_depth':2,\n",
    "             'min_samples_split':2,\n",
    "             'max_features':2}\n",
    "best_score=0\n",
    "for n_estimators in [10, 20, 40, 60, 100, 200, 500]:\n",
    "    for max_depth in [2, 5, 10, 20, 40, None]:\n",
    "        for min_samples_split in [2, 3, 5, 7, 10, 50]:\n",
    "            for max_features in [2, 5, 7, 10, 15, 20, 25, 30]:\n",
    "                clf=RandomForestClassifier(n_estimators=n_estimators,\n",
    "                                           max_depth=max_depth,\n",
    "                                           min_samples_split=min_samples_split,\n",
    "                                           max_features=max_features,\n",
    "                                           n_jobs=-1, random_state=42)\n",
    "                clf.fit(X_rus, y_rus)\n",
    "                current_score = precision_score(y_hold1, clf.predict(X_hold1))\n",
    "                if current_score > best_score:\n",
    "                    best_params = {'n_estimators':n_estimators,\n",
    "                                   'max_depth':max_depth,\n",
    "                                   'min_samples_split':min_samples_split,\n",
    "                                   'max_features':max_features}\n",
    "                    best_score = current_score"
   ]
  },
  {
   "cell_type": "code",
   "execution_count": null,
   "metadata": {},
   "outputs": [],
   "source": [
    "best_params"
   ]
  },
  {
   "cell_type": "code",
   "execution_count": null,
   "metadata": {},
   "outputs": [],
   "source": [
    "best_score"
   ]
  },
  {
   "cell_type": "code",
   "execution_count": 19,
   "metadata": {},
   "outputs": [
    {
     "data": {
      "text/plain": [
       "0.1437837837837838"
      ]
     },
     "execution_count": 19,
     "metadata": {},
     "output_type": "execute_result"
    }
   ],
   "source": [
    "clf = RandomForestClassifier(n_estimators=500,\n",
    "                                           max_depth=2,\n",
    "                                           min_samples_split=2,\n",
    "                                           max_features=2,\n",
    "                                           n_jobs=-1, random_state=42)\n",
    "clf.fit(X_rus, y_rus)\n",
    "precision_score(y_hold2, clf.predict(X_hold2))"
   ]
  },
  {
   "cell_type": "code",
   "execution_count": 20,
   "metadata": {},
   "outputs": [
    {
     "data": {
      "text/plain": [
       "array([[5078, 3960],\n",
       "       [ 474,  665]])"
      ]
     },
     "execution_count": 20,
     "metadata": {},
     "output_type": "execute_result"
    }
   ],
   "source": [
    "confusion_matrix(y_hold2, clf.predict(X_hold2))"
   ]
  },
  {
   "cell_type": "code",
   "execution_count": 21,
   "metadata": {},
   "outputs": [
    {
     "data": {
      "text/plain": [
       "0.5838454784899034"
      ]
     },
     "execution_count": 21,
     "metadata": {},
     "output_type": "execute_result"
    }
   ],
   "source": [
    "recall_score(y_hold2, clf.predict(X_hold2))"
   ]
  },
  {
   "cell_type": "markdown",
   "metadata": {},
   "source": [
    "## Trying SVM"
   ]
  },
  {
   "cell_type": "code",
   "execution_count": 22,
   "metadata": {},
   "outputs": [
    {
     "data": {
      "text/plain": [
       "0.1159235668789809"
      ]
     },
     "execution_count": 22,
     "metadata": {},
     "output_type": "execute_result"
    }
   ],
   "source": [
    "from sklearn.svm import SVC\n",
    "clf = SVC(gamma='auto')\n",
    "clf.fit(X_rus, y_rus)\n",
    "precision_score(y_hold2, clf.predict(X_hold2))"
   ]
  },
  {
   "cell_type": "code",
   "execution_count": 23,
   "metadata": {},
   "outputs": [
    {
     "data": {
      "text/plain": [
       "0.7989464442493416"
      ]
     },
     "execution_count": 23,
     "metadata": {},
     "output_type": "execute_result"
    }
   ],
   "source": [
    "recall_score(y_hold2, clf.predict(X_hold2))"
   ]
  },
  {
   "cell_type": "code",
   "execution_count": 24,
   "metadata": {},
   "outputs": [
    {
     "data": {
      "text/plain": [
       "array([[2098, 6940],\n",
       "       [ 229,  910]])"
      ]
     },
     "execution_count": 24,
     "metadata": {},
     "output_type": "execute_result"
    }
   ],
   "source": [
    "confusion_matrix(y_hold2, clf.predict(X_hold2))"
   ]
  },
  {
   "cell_type": "markdown",
   "metadata": {},
   "source": [
    "## Trying AdaBoost"
   ]
  },
  {
   "cell_type": "code",
   "execution_count": 25,
   "metadata": {},
   "outputs": [
    {
     "data": {
      "text/plain": [
       "0.13733998698199176"
      ]
     },
     "execution_count": 25,
     "metadata": {},
     "output_type": "execute_result"
    }
   ],
   "source": [
    "from sklearn.ensemble import AdaBoostClassifier\n",
    "from sklearn.tree import DecisionTreeClassifier\n",
    "ada_clf = AdaBoostClassifier(DecisionTreeClassifier())\n",
    "ada_clf.fit(X_rus, y_rus)\n",
    "precision_score(y_hold2, ada_clf.predict(X_hold2))"
   ]
  },
  {
   "cell_type": "code",
   "execution_count": 26,
   "metadata": {},
   "outputs": [
    {
     "data": {
      "text/plain": [
       "0.15231166392865525"
      ]
     },
     "execution_count": 26,
     "metadata": {},
     "output_type": "execute_result"
    }
   ],
   "source": [
    "bdt_real = AdaBoostClassifier(\n",
    "    DecisionTreeClassifier(max_depth=2),\n",
    "    n_estimators=600,\n",
    "    learning_rate=1)\n",
    "bdt_real.fit(X_rus, y_rus)\n",
    "precision_score(y_hold2, bdt_real.predict(X_hold2))"
   ]
  },
  {
   "cell_type": "code",
   "execution_count": 28,
   "metadata": {},
   "outputs": [
    {
     "data": {
      "text/plain": [
       "array([[5426, 3612],\n",
       "       [ 490,  649]])"
      ]
     },
     "execution_count": 28,
     "metadata": {},
     "output_type": "execute_result"
    }
   ],
   "source": [
    "confusion_matrix(y_hold2, bdt_real.predict(X_hold2))"
   ]
  },
  {
   "cell_type": "markdown",
   "metadata": {},
   "source": [
    "## Trying GradientBoostingClassifier"
   ]
  },
  {
   "cell_type": "code",
   "execution_count": 29,
   "metadata": {},
   "outputs": [
    {
     "data": {
      "text/plain": [
       "0.1714503429006858"
      ]
     },
     "execution_count": 29,
     "metadata": {},
     "output_type": "execute_result"
    }
   ],
   "source": [
    "from sklearn.ensemble import GradientBoostingClassifier\n",
    "gbc = GradientBoostingClassifier()\n",
    "gbc.fit(X_rus, y_rus)\n",
    "precision_score(y_hold2, gbc.predict(X_hold2))"
   ]
  },
  {
   "cell_type": "code",
   "execution_count": null,
   "metadata": {},
   "outputs": [],
   "source": [
    "for n_estimators in [100, 200, 500, 800]:\n",
    "    for max_depth in [2, 5, 10, 20, 40, None]:\n",
    "        for min_samples_split in [2, 3, 5, 7, 10, 50]:\n",
    "            for max_features in [2, 5, 7, 10, 15, 20, 25, 30]:\n",
    "                clf=GradientBoostingClassifier(n_estimators=n_estimators,\n",
    "                                           max_depth=max_depth,\n",
    "                                           min_samples_split=min_samples_split,\n",
    "                                           max_features=max_features,\n",
    "                                           random_state=42)\n",
    "                clf.fit(X_rus, y_rus)\n",
    "                current_score = precision_score(y_hold1, clf.predict(X_hold1))\n",
    "                if current_score > best_score:\n",
    "                    best_params = {'n_estimators':n_estimators,\n",
    "                                   'max_depth':max_depth,\n",
    "                                   'min_samples_split':min_samples_split,\n",
    "                                   'max_features':max_features}\n",
    "                    best_score = current_score"
   ]
  },
  {
   "cell_type": "code",
   "execution_count": null,
   "metadata": {},
   "outputs": [],
   "source": [
    "best_params"
   ]
  },
  {
   "cell_type": "code",
   "execution_count": 30,
   "metadata": {},
   "outputs": [
    {
     "data": {
      "text/plain": [
       "0.1776061776061776"
      ]
     },
     "execution_count": 30,
     "metadata": {},
     "output_type": "execute_result"
    }
   ],
   "source": [
    "gbc = GradientBoostingClassifier(n_estimators=100,\n",
    "                                           max_depth=2,\n",
    "                                           min_samples_split=2,\n",
    "                                           max_features=15,\n",
    "                                           random_state=42)\n",
    "gbc.fit(X_rus, y_rus)\n",
    "precision_score(y_hold2, gbc.predict(X_hold2))"
   ]
  },
  {
   "cell_type": "markdown",
   "metadata": {},
   "source": [
    "## Trying oversampling"
   ]
  },
  {
   "cell_type": "code",
   "execution_count": 31,
   "metadata": {},
   "outputs": [
    {
     "name": "stderr",
     "output_type": "stream",
     "text": [
      "/home/pavel/anaconda3/lib/python3.6/site-packages/sklearn/ensemble/forest.py:246: FutureWarning: The default value of n_estimators will change from 10 in version 0.20 to 100 in 0.22.\n",
      "  \"10 in version 0.20 to 100 in 0.22.\", FutureWarning)\n"
     ]
    },
    {
     "data": {
      "text/plain": [
       "array([[8547,  496],\n",
       "       [1040,   93]])"
      ]
     },
     "execution_count": 31,
     "metadata": {},
     "output_type": "execute_result"
    }
   ],
   "source": [
    "from imblearn.over_sampling import SMOTE, ADASYN\n",
    "X_smote, y_smote = SMOTE().fit_resample(X_train, y_train)\n",
    "clf_smote = RandomForestClassifier(n_jobs=-1, random_state=42)\n",
    "clf_smote.fit(X_smote, y_smote)\n",
    "confusion_matrix(y_hold1, clf_smote.predict(X_hold1))"
   ]
  },
  {
   "cell_type": "code",
   "execution_count": 32,
   "metadata": {},
   "outputs": [
    {
     "data": {
      "text/plain": [
       "0.16891891891891891"
      ]
     },
     "execution_count": 32,
     "metadata": {},
     "output_type": "execute_result"
    }
   ],
   "source": [
    "precision_score(y_hold2, clf_smote.predict(X_hold2))"
   ]
  },
  {
   "cell_type": "code",
   "execution_count": 33,
   "metadata": {},
   "outputs": [
    {
     "name": "stderr",
     "output_type": "stream",
     "text": [
      "/home/pavel/anaconda3/lib/python3.6/site-packages/sklearn/ensemble/forest.py:246: FutureWarning: The default value of n_estimators will change from 10 in version 0.20 to 100 in 0.22.\n",
      "  \"10 in version 0.20 to 100 in 0.22.\", FutureWarning)\n"
     ]
    },
    {
     "data": {
      "text/plain": [
       "array([[8498,  545],\n",
       "       [1026,  107]])"
      ]
     },
     "execution_count": 33,
     "metadata": {},
     "output_type": "execute_result"
    }
   ],
   "source": [
    "X_adasyn, y_adasyn = ADASYN().fit_resample(X_train, y_train)\n",
    "clf_adasyn = RandomForestClassifier(n_jobs=-1, random_state=42)\n",
    "clf_adasyn.fit(X_adasyn, y_adasyn)\n",
    "confusion_matrix(y_hold1, clf_adasyn.predict(X_hold1))"
   ]
  },
  {
   "cell_type": "code",
   "execution_count": 34,
   "metadata": {},
   "outputs": [
    {
     "data": {
      "text/plain": [
       "0.15944272445820434"
      ]
     },
     "execution_count": 34,
     "metadata": {},
     "output_type": "execute_result"
    }
   ],
   "source": [
    "precision_score(y_hold2, clf_adasyn.predict(X_hold2))"
   ]
  },
  {
   "cell_type": "markdown",
   "metadata": {},
   "source": [
    "## Trying RandomForest without oversampling"
   ]
  },
  {
   "cell_type": "code",
   "execution_count": 35,
   "metadata": {},
   "outputs": [
    {
     "name": "stderr",
     "output_type": "stream",
     "text": [
      "/home/pavel/anaconda3/lib/python3.6/site-packages/sklearn/ensemble/forest.py:246: FutureWarning: The default value of n_estimators will change from 10 in version 0.20 to 100 in 0.22.\n",
      "  \"10 in version 0.20 to 100 in 0.22.\", FutureWarning)\n"
     ]
    },
    {
     "data": {
      "text/plain": [
       "0.3392857142857143"
      ]
     },
     "execution_count": 35,
     "metadata": {},
     "output_type": "execute_result"
    }
   ],
   "source": [
    "clf = RandomForestClassifier(n_jobs=-1, random_state=42)\n",
    "clf.fit(X_train, y_train)\n",
    "precision_score(y_hold2, clf.predict(X_hold2))"
   ]
  },
  {
   "cell_type": "code",
   "execution_count": 36,
   "metadata": {},
   "outputs": [
    {
     "data": {
      "text/plain": [
       "array([[9001,   37],\n",
       "       [1120,   19]])"
      ]
     },
     "execution_count": 36,
     "metadata": {},
     "output_type": "execute_result"
    }
   ],
   "source": [
    "confusion_matrix(y_hold2, clf.predict(X_hold2))"
   ]
  },
  {
   "cell_type": "code",
   "execution_count": 37,
   "metadata": {},
   "outputs": [
    {
     "data": {
      "text/plain": [
       "0.016681299385425813"
      ]
     },
     "execution_count": 37,
     "metadata": {},
     "output_type": "execute_result"
    }
   ],
   "source": [
    "recall_score(y_hold2, clf.predict(X_hold2))"
   ]
  },
  {
   "cell_type": "code",
   "execution_count": null,
   "metadata": {},
   "outputs": [],
   "source": [
    "best_score=0\n",
    "for n_estimators in [10, 20, 40, 60, 100, 200]:\n",
    "    for max_depth in [2, 5, 10, 20, 40, None]:\n",
    "        for min_samples_split in [2, 3, 5, 7, 10, 50]:\n",
    "            for max_features in [2, 5, 7, 10, 15, 20, 25, 30]:\n",
    "                clf=RandomForestClassifier(n_estimators=n_estimators,\n",
    "                                           max_depth=max_depth,\n",
    "                                           min_samples_split=min_samples_split,\n",
    "                                           max_features=max_features,\n",
    "                                           min_samples_leaf=10,\n",
    "                                           n_jobs=-1, random_state=42)\n",
    "                clf.fit(X_train, y_train)\n",
    "                current_score = precision_score(y_hold1, clf.predict(X_hold1))\n",
    "                if current_score > best_score:\n",
    "                    best_params = {'n_estimators':n_estimators,\n",
    "                                   'max_depth':max_depth,\n",
    "                                   'min_samples_split':min_samples_split,\n",
    "                                   'max_features':max_features}\n",
    "                    best_score = current_score"
   ]
  },
  {
   "cell_type": "code",
   "execution_count": null,
   "metadata": {},
   "outputs": [],
   "source": [
    "best_params"
   ]
  },
  {
   "cell_type": "code",
   "execution_count": null,
   "metadata": {},
   "outputs": [],
   "source": [
    "best_score"
   ]
  },
  {
   "cell_type": "code",
   "execution_count": 38,
   "metadata": {},
   "outputs": [
    {
     "name": "stderr",
     "output_type": "stream",
     "text": [
      "/home/pavel/anaconda3/lib/python3.6/site-packages/sklearn/metrics/classification.py:1143: UndefinedMetricWarning: Precision is ill-defined and being set to 0.0 due to no predicted samples.\n",
      "  'precision', 'predicted', average, warn_for)\n"
     ]
    },
    {
     "data": {
      "text/plain": [
       "0.0"
      ]
     },
     "execution_count": 38,
     "metadata": {},
     "output_type": "execute_result"
    }
   ],
   "source": [
    "clf = RandomForestClassifier(n_estimators=20,\n",
    "                             max_depth=20,\n",
    "                             min_samples_split=50,\n",
    "                             max_features=5,\n",
    "                             min_samples_leaf=10,\n",
    "                             n_jobs=-1, random_state=42)\n",
    "clf.fit(X_train, y_train)\n",
    "precision_score(y_hold2, clf.predict(X_hold2))"
   ]
  },
  {
   "cell_type": "code",
   "execution_count": 39,
   "metadata": {},
   "outputs": [
    {
     "data": {
      "text/plain": [
       "array([[9038,    0],\n",
       "       [1139,    0]])"
      ]
     },
     "execution_count": 39,
     "metadata": {},
     "output_type": "execute_result"
    }
   ],
   "source": [
    "confusion_matrix(y_hold2, clf.predict(X_hold2))"
   ]
  },
  {
   "cell_type": "code",
   "execution_count": 40,
   "metadata": {},
   "outputs": [
    {
     "data": {
      "text/plain": [
       "1.0"
      ]
     },
     "execution_count": 40,
     "metadata": {},
     "output_type": "execute_result"
    }
   ],
   "source": [
    "precision_score(y_hold1, clf.predict(X_hold1))"
   ]
  },
  {
   "cell_type": "code",
   "execution_count": 41,
   "metadata": {},
   "outputs": [
    {
     "data": {
      "text/plain": [
       "array([[9043,    0],\n",
       "       [1132,    1]])"
      ]
     },
     "execution_count": 41,
     "metadata": {},
     "output_type": "execute_result"
    }
   ],
   "source": [
    "confusion_matrix(y_hold1, clf.predict(X_hold1))"
   ]
  },
  {
   "cell_type": "code",
   "execution_count": null,
   "metadata": {},
   "outputs": [],
   "source": []
  }
 ],
 "metadata": {
  "kernelspec": {
   "display_name": "Python 3",
   "language": "python",
   "name": "python3"
  },
  "language_info": {
   "codemirror_mode": {
    "name": "ipython",
    "version": 3
   },
   "file_extension": ".py",
   "mimetype": "text/x-python",
   "name": "python",
   "nbconvert_exporter": "python",
   "pygments_lexer": "ipython3",
   "version": "3.6.6"
  }
 },
 "nbformat": 4,
 "nbformat_minor": 2
}
